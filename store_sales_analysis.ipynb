{
 "cells": [
  {
   "cell_type": "markdown",
   "metadata": {},
   "source": [
    "## **Описание проекта: исследование интернет-магазина «Подарочек»**\n",
    "### Цель работы\n",
    "- Провести анализ анализ данных товаров магазина «Подарочек»;\n",
    "- Исследоватать определённые метрики;\n",
    "- Провести RFM-сегментацию клиентов и сформулировать рекомендации для бизнеса по взаимодействию с сегментами;\n",
    "- Проверить 3 статистические гипотезы;\n",
    "- Написать общий вывод исследования.\n",
    "### План работы\n",
    "- Изучить общую информацию о датафрейме;\n",
    "- Выполнить предобработку данных;\n",
    "- Провести исследовательский анализ данных;\n",
    "- Расчитать метрики;\n",
    "- Провести RFM-сегментацию клиентов;\n",
    "- Проверить статистические гипотезы;\n",
    "- Составить выводы исследования.\n",
    "### Описание данных\n",
    "\n",
    "- `entry_date` — дата записи;\n",
    "- `order_id` — идентификационный номер заказа;\n",
    "- `customer_id` — идентификационный номер клиента;\n",
    "- `quantity` — количество;\n",
    "- `price` — цена;\n",
    "- `name_clust` —  автоматически присвоенная группа записи на основе названия;\n",
    "- `entry_id` — идентификационный номер записи;\n",
    "- `country_id` — идентификационный номер страны."
   ]
  },
  {
   "cell_type": "markdown",
   "metadata": {},
   "source": [
    "## Шаг 1. Получение, осмотр и объединение данных."
   ]
  },
  {
   "cell_type": "code",
   "execution_count": 73,
   "metadata": {},
   "outputs": [],
   "source": [
    "import pandas as pd"
   ]
  },
  {
   "cell_type": "markdown",
   "metadata": {},
   "source": [
    "Основной датафрейм."
   ]
  },
  {
   "cell_type": "code",
   "execution_count": 74,
   "metadata": {},
   "outputs": [
    {
     "data": {
      "text/html": [
       "<div>\n",
       "<style scoped>\n",
       "    .dataframe tbody tr th:only-of-type {\n",
       "        vertical-align: middle;\n",
       "    }\n",
       "\n",
       "    .dataframe tbody tr th {\n",
       "        vertical-align: top;\n",
       "    }\n",
       "\n",
       "    .dataframe thead th {\n",
       "        text-align: right;\n",
       "    }\n",
       "</style>\n",
       "<table border=\"1\" class=\"dataframe\">\n",
       "  <thead>\n",
       "    <tr style=\"text-align: right;\">\n",
       "      <th></th>\n",
       "      <th>entry_date</th>\n",
       "      <th>order_id</th>\n",
       "      <th>customer_id</th>\n",
       "      <th>quantity</th>\n",
       "      <th>price</th>\n",
       "      <th>name_clust</th>\n",
       "      <th>entry_id</th>\n",
       "      <th>country_id</th>\n",
       "    </tr>\n",
       "  </thead>\n",
       "  <tbody>\n",
       "    <tr>\n",
       "      <th>0</th>\n",
       "      <td>12/01/2018 08:26</td>\n",
       "      <td>3031</td>\n",
       "      <td>2150</td>\n",
       "      <td>6</td>\n",
       "      <td>339</td>\n",
       "      <td>740</td>\n",
       "      <td>891</td>\n",
       "      <td>28</td>\n",
       "    </tr>\n",
       "    <tr>\n",
       "      <th>1</th>\n",
       "      <td>12/01/2018 08:26</td>\n",
       "      <td>3031</td>\n",
       "      <td>2150</td>\n",
       "      <td>8</td>\n",
       "      <td>275</td>\n",
       "      <td>132</td>\n",
       "      <td>1596</td>\n",
       "      <td>28</td>\n",
       "    </tr>\n",
       "    <tr>\n",
       "      <th>2</th>\n",
       "      <td>12/01/2018 08:26</td>\n",
       "      <td>3031</td>\n",
       "      <td>2150</td>\n",
       "      <td>6</td>\n",
       "      <td>339</td>\n",
       "      <td>197</td>\n",
       "      <td>166</td>\n",
       "      <td>28</td>\n",
       "    </tr>\n",
       "    <tr>\n",
       "      <th>3</th>\n",
       "      <td>12/01/2018 08:26</td>\n",
       "      <td>3031</td>\n",
       "      <td>2150</td>\n",
       "      <td>2</td>\n",
       "      <td>765</td>\n",
       "      <td>767</td>\n",
       "      <td>1810</td>\n",
       "      <td>28</td>\n",
       "    </tr>\n",
       "    <tr>\n",
       "      <th>4</th>\n",
       "      <td>12/01/2018 08:26</td>\n",
       "      <td>3031</td>\n",
       "      <td>2150</td>\n",
       "      <td>6</td>\n",
       "      <td>425</td>\n",
       "      <td>383</td>\n",
       "      <td>2585</td>\n",
       "      <td>28</td>\n",
       "    </tr>\n",
       "  </tbody>\n",
       "</table>\n",
       "</div>"
      ],
      "text/plain": [
       "         entry_date  order_id  customer_id  quantity  price  name_clust  \\\n",
       "0  12/01/2018 08:26      3031         2150         6    339         740   \n",
       "1  12/01/2018 08:26      3031         2150         8    275         132   \n",
       "2  12/01/2018 08:26      3031         2150         6    339         197   \n",
       "3  12/01/2018 08:26      3031         2150         2    765         767   \n",
       "4  12/01/2018 08:26      3031         2150         6    425         383   \n",
       "\n",
       "   entry_id  country_id  \n",
       "0       891          28  \n",
       "1      1596          28  \n",
       "2       166          28  \n",
       "3      1810          28  \n",
       "4      2585          28  "
      ]
     },
     "metadata": {},
     "output_type": "display_data"
    }
   ],
   "source": [
    "df_raw = pd.read_csv('/datasets/gift.csv')\n",
    "display(df_raw.head())"
   ]
  },
  {
   "cell_type": "markdown",
   "metadata": {},
   "source": [
    "Датафрейм с текстовым описанием записей."
   ]
  },
  {
   "cell_type": "code",
   "execution_count": 75,
   "metadata": {},
   "outputs": [
    {
     "data": {
      "text/html": [
       "<div>\n",
       "<style scoped>\n",
       "    .dataframe tbody tr th:only-of-type {\n",
       "        vertical-align: middle;\n",
       "    }\n",
       "\n",
       "    .dataframe tbody tr th {\n",
       "        vertical-align: top;\n",
       "    }\n",
       "\n",
       "    .dataframe thead th {\n",
       "        text-align: right;\n",
       "    }\n",
       "</style>\n",
       "<table border=\"1\" class=\"dataframe\">\n",
       "  <thead>\n",
       "    <tr style=\"text-align: right;\">\n",
       "      <th></th>\n",
       "      <th>entry_id</th>\n",
       "      <th>entry</th>\n",
       "    </tr>\n",
       "  </thead>\n",
       "  <tbody>\n",
       "    <tr>\n",
       "      <th>0</th>\n",
       "      <td>0</td>\n",
       "      <td>NaN</td>\n",
       "    </tr>\n",
       "    <tr>\n",
       "      <th>1</th>\n",
       "      <td>1</td>\n",
       "      <td>10-цветная ручка Spaceboy</td>\n",
       "    </tr>\n",
       "    <tr>\n",
       "      <th>2</th>\n",
       "      <td>2</td>\n",
       "      <td>12 карандашей, черепа</td>\n",
       "    </tr>\n",
       "    <tr>\n",
       "      <th>3</th>\n",
       "      <td>3</td>\n",
       "      <td>12 карандашей, высокий тюбик, лесной массив</td>\n",
       "    </tr>\n",
       "    <tr>\n",
       "      <th>4</th>\n",
       "      <td>4</td>\n",
       "      <td>12 карандашей, маленький тюбик с черепом</td>\n",
       "    </tr>\n",
       "  </tbody>\n",
       "</table>\n",
       "</div>"
      ],
      "text/plain": [
       "   entry_id                                        entry\n",
       "0         0                                          NaN\n",
       "1         1                    10-цветная ручка Spaceboy\n",
       "2         2                        12 карандашей, черепа\n",
       "3         3  12 карандашей, высокий тюбик, лесной массив\n",
       "4         4     12 карандашей, маленький тюбик с черепом"
      ]
     },
     "metadata": {},
     "output_type": "display_data"
    }
   ],
   "source": [
    "df_raw_entry = pd.read_csv('https://code.s3.yandex.net/python-for-analytics/gift_entry.csv', sep=';')\n",
    "display(df_raw_entry.head())"
   ]
  },
  {
   "cell_type": "code",
   "execution_count": 76,
   "metadata": {},
   "outputs": [],
   "source": [
    "df = df_raw.copy()\n",
    "df_entry = df_raw_entry.copy()"
   ]
  },
  {
   "cell_type": "code",
   "execution_count": 77,
   "metadata": {},
   "outputs": [
    {
     "name": "stdout",
     "output_type": "stream",
     "text": [
      "<class 'pandas.core.frame.DataFrame'>\n",
      "RangeIndex: 356940 entries, 0 to 356939\n",
      "Data columns (total 8 columns):\n",
      " #   Column       Non-Null Count   Dtype \n",
      "---  ------       --------------   ----- \n",
      " 0   entry_date   356940 non-null  object\n",
      " 1   order_id     356940 non-null  int64 \n",
      " 2   customer_id  356940 non-null  int64 \n",
      " 3   quantity     356940 non-null  int64 \n",
      " 4   price        356940 non-null  int64 \n",
      " 5   name_clust   356940 non-null  int64 \n",
      " 6   entry_id     356940 non-null  int64 \n",
      " 7   country_id   356940 non-null  int64 \n",
      "dtypes: int64(7), object(1)\n",
      "memory usage: 21.8+ MB\n"
     ]
    }
   ],
   "source": [
    "df.info()"
   ]
  },
  {
   "cell_type": "markdown",
   "metadata": {},
   "source": [
    "Основной датафрейм содержит 7 столбцов и 356940 строк. Пропуски отсутствуют, данные представлены в двух типах: object и int."
   ]
  },
  {
   "cell_type": "markdown",
   "metadata": {},
   "source": [
    "Проверим наличие пропусков еще раз. "
   ]
  },
  {
   "cell_type": "code",
   "execution_count": 78,
   "metadata": {},
   "outputs": [
    {
     "data": {
      "text/plain": [
       "entry_date     0\n",
       "order_id       0\n",
       "customer_id    0\n",
       "quantity       0\n",
       "price          0\n",
       "name_clust     0\n",
       "entry_id       0\n",
       "country_id     0\n",
       "dtype: int64"
      ]
     },
     "execution_count": 78,
     "metadata": {},
     "output_type": "execute_result"
    }
   ],
   "source": [
    "df.isna().sum()"
   ]
  },
  {
   "cell_type": "markdown",
   "metadata": {},
   "source": [
    "Отлично, пропуски отсутствуют."
   ]
  },
  {
   "cell_type": "markdown",
   "metadata": {},
   "source": [
    "Проверим наличие дубликатов."
   ]
  },
  {
   "cell_type": "code",
   "execution_count": 79,
   "metadata": {},
   "outputs": [
    {
     "data": {
      "text/html": [
       "<div>\n",
       "<style scoped>\n",
       "    .dataframe tbody tr th:only-of-type {\n",
       "        vertical-align: middle;\n",
       "    }\n",
       "\n",
       "    .dataframe tbody tr th {\n",
       "        vertical-align: top;\n",
       "    }\n",
       "\n",
       "    .dataframe thead th {\n",
       "        text-align: right;\n",
       "    }\n",
       "</style>\n",
       "<table border=\"1\" class=\"dataframe\">\n",
       "  <thead>\n",
       "    <tr style=\"text-align: right;\">\n",
       "      <th></th>\n",
       "      <th>entry_date</th>\n",
       "      <th>order_id</th>\n",
       "      <th>customer_id</th>\n",
       "      <th>quantity</th>\n",
       "      <th>price</th>\n",
       "      <th>name_clust</th>\n",
       "      <th>entry_id</th>\n",
       "      <th>country_id</th>\n",
       "    </tr>\n",
       "  </thead>\n",
       "  <tbody>\n",
       "    <tr>\n",
       "      <th>332</th>\n",
       "      <td>12/01/2018 11:45</td>\n",
       "      <td>3075</td>\n",
       "      <td>2092</td>\n",
       "      <td>1</td>\n",
       "      <td>125</td>\n",
       "      <td>140</td>\n",
       "      <td>858</td>\n",
       "      <td>28</td>\n",
       "    </tr>\n",
       "    <tr>\n",
       "      <th>346</th>\n",
       "      <td>12/01/2018 11:45</td>\n",
       "      <td>3075</td>\n",
       "      <td>2092</td>\n",
       "      <td>1</td>\n",
       "      <td>495</td>\n",
       "      <td>196</td>\n",
       "      <td>1042</td>\n",
       "      <td>28</td>\n",
       "    </tr>\n",
       "    <tr>\n",
       "      <th>358</th>\n",
       "      <td>12/01/2018 11:49</td>\n",
       "      <td>3078</td>\n",
       "      <td>2080</td>\n",
       "      <td>1</td>\n",
       "      <td>295</td>\n",
       "      <td>808</td>\n",
       "      <td>1611</td>\n",
       "      <td>28</td>\n",
       "    </tr>\n",
       "    <tr>\n",
       "      <th>371</th>\n",
       "      <td>12/01/2018 11:49</td>\n",
       "      <td>3078</td>\n",
       "      <td>2080</td>\n",
       "      <td>1</td>\n",
       "      <td>295</td>\n",
       "      <td>52</td>\n",
       "      <td>1647</td>\n",
       "      <td>28</td>\n",
       "    </tr>\n",
       "    <tr>\n",
       "      <th>376</th>\n",
       "      <td>12/01/2018 11:49</td>\n",
       "      <td>3078</td>\n",
       "      <td>2080</td>\n",
       "      <td>1</td>\n",
       "      <td>210</td>\n",
       "      <td>385</td>\n",
       "      <td>588</td>\n",
       "      <td>28</td>\n",
       "    </tr>\n",
       "    <tr>\n",
       "      <th>...</th>\n",
       "      <td>...</td>\n",
       "      <td>...</td>\n",
       "      <td>...</td>\n",
       "      <td>...</td>\n",
       "      <td>...</td>\n",
       "      <td>...</td>\n",
       "      <td>...</td>\n",
       "      <td>...</td>\n",
       "    </tr>\n",
       "    <tr>\n",
       "      <th>356756</th>\n",
       "      <td>12/09/2019 11:34</td>\n",
       "      <td>48204</td>\n",
       "      <td>5554</td>\n",
       "      <td>1</td>\n",
       "      <td>125</td>\n",
       "      <td>817</td>\n",
       "      <td>1866</td>\n",
       "      <td>28</td>\n",
       "    </tr>\n",
       "    <tr>\n",
       "      <th>356770</th>\n",
       "      <td>12/09/2019 11:34</td>\n",
       "      <td>48204</td>\n",
       "      <td>5554</td>\n",
       "      <td>1</td>\n",
       "      <td>39</td>\n",
       "      <td>469</td>\n",
       "      <td>811</td>\n",
       "      <td>28</td>\n",
       "    </tr>\n",
       "    <tr>\n",
       "      <th>356781</th>\n",
       "      <td>12/09/2019 11:34</td>\n",
       "      <td>48204</td>\n",
       "      <td>5554</td>\n",
       "      <td>1</td>\n",
       "      <td>249</td>\n",
       "      <td>722</td>\n",
       "      <td>1538</td>\n",
       "      <td>28</td>\n",
       "    </tr>\n",
       "    <tr>\n",
       "      <th>356784</th>\n",
       "      <td>12/09/2019 11:34</td>\n",
       "      <td>48204</td>\n",
       "      <td>5554</td>\n",
       "      <td>1</td>\n",
       "      <td>195</td>\n",
       "      <td>112</td>\n",
       "      <td>2303</td>\n",
       "      <td>28</td>\n",
       "    </tr>\n",
       "    <tr>\n",
       "      <th>356790</th>\n",
       "      <td>12/09/2019 11:34</td>\n",
       "      <td>48204</td>\n",
       "      <td>5554</td>\n",
       "      <td>1</td>\n",
       "      <td>210</td>\n",
       "      <td>182</td>\n",
       "      <td>2138</td>\n",
       "      <td>28</td>\n",
       "    </tr>\n",
       "  </tbody>\n",
       "</table>\n",
       "<p>3573 rows × 8 columns</p>\n",
       "</div>"
      ],
      "text/plain": [
       "              entry_date  order_id  customer_id  quantity  price  name_clust  \\\n",
       "332     12/01/2018 11:45      3075         2092         1    125         140   \n",
       "346     12/01/2018 11:45      3075         2092         1    495         196   \n",
       "358     12/01/2018 11:49      3078         2080         1    295         808   \n",
       "371     12/01/2018 11:49      3078         2080         1    295          52   \n",
       "376     12/01/2018 11:49      3078         2080         1    210         385   \n",
       "...                  ...       ...          ...       ...    ...         ...   \n",
       "356756  12/09/2019 11:34     48204         5554         1    125         817   \n",
       "356770  12/09/2019 11:34     48204         5554         1     39         469   \n",
       "356781  12/09/2019 11:34     48204         5554         1    249         722   \n",
       "356784  12/09/2019 11:34     48204         5554         1    195         112   \n",
       "356790  12/09/2019 11:34     48204         5554         1    210         182   \n",
       "\n",
       "        entry_id  country_id  \n",
       "332          858          28  \n",
       "346         1042          28  \n",
       "358         1611          28  \n",
       "371         1647          28  \n",
       "376          588          28  \n",
       "...          ...         ...  \n",
       "356756      1866          28  \n",
       "356770       811          28  \n",
       "356781      1538          28  \n",
       "356784      2303          28  \n",
       "356790      2138          28  \n",
       "\n",
       "[3573 rows x 8 columns]"
      ]
     },
     "execution_count": 79,
     "metadata": {},
     "output_type": "execute_result"
    }
   ],
   "source": [
    "df[df.duplicated()]"
   ]
  },
  {
   "cell_type": "markdown",
   "metadata": {},
   "source": [
    "Это явные дубликаты, их можно удалить из датафрейма."
   ]
  },
  {
   "cell_type": "code",
   "execution_count": 80,
   "metadata": {},
   "outputs": [],
   "source": [
    "df = df.drop_duplicates()"
   ]
  },
  {
   "cell_type": "markdown",
   "metadata": {},
   "source": [
    "Проведем то же самое для второго датафейма."
   ]
  },
  {
   "cell_type": "code",
   "execution_count": 81,
   "metadata": {},
   "outputs": [
    {
     "name": "stdout",
     "output_type": "stream",
     "text": [
      "<class 'pandas.core.frame.DataFrame'>\n",
      "RangeIndex: 2917 entries, 0 to 2916\n",
      "Data columns (total 2 columns):\n",
      " #   Column    Non-Null Count  Dtype \n",
      "---  ------    --------------  ----- \n",
      " 0   entry_id  2917 non-null   int64 \n",
      " 1   entry     2916 non-null   object\n",
      "dtypes: int64(1), object(1)\n",
      "memory usage: 45.7+ KB\n"
     ]
    }
   ],
   "source": [
    "df_entry.info()"
   ]
  },
  {
   "cell_type": "markdown",
   "metadata": {},
   "source": [
    "Датафрейм с описанием записей содержит 2 столбца и 2917 строк. В столбце entry заметен один пропуск, данные представлены в двух типах: object и int. "
   ]
  },
  {
   "cell_type": "markdown",
   "metadata": {},
   "source": [
    "Пропуск можно удалить."
   ]
  },
  {
   "cell_type": "code",
   "execution_count": 82,
   "metadata": {},
   "outputs": [
    {
     "name": "stdout",
     "output_type": "stream",
     "text": [
      "<class 'pandas.core.frame.DataFrame'>\n",
      "Int64Index: 2916 entries, 1 to 2916\n",
      "Data columns (total 2 columns):\n",
      " #   Column    Non-Null Count  Dtype \n",
      "---  ------    --------------  ----- \n",
      " 0   entry_id  2916 non-null   int64 \n",
      " 1   entry     2916 non-null   object\n",
      "dtypes: int64(1), object(1)\n",
      "memory usage: 68.3+ KB\n"
     ]
    }
   ],
   "source": [
    "df_entry = df_entry.dropna()\n",
    "df_entry.info()"
   ]
  },
  {
   "cell_type": "markdown",
   "metadata": {},
   "source": [
    "Проверим дубликаты."
   ]
  },
  {
   "cell_type": "code",
   "execution_count": 83,
   "metadata": {},
   "outputs": [
    {
     "data": {
      "text/html": [
       "<div>\n",
       "<style scoped>\n",
       "    .dataframe tbody tr th:only-of-type {\n",
       "        vertical-align: middle;\n",
       "    }\n",
       "\n",
       "    .dataframe tbody tr th {\n",
       "        vertical-align: top;\n",
       "    }\n",
       "\n",
       "    .dataframe thead th {\n",
       "        text-align: right;\n",
       "    }\n",
       "</style>\n",
       "<table border=\"1\" class=\"dataframe\">\n",
       "  <thead>\n",
       "    <tr style=\"text-align: right;\">\n",
       "      <th></th>\n",
       "      <th>entry_id</th>\n",
       "      <th>entry</th>\n",
       "    </tr>\n",
       "  </thead>\n",
       "  <tbody>\n",
       "  </tbody>\n",
       "</table>\n",
       "</div>"
      ],
      "text/plain": [
       "Empty DataFrame\n",
       "Columns: [entry_id, entry]\n",
       "Index: []"
      ]
     },
     "execution_count": 83,
     "metadata": {},
     "output_type": "execute_result"
    }
   ],
   "source": [
    "df_entry[df_entry.duplicated()]"
   ]
  },
  {
   "cell_type": "markdown",
   "metadata": {},
   "source": [
    "Явных дубликатов нет."
   ]
  },
  {
   "cell_type": "markdown",
   "metadata": {},
   "source": [
    "Проверим неявные дубликаты "
   ]
  },
  {
   "cell_type": "code",
   "execution_count": 84,
   "metadata": {},
   "outputs": [
    {
     "name": "stdout",
     "output_type": "stream",
     "text": [
      "Датафрейм перед приведением к нижнему регистру\n",
      "<class 'pandas.core.frame.DataFrame'>\n",
      "Int64Index: 2916 entries, 1 to 2916\n",
      "Data columns (total 2 columns):\n",
      " #   Column    Non-Null Count  Dtype \n",
      "---  ------    --------------  ----- \n",
      " 0   entry_id  2916 non-null   int64 \n",
      " 1   entry     2916 non-null   object\n",
      "dtypes: int64(1), object(1)\n",
      "memory usage: 68.3+ KB\n",
      "\n",
      "Датафрейм после приведения к нижнему регистру\n",
      "<class 'pandas.core.frame.DataFrame'>\n",
      "Int64Index: 2916 entries, 1 to 2916\n",
      "Data columns (total 2 columns):\n",
      " #   Column    Non-Null Count  Dtype \n",
      "---  ------    --------------  ----- \n",
      " 0   entry_id  2916 non-null   int64 \n",
      " 1   entry     2916 non-null   object\n",
      "dtypes: int64(1), object(1)\n",
      "memory usage: 68.3+ KB\n"
     ]
    }
   ],
   "source": [
    "print(\"Датафрейм перед приведением к нижнему регистру\")\n",
    "\n",
    "df_entry.info()\n",
    "df_entry_lower = df_entry.copy()\n",
    "df_entry_lower['entry'] = df_entry_lower['entry'].str.lower()\n",
    "df_entry_lower = df_entry_lower.drop_duplicates()\n",
    "\n",
    "print()\n",
    "print(\"Датафрейм после приведения к нижнему регистру\")\n",
    "df_entry_lower.info()"
   ]
  },
  {
   "cell_type": "markdown",
   "metadata": {},
   "source": [
    "Количество строк одинаковое, неявных дубликатов нет"
   ]
  },
  {
   "cell_type": "markdown",
   "metadata": {},
   "source": [
    "Составим один общий датафрейм."
   ]
  },
  {
   "cell_type": "markdown",
   "metadata": {},
   "source": [
    "Проверим что все записиси датафрейма с записями есть в основном датафрейме"
   ]
  },
  {
   "cell_type": "code",
   "execution_count": 85,
   "metadata": {},
   "outputs": [
    {
     "name": "stdout",
     "output_type": "stream",
     "text": [
      "Проверка соответствия идентификационных номеров успешно пройдена.\n"
     ]
    }
   ],
   "source": [
    "if not df_entry['entry_id'].isin(df['entry_id']).all():\n",
    "    print(\"Ошибка: Не все значения 'entry_id' из первого DataFrame существуют во втором.\")\n",
    "    exit()\n",
    "else:\n",
    "    print(\"Проверка соответствия идентификационных номеров успешно пройдена.\")"
   ]
  },
  {
   "cell_type": "code",
   "execution_count": 86,
   "metadata": {},
   "outputs": [
    {
     "data": {
      "text/html": [
       "<div>\n",
       "<style scoped>\n",
       "    .dataframe tbody tr th:only-of-type {\n",
       "        vertical-align: middle;\n",
       "    }\n",
       "\n",
       "    .dataframe tbody tr th {\n",
       "        vertical-align: top;\n",
       "    }\n",
       "\n",
       "    .dataframe thead th {\n",
       "        text-align: right;\n",
       "    }\n",
       "</style>\n",
       "<table border=\"1\" class=\"dataframe\">\n",
       "  <thead>\n",
       "    <tr style=\"text-align: right;\">\n",
       "      <th></th>\n",
       "      <th>entry_date</th>\n",
       "      <th>order_id</th>\n",
       "      <th>customer_id</th>\n",
       "      <th>quantity</th>\n",
       "      <th>price</th>\n",
       "      <th>name_clust</th>\n",
       "      <th>entry_id</th>\n",
       "      <th>country_id</th>\n",
       "      <th>entry</th>\n",
       "    </tr>\n",
       "  </thead>\n",
       "  <tbody>\n",
       "    <tr>\n",
       "      <th>0</th>\n",
       "      <td>12/01/2018 08:26</td>\n",
       "      <td>3031</td>\n",
       "      <td>2150</td>\n",
       "      <td>6</td>\n",
       "      <td>339</td>\n",
       "      <td>740</td>\n",
       "      <td>891</td>\n",
       "      <td>28</td>\n",
       "      <td>белый металлический фонарь</td>\n",
       "    </tr>\n",
       "    <tr>\n",
       "      <th>1</th>\n",
       "      <td>12/01/2018 08:26</td>\n",
       "      <td>3031</td>\n",
       "      <td>2150</td>\n",
       "      <td>8</td>\n",
       "      <td>275</td>\n",
       "      <td>132</td>\n",
       "      <td>1596</td>\n",
       "      <td>28</td>\n",
       "      <td>кремовая вешалка в форме сердечек Купидона</td>\n",
       "    </tr>\n",
       "    <tr>\n",
       "      <th>2</th>\n",
       "      <td>12/01/2018 08:26</td>\n",
       "      <td>3031</td>\n",
       "      <td>2150</td>\n",
       "      <td>6</td>\n",
       "      <td>339</td>\n",
       "      <td>197</td>\n",
       "      <td>166</td>\n",
       "      <td>28</td>\n",
       "      <td>Вязаная грелка с флагом Союза</td>\n",
       "    </tr>\n",
       "    <tr>\n",
       "      <th>3</th>\n",
       "      <td>12/01/2018 08:26</td>\n",
       "      <td>3031</td>\n",
       "      <td>2150</td>\n",
       "      <td>2</td>\n",
       "      <td>765</td>\n",
       "      <td>767</td>\n",
       "      <td>1810</td>\n",
       "      <td>28</td>\n",
       "      <td>набор 7 скворечников для бабушек</td>\n",
       "    </tr>\n",
       "    <tr>\n",
       "      <th>4</th>\n",
       "      <td>12/01/2018 08:26</td>\n",
       "      <td>3031</td>\n",
       "      <td>2150</td>\n",
       "      <td>6</td>\n",
       "      <td>425</td>\n",
       "      <td>383</td>\n",
       "      <td>2585</td>\n",
       "      <td>28</td>\n",
       "      <td>стеклянный матовый держатель в форме звезды</td>\n",
       "    </tr>\n",
       "  </tbody>\n",
       "</table>\n",
       "</div>"
      ],
      "text/plain": [
       "         entry_date  order_id  customer_id  quantity  price  name_clust  \\\n",
       "0  12/01/2018 08:26      3031         2150         6    339         740   \n",
       "1  12/01/2018 08:26      3031         2150         8    275         132   \n",
       "2  12/01/2018 08:26      3031         2150         6    339         197   \n",
       "3  12/01/2018 08:26      3031         2150         2    765         767   \n",
       "4  12/01/2018 08:26      3031         2150         6    425         383   \n",
       "\n",
       "   entry_id  country_id                                        entry  \n",
       "0       891          28                   белый металлический фонарь  \n",
       "1      1596          28   кремовая вешалка в форме сердечек Купидона  \n",
       "2       166          28                Вязаная грелка с флагом Союза  \n",
       "3      1810          28             набор 7 скворечников для бабушек  \n",
       "4      2585          28  стеклянный матовый держатель в форме звезды  "
      ]
     },
     "metadata": {},
     "output_type": "display_data"
    }
   ],
   "source": [
    "df_big = pd.merge(df, df_entry, on = 'entry_id', how = 'left')\n",
    "display(df_big.head())"
   ]
  },
  {
   "cell_type": "code",
   "execution_count": 87,
   "metadata": {},
   "outputs": [
    {
     "name": "stdout",
     "output_type": "stream",
     "text": [
      "<class 'pandas.core.frame.DataFrame'>\n",
      "Int64Index: 353367 entries, 0 to 353366\n",
      "Data columns (total 9 columns):\n",
      " #   Column       Non-Null Count   Dtype \n",
      "---  ------       --------------   ----- \n",
      " 0   entry_date   353367 non-null  object\n",
      " 1   order_id     353367 non-null  int64 \n",
      " 2   customer_id  353367 non-null  int64 \n",
      " 3   quantity     353367 non-null  int64 \n",
      " 4   price        353367 non-null  int64 \n",
      " 5   name_clust   353367 non-null  int64 \n",
      " 6   entry_id     353367 non-null  int64 \n",
      " 7   country_id   353367 non-null  int64 \n",
      " 8   entry        351858 non-null  object\n",
      "dtypes: int64(7), object(2)\n",
      "memory usage: 27.0+ MB\n"
     ]
    }
   ],
   "source": [
    "df_big.info()"
   ]
  },
  {
   "cell_type": "markdown",
   "metadata": {},
   "source": [
    "В столбце entry появились пропуски."
   ]
  },
  {
   "cell_type": "code",
   "execution_count": 88,
   "metadata": {},
   "outputs": [
    {
     "data": {
      "text/plain": [
       "entry_date     0.0%\n",
       "order_id       0.0%\n",
       "customer_id    0.0%\n",
       "quantity       0.0%\n",
       "price          0.0%\n",
       "name_clust     0.0%\n",
       "entry_id       0.0%\n",
       "country_id     0.0%\n",
       "entry          0.4%\n",
       "dtype: object"
      ]
     },
     "metadata": {},
     "output_type": "display_data"
    }
   ],
   "source": [
    "display(df_big.isna().mean().apply(lambda x: f'{x:.1%}')) "
   ]
  },
  {
   "cell_type": "markdown",
   "metadata": {},
   "source": [
    "Пропуски составляют меньше 1 процента от общих данных, поэтому можно их удалить."
   ]
  },
  {
   "cell_type": "code",
   "execution_count": 89,
   "metadata": {},
   "outputs": [],
   "source": [
    "df_big = df_big.dropna()"
   ]
  },
  {
   "cell_type": "markdown",
   "metadata": {},
   "source": [
    "Проверим наличие дубликатов."
   ]
  },
  {
   "cell_type": "code",
   "execution_count": 90,
   "metadata": {},
   "outputs": [
    {
     "data": {
      "text/html": [
       "<div>\n",
       "<style scoped>\n",
       "    .dataframe tbody tr th:only-of-type {\n",
       "        vertical-align: middle;\n",
       "    }\n",
       "\n",
       "    .dataframe tbody tr th {\n",
       "        vertical-align: top;\n",
       "    }\n",
       "\n",
       "    .dataframe thead th {\n",
       "        text-align: right;\n",
       "    }\n",
       "</style>\n",
       "<table border=\"1\" class=\"dataframe\">\n",
       "  <thead>\n",
       "    <tr style=\"text-align: right;\">\n",
       "      <th></th>\n",
       "      <th>entry_date</th>\n",
       "      <th>order_id</th>\n",
       "      <th>customer_id</th>\n",
       "      <th>quantity</th>\n",
       "      <th>price</th>\n",
       "      <th>name_clust</th>\n",
       "      <th>entry_id</th>\n",
       "      <th>country_id</th>\n",
       "      <th>entry</th>\n",
       "    </tr>\n",
       "  </thead>\n",
       "  <tbody>\n",
       "  </tbody>\n",
       "</table>\n",
       "</div>"
      ],
      "text/plain": [
       "Empty DataFrame\n",
       "Columns: [entry_date, order_id, customer_id, quantity, price, name_clust, entry_id, country_id, entry]\n",
       "Index: []"
      ]
     },
     "execution_count": 90,
     "metadata": {},
     "output_type": "execute_result"
    }
   ],
   "source": [
    "df_big[df_big.duplicated()]"
   ]
  },
  {
   "cell_type": "markdown",
   "metadata": {},
   "source": [
    "Явных дубликатов нет."
   ]
  },
  {
   "cell_type": "markdown",
   "metadata": {},
   "source": [
    "## Шаг 2. Предобработка и начало исследовательского анализа."
   ]
  },
  {
   "cell_type": "markdown",
   "metadata": {},
   "source": [
    "Найдем выбросы и аномальные значения в столбцах price и quantity."
   ]
  },
  {
   "cell_type": "code",
   "execution_count": 91,
   "metadata": {},
   "outputs": [
    {
     "data": {
      "text/html": [
       "<div>\n",
       "<style scoped>\n",
       "    .dataframe tbody tr th:only-of-type {\n",
       "        vertical-align: middle;\n",
       "    }\n",
       "\n",
       "    .dataframe tbody tr th {\n",
       "        vertical-align: top;\n",
       "    }\n",
       "\n",
       "    .dataframe thead th {\n",
       "        text-align: right;\n",
       "    }\n",
       "</style>\n",
       "<table border=\"1\" class=\"dataframe\">\n",
       "  <thead>\n",
       "    <tr style=\"text-align: right;\">\n",
       "      <th></th>\n",
       "      <th>price</th>\n",
       "      <th>quantity</th>\n",
       "    </tr>\n",
       "  </thead>\n",
       "  <tbody>\n",
       "    <tr>\n",
       "      <th>count</th>\n",
       "      <td>3.518580e+05</td>\n",
       "      <td>351858.000000</td>\n",
       "    </tr>\n",
       "    <tr>\n",
       "      <th>mean</th>\n",
       "      <td>4.034005e+02</td>\n",
       "      <td>10.311174</td>\n",
       "    </tr>\n",
       "    <tr>\n",
       "      <th>std</th>\n",
       "      <td>5.095441e+03</td>\n",
       "      <td>146.693425</td>\n",
       "    </tr>\n",
       "    <tr>\n",
       "      <th>min</th>\n",
       "      <td>-1.106206e+06</td>\n",
       "      <td>-9600.000000</td>\n",
       "    </tr>\n",
       "    <tr>\n",
       "      <th>25%</th>\n",
       "      <td>1.250000e+02</td>\n",
       "      <td>1.000000</td>\n",
       "    </tr>\n",
       "    <tr>\n",
       "      <th>50%</th>\n",
       "      <td>2.080000e+02</td>\n",
       "      <td>3.000000</td>\n",
       "    </tr>\n",
       "    <tr>\n",
       "      <th>75%</th>\n",
       "      <td>4.130000e+02</td>\n",
       "      <td>10.000000</td>\n",
       "    </tr>\n",
       "    <tr>\n",
       "      <th>max</th>\n",
       "      <td>1.354133e+06</td>\n",
       "      <td>80995.000000</td>\n",
       "    </tr>\n",
       "  </tbody>\n",
       "</table>\n",
       "</div>"
      ],
      "text/plain": [
       "              price       quantity\n",
       "count  3.518580e+05  351858.000000\n",
       "mean   4.034005e+02      10.311174\n",
       "std    5.095441e+03     146.693425\n",
       "min   -1.106206e+06   -9600.000000\n",
       "25%    1.250000e+02       1.000000\n",
       "50%    2.080000e+02       3.000000\n",
       "75%    4.130000e+02      10.000000\n",
       "max    1.354133e+06   80995.000000"
      ]
     },
     "execution_count": 91,
     "metadata": {},
     "output_type": "execute_result"
    }
   ],
   "source": [
    "df_big[['price', 'quantity']].describe()"
   ]
  },
  {
   "cell_type": "markdown",
   "metadata": {},
   "source": [
    "Можно заметить аномально высокие максимальные значения, сильно превышающие среднее, а также отрицательные минимальные значения."
   ]
  },
  {
   "cell_type": "markdown",
   "metadata": {},
   "source": [
    "Посмотрим данные на графиках."
   ]
  },
  {
   "cell_type": "markdown",
   "metadata": {},
   "source": [
    "### Цена товара "
   ]
  },
  {
   "cell_type": "code",
   "execution_count": 92,
   "metadata": {},
   "outputs": [],
   "source": [
    "import matplotlib.pyplot as plt\n",
    "import seaborn as sns"
   ]
  },
  {
   "cell_type": "code",
   "execution_count": 93,
   "metadata": {},
   "outputs": [
    {
     "data": {
      "image/png": "[encoded data removed]",
      "text/plain": [
       "<Figure size 576x432 with 1 Axes>"
      ]
     },
     "metadata": {},
     "output_type": "display_data"
    }
   ],
   "source": [
    "plt.figure(figsize = (8,6))\n",
    "sns.set(style=\"whitegrid\", palette=\"muted\")\n",
    "sns.boxplot(data = df_big, x = 'price')\n",
    "plt.title('Диаграмма размаха значений цены товара')\n",
    "plt.xlabel('Цена')\n",
    "plt.show()"
   ]
  },
  {
   "cell_type": "markdown",
   "metadata": {},
   "source": [
    "### Количество товара"
   ]
  },
  {
   "cell_type": "code",
   "execution_count": 94,
   "metadata": {},
   "outputs": [
    {
     "data": {
      "image/png": "[encoded data removed]",
      "text/plain": [
       "<Figure size 576x432 with 1 Axes>"
      ]
     },
     "metadata": {},
     "output_type": "display_data"
    }
   ],
   "source": [
    "plt.figure(figsize = (8,6))\n",
    "sns.set(style=\"whitegrid\", palette=\"muted\")\n",
    "sns.boxplot(data = df_big, x = 'quantity')\n",
    "plt.title('Диаграмма размаха значений количества товара')\n",
    "plt.xlabel('Количество')\n",
    "plt.show()"
   ]
  },
  {
   "cell_type": "markdown",
   "metadata": {},
   "source": [
    "Можно отфильтровать данные следующим образом: удалить отрицательные значения и значения выше 99 перцентиля, чтобы не терять слишком большое количество данных."
   ]
  },
  {
   "cell_type": "code",
   "execution_count": 95,
   "metadata": {},
   "outputs": [
    {
     "name": "stdout",
     "output_type": "stream",
     "text": [
      "<class 'pandas.core.frame.DataFrame'>\n",
      "Int64Index: 343238 entries, 0 to 353366\n",
      "Data columns (total 9 columns):\n",
      " #   Column       Non-Null Count   Dtype \n",
      "---  ------       --------------   ----- \n",
      " 0   entry_date   343238 non-null  object\n",
      " 1   order_id     343238 non-null  int64 \n",
      " 2   customer_id  343238 non-null  int64 \n",
      " 3   quantity     343238 non-null  int64 \n",
      " 4   price        343238 non-null  int64 \n",
      " 5   name_clust   343238 non-null  int64 \n",
      " 6   entry_id     343238 non-null  int64 \n",
      " 7   country_id   343238 non-null  int64 \n",
      " 8   entry        343238 non-null  object\n",
      "dtypes: int64(7), object(2)\n",
      "memory usage: 26.2+ MB\n"
     ]
    }
   ],
   "source": [
    "percentile_99 = df_big['price'].quantile(0.99)\n",
    "percentile_99_quant = df_big['quantity'].quantile(0.99)\n",
    "query_string = f\"price < {percentile_99} and price > 0 and quantity > 0 and quantity < {percentile_99_quant}\"\n",
    "df_big = df_big.query(query_string)\n",
    "\n",
    "df_big.info()"
   ]
  },
  {
   "cell_type": "code",
   "execution_count": 96,
   "metadata": {},
   "outputs": [
    {
     "data": {
      "image/png": "[encoded data removed]",
      "text/plain": [
       "<Figure size 576x432 with 1 Axes>"
      ]
     },
     "metadata": {},
     "output_type": "display_data"
    }
   ],
   "source": [
    "plt.figure(figsize = (8,6))\n",
    "sns.set(style=\"whitegrid\", palette=\"muted\")\n",
    "sns.boxplot(data = df_big, x = 'price')\n",
    "plt.title('Диаграмма размаха значений цены товара(отфильтрованные данные)')\n",
    "plt.xlabel('Цена')\n",
    "plt.show()"
   ]
  },
  {
   "cell_type": "code",
   "execution_count": 97,
   "metadata": {},
   "outputs": [
    {
     "data": {
      "image/png": "[encoded data removed]",
      "text/plain": [
       "<Figure size 576x432 with 1 Axes>"
      ]
     },
     "metadata": {},
     "output_type": "display_data"
    }
   ],
   "source": [
    "plt.figure(figsize = (8,6))\n",
    "sns.set(style=\"whitegrid\", palette=\"muted\")\n",
    "sns.boxplot(data = df_big, x = 'quantity')\n",
    "plt.title('Диаграмма размаха значений количества товара(отфильтрованные данные)')\n",
    "plt.xlabel('Количество')\n",
    "plt.show()"
   ]
  },
  {
   "cell_type": "markdown",
   "metadata": {},
   "source": [
    "Создадим новый столбец total_cost"
   ]
  },
  {
   "cell_type": "code",
   "execution_count": 98,
   "metadata": {},
   "outputs": [],
   "source": [
    "df_big['total_cost'] = df_big['price'] * df_big['quantity']"
   ]
  },
  {
   "cell_type": "code",
   "execution_count": 99,
   "metadata": {},
   "outputs": [
    {
     "data": {
      "image/png": "[encoded data removed]",
      "text/plain": [
       "<Figure size 576x432 with 1 Axes>"
      ]
     },
     "metadata": {},
     "output_type": "display_data"
    }
   ],
   "source": [
    "plt.figure(figsize = (8,6))\n",
    "sns.set(style=\"whitegrid\", palette=\"muted\")\n",
    "sns.boxplot(data = df_big, x = 'total_cost')\n",
    "plt.title('Диаграмма размаха суммы стоимость товарной позиции')\n",
    "plt.xlabel('Стоимость')\n",
    "plt.show()"
   ]
  },
  {
   "cell_type": "markdown",
   "metadata": {},
   "source": [
    "Отфильтруем данные так, чтобы не потерять большой объем данных и сократить число аномалий"
   ]
  },
  {
   "cell_type": "code",
   "execution_count": 100,
   "metadata": {},
   "outputs": [
    {
     "name": "stdout",
     "output_type": "stream",
     "text": [
      "<class 'pandas.core.frame.DataFrame'>\n",
      "Int64Index: 329253 entries, 0 to 353366\n",
      "Data columns (total 10 columns):\n",
      " #   Column       Non-Null Count   Dtype \n",
      "---  ------       --------------   ----- \n",
      " 0   entry_date   329253 non-null  object\n",
      " 1   order_id     329253 non-null  int64 \n",
      " 2   customer_id  329253 non-null  int64 \n",
      " 3   quantity     329253 non-null  int64 \n",
      " 4   price        329253 non-null  int64 \n",
      " 5   name_clust   329253 non-null  int64 \n",
      " 6   entry_id     329253 non-null  int64 \n",
      " 7   country_id   329253 non-null  int64 \n",
      " 8   entry        329253 non-null  object\n",
      " 9   total_cost   329253 non-null  int64 \n",
      "dtypes: int64(8), object(2)\n",
      "memory usage: 27.6+ MB\n"
     ]
    }
   ],
   "source": [
    "df_big = df_big.query('total_cost < 5000')\n",
    "df_big.info()"
   ]
  },
  {
   "cell_type": "code",
   "execution_count": 101,
   "metadata": {},
   "outputs": [
    {
     "data": {
      "image/png": "[encoded data removed]",
      "text/plain": [
       "<Figure size 576x432 with 1 Axes>"
      ]
     },
     "metadata": {},
     "output_type": "display_data"
    }
   ],
   "source": [
    "plt.figure(figsize = (8,6))\n",
    "sns.set(style=\"whitegrid\", palette=\"muted\")\n",
    "sns.boxplot(data = df_big, x = 'total_cost')\n",
    "plt.title('Диаграмма размаха суммы стоимость товарной позиции')\n",
    "plt.xlabel('Стоимость')\n",
    "plt.show()"
   ]
  },
  {
   "cell_type": "markdown",
   "metadata": {},
   "source": [
    "Удалим также значения с отрицательными индексами пользователей."
   ]
  },
  {
   "cell_type": "code",
   "execution_count": 102,
   "metadata": {},
   "outputs": [],
   "source": [
    "df_big = df_big.query('customer_id > 0')"
   ]
  },
  {
   "cell_type": "markdown",
   "metadata": {},
   "source": [
    "Посмотрим на самые популярные товары."
   ]
  },
  {
   "cell_type": "code",
   "execution_count": 103,
   "metadata": {},
   "outputs": [
    {
     "name": "stdout",
     "output_type": "stream",
     "text": [
      "Топ 5 популярных товаров:\n",
      "большая сумка красного цвета Retrospot         1302\n",
      "сумка для обеда красная Retrospot              1207\n",
      "праздничная овсянка                            1093\n",
      "набор из 3 форм для тортов, дизайн кладовой    1033\n",
      "сумка для обеда дизайн Суки                    1014\n",
      "Name: entry, dtype: int64\n"
     ]
    },
    {
     "data": {
      "image/png": "[encoded data removed]",
      "text/plain": [
       "<Figure size 720x432 with 1 Axes>"
      ]
     },
     "metadata": {},
     "output_type": "display_data"
    }
   ],
   "source": [
    "print(\"Топ 5 популярных товаров:\")\n",
    "print(df_big['entry'].value_counts().head(5))\n",
    "plt.figure(figsize=(10, 6))\n",
    "value_counts = df_big['entry'].value_counts().head(10)\n",
    "value_counts.sort_values().plot(kind='barh')  # Сортируем индекс\n",
    "plt.title('Топ 10 популярных товаров')\n",
    "plt.xlabel('Количество покупок')\n",
    "plt.ylabel('Товар')\n",
    "plt.show()"
   ]
  },
  {
   "cell_type": "markdown",
   "metadata": {},
   "source": [
    "В магазине очень хорошо продаются сумки."
   ]
  },
  {
   "cell_type": "code",
   "execution_count": 104,
   "metadata": {},
   "outputs": [],
   "source": [
    "df_big['entry_date'] = pd.to_datetime(df_big['entry_date'])\n",
    "df_big['month'] = df_big['entry_date'].dt.month\n",
    "df_big['day'] = df_big['entry_date'].dt.day\n",
    "df_big['year'] = df_big['entry_date'].dt.year"
   ]
  },
  {
   "cell_type": "markdown",
   "metadata": {},
   "source": [
    "Найдем временной диапазон данных"
   ]
  },
  {
   "cell_type": "code",
   "execution_count": 105,
   "metadata": {},
   "outputs": [
    {
     "data": {
      "text/plain": [
       "373"
      ]
     },
     "execution_count": 105,
     "metadata": {},
     "output_type": "execute_result"
    }
   ],
   "source": [
    "min_date = df_big['entry_date'].min()\n",
    "max_date = df_big['entry_date'].max()\n",
    "time_range = max_date - min_date\n",
    "time_range.days"
   ]
  },
  {
   "cell_type": "markdown",
   "metadata": {},
   "source": [
    "Представлены данные, собранные за 373 дня."
   ]
  },
  {
   "cell_type": "markdown",
   "metadata": {},
   "source": [
    "Посчитаем по месяцам количество дней, в которых не было продаж, для этого создадим сводную таблицу."
   ]
  },
  {
   "cell_type": "code",
   "execution_count": 106,
   "metadata": {},
   "outputs": [
    {
     "data": {
      "text/html": [
       "<div>\n",
       "<style scoped>\n",
       "    .dataframe tbody tr th:only-of-type {\n",
       "        vertical-align: middle;\n",
       "    }\n",
       "\n",
       "    .dataframe tbody tr th {\n",
       "        vertical-align: top;\n",
       "    }\n",
       "\n",
       "    .dataframe thead th {\n",
       "        text-align: right;\n",
       "    }\n",
       "</style>\n",
       "<table border=\"1\" class=\"dataframe\">\n",
       "  <thead>\n",
       "    <tr style=\"text-align: right;\">\n",
       "      <th>day</th>\n",
       "      <th>1</th>\n",
       "      <th>2</th>\n",
       "      <th>3</th>\n",
       "      <th>4</th>\n",
       "      <th>5</th>\n",
       "      <th>6</th>\n",
       "      <th>7</th>\n",
       "      <th>8</th>\n",
       "      <th>9</th>\n",
       "      <th>10</th>\n",
       "      <th>...</th>\n",
       "      <th>22</th>\n",
       "      <th>23</th>\n",
       "      <th>24</th>\n",
       "      <th>25</th>\n",
       "      <th>26</th>\n",
       "      <th>27</th>\n",
       "      <th>28</th>\n",
       "      <th>29</th>\n",
       "      <th>30</th>\n",
       "      <th>31</th>\n",
       "    </tr>\n",
       "    <tr>\n",
       "      <th>month</th>\n",
       "      <th></th>\n",
       "      <th></th>\n",
       "      <th></th>\n",
       "      <th></th>\n",
       "      <th></th>\n",
       "      <th></th>\n",
       "      <th></th>\n",
       "      <th></th>\n",
       "      <th></th>\n",
       "      <th></th>\n",
       "      <th></th>\n",
       "      <th></th>\n",
       "      <th></th>\n",
       "      <th></th>\n",
       "      <th></th>\n",
       "      <th></th>\n",
       "      <th></th>\n",
       "      <th></th>\n",
       "      <th></th>\n",
       "      <th></th>\n",
       "      <th></th>\n",
       "    </tr>\n",
       "  </thead>\n",
       "  <tbody>\n",
       "    <tr>\n",
       "      <th>1</th>\n",
       "      <td>0</td>\n",
       "      <td>0</td>\n",
       "      <td>0</td>\n",
       "      <td>449</td>\n",
       "      <td>621</td>\n",
       "      <td>740</td>\n",
       "      <td>689</td>\n",
       "      <td>0</td>\n",
       "      <td>684</td>\n",
       "      <td>487</td>\n",
       "      <td>...</td>\n",
       "      <td>0</td>\n",
       "      <td>556</td>\n",
       "      <td>443</td>\n",
       "      <td>709</td>\n",
       "      <td>589</td>\n",
       "      <td>801</td>\n",
       "      <td>382</td>\n",
       "      <td>0</td>\n",
       "      <td>433</td>\n",
       "      <td>639</td>\n",
       "    </tr>\n",
       "    <tr>\n",
       "      <th>2</th>\n",
       "      <td>713</td>\n",
       "      <td>589</td>\n",
       "      <td>477</td>\n",
       "      <td>455</td>\n",
       "      <td>0</td>\n",
       "      <td>155</td>\n",
       "      <td>543</td>\n",
       "      <td>377</td>\n",
       "      <td>265</td>\n",
       "      <td>382</td>\n",
       "      <td>...</td>\n",
       "      <td>701</td>\n",
       "      <td>575</td>\n",
       "      <td>691</td>\n",
       "      <td>547</td>\n",
       "      <td>0</td>\n",
       "      <td>506</td>\n",
       "      <td>616</td>\n",
       "      <td>0</td>\n",
       "      <td>0</td>\n",
       "      <td>0</td>\n",
       "    </tr>\n",
       "    <tr>\n",
       "      <th>3</th>\n",
       "      <td>543</td>\n",
       "      <td>527</td>\n",
       "      <td>526</td>\n",
       "      <td>533</td>\n",
       "      <td>0</td>\n",
       "      <td>510</td>\n",
       "      <td>702</td>\n",
       "      <td>765</td>\n",
       "      <td>607</td>\n",
       "      <td>424</td>\n",
       "      <td>...</td>\n",
       "      <td>790</td>\n",
       "      <td>645</td>\n",
       "      <td>908</td>\n",
       "      <td>590</td>\n",
       "      <td>0</td>\n",
       "      <td>446</td>\n",
       "      <td>803</td>\n",
       "      <td>623</td>\n",
       "      <td>752</td>\n",
       "      <td>571</td>\n",
       "    </tr>\n",
       "    <tr>\n",
       "      <th>4</th>\n",
       "      <td>647</td>\n",
       "      <td>0</td>\n",
       "      <td>454</td>\n",
       "      <td>726</td>\n",
       "      <td>583</td>\n",
       "      <td>452</td>\n",
       "      <td>818</td>\n",
       "      <td>667</td>\n",
       "      <td>0</td>\n",
       "      <td>629</td>\n",
       "      <td>...</td>\n",
       "      <td>0</td>\n",
       "      <td>0</td>\n",
       "      <td>0</td>\n",
       "      <td>0</td>\n",
       "      <td>790</td>\n",
       "      <td>686</td>\n",
       "      <td>620</td>\n",
       "      <td>0</td>\n",
       "      <td>0</td>\n",
       "      <td>0</td>\n",
       "    </tr>\n",
       "    <tr>\n",
       "      <th>5</th>\n",
       "      <td>295</td>\n",
       "      <td>0</td>\n",
       "      <td>578</td>\n",
       "      <td>706</td>\n",
       "      <td>768</td>\n",
       "      <td>835</td>\n",
       "      <td>0</td>\n",
       "      <td>969</td>\n",
       "      <td>731</td>\n",
       "      <td>811</td>\n",
       "      <td>...</td>\n",
       "      <td>1042</td>\n",
       "      <td>794</td>\n",
       "      <td>698</td>\n",
       "      <td>603</td>\n",
       "      <td>504</td>\n",
       "      <td>520</td>\n",
       "      <td>0</td>\n",
       "      <td>409</td>\n",
       "      <td>0</td>\n",
       "      <td>572</td>\n",
       "    </tr>\n",
       "    <tr>\n",
       "      <th>6</th>\n",
       "      <td>439</td>\n",
       "      <td>627</td>\n",
       "      <td>394</td>\n",
       "      <td>0</td>\n",
       "      <td>984</td>\n",
       "      <td>643</td>\n",
       "      <td>910</td>\n",
       "      <td>949</td>\n",
       "      <td>821</td>\n",
       "      <td>416</td>\n",
       "      <td>...</td>\n",
       "      <td>604</td>\n",
       "      <td>1031</td>\n",
       "      <td>466</td>\n",
       "      <td>0</td>\n",
       "      <td>433</td>\n",
       "      <td>490</td>\n",
       "      <td>446</td>\n",
       "      <td>333</td>\n",
       "      <td>733</td>\n",
       "      <td>0</td>\n",
       "    </tr>\n",
       "    <tr>\n",
       "      <th>7</th>\n",
       "      <td>524</td>\n",
       "      <td>0</td>\n",
       "      <td>401</td>\n",
       "      <td>597</td>\n",
       "      <td>453</td>\n",
       "      <td>808</td>\n",
       "      <td>793</td>\n",
       "      <td>525</td>\n",
       "      <td>0</td>\n",
       "      <td>537</td>\n",
       "      <td>...</td>\n",
       "      <td>487</td>\n",
       "      <td>0</td>\n",
       "      <td>672</td>\n",
       "      <td>667</td>\n",
       "      <td>547</td>\n",
       "      <td>523</td>\n",
       "      <td>722</td>\n",
       "      <td>610</td>\n",
       "      <td>0</td>\n",
       "      <td>742</td>\n",
       "    </tr>\n",
       "    <tr>\n",
       "      <th>8</th>\n",
       "      <td>657</td>\n",
       "      <td>613</td>\n",
       "      <td>830</td>\n",
       "      <td>841</td>\n",
       "      <td>686</td>\n",
       "      <td>0</td>\n",
       "      <td>336</td>\n",
       "      <td>682</td>\n",
       "      <td>539</td>\n",
       "      <td>454</td>\n",
       "      <td>...</td>\n",
       "      <td>832</td>\n",
       "      <td>840</td>\n",
       "      <td>972</td>\n",
       "      <td>799</td>\n",
       "      <td>485</td>\n",
       "      <td>0</td>\n",
       "      <td>795</td>\n",
       "      <td>0</td>\n",
       "      <td>237</td>\n",
       "      <td>452</td>\n",
       "    </tr>\n",
       "    <tr>\n",
       "      <th>9</th>\n",
       "      <td>848</td>\n",
       "      <td>684</td>\n",
       "      <td>0</td>\n",
       "      <td>859</td>\n",
       "      <td>871</td>\n",
       "      <td>622</td>\n",
       "      <td>515</td>\n",
       "      <td>923</td>\n",
       "      <td>787</td>\n",
       "      <td>0</td>\n",
       "      <td>...</td>\n",
       "      <td>1486</td>\n",
       "      <td>1122</td>\n",
       "      <td>0</td>\n",
       "      <td>1247</td>\n",
       "      <td>915</td>\n",
       "      <td>810</td>\n",
       "      <td>1244</td>\n",
       "      <td>1450</td>\n",
       "      <td>871</td>\n",
       "      <td>0</td>\n",
       "    </tr>\n",
       "    <tr>\n",
       "      <th>10</th>\n",
       "      <td>0</td>\n",
       "      <td>965</td>\n",
       "      <td>1067</td>\n",
       "      <td>1308</td>\n",
       "      <td>1220</td>\n",
       "      <td>1691</td>\n",
       "      <td>1188</td>\n",
       "      <td>0</td>\n",
       "      <td>778</td>\n",
       "      <td>1730</td>\n",
       "      <td>...</td>\n",
       "      <td>0</td>\n",
       "      <td>1113</td>\n",
       "      <td>1146</td>\n",
       "      <td>1327</td>\n",
       "      <td>1099</td>\n",
       "      <td>1380</td>\n",
       "      <td>812</td>\n",
       "      <td>0</td>\n",
       "      <td>1874</td>\n",
       "      <td>1147</td>\n",
       "    </tr>\n",
       "    <tr>\n",
       "      <th>11</th>\n",
       "      <td>1042</td>\n",
       "      <td>1079</td>\n",
       "      <td>1196</td>\n",
       "      <td>1571</td>\n",
       "      <td>0</td>\n",
       "      <td>2114</td>\n",
       "      <td>1105</td>\n",
       "      <td>1407</td>\n",
       "      <td>1312</td>\n",
       "      <td>1923</td>\n",
       "      <td>...</td>\n",
       "      <td>1740</td>\n",
       "      <td>2002</td>\n",
       "      <td>1557</td>\n",
       "      <td>1067</td>\n",
       "      <td>0</td>\n",
       "      <td>1585</td>\n",
       "      <td>1647</td>\n",
       "      <td>1681</td>\n",
       "      <td>1240</td>\n",
       "      <td>0</td>\n",
       "    </tr>\n",
       "    <tr>\n",
       "      <th>12</th>\n",
       "      <td>2399</td>\n",
       "      <td>2411</td>\n",
       "      <td>623</td>\n",
       "      <td>1245</td>\n",
       "      <td>3784</td>\n",
       "      <td>2792</td>\n",
       "      <td>1766</td>\n",
       "      <td>2739</td>\n",
       "      <td>1396</td>\n",
       "      <td>732</td>\n",
       "      <td>...</td>\n",
       "      <td>144</td>\n",
       "      <td>198</td>\n",
       "      <td>0</td>\n",
       "      <td>0</td>\n",
       "      <td>0</td>\n",
       "      <td>0</td>\n",
       "      <td>0</td>\n",
       "      <td>0</td>\n",
       "      <td>0</td>\n",
       "      <td>0</td>\n",
       "    </tr>\n",
       "  </tbody>\n",
       "</table>\n",
       "<p>12 rows × 31 columns</p>\n",
       "</div>"
      ],
      "text/plain": [
       "day      1     2     3     4     5     6     7     8     9     10  ...    22  \\\n",
       "month                                                              ...         \n",
       "1         0     0     0   449   621   740   689     0   684   487  ...     0   \n",
       "2       713   589   477   455     0   155   543   377   265   382  ...   701   \n",
       "3       543   527   526   533     0   510   702   765   607   424  ...   790   \n",
       "4       647     0   454   726   583   452   818   667     0   629  ...     0   \n",
       "5       295     0   578   706   768   835     0   969   731   811  ...  1042   \n",
       "6       439   627   394     0   984   643   910   949   821   416  ...   604   \n",
       "7       524     0   401   597   453   808   793   525     0   537  ...   487   \n",
       "8       657   613   830   841   686     0   336   682   539   454  ...   832   \n",
       "9       848   684     0   859   871   622   515   923   787     0  ...  1486   \n",
       "10        0   965  1067  1308  1220  1691  1188     0   778  1730  ...     0   \n",
       "11     1042  1079  1196  1571     0  2114  1105  1407  1312  1923  ...  1740   \n",
       "12     2399  2411   623  1245  3784  2792  1766  2739  1396   732  ...   144   \n",
       "\n",
       "day      23    24    25    26    27    28    29    30    31  \n",
       "month                                                        \n",
       "1       556   443   709   589   801   382     0   433   639  \n",
       "2       575   691   547     0   506   616     0     0     0  \n",
       "3       645   908   590     0   446   803   623   752   571  \n",
       "4         0     0     0   790   686   620     0     0     0  \n",
       "5       794   698   603   504   520     0   409     0   572  \n",
       "6      1031   466     0   433   490   446   333   733     0  \n",
       "7         0   672   667   547   523   722   610     0   742  \n",
       "8       840   972   799   485     0   795     0   237   452  \n",
       "9      1122     0  1247   915   810  1244  1450   871     0  \n",
       "10     1113  1146  1327  1099  1380   812     0  1874  1147  \n",
       "11     2002  1557  1067     0  1585  1647  1681  1240     0  \n",
       "12      198     0     0     0     0     0     0     0     0  \n",
       "\n",
       "[12 rows x 31 columns]"
      ]
     },
     "execution_count": 106,
     "metadata": {},
     "output_type": "execute_result"
    }
   ],
   "source": [
    "sales_pivot = df_big.pivot_table(index='month', columns='day', values='order_id', aggfunc='count', fill_value=0)\n",
    "\n",
    "sales_pivot"
   ]
  },
  {
   "cell_type": "code",
   "execution_count": 107,
   "metadata": {},
   "outputs": [
    {
     "data": {
      "text/plain": [
       "month\n",
       "1      7\n",
       "2      7\n",
       "3      4\n",
       "4     10\n",
       "5      6\n",
       "6      5\n",
       "7      5\n",
       "8      5\n",
       "9      5\n",
       "10     5\n",
       "11     5\n",
       "12    10\n",
       "dtype: int64"
      ]
     },
     "execution_count": 107,
     "metadata": {},
     "output_type": "execute_result"
    }
   ],
   "source": [
    "zeros_per_row = sales_pivot.apply(lambda x: (x == 0).sum(), axis=1)\n",
    "\n",
    "zeros_per_row"
   ]
  },
  {
   "cell_type": "markdown",
   "metadata": {},
   "source": [
    "Наибольшее число дней без продаж содержат апрель и декабрь. Посмотрим на данные графически."
   ]
  },
  {
   "cell_type": "code",
   "execution_count": 108,
   "metadata": {},
   "outputs": [
    {
     "data": {
      "image/png": "[encoded data removed]",
      "text/plain": [
       "<Figure size 432x288 with 1 Axes>"
      ]
     },
     "metadata": {},
     "output_type": "display_data"
    }
   ],
   "source": [
    "df_big['entry_date'].groupby(df_big['entry_date'].dt.to_period('M')).count().plot(kind='bar')\n",
    "plt.title(\"Количество записей по месяцам\")\n",
    "plt.xlabel(\"Месяц\")\n",
    "plt.ylabel(\"Количество записей\")\n",
    "plt.xticks(rotation=45, ha='right')\n",
    "plt.show()"
   ]
  },
  {
   "cell_type": "markdown",
   "metadata": {},
   "source": [
    "На графике видно, что наименьшее количество записей было в декабре, феврале и марте 2019 года."
   ]
  },
  {
   "cell_type": "markdown",
   "metadata": {},
   "source": [
    "Предлагается рассмотреть данные, собранные с марта по ноябрь 2019."
   ]
  },
  {
   "cell_type": "code",
   "execution_count": 109,
   "metadata": {},
   "outputs": [],
   "source": [
    "df_big = df_big.query('year == 2019 and month >= 3 and month <= 11')"
   ]
  },
  {
   "cell_type": "markdown",
   "metadata": {},
   "source": [
    "## Шаг 3. Расчёт метрик"
   ]
  },
  {
   "cell_type": "code",
   "execution_count": 110,
   "metadata": {},
   "outputs": [],
   "source": [
    "import warnings\n",
    "\n",
    "warnings.filterwarnings(\"ignore\")"
   ]
  },
  {
   "cell_type": "code",
   "execution_count": 111,
   "metadata": {},
   "outputs": [],
   "source": [
    "df_big['hour'] = df_big['entry_date'].dt.hour\n",
    "df_big['week'] = df_big['entry_date'].dt.week"
   ]
  },
  {
   "cell_type": "code",
   "execution_count": 112,
   "metadata": {},
   "outputs": [
    {
     "data": {
      "text/html": [
       "<div>\n",
       "<style scoped>\n",
       "    .dataframe tbody tr th:only-of-type {\n",
       "        vertical-align: middle;\n",
       "    }\n",
       "\n",
       "    .dataframe tbody tr th {\n",
       "        vertical-align: top;\n",
       "    }\n",
       "\n",
       "    .dataframe thead th {\n",
       "        text-align: right;\n",
       "    }\n",
       "</style>\n",
       "<table border=\"1\" class=\"dataframe\">\n",
       "  <thead>\n",
       "    <tr style=\"text-align: right;\">\n",
       "      <th></th>\n",
       "      <th>order_count</th>\n",
       "      <th>unique_customers</th>\n",
       "    </tr>\n",
       "    <tr>\n",
       "      <th>hour</th>\n",
       "      <th></th>\n",
       "      <th></th>\n",
       "    </tr>\n",
       "  </thead>\n",
       "  <tbody>\n",
       "    <tr>\n",
       "      <th>12</th>\n",
       "      <td>35042</td>\n",
       "      <td>1278</td>\n",
       "    </tr>\n",
       "    <tr>\n",
       "      <th>13</th>\n",
       "      <td>31976</td>\n",
       "      <td>1232</td>\n",
       "    </tr>\n",
       "    <tr>\n",
       "      <th>14</th>\n",
       "      <td>26566</td>\n",
       "      <td>1066</td>\n",
       "    </tr>\n",
       "    <tr>\n",
       "      <th>11</th>\n",
       "      <td>23332</td>\n",
       "      <td>971</td>\n",
       "    </tr>\n",
       "    <tr>\n",
       "      <th>15</th>\n",
       "      <td>22737</td>\n",
       "      <td>954</td>\n",
       "    </tr>\n",
       "    <tr>\n",
       "      <th>10</th>\n",
       "      <td>17114</td>\n",
       "      <td>958</td>\n",
       "    </tr>\n",
       "    <tr>\n",
       "      <th>16</th>\n",
       "      <td>11975</td>\n",
       "      <td>556</td>\n",
       "    </tr>\n",
       "    <tr>\n",
       "      <th>9</th>\n",
       "      <td>10289</td>\n",
       "      <td>667</td>\n",
       "    </tr>\n",
       "    <tr>\n",
       "      <th>17</th>\n",
       "      <td>6275</td>\n",
       "      <td>299</td>\n",
       "    </tr>\n",
       "    <tr>\n",
       "      <th>8</th>\n",
       "      <td>4218</td>\n",
       "      <td>327</td>\n",
       "    </tr>\n",
       "    <tr>\n",
       "      <th>19</th>\n",
       "      <td>1425</td>\n",
       "      <td>68</td>\n",
       "    </tr>\n",
       "    <tr>\n",
       "      <th>18</th>\n",
       "      <td>1363</td>\n",
       "      <td>95</td>\n",
       "    </tr>\n",
       "    <tr>\n",
       "      <th>20</th>\n",
       "      <td>460</td>\n",
       "      <td>13</td>\n",
       "    </tr>\n",
       "    <tr>\n",
       "      <th>7</th>\n",
       "      <td>116</td>\n",
       "      <td>14</td>\n",
       "    </tr>\n",
       "    <tr>\n",
       "      <th>6</th>\n",
       "      <td>1</td>\n",
       "      <td>1</td>\n",
       "    </tr>\n",
       "  </tbody>\n",
       "</table>\n",
       "</div>"
      ],
      "text/plain": [
       "      order_count  unique_customers\n",
       "hour                               \n",
       "12          35042              1278\n",
       "13          31976              1232\n",
       "14          26566              1066\n",
       "11          23332               971\n",
       "15          22737               954\n",
       "10          17114               958\n",
       "16          11975               556\n",
       "9           10289               667\n",
       "17           6275               299\n",
       "8            4218               327\n",
       "19           1425                68\n",
       "18           1363                95\n",
       "20            460                13\n",
       "7             116                14\n",
       "6               1                 1"
      ]
     },
     "execution_count": 112,
     "metadata": {},
     "output_type": "execute_result"
    }
   ],
   "source": [
    "hourly_orders = df_big.groupby('hour').agg(\n",
    "    order_count=('order_id', 'count'),\n",
    "    unique_customers=('customer_id', 'nunique')\n",
    ").reset_index()\n",
    "\n",
    "hourly_orders = hourly_orders.sort_values(['order_count', 'unique_customers'], ascending = False).set_index('hour')\n",
    "hourly_orders"
   ]
  },
  {
   "cell_type": "code",
   "execution_count": 113,
   "metadata": {},
   "outputs": [
    {
     "data": {
      "image/png": "[encoded data removed]",
      "text/plain": [
       "<Figure size 1080x360 with 2 Axes>"
      ]
     },
     "metadata": {},
     "output_type": "display_data"
    }
   ],
   "source": [
    "fig, axes = plt.subplots(1, 2, figsize=(15, 5))\n",
    "\n",
    "sns.lineplot(x='hour', y='order_count', data=hourly_orders, ax=axes[0])\n",
    "axes[0].set_title('Количество заказов по часам')\n",
    "axes[0].set_xlabel('Час')\n",
    "axes[0].set_ylabel('Количество заказов')\n",
    "\n",
    "sns.lineplot(x='hour', y='unique_customers', data=hourly_orders, ax=axes[1])\n",
    "axes[1].set_title('Количество уникальных покупателей по часам')\n",
    "axes[1].set_xlabel('Час')\n",
    "axes[1].set_ylabel('Количество покупателей')\n",
    "plt.tight_layout()\n",
    "plt.show()"
   ]
  },
  {
   "cell_type": "markdown",
   "metadata": {},
   "source": [
    "Судя по этим графикам, нельзя сказать что в покупательской активности имеет место цикличность. Наблюдается резкий скачок, а затем спад. Пик приходится на 12 часов дня."
   ]
  },
  {
   "cell_type": "code",
   "execution_count": 114,
   "metadata": {},
   "outputs": [
    {
     "data": {
      "text/html": [
       "<div>\n",
       "<style scoped>\n",
       "    .dataframe tbody tr th:only-of-type {\n",
       "        vertical-align: middle;\n",
       "    }\n",
       "\n",
       "    .dataframe tbody tr th {\n",
       "        vertical-align: top;\n",
       "    }\n",
       "\n",
       "    .dataframe thead th {\n",
       "        text-align: right;\n",
       "    }\n",
       "</style>\n",
       "<table border=\"1\" class=\"dataframe\">\n",
       "  <thead>\n",
       "    <tr style=\"text-align: right;\">\n",
       "      <th></th>\n",
       "      <th>order_count</th>\n",
       "      <th>unique_customers</th>\n",
       "    </tr>\n",
       "    <tr>\n",
       "      <th>day</th>\n",
       "      <th></th>\n",
       "      <th></th>\n",
       "    </tr>\n",
       "  </thead>\n",
       "  <tbody>\n",
       "    <tr>\n",
       "      <th>6</th>\n",
       "      <td>7675</td>\n",
       "      <td>386</td>\n",
       "    </tr>\n",
       "    <tr>\n",
       "      <th>23</th>\n",
       "      <td>7547</td>\n",
       "      <td>357</td>\n",
       "    </tr>\n",
       "    <tr>\n",
       "      <th>20</th>\n",
       "      <td>7390</td>\n",
       "      <td>385</td>\n",
       "    </tr>\n",
       "    <tr>\n",
       "      <th>17</th>\n",
       "      <td>7362</td>\n",
       "      <td>371</td>\n",
       "    </tr>\n",
       "    <tr>\n",
       "      <th>13</th>\n",
       "      <td>7303</td>\n",
       "      <td>352</td>\n",
       "    </tr>\n",
       "    <tr>\n",
       "      <th>11</th>\n",
       "      <td>7272</td>\n",
       "      <td>386</td>\n",
       "    </tr>\n",
       "    <tr>\n",
       "      <th>4</th>\n",
       "      <td>7141</td>\n",
       "      <td>352</td>\n",
       "    </tr>\n",
       "    <tr>\n",
       "      <th>18</th>\n",
       "      <td>7090</td>\n",
       "      <td>359</td>\n",
       "    </tr>\n",
       "    <tr>\n",
       "      <th>28</th>\n",
       "      <td>7089</td>\n",
       "      <td>371</td>\n",
       "    </tr>\n",
       "    <tr>\n",
       "      <th>22</th>\n",
       "      <td>6981</td>\n",
       "      <td>381</td>\n",
       "    </tr>\n",
       "    <tr>\n",
       "      <th>10</th>\n",
       "      <td>6924</td>\n",
       "      <td>350</td>\n",
       "    </tr>\n",
       "    <tr>\n",
       "      <th>21</th>\n",
       "      <td>6906</td>\n",
       "      <td>366</td>\n",
       "    </tr>\n",
       "    <tr>\n",
       "      <th>8</th>\n",
       "      <td>6887</td>\n",
       "      <td>380</td>\n",
       "    </tr>\n",
       "    <tr>\n",
       "      <th>14</th>\n",
       "      <td>6671</td>\n",
       "      <td>358</td>\n",
       "    </tr>\n",
       "    <tr>\n",
       "      <th>27</th>\n",
       "      <td>6440</td>\n",
       "      <td>336</td>\n",
       "    </tr>\n",
       "    <tr>\n",
       "      <th>24</th>\n",
       "      <td>6419</td>\n",
       "      <td>352</td>\n",
       "    </tr>\n",
       "    <tr>\n",
       "      <th>7</th>\n",
       "      <td>6367</td>\n",
       "      <td>379</td>\n",
       "    </tr>\n",
       "    <tr>\n",
       "      <th>25</th>\n",
       "      <td>6300</td>\n",
       "      <td>349</td>\n",
       "    </tr>\n",
       "    <tr>\n",
       "      <th>16</th>\n",
       "      <td>5736</td>\n",
       "      <td>337</td>\n",
       "    </tr>\n",
       "    <tr>\n",
       "      <th>30</th>\n",
       "      <td>5707</td>\n",
       "      <td>307</td>\n",
       "    </tr>\n",
       "    <tr>\n",
       "      <th>19</th>\n",
       "      <td>5691</td>\n",
       "      <td>357</td>\n",
       "    </tr>\n",
       "    <tr>\n",
       "      <th>9</th>\n",
       "      <td>5575</td>\n",
       "      <td>342</td>\n",
       "    </tr>\n",
       "    <tr>\n",
       "      <th>5</th>\n",
       "      <td>5565</td>\n",
       "      <td>327</td>\n",
       "    </tr>\n",
       "    <tr>\n",
       "      <th>15</th>\n",
       "      <td>5488</td>\n",
       "      <td>332</td>\n",
       "    </tr>\n",
       "    <tr>\n",
       "      <th>3</th>\n",
       "      <td>5446</td>\n",
       "      <td>311</td>\n",
       "    </tr>\n",
       "    <tr>\n",
       "      <th>29</th>\n",
       "      <td>5106</td>\n",
       "      <td>303</td>\n",
       "    </tr>\n",
       "    <tr>\n",
       "      <th>12</th>\n",
       "      <td>5064</td>\n",
       "      <td>324</td>\n",
       "    </tr>\n",
       "    <tr>\n",
       "      <th>1</th>\n",
       "      <td>4995</td>\n",
       "      <td>293</td>\n",
       "    </tr>\n",
       "    <tr>\n",
       "      <th>26</th>\n",
       "      <td>4773</td>\n",
       "      <td>287</td>\n",
       "    </tr>\n",
       "    <tr>\n",
       "      <th>2</th>\n",
       "      <td>4495</td>\n",
       "      <td>231</td>\n",
       "    </tr>\n",
       "    <tr>\n",
       "      <th>31</th>\n",
       "      <td>3484</td>\n",
       "      <td>194</td>\n",
       "    </tr>\n",
       "  </tbody>\n",
       "</table>\n",
       "</div>"
      ],
      "text/plain": [
       "     order_count  unique_customers\n",
       "day                               \n",
       "6           7675               386\n",
       "23          7547               357\n",
       "20          7390               385\n",
       "17          7362               371\n",
       "13          7303               352\n",
       "11          7272               386\n",
       "4           7141               352\n",
       "18          7090               359\n",
       "28          7089               371\n",
       "22          6981               381\n",
       "10          6924               350\n",
       "21          6906               366\n",
       "8           6887               380\n",
       "14          6671               358\n",
       "27          6440               336\n",
       "24          6419               352\n",
       "7           6367               379\n",
       "25          6300               349\n",
       "16          5736               337\n",
       "30          5707               307\n",
       "19          5691               357\n",
       "9           5575               342\n",
       "5           5565               327\n",
       "15          5488               332\n",
       "3           5446               311\n",
       "29          5106               303\n",
       "12          5064               324\n",
       "1           4995               293\n",
       "26          4773               287\n",
       "2           4495               231\n",
       "31          3484               194"
      ]
     },
     "execution_count": 114,
     "metadata": {},
     "output_type": "execute_result"
    }
   ],
   "source": [
    "dayly_orders = df_big.groupby('day').agg(\n",
    "    order_count=('order_id', 'count'),\n",
    "    unique_customers=('customer_id', 'nunique')\n",
    ").reset_index()\n",
    "\n",
    "dayly_orders = dayly_orders.sort_values(['order_count', 'unique_customers'], ascending = False).set_index('day')\n",
    "dayly_orders"
   ]
  },
  {
   "cell_type": "code",
   "execution_count": 115,
   "metadata": {},
   "outputs": [
    {
     "data": {
      "image/png": "[encoded data removed]",
      "text/plain": [
       "<Figure size 1080x360 with 2 Axes>"
      ]
     },
     "metadata": {},
     "output_type": "display_data"
    }
   ],
   "source": [
    "fig, axes = plt.subplots(1, 2, figsize=(15, 5))\n",
    "\n",
    "sns.lineplot(x='day', y='order_count', data=dayly_orders, ax=axes[0])\n",
    "axes[0].set_title('Количество заказов по дням')\n",
    "axes[0].set_xlabel('День')\n",
    "axes[0].set_ylabel('Количество заказов')\n",
    "\n",
    "sns.lineplot(x='day', y='unique_customers', data=dayly_orders, ax=axes[1])\n",
    "axes[1].set_title('Количество уникальных покупателей по дням')\n",
    "axes[1].set_xlabel('День')\n",
    "axes[1].set_ylabel('Количество покупателей')\n",
    "plt.tight_layout()\n",
    "plt.show()"
   ]
  },
  {
   "cell_type": "markdown",
   "metadata": {},
   "source": [
    "На графиках наблюдается цикличность, более выраженная на графике \"Количество заказов по дням\". Пик данных приходится на 6 день месяца."
   ]
  },
  {
   "cell_type": "code",
   "execution_count": 116,
   "metadata": {},
   "outputs": [],
   "source": [
    "df_big['order_month'] = df_big['entry_date'].dt.to_period('M')\n",
    "\n",
    "monthly_data = df_big.groupby('order_month').agg(\n",
    "    unique_customers=('customer_id', 'nunique'),\n",
    "    total_revenue=('total_cost', 'sum')\n",
    ").reset_index()"
   ]
  },
  {
   "cell_type": "code",
   "execution_count": 117,
   "metadata": {},
   "outputs": [
    {
     "data": {
      "text/html": [
       "<div>\n",
       "<style scoped>\n",
       "    .dataframe tbody tr th:only-of-type {\n",
       "        vertical-align: middle;\n",
       "    }\n",
       "\n",
       "    .dataframe tbody tr th {\n",
       "        vertical-align: top;\n",
       "    }\n",
       "\n",
       "    .dataframe thead th {\n",
       "        text-align: right;\n",
       "    }\n",
       "</style>\n",
       "<table border=\"1\" class=\"dataframe\">\n",
       "  <thead>\n",
       "    <tr style=\"text-align: right;\">\n",
       "      <th></th>\n",
       "      <th>order_month</th>\n",
       "      <th>unique_customers</th>\n",
       "      <th>total_revenue</th>\n",
       "      <th>days_in_month</th>\n",
       "      <th>avg_revenue_per_customer_per_day</th>\n",
       "    </tr>\n",
       "  </thead>\n",
       "  <tbody>\n",
       "    <tr>\n",
       "      <th>0</th>\n",
       "      <td>3</td>\n",
       "      <td>886</td>\n",
       "      <td>19459398</td>\n",
       "      <td>31</td>\n",
       "      <td>708.490425</td>\n",
       "    </tr>\n",
       "    <tr>\n",
       "      <th>1</th>\n",
       "      <td>4</td>\n",
       "      <td>792</td>\n",
       "      <td>17536445</td>\n",
       "      <td>30</td>\n",
       "      <td>738.065867</td>\n",
       "    </tr>\n",
       "    <tr>\n",
       "      <th>2</th>\n",
       "      <td>5</td>\n",
       "      <td>978</td>\n",
       "      <td>23264817</td>\n",
       "      <td>31</td>\n",
       "      <td>767.359885</td>\n",
       "    </tr>\n",
       "    <tr>\n",
       "      <th>3</th>\n",
       "      <td>6</td>\n",
       "      <td>918</td>\n",
       "      <td>20804401</td>\n",
       "      <td>30</td>\n",
       "      <td>755.424873</td>\n",
       "    </tr>\n",
       "    <tr>\n",
       "      <th>4</th>\n",
       "      <td>7</td>\n",
       "      <td>880</td>\n",
       "      <td>20276204</td>\n",
       "      <td>31</td>\n",
       "      <td>743.262610</td>\n",
       "    </tr>\n",
       "    <tr>\n",
       "      <th>5</th>\n",
       "      <td>8</td>\n",
       "      <td>849</td>\n",
       "      <td>21897578</td>\n",
       "      <td>31</td>\n",
       "      <td>832.006459</td>\n",
       "    </tr>\n",
       "    <tr>\n",
       "      <th>6</th>\n",
       "      <td>9</td>\n",
       "      <td>1174</td>\n",
       "      <td>31791164</td>\n",
       "      <td>30</td>\n",
       "      <td>902.645202</td>\n",
       "    </tr>\n",
       "    <tr>\n",
       "      <th>7</th>\n",
       "      <td>10</td>\n",
       "      <td>1283</td>\n",
       "      <td>35611807</td>\n",
       "      <td>31</td>\n",
       "      <td>895.376436</td>\n",
       "    </tr>\n",
       "    <tr>\n",
       "      <th>8</th>\n",
       "      <td>11</td>\n",
       "      <td>1557</td>\n",
       "      <td>42923301</td>\n",
       "      <td>30</td>\n",
       "      <td>918.931728</td>\n",
       "    </tr>\n",
       "  </tbody>\n",
       "</table>\n",
       "</div>"
      ],
      "text/plain": [
       "   order_month  unique_customers  total_revenue  days_in_month  \\\n",
       "0            3               886       19459398             31   \n",
       "1            4               792       17536445             30   \n",
       "2            5               978       23264817             31   \n",
       "3            6               918       20804401             30   \n",
       "4            7               880       20276204             31   \n",
       "5            8               849       21897578             31   \n",
       "6            9              1174       31791164             30   \n",
       "7           10              1283       35611807             31   \n",
       "8           11              1557       42923301             30   \n",
       "\n",
       "   avg_revenue_per_customer_per_day  \n",
       "0                        708.490425  \n",
       "1                        738.065867  \n",
       "2                        767.359885  \n",
       "3                        755.424873  \n",
       "4                        743.262610  \n",
       "5                        832.006459  \n",
       "6                        902.645202  \n",
       "7                        895.376436  \n",
       "8                        918.931728  "
      ]
     },
     "execution_count": 117,
     "metadata": {},
     "output_type": "execute_result"
    }
   ],
   "source": [
    "monthly_data['days_in_month'] = monthly_data['order_month'].apply(lambda x: x.days_in_month)\n",
    "monthly_data['avg_revenue_per_customer_per_day'] = monthly_data['total_revenue'] / (monthly_data['unique_customers'] * monthly_data['days_in_month'])\n",
    "monthly_data['order_month'] = monthly_data['order_month'].dt.month\n",
    "monthly_data"
   ]
  },
  {
   "cell_type": "code",
   "execution_count": 118,
   "metadata": {},
   "outputs": [
    {
     "data": {
      "image/png": "[encoded data removed]",
      "text/plain": [
       "<Figure size 1080x360 with 2 Axes>"
      ]
     },
     "metadata": {},
     "output_type": "display_data"
    }
   ],
   "source": [
    "fig, axes = plt.subplots(1, 2, figsize=(15, 5))\n",
    "\n",
    "sns.lineplot(x='order_month', y='avg_revenue_per_customer_per_day', data=monthly_data, ax=axes[0])\n",
    "axes[0].set_title('Средняя выручка с клиента в день по месяцам')\n",
    "axes[0].set_xlabel('Месяц')\n",
    "axes[0].set_ylabel('Средняя выручка')\n",
    "\n",
    "sns.lineplot(x='order_month', y='unique_customers', data=monthly_data, ax=axes[1])\n",
    "axes[1].set_title('Количество уникальных покупателей по месяцам')\n",
    "axes[1].set_xlabel('Месяц')\n",
    "axes[1].set_ylabel('Количество покупателей')\n",
    "\n",
    "plt.tight_layout()\n",
    "plt.show()"
   ]
  },
  {
   "cell_type": "markdown",
   "metadata": {},
   "source": [
    "На графиках заметна сезонность: средняя выручка и количество клиентов растут ближе к Новому году."
   ]
  },
  {
   "cell_type": "markdown",
   "metadata": {},
   "source": [
    "Посчитаем стики-фактор за 2 и 3 кварталы."
   ]
  },
  {
   "cell_type": "code",
   "execution_count": 119,
   "metadata": {},
   "outputs": [],
   "source": [
    "df_stiki_q2 = df_big.query('year == 2019 and month >= 4 and month <= 6')"
   ]
  },
  {
   "cell_type": "code",
   "execution_count": 120,
   "metadata": {},
   "outputs": [
    {
     "data": {
      "text/plain": [
       "entry_date\n",
       "2019-04-01    47\n",
       "2019-04-03    18\n",
       "2019-04-04    42\n",
       "2019-04-05    33\n",
       "2019-04-06    34\n",
       "              ..\n",
       "2019-06-26    24\n",
       "2019-06-27    25\n",
       "2019-06-28    31\n",
       "2019-06-29    31\n",
       "2019-06-30    51\n",
       "Name: customer_id, Length: 72, dtype: int64"
      ]
     },
     "execution_count": 120,
     "metadata": {},
     "output_type": "execute_result"
    }
   ],
   "source": [
    "def calculate_dau(df):\n",
    "  daily_active_users = df.groupby(df['entry_date'].dt.date)['customer_id'].nunique()\n",
    "  return daily_active_users \n",
    "\n",
    "dau_q2 = calculate_dau(df_stiki_q2)\n",
    "dau_q2"
   ]
  },
  {
   "cell_type": "markdown",
   "metadata": {},
   "source": [
    "Метрика DAU за 2 квартал."
   ]
  },
  {
   "cell_type": "code",
   "execution_count": 121,
   "metadata": {},
   "outputs": [
    {
     "data": {
      "text/plain": [
       "45.041666666666664"
      ]
     },
     "execution_count": 121,
     "metadata": {},
     "output_type": "execute_result"
    }
   ],
   "source": [
    "dau_q2.mean()"
   ]
  },
  {
   "cell_type": "code",
   "execution_count": 122,
   "metadata": {},
   "outputs": [],
   "source": [
    "def calculate_mau(df):\n",
    "    monthly_active_users = df.groupby(df['entry_date'].dt.to_period('M'))['customer_id'].nunique()\n",
    "    return monthly_active_users\n",
    "\n",
    "mau_q2 = calculate_mau(df_stiki_q2)"
   ]
  },
  {
   "cell_type": "markdown",
   "metadata": {},
   "source": [
    "Метрика MAU за второй квартал."
   ]
  },
  {
   "cell_type": "code",
   "execution_count": 123,
   "metadata": {},
   "outputs": [
    {
     "data": {
      "text/plain": [
       "896.0"
      ]
     },
     "execution_count": 123,
     "metadata": {},
     "output_type": "execute_result"
    }
   ],
   "source": [
    "mau_q2.mean()"
   ]
  },
  {
   "cell_type": "code",
   "execution_count": 124,
   "metadata": {},
   "outputs": [],
   "source": [
    "df_stiki_q3 = df_big.query('year == 2019 and month >= 7 and month <= 9')"
   ]
  },
  {
   "cell_type": "code",
   "execution_count": 125,
   "metadata": {},
   "outputs": [],
   "source": [
    "dau_q3 = calculate_dau(df_stiki_q3)\n",
    "mau_q3 = calculate_mau(df_stiki_q3)"
   ]
  },
  {
   "cell_type": "markdown",
   "metadata": {},
   "source": [
    "Метрики DAU и MAU за третий квартал."
   ]
  },
  {
   "cell_type": "code",
   "execution_count": 126,
   "metadata": {},
   "outputs": [
    {
     "name": "stdout",
     "output_type": "stream",
     "text": [
      "45.30769230769231\n",
      "967.6666666666666\n"
     ]
    }
   ],
   "source": [
    "print(dau_q3.mean())\n",
    "print(mau_q3.mean())"
   ]
  },
  {
   "cell_type": "code",
   "execution_count": 127,
   "metadata": {},
   "outputs": [],
   "source": [
    "stiki_factor_q2 = dau_q2.mean()/mau_q2.mean()\n",
    "stiki_factor_q3 = dau_q3.mean()/mau_q3.mean()"
   ]
  },
  {
   "cell_type": "markdown",
   "metadata": {},
   "source": [
    "Стики-фактор за второй и третий квартал соответственно."
   ]
  },
  {
   "cell_type": "code",
   "execution_count": 128,
   "metadata": {},
   "outputs": [
    {
     "name": "stdout",
     "output_type": "stream",
     "text": [
      "0.05026971726190476\n",
      "0.04682159039720184\n"
     ]
    }
   ],
   "source": [
    "print(stiki_factor_q2)\n",
    "print(stiki_factor_q3)"
   ]
  },
  {
   "cell_type": "markdown",
   "metadata": {},
   "source": [
    "Cтики-фактор довольно мал для обоих кварталов. Можно сделать вывод, что у магазина не так много лояльных пользователей."
   ]
  },
  {
   "cell_type": "markdown",
   "metadata": {},
   "source": [
    "Составим профиль каждого клиента."
   ]
  },
  {
   "cell_type": "code",
   "execution_count": 129,
   "metadata": {},
   "outputs": [
    {
     "name": "stdout",
     "output_type": "stream",
     "text": [
      "      customer_id  order_count    first_order_date     last_order_date  \\\n",
      "0            1713           39 2019-05-22 10:39:00 2019-10-28 09:29:00   \n",
      "1            1717          430 2019-04-21 16:37:00 2019-11-30 12:59:00   \n",
      "2            1718            5 2019-08-05 13:35:00 2019-08-05 13:35:00   \n",
      "3            1719            7 2019-06-12 10:53:00 2019-06-12 10:53:00   \n",
      "4            1720            7 2019-03-07 09:52:00 2019-03-07 09:52:00   \n",
      "...           ...          ...                 ...                 ...   \n",
      "3758         7646           43 2019-04-21 13:11:00 2019-04-21 13:11:00   \n",
      "3759         7647            4 2019-05-19 17:47:00 2019-05-19 17:47:00   \n",
      "3760         7648           43 2019-03-01 14:57:00 2019-11-03 14:37:00   \n",
      "3761         7651           50 2019-11-21 09:51:00 2019-11-21 09:51:00   \n",
      "3762         7653           77 2019-04-07 10:43:00 2019-10-31 12:25:00   \n",
      "\n",
      "      total_cost    avg_price  customer_lifetime  average_days_between_orders  \\\n",
      "0          75776  1942.974359                158                     4.051282   \n",
      "1         111641   259.630233                222                     0.516279   \n",
      "2           7062  1412.400000                  0                     0.000000   \n",
      "3           8082  1154.571429                  0                     0.000000   \n",
      "4          13290  1898.571429                  0                     0.000000   \n",
      "...          ...          ...                ...                          ...   \n",
      "3758       71938  1672.976744                  0                     0.000000   \n",
      "3759        8900  2225.000000                  0                     0.000000   \n",
      "3760       74194  1725.441860                246                     5.720930   \n",
      "3761       90792  1815.840000                  0                     0.000000   \n",
      "3762      159222  2067.818182                207                     2.688312   \n",
      "\n",
      "      recency  \n",
      "0          33  \n",
      "1           0  \n",
      "2         117  \n",
      "3         171  \n",
      "4         268  \n",
      "...       ...  \n",
      "3758      223  \n",
      "3759      194  \n",
      "3760       27  \n",
      "3761        9  \n",
      "3762       30  \n",
      "\n",
      "[3763 rows x 9 columns]\n"
     ]
    }
   ],
   "source": [
    "profiles = (\n",
    "    df_big.sort_values(by=['customer_id', 'entry_date'])\n",
    "    .groupby('customer_id')\n",
    "    .agg({\n",
    "        'order_id': 'count',  # Количество заказов\n",
    "        'entry_date': ['min', 'max'],  # Минимальная и максимальная даты заказов\n",
    "        'total_cost': 'sum'  # Суммарная выручка\n",
    "    })\n",
    "    .reset_index()\n",
    ")\n",
    "\n",
    "profiles.columns = ['customer_id', 'order_count', 'first_order_date', 'last_order_date', 'total_cost']\n",
    "\n",
    "# Расчет средней цены заказа\n",
    "profiles['avg_price'] = profiles['total_cost'] / profiles['order_count']\n",
    "\n",
    "# Вычисляем разницу между первым и последним заказом\n",
    "profiles['customer_lifetime'] = (profiles['last_order_date'] - profiles['first_order_date']).dt.days\n",
    "\n",
    "# Вычисляем средний интервал между заказами\n",
    "profiles['average_days_between_orders'] = profiles['customer_lifetime'] / profiles['order_count']\n",
    "\n",
    "# Вычисляем время с момента последнего заказа\n",
    "profiles['recency'] = (df_big['entry_date'].max() - profiles['last_order_date']).dt.days\n",
    "\n",
    "print(profiles)"
   ]
  },
  {
   "cell_type": "markdown",
   "metadata": {},
   "source": [
    "Добавим разделение клиентов на возвратных и нет."
   ]
  },
  {
   "cell_type": "code",
   "execution_count": 130,
   "metadata": {},
   "outputs": [
    {
     "name": "stdout",
     "output_type": "stream",
     "text": [
      "              customer_id  order_count    total_cost    avg_price  \\\n",
      "is_returning                                                        \n",
      "False                  78     1.000000   2261.948718  2261.948718   \n",
      "True                 3685    52.323202  63334.785075  1488.831875   \n",
      "\n",
      "              customer_lifetime  average_days_between_orders     recency  \n",
      "is_returning                                                              \n",
      "False                   0.00000                     0.000000  127.769231  \n",
      "True                   90.07137                     2.811585   70.473813  \n"
     ]
    }
   ],
   "source": [
    "profiles['is_returning'] = profiles['order_count'] > 1\n",
    "\n",
    "returning_customers = profiles.groupby('is_returning').agg(\n",
    "    \n",
    " customer_id = pd.NamedAgg(column = 'customer_id', aggfunc = 'nunique'),\n",
    "    \n",
    "  order_count = pd.NamedAgg(column = 'order_count', aggfunc = 'mean'),\n",
    "    \n",
    " total_cost = pd.NamedAgg(column = 'total_cost', aggfunc = 'mean'),\n",
    "    \n",
    " avg_price = pd.NamedAgg(column = 'avg_price', aggfunc = 'mean'),\n",
    "    \n",
    "  customer_lifetime = pd.NamedAgg(column = 'customer_lifetime', aggfunc = 'mean'),\n",
    "    \n",
    " average_days_between_orders = pd.NamedAgg(column = 'average_days_between_orders', aggfunc = 'mean'),\n",
    "    \n",
    "recency = pd.NamedAgg(column = 'recency', aggfunc = 'mean'),\n",
    "\n",
    ")\n",
    "\n",
    "print(returning_customers)"
   ]
  },
  {
   "cell_type": "markdown",
   "metadata": {},
   "source": [
    "Как видно из датафрейма возвратных клиентов 3685, а невозвратных 78. Возратные клиенты приносят гораздо больше прибыли: 63334 против 2261, но средний чек у невозратных выше: 2261 против 1488."
   ]
  },
  {
   "cell_type": "markdown",
   "metadata": {},
   "source": [
    "## Шаг 4. RFM-сегментация клиентов "
   ]
  },
  {
   "cell_type": "code",
   "execution_count": 131,
   "metadata": {},
   "outputs": [],
   "source": [
    "df_big['order_recency'] = df_big['entry_date'].max() - df_big['entry_date']"
   ]
  },
  {
   "cell_type": "code",
   "execution_count": 132,
   "metadata": {},
   "outputs": [
    {
     "name": "stdout",
     "output_type": "stream",
     "text": [
      "      customer_id  recency  frequency  monetary_value\n",
      "0            1713       33          3           75776\n",
      "1            1717        0         10          111641\n",
      "2            1718      117          1            7062\n",
      "3            1719      171          1            8082\n",
      "4            1720      268          1           13290\n",
      "...           ...      ...        ...             ...\n",
      "3758         7646      223          1           71938\n",
      "3759         7647      194          1            8900\n",
      "3760         7648       27          6           74194\n",
      "3761         7651        9          1           90792\n",
      "3762         7653       30          4          159222\n",
      "\n",
      "[3763 rows x 4 columns]\n"
     ]
    }
   ],
   "source": [
    "rfm = df_big.groupby('customer_id').agg(\n",
    "    \n",
    "    # Количество дней с последнего заказа:    \n",
    "    recency = ('order_recency', lambda x: x.min().days),\n",
    "    # Количество заказов за период времени: \n",
    "    frequency = ('order_id', 'nunique'),\n",
    "    # Сумма стоимости всех заказов: \n",
    "    monetary_value = ('total_cost', 'sum')\n",
    "    \n",
    ").reset_index()\n",
    "\n",
    "print(rfm)"
   ]
  },
  {
   "cell_type": "code",
   "execution_count": 133,
   "metadata": {},
   "outputs": [
    {
     "name": "stdout",
     "output_type": "stream",
     "text": [
      "      customer_id  recency  frequency  monetary_value  r  f  m\n",
      "0            1713       33          3           75776  2  2  3\n",
      "1            1717        0         10          111641  3  3  3\n",
      "2            1718      117          1            7062  1  1  1\n",
      "3            1719      171          1            8082  1  1  1\n",
      "4            1720      268          1           13290  1  1  1\n",
      "...           ...      ...        ...             ... .. .. ..\n",
      "3758         7646      223          1           71938  1  1  3\n",
      "3759         7647      194          1            8900  1  1  1\n",
      "3760         7648       27          6           74194  2  3  3\n",
      "3761         7651        9          1           90792  3  1  3\n",
      "3762         7653       30          4          159222  2  2  3\n",
      "\n",
      "[3763 rows x 7 columns]\n"
     ]
    }
   ],
   "source": [
    "rfm['r'] = pd.qcut(rfm['recency'], q=3, labels=[3,2,1])\n",
    "rfm['f'] = pd.cut(rfm['frequency'], [0, 2, 4, 1291], labels=[1,2,3])\n",
    "rfm['m'] = pd.qcut(rfm['monetary_value'], q=3, labels=[1,2,3])\n",
    "\n",
    "print(rfm) "
   ]
  },
  {
   "cell_type": "code",
   "execution_count": 134,
   "metadata": {},
   "outputs": [
    {
     "name": "stdout",
     "output_type": "stream",
     "text": [
      "   customer_id  recency  frequency  monetary_value  r  f  m rfm_group  rfm_sum\n",
      "0         1713       33          3           75776  2  2  3       223        7\n",
      "1         1717        0         10          111641  3  3  3       333        9\n",
      "2         1718      117          1            7062  1  1  1       111        3\n"
     ]
    }
   ],
   "source": [
    "# Найдем групповой RFM индекс:\n",
    "rfm[['r','f','m']] = rfm[['r','f','m']].astype('str')\n",
    "rfm['rfm_group'] = rfm['r'] + rfm['f'] + rfm['m'] \n",
    "\n",
    "# Найдем сумму индексов RFM:\n",
    "rfm[['r','f','m']] = rfm[['r','f','m']].astype('int')\n",
    "rfm['rfm_sum'] = rfm[['r','f','m']].sum(axis=1)\n",
    "\n",
    "print(rfm.head(3))"
   ]
  },
  {
   "cell_type": "code",
   "execution_count": 135,
   "metadata": {},
   "outputs": [
    {
     "name": "stdout",
     "output_type": "stream",
     "text": [
      "   rfm_group  customer_id  rfm_sum\n",
      "0        111          634        3\n",
      "25       333          468        9\n",
      "1        112          363        4\n",
      "8        211          348        4\n",
      "9        212          321        5\n",
      "17       311          207        5\n",
      "18       312          183        6\n",
      "13       223          181        7\n",
      "16       233          171        8\n",
      "22       323          168        8\n",
      "21       322          142        7\n",
      "12       222          118        6\n",
      "2        113           71        5\n",
      "10       213           68        6\n",
      "5        123           63        6\n",
      "4        122           56        5\n",
      "19       313           38        7\n",
      "24       332           36        8\n",
      "7        133           26        7\n",
      "20       321           26        6\n",
      "15       232           24        7\n",
      "11       221           19        5\n",
      "3        121           19        4\n",
      "6        132           11        6\n",
      "23       331            1        7\n",
      "14       231            1        6\n"
     ]
    }
   ],
   "source": [
    "# Сгруппируем данные по сегментам и подсчитаем их размер с сумму индексов:\n",
    "rfm_group = rfm.groupby('rfm_group').agg({'customer_id':'nunique',\n",
    "                                          'rfm_sum':'mean'}).reset_index()\n",
    "\n",
    "print(rfm_group.sort_values(by='customer_id', ascending=False))"
   ]
  },
  {
   "cell_type": "markdown",
   "metadata": {},
   "source": [
    "Самым многочисленным является сегмент 111, потом идет сегмент 333."
   ]
  },
  {
   "cell_type": "code",
   "execution_count": 136,
   "metadata": {},
   "outputs": [
    {
     "data": {
      "application/vnd.plotly.v1+json": {
       "config": {
        "plotlyServerURL": "https://plot.ly"
       },
       "data": [
        {
         "branchvalues": "total",
         "customdata": [
          [
           3
          ],
          [
           4
          ],
          [
           5
          ],
          [
           4
          ],
          [
           5
          ],
          [
           6
          ],
          [
           6
          ],
          [
           7
          ],
          [
           4
          ],
          [
           5
          ],
          [
           6
          ],
          [
           5
          ],
          [
           6
          ],
          [
           7
          ],
          [
           6
          ],
          [
           7
          ],
          [
           8
          ],
          [
           5
          ],
          [
           6
          ],
          [
           7
          ],
          [
           6
          ],
          [
           7
          ],
          [
           8
          ],
          [
           7
          ],
          [
           8
          ],
          [
           9
          ]
         ],
         "domain": {
          "x": [
           0,
           1
          ],
          "y": [
           0,
           1
          ]
         },
         "hovertemplate": "labels=%{label}<br>customer_id=%{value}<br>parent=%{parent}<br>id=%{id}<br>rfm_sum=%{color}<extra></extra>",
         "ids": [
          "111",
          "112",
          "113",
          "121",
          "122",
          "123",
          "132",
          "133",
          "211",
          "212",
          "213",
          "221",
          "222",
          "223",
          "231",
          "232",
          "233",
          "311",
          "312",
          "313",
          "321",
          "322",
          "323",
          "331",
          "332",
          "333"
         ],
         "labels": [
          "111",
          "112",
          "113",
          "121",
          "122",
          "123",
          "132",
          "133",
          "211",
          "212",
          "213",
          "221",
          "222",
          "223",
          "231",
          "232",
          "233",
          "311",
          "312",
          "313",
          "321",
          "322",
          "323",
          "331",
          "332",
          "333"
         ],
         "marker": {
          "coloraxis": "coloraxis",
          "colors": [
           3,
           4,
           5,
           4,
           5,
           6,
           6,
           7,
           4,
           5,
           6,
           5,
           6,
           7,
           6,
           7,
           8,
           5,
           6,
           7,
           6,
           7,
           8,
           7,
           8,
           9
          ]
         },
         "name": "",
         "parents": [
          "",
          "",
          "",
          "",
          "",
          "",
          "",
          "",
          "",
          "",
          "",
          "",
          "",
          "",
          "",
          "",
          "",
          "",
          "",
          "",
          "",
          "",
          "",
          "",
          "",
          ""
         ],
         "type": "treemap",
         "values": [
          634,
          363,
          71,
          19,
          56,
          63,
          11,
          26,
          348,
          321,
          68,
          19,
          118,
          181,
          1,
          24,
          171,
          207,
          183,
          38,
          26,
          142,
          168,
          1,
          36,
          468
         ]
        }
       ],
       "layout": {
        "coloraxis": {
         "colorbar": {
          "title": {
           "text": "rfm_sum"
          }
         },
         "colorscale": [
          [
           0,
           "rgb(243, 231, 155)"
          ],
          [
           0.16666666666666666,
           "rgb(250, 196, 132)"
          ],
          [
           0.3333333333333333,
           "rgb(248, 160, 126)"
          ],
          [
           0.5,
           "rgb(235, 127, 134)"
          ],
          [
           0.6666666666666666,
           "rgb(206, 102, 147)"
          ],
          [
           0.8333333333333334,
           "rgb(160, 89, 160)"
          ],
          [
           1,
           "rgb(92, 83, 165)"
          ]
         ]
        },
        "legend": {
         "tracegroupgap": 0
        },
        "template": {
         "data": {
          "bar": [
           {
            "error_x": {
             "color": "#2a3f5f"
            },
            "error_y": {
             "color": "#2a3f5f"
            },
            "marker": {
             "line": {
              "color": "#E5ECF6",
              "width": 0.5
             },
             "pattern": {
              "fillmode": "overlay",
              "size": 10,
              "solidity": 0.2
             }
            },
            "type": "bar"
           }
          ],
          "barpolar": [
           {
            "marker": {
             "line": {
              "color": "#E5ECF6",
              "width": 0.5
             },
             "pattern": {
              "fillmode": "overlay",
              "size": 10,
              "solidity": 0.2
             }
            },
            "type": "barpolar"
           }
          ],
          "carpet": [
           {
            "aaxis": {
             "endlinecolor": "#2a3f5f",
             "gridcolor": "white",
             "linecolor": "white",
             "minorgridcolor": "white",
             "startlinecolor": "#2a3f5f"
            },
            "baxis": {
             "endlinecolor": "#2a3f5f",
             "gridcolor": "white",
             "linecolor": "white",
             "minorgridcolor": "white",
             "startlinecolor": "#2a3f5f"
            },
            "type": "carpet"
           }
          ],
          "choropleth": [
           {
            "colorbar": {
             "outlinewidth": 0,
             "ticks": ""
            },
            "type": "choropleth"
           }
          ],
          "contour": [
           {
            "colorbar": {
             "outlinewidth": 0,
             "ticks": ""
            },
            "colorscale": [
             [
              0,
              "#0d0887"
             ],
             [
              0.1111111111111111,
              "#46039f"
             ],
             [
              0.2222222222222222,
              "#7201a8"
             ],
             [
              0.3333333333333333,
              "#9c179e"
             ],
             [
              0.4444444444444444,
              "#bd3786"
             ],
             [
              0.5555555555555556,
              "#d8576b"
             ],
             [
              0.6666666666666666,
              "#ed7953"
             ],
             [
              0.7777777777777778,
              "#fb9f3a"
             ],
             [
              0.8888888888888888,
              "#fdca26"
             ],
             [
              1,
              "#f0f921"
             ]
            ],
            "type": "contour"
           }
          ],
          "contourcarpet": [
           {
            "colorbar": {
             "outlinewidth": 0,
             "ticks": ""
            },
            "type": "contourcarpet"
           }
          ],
          "heatmap": [
           {
            "colorbar": {
             "outlinewidth": 0,
             "ticks": ""
            },
            "colorscale": [
             [
              0,
              "#0d0887"
             ],
             [
              0.1111111111111111,
              "#46039f"
             ],
             [
              0.2222222222222222,
              "#7201a8"
             ],
             [
              0.3333333333333333,
              "#9c179e"
             ],
             [
              0.4444444444444444,
              "#bd3786"
             ],
             [
              0.5555555555555556,
              "#d8576b"
             ],
             [
              0.6666666666666666,
              "#ed7953"
             ],
             [
              0.7777777777777778,
              "#fb9f3a"
             ],
             [
              0.8888888888888888,
              "#fdca26"
             ],
             [
              1,
              "#f0f921"
             ]
            ],
            "type": "heatmap"
           }
          ],
          "heatmapgl": [
           {
            "colorbar": {
             "outlinewidth": 0,
             "ticks": ""
            },
            "colorscale": [
             [
              0,
              "#0d0887"
             ],
             [
              0.1111111111111111,
              "#46039f"
             ],
             [
              0.2222222222222222,
              "#7201a8"
             ],
             [
              0.3333333333333333,
              "#9c179e"
             ],
             [
              0.4444444444444444,
              "#bd3786"
             ],
             [
              0.5555555555555556,
              "#d8576b"
             ],
             [
              0.6666666666666666,
              "#ed7953"
             ],
             [
              0.7777777777777778,
              "#fb9f3a"
             ],
             [
              0.8888888888888888,
              "#fdca26"
             ],
             [
              1,
              "#f0f921"
             ]
            ],
            "type": "heatmapgl"
           }
          ],
          "histogram": [
           {
            "marker": {
             "pattern": {
              "fillmode": "overlay",
              "size": 10,
              "solidity": 0.2
             }
            },
            "type": "histogram"
           }
          ],
          "histogram2d": [
           {
            "colorbar": {
             "outlinewidth": 0,
             "ticks": ""
            },
            "colorscale": [
             [
              0,
              "#0d0887"
             ],
             [
              0.1111111111111111,
              "#46039f"
             ],
             [
              0.2222222222222222,
              "#7201a8"
             ],
             [
              0.3333333333333333,
              "#9c179e"
             ],
             [
              0.4444444444444444,
              "#bd3786"
             ],
             [
              0.5555555555555556,
              "#d8576b"
             ],
             [
              0.6666666666666666,
              "#ed7953"
             ],
             [
              0.7777777777777778,
              "#fb9f3a"
             ],
             [
              0.8888888888888888,
              "#fdca26"
             ],
             [
              1,
              "#f0f921"
             ]
            ],
            "type": "histogram2d"
           }
          ],
          "histogram2dcontour": [
           {
            "colorbar": {
             "outlinewidth": 0,
             "ticks": ""
            },
            "colorscale": [
             [
              0,
              "#0d0887"
             ],
             [
              0.1111111111111111,
              "#46039f"
             ],
             [
              0.2222222222222222,
              "#7201a8"
             ],
             [
              0.3333333333333333,
              "#9c179e"
             ],
             [
              0.4444444444444444,
              "#bd3786"
             ],
             [
              0.5555555555555556,
              "#d8576b"
             ],
             [
              0.6666666666666666,
              "#ed7953"
             ],
             [
              0.7777777777777778,
              "#fb9f3a"
             ],
             [
              0.8888888888888888,
              "#fdca26"
             ],
             [
              1,
              "#f0f921"
             ]
            ],
            "type": "histogram2dcontour"
           }
          ],
          "mesh3d": [
           {
            "colorbar": {
             "outlinewidth": 0,
             "ticks": ""
            },
            "type": "mesh3d"
           }
          ],
          "parcoords": [
           {
            "line": {
             "colorbar": {
              "outlinewidth": 0,
              "ticks": ""
             }
            },
            "type": "parcoords"
           }
          ],
          "pie": [
           {
            "automargin": true,
            "type": "pie"
           }
          ],
          "scatter": [
           {
            "marker": {
             "colorbar": {
              "outlinewidth": 0,
              "ticks": ""
             }
            },
            "type": "scatter"
           }
          ],
          "scatter3d": [
           {
            "line": {
             "colorbar": {
              "outlinewidth": 0,
              "ticks": ""
             }
            },
            "marker": {
             "colorbar": {
              "outlinewidth": 0,
              "ticks": ""
             }
            },
            "type": "scatter3d"
           }
          ],
          "scattercarpet": [
           {
            "marker": {
             "colorbar": {
              "outlinewidth": 0,
              "ticks": ""
             }
            },
            "type": "scattercarpet"
           }
          ],
          "scattergeo": [
           {
            "marker": {
             "colorbar": {
              "outlinewidth": 0,
              "ticks": ""
             }
            },
            "type": "scattergeo"
           }
          ],
          "scattergl": [
           {
            "marker": {
             "colorbar": {
              "outlinewidth": 0,
              "ticks": ""
             }
            },
            "type": "scattergl"
           }
          ],
          "scattermapbox": [
           {
            "marker": {
             "colorbar": {
              "outlinewidth": 0,
              "ticks": ""
             }
            },
            "type": "scattermapbox"
           }
          ],
          "scatterpolar": [
           {
            "marker": {
             "colorbar": {
              "outlinewidth": 0,
              "ticks": ""
             }
            },
            "type": "scatterpolar"
           }
          ],
          "scatterpolargl": [
           {
            "marker": {
             "colorbar": {
              "outlinewidth": 0,
              "ticks": ""
             }
            },
            "type": "scatterpolargl"
           }
          ],
          "scatterternary": [
           {
            "marker": {
             "colorbar": {
              "outlinewidth": 0,
              "ticks": ""
             }
            },
            "type": "scatterternary"
           }
          ],
          "surface": [
           {
            "colorbar": {
             "outlinewidth": 0,
             "ticks": ""
            },
            "colorscale": [
             [
              0,
              "#0d0887"
             ],
             [
              0.1111111111111111,
              "#46039f"
             ],
             [
              0.2222222222222222,
              "#7201a8"
             ],
             [
              0.3333333333333333,
              "#9c179e"
             ],
             [
              0.4444444444444444,
              "#bd3786"
             ],
             [
              0.5555555555555556,
              "#d8576b"
             ],
             [
              0.6666666666666666,
              "#ed7953"
             ],
             [
              0.7777777777777778,
              "#fb9f3a"
             ],
             [
              0.8888888888888888,
              "#fdca26"
             ],
             [
              1,
              "#f0f921"
             ]
            ],
            "type": "surface"
           }
          ],
          "table": [
           {
            "cells": {
             "fill": {
              "color": "#EBF0F8"
             },
             "line": {
              "color": "white"
             }
            },
            "header": {
             "fill": {
              "color": "#C8D4E3"
             },
             "line": {
              "color": "white"
             }
            },
            "type": "table"
           }
          ]
         },
         "layout": {
          "annotationdefaults": {
           "arrowcolor": "#2a3f5f",
           "arrowhead": 0,
           "arrowwidth": 1
          },
          "autotypenumbers": "strict",
          "coloraxis": {
           "colorbar": {
            "outlinewidth": 0,
            "ticks": ""
           }
          },
          "colorscale": {
           "diverging": [
            [
             0,
             "#8e0152"
            ],
            [
             0.1,
             "#c51b7d"
            ],
            [
             0.2,
             "#de77ae"
            ],
            [
             0.3,
             "#f1b6da"
            ],
            [
             0.4,
             "#fde0ef"
            ],
            [
             0.5,
             "#f7f7f7"
            ],
            [
             0.6,
             "#e6f5d0"
            ],
            [
             0.7,
             "#b8e186"
            ],
            [
             0.8,
             "#7fbc41"
            ],
            [
             0.9,
             "#4d9221"
            ],
            [
             1,
             "#276419"
            ]
           ],
           "sequential": [
            [
             0,
             "#0d0887"
            ],
            [
             0.1111111111111111,
             "#46039f"
            ],
            [
             0.2222222222222222,
             "#7201a8"
            ],
            [
             0.3333333333333333,
             "#9c179e"
            ],
            [
             0.4444444444444444,
             "#bd3786"
            ],
            [
             0.5555555555555556,
             "#d8576b"
            ],
            [
             0.6666666666666666,
             "#ed7953"
            ],
            [
             0.7777777777777778,
             "#fb9f3a"
            ],
            [
             0.8888888888888888,
             "#fdca26"
            ],
            [
             1,
             "#f0f921"
            ]
           ],
           "sequentialminus": [
            [
             0,
             "#0d0887"
            ],
            [
             0.1111111111111111,
             "#46039f"
            ],
            [
             0.2222222222222222,
             "#7201a8"
            ],
            [
             0.3333333333333333,
             "#9c179e"
            ],
            [
             0.4444444444444444,
             "#bd3786"
            ],
            [
             0.5555555555555556,
             "#d8576b"
            ],
            [
             0.6666666666666666,
             "#ed7953"
            ],
            [
             0.7777777777777778,
             "#fb9f3a"
            ],
            [
             0.8888888888888888,
             "#fdca26"
            ],
            [
             1,
             "#f0f921"
            ]
           ]
          },
          "colorway": [
           "#636efa",
           "#EF553B",
           "#00cc96",
           "#ab63fa",
           "#FFA15A",
           "#19d3f3",
           "#FF6692",
           "#B6E880",
           "#FF97FF",
           "#FECB52"
          ],
          "font": {
           "color": "#2a3f5f"
          },
          "geo": {
           "bgcolor": "white",
           "lakecolor": "white",
           "landcolor": "#E5ECF6",
           "showlakes": true,
           "showland": true,
           "subunitcolor": "white"
          },
          "hoverlabel": {
           "align": "left"
          },
          "hovermode": "closest",
          "mapbox": {
           "style": "light"
          },
          "paper_bgcolor": "white",
          "plot_bgcolor": "#E5ECF6",
          "polar": {
           "angularaxis": {
            "gridcolor": "white",
            "linecolor": "white",
            "ticks": ""
           },
           "bgcolor": "#E5ECF6",
           "radialaxis": {
            "gridcolor": "white",
            "linecolor": "white",
            "ticks": ""
           }
          },
          "scene": {
           "xaxis": {
            "backgroundcolor": "#E5ECF6",
            "gridcolor": "white",
            "gridwidth": 2,
            "linecolor": "white",
            "showbackground": true,
            "ticks": "",
            "zerolinecolor": "white"
           },
           "yaxis": {
            "backgroundcolor": "#E5ECF6",
            "gridcolor": "white",
            "gridwidth": 2,
            "linecolor": "white",
            "showbackground": true,
            "ticks": "",
            "zerolinecolor": "white"
           },
           "zaxis": {
            "backgroundcolor": "#E5ECF6",
            "gridcolor": "white",
            "gridwidth": 2,
            "linecolor": "white",
            "showbackground": true,
            "ticks": "",
            "zerolinecolor": "white"
           }
          },
          "shapedefaults": {
           "line": {
            "color": "#2a3f5f"
           }
          },
          "ternary": {
           "aaxis": {
            "gridcolor": "white",
            "linecolor": "white",
            "ticks": ""
           },
           "baxis": {
            "gridcolor": "white",
            "linecolor": "white",
            "ticks": ""
           },
           "bgcolor": "#E5ECF6",
           "caxis": {
            "gridcolor": "white",
            "linecolor": "white",
            "ticks": ""
           }
          },
          "title": {
           "x": 0.05
          },
          "xaxis": {
           "automargin": true,
           "gridcolor": "white",
           "linecolor": "white",
           "ticks": "",
           "title": {
            "standoff": 15
           },
           "zerolinecolor": "white",
           "zerolinewidth": 2
          },
          "yaxis": {
           "automargin": true,
           "gridcolor": "white",
           "linecolor": "white",
           "ticks": "",
           "title": {
            "standoff": 15
           },
           "zerolinecolor": "white",
           "zerolinewidth": 2
          }
         }
        },
        "title": {
         "text": "RFM сегментация пользователей сервиса доставки еды"
        }
       }
      },
      "text/html": [
       "<div>                            <div id=\"6920d41e-9a0a-43e8-b02f-e383a890713c\" class=\"plotly-graph-div\" style=\"height:525px; width:100%;\"></div>            <script type=\"text/javascript\">                require([\"plotly\"], function(Plotly) {                    window.PLOTLYENV=window.PLOTLYENV || {};                                    if (document.getElementById(\"6920d41e-9a0a-43e8-b02f-e383a890713c\")) {                    Plotly.newPlot(                        \"6920d41e-9a0a-43e8-b02f-e383a890713c\",                        [{\"branchvalues\":\"total\",\"customdata\":[[3],[4],[5],[4],[5],[6],[6],[7],[4],[5],[6],[5],[6],[7],[6],[7],[8],[5],[6],[7],[6],[7],[8],[7],[8],[9]],\"domain\":{\"x\":[0.0,1.0],\"y\":[0.0,1.0]},\"hovertemplate\":\"labels=%{label}<br>customer_id=%{value}<br>parent=%{parent}<br>id=%{id}<br>rfm_sum=%{color}<extra></extra>\",\"ids\":[\"111\",\"112\",\"113\",\"121\",\"122\",\"123\",\"132\",\"133\",\"211\",\"212\",\"213\",\"221\",\"222\",\"223\",\"231\",\"232\",\"233\",\"311\",\"312\",\"313\",\"321\",\"322\",\"323\",\"331\",\"332\",\"333\"],\"labels\":[\"111\",\"112\",\"113\",\"121\",\"122\",\"123\",\"132\",\"133\",\"211\",\"212\",\"213\",\"221\",\"222\",\"223\",\"231\",\"232\",\"233\",\"311\",\"312\",\"313\",\"321\",\"322\",\"323\",\"331\",\"332\",\"333\"],\"marker\":{\"coloraxis\":\"coloraxis\",\"colors\":[3,4,5,4,5,6,6,7,4,5,6,5,6,7,6,7,8,5,6,7,6,7,8,7,8,9]},\"name\":\"\",\"parents\":[\"\",\"\",\"\",\"\",\"\",\"\",\"\",\"\",\"\",\"\",\"\",\"\",\"\",\"\",\"\",\"\",\"\",\"\",\"\",\"\",\"\",\"\",\"\",\"\",\"\",\"\"],\"values\":[634,363,71,19,56,63,11,26,348,321,68,19,118,181,1,24,171,207,183,38,26,142,168,1,36,468],\"type\":\"treemap\"}],                        {\"template\":{\"data\":{\"bar\":[{\"error_x\":{\"color\":\"#2a3f5f\"},\"error_y\":{\"color\":\"#2a3f5f\"},\"marker\":{\"line\":{\"color\":\"#E5ECF6\",\"width\":0.5},\"pattern\":{\"fillmode\":\"overlay\",\"size\":10,\"solidity\":0.2}},\"type\":\"bar\"}],\"barpolar\":[{\"marker\":{\"line\":{\"color\":\"#E5ECF6\",\"width\":0.5},\"pattern\":{\"fillmode\":\"overlay\",\"size\":10,\"solidity\":0.2}},\"type\":\"barpolar\"}],\"carpet\":[{\"aaxis\":{\"endlinecolor\":\"#2a3f5f\",\"gridcolor\":\"white\",\"linecolor\":\"white\",\"minorgridcolor\":\"white\",\"startlinecolor\":\"#2a3f5f\"},\"baxis\":{\"endlinecolor\":\"#2a3f5f\",\"gridcolor\":\"white\",\"linecolor\":\"white\",\"minorgridcolor\":\"white\",\"startlinecolor\":\"#2a3f5f\"},\"type\":\"carpet\"}],\"choropleth\":[{\"colorbar\":{\"outlinewidth\":0,\"ticks\":\"\"},\"type\":\"choropleth\"}],\"contour\":[{\"colorbar\":{\"outlinewidth\":0,\"ticks\":\"\"},\"colorscale\":[[0.0,\"#0d0887\"],[0.1111111111111111,\"#46039f\"],[0.2222222222222222,\"#7201a8\"],[0.3333333333333333,\"#9c179e\"],[0.4444444444444444,\"#bd3786\"],[0.5555555555555556,\"#d8576b\"],[0.6666666666666666,\"#ed7953\"],[0.7777777777777778,\"#fb9f3a\"],[0.8888888888888888,\"#fdca26\"],[1.0,\"#f0f921\"]],\"type\":\"contour\"}],\"contourcarpet\":[{\"colorbar\":{\"outlinewidth\":0,\"ticks\":\"\"},\"type\":\"contourcarpet\"}],\"heatmap\":[{\"colorbar\":{\"outlinewidth\":0,\"ticks\":\"\"},\"colorscale\":[[0.0,\"#0d0887\"],[0.1111111111111111,\"#46039f\"],[0.2222222222222222,\"#7201a8\"],[0.3333333333333333,\"#9c179e\"],[0.4444444444444444,\"#bd3786\"],[0.5555555555555556,\"#d8576b\"],[0.6666666666666666,\"#ed7953\"],[0.7777777777777778,\"#fb9f3a\"],[0.8888888888888888,\"#fdca26\"],[1.0,\"#f0f921\"]],\"type\":\"heatmap\"}],\"heatmapgl\":[{\"colorbar\":{\"outlinewidth\":0,\"ticks\":\"\"},\"colorscale\":[[0.0,\"#0d0887\"],[0.1111111111111111,\"#46039f\"],[0.2222222222222222,\"#7201a8\"],[0.3333333333333333,\"#9c179e\"],[0.4444444444444444,\"#bd3786\"],[0.5555555555555556,\"#d8576b\"],[0.6666666666666666,\"#ed7953\"],[0.7777777777777778,\"#fb9f3a\"],[0.8888888888888888,\"#fdca26\"],[1.0,\"#f0f921\"]],\"type\":\"heatmapgl\"}],\"histogram\":[{\"marker\":{\"pattern\":{\"fillmode\":\"overlay\",\"size\":10,\"solidity\":0.2}},\"type\":\"histogram\"}],\"histogram2d\":[{\"colorbar\":{\"outlinewidth\":0,\"ticks\":\"\"},\"colorscale\":[[0.0,\"#0d0887\"],[0.1111111111111111,\"#46039f\"],[0.2222222222222222,\"#7201a8\"],[0.3333333333333333,\"#9c179e\"],[0.4444444444444444,\"#bd3786\"],[0.5555555555555556,\"#d8576b\"],[0.6666666666666666,\"#ed7953\"],[0.7777777777777778,\"#fb9f3a\"],[0.8888888888888888,\"#fdca26\"],[1.0,\"#f0f921\"]],\"type\":\"histogram2d\"}],\"histogram2dcontour\":[{\"colorbar\":{\"outlinewidth\":0,\"ticks\":\"\"},\"colorscale\":[[0.0,\"#0d0887\"],[0.1111111111111111,\"#46039f\"],[0.2222222222222222,\"#7201a8\"],[0.3333333333333333,\"#9c179e\"],[0.4444444444444444,\"#bd3786\"],[0.5555555555555556,\"#d8576b\"],[0.6666666666666666,\"#ed7953\"],[0.7777777777777778,\"#fb9f3a\"],[0.8888888888888888,\"#fdca26\"],[1.0,\"#f0f921\"]],\"type\":\"histogram2dcontour\"}],\"mesh3d\":[{\"colorbar\":{\"outlinewidth\":0,\"ticks\":\"\"},\"type\":\"mesh3d\"}],\"parcoords\":[{\"line\":{\"colorbar\":{\"outlinewidth\":0,\"ticks\":\"\"}},\"type\":\"parcoords\"}],\"pie\":[{\"automargin\":true,\"type\":\"pie\"}],\"scatter\":[{\"marker\":{\"colorbar\":{\"outlinewidth\":0,\"ticks\":\"\"}},\"type\":\"scatter\"}],\"scatter3d\":[{\"line\":{\"colorbar\":{\"outlinewidth\":0,\"ticks\":\"\"}},\"marker\":{\"colorbar\":{\"outlinewidth\":0,\"ticks\":\"\"}},\"type\":\"scatter3d\"}],\"scattercarpet\":[{\"marker\":{\"colorbar\":{\"outlinewidth\":0,\"ticks\":\"\"}},\"type\":\"scattercarpet\"}],\"scattergeo\":[{\"marker\":{\"colorbar\":{\"outlinewidth\":0,\"ticks\":\"\"}},\"type\":\"scattergeo\"}],\"scattergl\":[{\"marker\":{\"colorbar\":{\"outlinewidth\":0,\"ticks\":\"\"}},\"type\":\"scattergl\"}],\"scattermapbox\":[{\"marker\":{\"colorbar\":{\"outlinewidth\":0,\"ticks\":\"\"}},\"type\":\"scattermapbox\"}],\"scatterpolar\":[{\"marker\":{\"colorbar\":{\"outlinewidth\":0,\"ticks\":\"\"}},\"type\":\"scatterpolar\"}],\"scatterpolargl\":[{\"marker\":{\"colorbar\":{\"outlinewidth\":0,\"ticks\":\"\"}},\"type\":\"scatterpolargl\"}],\"scatterternary\":[{\"marker\":{\"colorbar\":{\"outlinewidth\":0,\"ticks\":\"\"}},\"type\":\"scatterternary\"}],\"surface\":[{\"colorbar\":{\"outlinewidth\":0,\"ticks\":\"\"},\"colorscale\":[[0.0,\"#0d0887\"],[0.1111111111111111,\"#46039f\"],[0.2222222222222222,\"#7201a8\"],[0.3333333333333333,\"#9c179e\"],[0.4444444444444444,\"#bd3786\"],[0.5555555555555556,\"#d8576b\"],[0.6666666666666666,\"#ed7953\"],[0.7777777777777778,\"#fb9f3a\"],[0.8888888888888888,\"#fdca26\"],[1.0,\"#f0f921\"]],\"type\":\"surface\"}],\"table\":[{\"cells\":{\"fill\":{\"color\":\"#EBF0F8\"},\"line\":{\"color\":\"white\"}},\"header\":{\"fill\":{\"color\":\"#C8D4E3\"},\"line\":{\"color\":\"white\"}},\"type\":\"table\"}]},\"layout\":{\"annotationdefaults\":{\"arrowcolor\":\"#2a3f5f\",\"arrowhead\":0,\"arrowwidth\":1},\"autotypenumbers\":\"strict\",\"coloraxis\":{\"colorbar\":{\"outlinewidth\":0,\"ticks\":\"\"}},\"colorscale\":{\"diverging\":[[0,\"#8e0152\"],[0.1,\"#c51b7d\"],[0.2,\"#de77ae\"],[0.3,\"#f1b6da\"],[0.4,\"#fde0ef\"],[0.5,\"#f7f7f7\"],[0.6,\"#e6f5d0\"],[0.7,\"#b8e186\"],[0.8,\"#7fbc41\"],[0.9,\"#4d9221\"],[1,\"#276419\"]],\"sequential\":[[0.0,\"#0d0887\"],[0.1111111111111111,\"#46039f\"],[0.2222222222222222,\"#7201a8\"],[0.3333333333333333,\"#9c179e\"],[0.4444444444444444,\"#bd3786\"],[0.5555555555555556,\"#d8576b\"],[0.6666666666666666,\"#ed7953\"],[0.7777777777777778,\"#fb9f3a\"],[0.8888888888888888,\"#fdca26\"],[1.0,\"#f0f921\"]],\"sequentialminus\":[[0.0,\"#0d0887\"],[0.1111111111111111,\"#46039f\"],[0.2222222222222222,\"#7201a8\"],[0.3333333333333333,\"#9c179e\"],[0.4444444444444444,\"#bd3786\"],[0.5555555555555556,\"#d8576b\"],[0.6666666666666666,\"#ed7953\"],[0.7777777777777778,\"#fb9f3a\"],[0.8888888888888888,\"#fdca26\"],[1.0,\"#f0f921\"]]},\"colorway\":[\"#636efa\",\"#EF553B\",\"#00cc96\",\"#ab63fa\",\"#FFA15A\",\"#19d3f3\",\"#FF6692\",\"#B6E880\",\"#FF97FF\",\"#FECB52\"],\"font\":{\"color\":\"#2a3f5f\"},\"geo\":{\"bgcolor\":\"white\",\"lakecolor\":\"white\",\"landcolor\":\"#E5ECF6\",\"showlakes\":true,\"showland\":true,\"subunitcolor\":\"white\"},\"hoverlabel\":{\"align\":\"left\"},\"hovermode\":\"closest\",\"mapbox\":{\"style\":\"light\"},\"paper_bgcolor\":\"white\",\"plot_bgcolor\":\"#E5ECF6\",\"polar\":{\"angularaxis\":{\"gridcolor\":\"white\",\"linecolor\":\"white\",\"ticks\":\"\"},\"bgcolor\":\"#E5ECF6\",\"radialaxis\":{\"gridcolor\":\"white\",\"linecolor\":\"white\",\"ticks\":\"\"}},\"scene\":{\"xaxis\":{\"backgroundcolor\":\"#E5ECF6\",\"gridcolor\":\"white\",\"gridwidth\":2,\"linecolor\":\"white\",\"showbackground\":true,\"ticks\":\"\",\"zerolinecolor\":\"white\"},\"yaxis\":{\"backgroundcolor\":\"#E5ECF6\",\"gridcolor\":\"white\",\"gridwidth\":2,\"linecolor\":\"white\",\"showbackground\":true,\"ticks\":\"\",\"zerolinecolor\":\"white\"},\"zaxis\":{\"backgroundcolor\":\"#E5ECF6\",\"gridcolor\":\"white\",\"gridwidth\":2,\"linecolor\":\"white\",\"showbackground\":true,\"ticks\":\"\",\"zerolinecolor\":\"white\"}},\"shapedefaults\":{\"line\":{\"color\":\"#2a3f5f\"}},\"ternary\":{\"aaxis\":{\"gridcolor\":\"white\",\"linecolor\":\"white\",\"ticks\":\"\"},\"baxis\":{\"gridcolor\":\"white\",\"linecolor\":\"white\",\"ticks\":\"\"},\"bgcolor\":\"#E5ECF6\",\"caxis\":{\"gridcolor\":\"white\",\"linecolor\":\"white\",\"ticks\":\"\"}},\"title\":{\"x\":0.05},\"xaxis\":{\"automargin\":true,\"gridcolor\":\"white\",\"linecolor\":\"white\",\"ticks\":\"\",\"title\":{\"standoff\":15},\"zerolinecolor\":\"white\",\"zerolinewidth\":2},\"yaxis\":{\"automargin\":true,\"gridcolor\":\"white\",\"linecolor\":\"white\",\"ticks\":\"\",\"title\":{\"standoff\":15},\"zerolinecolor\":\"white\",\"zerolinewidth\":2}}},\"coloraxis\":{\"colorbar\":{\"title\":{\"text\":\"rfm_sum\"}},\"colorscale\":[[0.0,\"rgb(243, 231, 155)\"],[0.16666666666666666,\"rgb(250, 196, 132)\"],[0.3333333333333333,\"rgb(248, 160, 126)\"],[0.5,\"rgb(235, 127, 134)\"],[0.6666666666666666,\"rgb(206, 102, 147)\"],[0.8333333333333334,\"rgb(160, 89, 160)\"],[1.0,\"rgb(92, 83, 165)\"]]},\"legend\":{\"tracegroupgap\":0},\"title\":{\"text\":\"RFM \\u0441\\u0435\\u0433\\u043c\\u0435\\u043d\\u0442\\u0430\\u0446\\u0438\\u044f \\u043f\\u043e\\u043b\\u044c\\u0437\\u043e\\u0432\\u0430\\u0442\\u0435\\u043b\\u0435\\u0439 \\u0441\\u0435\\u0440\\u0432\\u0438\\u0441\\u0430 \\u0434\\u043e\\u0441\\u0442\\u0430\\u0432\\u043a\\u0438 \\u0435\\u0434\\u044b\"}},                        {\"responsive\": true}                    ).then(function(){\n",
       "                            \n",
       "var gd = document.getElementById('6920d41e-9a0a-43e8-b02f-e383a890713c');\n",
       "var x = new MutationObserver(function (mutations, observer) {{\n",
       "        var display = window.getComputedStyle(gd).display;\n",
       "        if (!display || display === 'none') {{\n",
       "            console.log([gd, 'removed!']);\n",
       "            Plotly.purge(gd);\n",
       "            observer.disconnect();\n",
       "        }}\n",
       "}});\n",
       "\n",
       "// Listen for the removal of the full notebook cells\n",
       "var notebookContainer = gd.closest('#notebook-container');\n",
       "if (notebookContainer) {{\n",
       "    x.observe(notebookContainer, {childList: true});\n",
       "}}\n",
       "\n",
       "// Listen for the clearing of the current output cell\n",
       "var outputEl = gd.closest('.output');\n",
       "if (outputEl) {{\n",
       "    x.observe(outputEl, {childList: true});\n",
       "}}\n",
       "\n",
       "                        })                };                });            </script>        </div>"
      ]
     },
     "metadata": {},
     "output_type": "display_data"
    }
   ],
   "source": [
    "import plotly.express as px\n",
    "\n",
    "# Построим график treemap для визуализации результатов RFM сегментации:\n",
    "fig = px.treemap(rfm_group, \n",
    "                 path=['rfm_group'], \n",
    "                 values='customer_id', \n",
    "                 color='rfm_sum', \n",
    "                 color_continuous_scale='Sunset',\n",
    "                 title='RFM сегментация пользователей сервиса доставки еды')\n",
    "\n",
    "fig.show()"
   ]
  },
  {
   "cell_type": "markdown",
   "metadata": {},
   "source": [
    "Пропишем стратегию работы с каждым из выделенных сегментов и определим точки роста.\n",
    "\n",
    "111, 211, 311\tУвеличить частоту покупок и средний чек. В этом помогут скидки за объём покупок и накопительные программы лояльности.\n",
    "\n",
    "112\tДоходность на среднем уровне, но покупали давно и нечасто. Стоит применить стратегию реактивации — возвращающие письма, акции, промокоды.\n",
    "\n",
    "212, 312, 313, 213\tНужно увеличить частоту покупок. Стратегия — акции и скидки за регулярность покупок.\n",
    "\n",
    "333\t«Золотой сегмент». Необходимо предпринять действия по удержанию: программы лояльности, индивидуальное обслуживание.\n",
    "\n",
    "323, 233, 223\tВыгодные сегменты. Необходимо предпринять действия по удержанию: программы лояльности, индивидуальное обслуживание.\n",
    "\n",
    "123\tКлиенты покупали достаточно давно, но на большую сумму и со средней частотой. Стратегия — реактивация: возвращающие письма, акции, промокоды.\n",
    "\n",
    "113\tКлиенты покупали достаточно давно и нечасто, но на большую сумму. Стратегия — реактивация: возвращающие письма, акции, промокоды.\n",
    "\n",
    "133\tКлиенты покупали достаточно давно, но часто и на большую сумму. Стратегия — реактивация: возвращающие письма, акции, промокоды.\n",
    "\n",
    "122\tКлиенты покупали достаточно давно, но доходность и частота на среднем уровне. Стратегия — реактивация: возвращающие письма, акции, промокоды.\n",
    "\n",
    "322, 222\tСтабильные сегменты. Необходимо предпринять действия по удержанию: программы лояльности, индивидуальное обслуживание."
   ]
  },
  {
   "cell_type": "markdown",
   "metadata": {},
   "source": [
    "##  Шаг 5. Проверка статистических гипотез"
   ]
  },
  {
   "cell_type": "markdown",
   "metadata": {},
   "source": [
    "Разделим датафрейм по кварталам."
   ]
  },
  {
   "cell_type": "code",
   "execution_count": 137,
   "metadata": {},
   "outputs": [],
   "source": [
    "def add_quarter(df):\n",
    "    df['quarter'] = 'Unknown'  \n",
    "    \n",
    "    if df['entry_date'].dt.month.isin([1, 2, 3]).any():\n",
    "        df.loc[df['entry_date'].dt.month.isin([1, 2, 3]), 'quarter'] = 'Q1'\n",
    "    if df['entry_date'].dt.month.isin([4, 5, 6]).any():\n",
    "        df.loc[df['entry_date'].dt.month.isin([4, 5, 6]), 'quarter'] = 'Q2'\n",
    "    if df['entry_date'].dt.month.isin([7, 8, 9]).any():\n",
    "        df.loc[df['entry_date'].dt.month.isin([7, 8, 9]), 'quarter'] = 'Q3'\n",
    "    if df['entry_date'].dt.month.isin([10, 11, 12]).any():\n",
    "        df.loc[df['entry_date'].dt.month.isin([10, 11, 12]), 'quarter'] = 'Q4'\n",
    "    return df\n",
    "\n",
    "df_big = add_quarter(df_big)\n",
    "df_big['order_count'] = df_big.groupby('customer_id')['order_id'].transform('count')"
   ]
  },
  {
   "cell_type": "code",
   "execution_count": 138,
   "metadata": {},
   "outputs": [],
   "source": [
    "df_big_q2 = df_big.query('quarter == \"Q2\"')"
   ]
  },
  {
   "cell_type": "markdown",
   "metadata": {},
   "source": [
    "Найдем количество возвратных и нет клиентов во втором квартале."
   ]
  },
  {
   "cell_type": "code",
   "execution_count": 139,
   "metadata": {},
   "outputs": [
    {
     "data": {
      "text/html": [
       "<div>\n",
       "<style scoped>\n",
       "    .dataframe tbody tr th:only-of-type {\n",
       "        vertical-align: middle;\n",
       "    }\n",
       "\n",
       "    .dataframe tbody tr th {\n",
       "        vertical-align: top;\n",
       "    }\n",
       "\n",
       "    .dataframe thead th {\n",
       "        text-align: right;\n",
       "    }\n",
       "</style>\n",
       "<table border=\"1\" class=\"dataframe\">\n",
       "  <thead>\n",
       "    <tr style=\"text-align: right;\">\n",
       "      <th></th>\n",
       "      <th>customer_id</th>\n",
       "    </tr>\n",
       "    <tr>\n",
       "      <th>is_returning</th>\n",
       "      <th></th>\n",
       "    </tr>\n",
       "  </thead>\n",
       "  <tbody>\n",
       "    <tr>\n",
       "      <th>False</th>\n",
       "      <td>19</td>\n",
       "    </tr>\n",
       "    <tr>\n",
       "      <th>True</th>\n",
       "      <td>1852</td>\n",
       "    </tr>\n",
       "  </tbody>\n",
       "</table>\n",
       "</div>"
      ],
      "text/plain": [
       "              customer_id\n",
       "is_returning             \n",
       "False                  19\n",
       "True                 1852"
      ]
     },
     "execution_count": 139,
     "metadata": {},
     "output_type": "execute_result"
    }
   ],
   "source": [
    "df_big_q2['is_returning'] = df_big_q2['order_count'] > 1\n",
    "df_big_q2 = df_big_q2.groupby('is_returning').agg(customer_id = pd.NamedAgg(column = 'customer_id', aggfunc = 'nunique'))\n",
    "df_big_q2\n"
   ]
  },
  {
   "cell_type": "markdown",
   "metadata": {},
   "source": [
    "1852 возвратных и 19 невозвратных: всего 1871 покупатель."
   ]
  },
  {
   "cell_type": "markdown",
   "metadata": {},
   "source": [
    "Найдем количество возвратных и нет клиентов в третьем квартале."
   ]
  },
  {
   "cell_type": "code",
   "execution_count": 140,
   "metadata": {},
   "outputs": [
    {
     "data": {
      "text/html": [
       "<div>\n",
       "<style scoped>\n",
       "    .dataframe tbody tr th:only-of-type {\n",
       "        vertical-align: middle;\n",
       "    }\n",
       "\n",
       "    .dataframe tbody tr th {\n",
       "        vertical-align: top;\n",
       "    }\n",
       "\n",
       "    .dataframe thead th {\n",
       "        text-align: right;\n",
       "    }\n",
       "</style>\n",
       "<table border=\"1\" class=\"dataframe\">\n",
       "  <thead>\n",
       "    <tr style=\"text-align: right;\">\n",
       "      <th></th>\n",
       "      <th>customer_id</th>\n",
       "    </tr>\n",
       "    <tr>\n",
       "      <th>is_returning</th>\n",
       "      <th></th>\n",
       "    </tr>\n",
       "  </thead>\n",
       "  <tbody>\n",
       "    <tr>\n",
       "      <th>False</th>\n",
       "      <td>24</td>\n",
       "    </tr>\n",
       "    <tr>\n",
       "      <th>True</th>\n",
       "      <td>2000</td>\n",
       "    </tr>\n",
       "  </tbody>\n",
       "</table>\n",
       "</div>"
      ],
      "text/plain": [
       "              customer_id\n",
       "is_returning             \n",
       "False                  24\n",
       "True                 2000"
      ]
     },
     "execution_count": 140,
     "metadata": {},
     "output_type": "execute_result"
    }
   ],
   "source": [
    "df_big_q3 = df_big.query('quarter == \"Q3\"')\n",
    "df_big_q3['is_returning'] = df_big_q3['order_count'] > 1\n",
    "df_big_q3 = df_big_q3.groupby('is_returning').agg(customer_id = pd.NamedAgg(column = 'customer_id', aggfunc = 'nunique'))\n",
    "df_big_q3"
   ]
  },
  {
   "cell_type": "markdown",
   "metadata": {},
   "source": [
    "2004 возвратных и 20 невозвратных: всего 2024 покупателей."
   ]
  },
  {
   "cell_type": "markdown",
   "metadata": {},
   "source": [
    "Проверим статистическую гипотезу: доля возвратных клиентов за второй квартал не отличается от доли возвратных клиентов за третий квартал."
   ]
  },
  {
   "cell_type": "code",
   "execution_count": 141,
   "metadata": {},
   "outputs": [
    {
     "name": "stdout",
     "output_type": "stream",
     "text": [
      "z-statistic: -0.0856782371986956, p-value: 0.9317222027005352\n",
      "Не отвергаем нулевую гипотезу: значимой разницы между долями нет.\n"
     ]
    }
   ],
   "source": [
    "from statsmodels.stats.proportion import proportions_ztest\n",
    "\n",
    "successes = [1852, 2004]\n",
    "attempts = [1871, 2024]\n",
    "\n",
    "alpha = 0.05\n",
    "\n",
    "z_stat, p_value = proportions_ztest(count=successes, nobs=attempts, alternative='two-sided')\n",
    "\n",
    "print(f\"z-statistic: {z_stat}, p-value: {p_value}\")\n",
    "\n",
    "if p_value < alpha:\n",
    "    print(\"Отвергаем нулевую гипотезу: существует значимая разница между долями.\")\n",
    "else:\n",
    "    print(\"Не отвергаем нулевую гипотезу: значимой разницы между долями нет.\") "
   ]
  },
  {
   "cell_type": "markdown",
   "metadata": {},
   "source": [
    "Гипотеза подтвердилась: нет статистических оснований полагать, что доли отличаются."
   ]
  },
  {
   "cell_type": "markdown",
   "metadata": {},
   "source": [
    "Проверим следующую статистическую гипотезу: средние чеки в странах с country_id, равным 3, 6 и 24 не отличаются друг от друга. Так как выборок 3 применим поправку Бонферрони."
   ]
  },
  {
   "cell_type": "code",
   "execution_count": 142,
   "metadata": {},
   "outputs": [
    {
     "name": "stdout",
     "output_type": "stream",
     "text": [
      "T-статистика для стран 3 и 6: -0.27649781006939234, P-значение: 0.7821752350282994\n",
      "T-статистика для выборок 3 и 24: -17.121306899291586, P-значение: 1.2381772226793797e-59\n",
      "T-статистика для выборок 6 и 24: -9.27563243911051, P-значение: 2.5709870612864195e-20\n",
      "Не хватает оснований для отказа от нулевой гипотезы для стран 3 и 6: средние чеки равны.\n",
      "Отвергаем нулевую гипотезу для стран 3 и 24: средние чеки различны.\n",
      "Отвергаем нулевую гипотезу для выборок 6 и 24: средние чеки различны.\n"
     ]
    }
   ],
   "source": [
    "from scipy.stats import ttest_ind\n",
    "\n",
    "# Расчет средней цены заказа\n",
    "df_big['avg_price'] = df_big['total_cost'] / df_big['order_count']\n",
    "\n",
    "df_big_c3 = df_big.query('country_id == 3')\n",
    "df_big_c6 = df_big.query('country_id == 6')\n",
    "df_big_c24 = df_big.query('country_id == 24')\n",
    "\n",
    "sample1 = df_big_c3['avg_price']\n",
    "sample2 = df_big_c6['avg_price']\n",
    "sample3 = df_big_c24['avg_price']\n",
    "\n",
    "alpha = 0.05/3\n",
    "\n",
    "# Выполнение парных t-тестов\n",
    "t_statistic_12, p_value_12 = ttest_ind(sample1, sample2)\n",
    "t_statistic_13, p_value_13 = ttest_ind(sample1, sample3)\n",
    "t_statistic_23, p_value_23 = ttest_ind(sample2, sample3)\n",
    "\n",
    "print(f\"T-статистика для стран 3 и 6: {t_statistic_12}, P-значение: {p_value_12}\")\n",
    "print(f\"T-статистика для выборок 3 и 24: {t_statistic_13}, P-значение: {p_value_13}\")\n",
    "print(f\"T-статистика для выборок 6 и 24: {t_statistic_23}, P-значение: {p_value_23}\")\n",
    "\n",
    "# Проверка гипотез\n",
    "if p_value_12 < alpha:\n",
    "    print(\"Отвергаем нулевую гипотезу для стран 3 и 6: средние чеки различны.\")\n",
    "else:\n",
    "    print(\"Не хватает оснований для отказа от нулевой гипотезы для стран 3 и 6: средние чеки равны.\")\n",
    "\n",
    "if p_value_13 < alpha:\n",
    "    print(\"Отвергаем нулевую гипотезу для стран 3 и 24: средние чеки различны.\")\n",
    "else:\n",
    "    print(\"Не хватает оснований для отказа от нулевой гипотезы для стран 3 и 24: средние чеки равны.\")\n",
    "\n",
    "if p_value_23 < alpha:\n",
    "    print(\"Отвергаем нулевую гипотезу для выборок 6 и 24: средние чеки различны.\")\n",
    "else:\n",
    "    print(\"Не хватает оснований для отказа от нулевой гипотезы для стран 6 и 24: средние чеки равны.\")"
   ]
  },
  {
   "cell_type": "markdown",
   "metadata": {},
   "source": [
    "Гипотеза не подтвердилась: есть статистические основания полагать, что для стран 3 и 24 и для сран 6 и 24 средние чеки отличаются."
   ]
  },
  {
   "cell_type": "markdown",
   "metadata": {},
   "source": [
    "Проверим следующую статистическую гипотезу: в стране с country_id = 1 в среднем покупают больше товаров чем в стране с country_id = 2."
   ]
  },
  {
   "cell_type": "code",
   "execution_count": 143,
   "metadata": {},
   "outputs": [
    {
     "name": "stdout",
     "output_type": "stream",
     "text": [
      "t-statistic: 6.288692980586927, p-value: 7.294072183067263e-10\n",
      "Отвергаем нулевую гипотезу: в стране 1 покупают больше товаров\n"
     ]
    }
   ],
   "source": [
    "df_big_c1 = df_big.query('country_id == 1')\n",
    "df_big_c2 = df_big.query('country_id == 2')\n",
    "\n",
    "sample1 = df_big_c1['order_count']\n",
    "sample2 = df_big_c2['order_count']\n",
    "\n",
    "alpha = 0.05\n",
    "\n",
    "t_stat, p_value = ttest_ind(sample1, sample2, alternative='greater')\n",
    "\n",
    "print(f\"t-statistic: {t_stat}, p-value: {p_value}\")\n",
    "\n",
    "if p_value < alpha:\n",
    "    print(\"Отвергаем нулевую гипотезу: в стране 1 покупают больше товаров\")\n",
    "else:\n",
    "    print(\"Не отвергаем нулевую гипотезу: значимой разницы между странами нет\") "
   ]
  },
  {
   "cell_type": "markdown",
   "metadata": {},
   "source": [
    "Гипотеза подтвердилась."
   ]
  },
  {
   "cell_type": "markdown",
   "metadata": {},
   "source": [
    "##  Шаг 6. Общий вывод"
   ]
  },
  {
   "cell_type": "markdown",
   "metadata": {},
   "source": [
    "Анализ данных магазина «Подарочек» включал исследование метрик, RFM-сегментацию клиентов и проверку статистических гипотез. Не выявлено особых различий в поведении клиентов между вторым и третьим кварталами 2019 года. RFM-сегментация предоставила возможность индивидуализировать взаимодействие с клиентами. Статистические тесты не выявили различий в доле возвратных клиентов, но выявили различия в количестве покупок между странами и среднем чеке."
   ]
  }
 ],
 "metadata": {
  "ExecuteTimeLog": [
   {
    "duration": 393,
    "start_time": "2025-01-12T11:26:41.555Z"
   },
   {
    "duration": 378,
    "start_time": "2025-01-12T11:27:28.894Z"
   },
   {
    "duration": 300,
    "start_time": "2025-01-12T11:27:53.906Z"
   },
   {
    "duration": 264,
    "start_time": "2025-01-12T11:28:09.810Z"
   },
   {
    "duration": 242,
    "start_time": "2025-01-12T11:28:18.769Z"
   },
   {
    "duration": 14,
    "start_time": "2025-01-12T11:28:40.980Z"
   },
   {
    "duration": 8,
    "start_time": "2025-01-12T11:28:55.463Z"
   },
   {
    "duration": 27,
    "start_time": "2025-01-12T11:29:00.657Z"
   },
   {
    "duration": 21,
    "start_time": "2025-01-12T11:32:23.603Z"
   },
   {
    "duration": 8,
    "start_time": "2025-01-12T11:34:51.504Z"
   },
   {
    "duration": 8,
    "start_time": "2025-01-12T11:35:24.922Z"
   },
   {
    "duration": 1633,
    "start_time": "2025-01-12T11:37:47.382Z"
   },
   {
    "duration": 97,
    "start_time": "2025-01-12T11:38:04.761Z"
   },
   {
    "duration": 101,
    "start_time": "2025-01-12T11:41:32.010Z"
   },
   {
    "duration": 7,
    "start_time": "2025-01-12T11:41:41.363Z"
   },
   {
    "duration": 26,
    "start_time": "2025-01-12T11:41:45.954Z"
   },
   {
    "duration": 44,
    "start_time": "2025-01-12T11:46:07.637Z"
   },
   {
    "duration": 1673,
    "start_time": "2025-01-12T11:47:34.178Z"
   },
   {
    "duration": 59,
    "start_time": "2025-01-12T11:52:06.024Z"
   },
   {
    "duration": 41,
    "start_time": "2025-01-12T11:52:30.088Z"
   },
   {
    "duration": 54,
    "start_time": "2025-01-12T11:52:56.413Z"
   },
   {
    "duration": 50,
    "start_time": "2025-01-12T11:53:13.757Z"
   },
   {
    "duration": 52,
    "start_time": "2025-01-12T11:53:30.603Z"
   },
   {
    "duration": 56,
    "start_time": "2025-01-12T11:54:19.833Z"
   },
   {
    "duration": 100,
    "start_time": "2025-01-12T11:54:44.819Z"
   },
   {
    "duration": 52,
    "start_time": "2025-01-12T11:54:47.103Z"
   },
   {
    "duration": 104,
    "start_time": "2025-01-12T11:55:06.800Z"
   },
   {
    "duration": 53,
    "start_time": "2025-01-12T11:55:12.724Z"
   },
   {
    "duration": 10,
    "start_time": "2025-01-12T11:57:45.020Z"
   },
   {
    "duration": 57,
    "start_time": "2025-01-12T12:00:04.575Z"
   },
   {
    "duration": 10,
    "start_time": "2025-01-12T12:01:06.327Z"
   },
   {
    "duration": 12,
    "start_time": "2025-01-12T12:04:37.425Z"
   },
   {
    "duration": 6,
    "start_time": "2025-01-12T12:05:21.180Z"
   },
   {
    "duration": 14,
    "start_time": "2025-01-12T12:05:47.302Z"
   },
   {
    "duration": 8,
    "start_time": "2025-01-12T12:06:30.105Z"
   },
   {
    "duration": 7,
    "start_time": "2025-01-12T12:06:57.338Z"
   },
   {
    "duration": 11,
    "start_time": "2025-01-12T12:16:13.248Z"
   },
   {
    "duration": 70,
    "start_time": "2025-01-12T12:16:34.803Z"
   },
   {
    "duration": 71,
    "start_time": "2025-01-12T12:16:48.241Z"
   },
   {
    "duration": 61,
    "start_time": "2025-01-12T12:16:53.865Z"
   },
   {
    "duration": 67,
    "start_time": "2025-01-12T12:17:06.166Z"
   },
   {
    "duration": 56,
    "start_time": "2025-01-12T12:17:31.602Z"
   },
   {
    "duration": 44,
    "start_time": "2025-01-12T12:17:45.243Z"
   },
   {
    "duration": 152,
    "start_time": "2025-01-12T12:18:46.071Z"
   },
   {
    "duration": 48,
    "start_time": "2025-01-12T12:20:46.163Z"
   },
   {
    "duration": 41,
    "start_time": "2025-01-12T12:20:50.414Z"
   },
   {
    "duration": 117,
    "start_time": "2025-01-12T12:20:55.634Z"
   },
   {
    "duration": 116,
    "start_time": "2025-01-12T12:26:53.076Z"
   },
   {
    "duration": 212,
    "start_time": "2025-01-12T12:27:01.471Z"
   },
   {
    "duration": 112,
    "start_time": "2025-01-12T12:27:14.238Z"
   },
   {
    "duration": 38,
    "start_time": "2025-01-12T12:29:07.422Z"
   },
   {
    "duration": 16,
    "start_time": "2025-01-12T12:29:55.246Z"
   },
   {
    "duration": 15,
    "start_time": "2025-01-12T12:29:59.767Z"
   },
   {
    "duration": 38,
    "start_time": "2025-01-12T12:30:45.675Z"
   },
   {
    "duration": 50,
    "start_time": "2025-01-12T12:33:19.425Z"
   },
   {
    "duration": 55,
    "start_time": "2025-01-12T12:33:29.679Z"
   },
   {
    "duration": 89,
    "start_time": "2025-01-12T12:33:33.437Z"
   },
   {
    "duration": 53,
    "start_time": "2025-01-12T12:33:39.414Z"
   },
   {
    "duration": 133,
    "start_time": "2025-01-12T12:36:36.061Z"
   },
   {
    "duration": 2,
    "start_time": "2025-01-12T12:37:04.060Z"
   },
   {
    "duration": 217,
    "start_time": "2025-01-12T12:37:04.065Z"
   },
   {
    "duration": 246,
    "start_time": "2025-01-12T12:37:04.284Z"
   },
   {
    "duration": 14,
    "start_time": "2025-01-12T12:37:04.532Z"
   },
   {
    "duration": 28,
    "start_time": "2025-01-12T12:37:04.548Z"
   },
   {
    "duration": 23,
    "start_time": "2025-01-12T12:37:04.578Z"
   },
   {
    "duration": 84,
    "start_time": "2025-01-12T12:37:04.629Z"
   },
   {
    "duration": 94,
    "start_time": "2025-01-12T12:37:04.715Z"
   },
   {
    "duration": 24,
    "start_time": "2025-01-12T12:37:04.811Z"
   },
   {
    "duration": 13,
    "start_time": "2025-01-12T12:37:04.837Z"
   },
   {
    "duration": 15,
    "start_time": "2025-01-12T12:37:04.852Z"
   },
   {
    "duration": 69,
    "start_time": "2025-01-12T12:37:04.869Z"
   },
   {
    "duration": 43,
    "start_time": "2025-01-12T12:37:04.940Z"
   },
   {
    "duration": 112,
    "start_time": "2025-01-12T12:37:04.986Z"
   },
   {
    "duration": 56,
    "start_time": "2025-01-12T12:37:05.100Z"
   },
   {
    "duration": 128,
    "start_time": "2025-01-12T12:37:05.158Z"
   },
   {
    "duration": 136,
    "start_time": "2025-01-12T12:37:05.288Z"
   },
   {
    "duration": 34,
    "start_time": "2025-01-12T12:45:45.081Z"
   },
   {
    "duration": 88,
    "start_time": "2025-01-12T12:49:17.081Z"
   },
   {
    "duration": 987,
    "start_time": "2025-01-12T12:49:58.506Z"
   },
   {
    "duration": 38,
    "start_time": "2025-01-12T12:50:15.476Z"
   },
   {
    "duration": 190,
    "start_time": "2025-01-12T12:51:01.503Z"
   },
   {
    "duration": 201,
    "start_time": "2025-01-12T13:58:41.729Z"
   },
   {
    "duration": 51,
    "start_time": "2025-01-12T14:05:20.086Z"
   },
   {
    "duration": 374,
    "start_time": "2025-01-12T14:05:24.180Z"
   },
   {
    "duration": 372,
    "start_time": "2025-01-12T14:05:24.556Z"
   },
   {
    "duration": 57,
    "start_time": "2025-01-12T14:05:24.930Z"
   },
   {
    "duration": 15,
    "start_time": "2025-01-12T14:05:24.988Z"
   },
   {
    "duration": 33,
    "start_time": "2025-01-12T14:05:25.005Z"
   },
   {
    "duration": 24,
    "start_time": "2025-01-12T14:05:25.040Z"
   },
   {
    "duration": 147,
    "start_time": "2025-01-12T14:05:25.065Z"
   },
   {
    "duration": 140,
    "start_time": "2025-01-12T14:05:25.214Z"
   },
   {
    "duration": 11,
    "start_time": "2025-01-12T14:05:25.355Z"
   },
   {
    "duration": 76,
    "start_time": "2025-01-12T14:05:25.368Z"
   },
   {
    "duration": 8,
    "start_time": "2025-01-12T14:05:25.446Z"
   },
   {
    "duration": 62,
    "start_time": "2025-01-12T14:05:25.456Z"
   },
   {
    "duration": 44,
    "start_time": "2025-01-12T14:05:25.531Z"
   },
   {
    "duration": 55,
    "start_time": "2025-01-12T14:05:25.578Z"
   },
   {
    "duration": 71,
    "start_time": "2025-01-12T14:05:25.635Z"
   },
   {
    "duration": 173,
    "start_time": "2025-01-12T14:05:25.708Z"
   },
   {
    "duration": 34,
    "start_time": "2025-01-12T14:05:25.883Z"
   },
   {
    "duration": 816,
    "start_time": "2025-01-12T14:05:25.929Z"
   },
   {
    "duration": 197,
    "start_time": "2025-01-12T14:05:26.747Z"
   },
   {
    "duration": 48,
    "start_time": "2025-01-12T14:08:18.960Z"
   },
   {
    "duration": 411,
    "start_time": "2025-01-12T14:08:22.299Z"
   },
   {
    "duration": 378,
    "start_time": "2025-01-12T14:08:23.997Z"
   },
   {
    "duration": 97,
    "start_time": "2025-01-12T14:08:27.415Z"
   },
   {
    "duration": 17,
    "start_time": "2025-01-12T14:08:29.855Z"
   },
   {
    "duration": 33,
    "start_time": "2025-01-12T14:08:31.493Z"
   },
   {
    "duration": 24,
    "start_time": "2025-01-12T14:08:35.354Z"
   },
   {
    "duration": 130,
    "start_time": "2025-01-12T14:08:39.631Z"
   },
   {
    "duration": 132,
    "start_time": "2025-01-12T14:08:42.967Z"
   },
   {
    "duration": 12,
    "start_time": "2025-01-12T14:08:45.251Z"
   },
   {
    "duration": 14,
    "start_time": "2025-01-12T14:08:47.466Z"
   },
   {
    "duration": 9,
    "start_time": "2025-01-12T14:08:50.100Z"
   },
   {
    "duration": 69,
    "start_time": "2025-01-12T14:08:52.371Z"
   },
   {
    "duration": 42,
    "start_time": "2025-01-12T14:08:55.230Z"
   },
   {
    "duration": 48,
    "start_time": "2025-01-12T14:09:01.960Z"
   },
   {
    "duration": 69,
    "start_time": "2025-01-12T14:09:06.413Z"
   },
   {
    "duration": 125,
    "start_time": "2025-01-12T14:09:09.180Z"
   },
   {
    "duration": 36,
    "start_time": "2025-01-12T14:09:12.484Z"
   },
   {
    "duration": 1868,
    "start_time": "2025-01-12T14:09:15.895Z"
   },
   {
    "duration": 185,
    "start_time": "2025-01-12T14:09:18.106Z"
   },
   {
    "duration": 1629,
    "start_time": "2025-01-12T14:13:29.722Z"
   },
   {
    "duration": 1414,
    "start_time": "2025-01-12T14:13:33.760Z"
   },
   {
    "duration": 40,
    "start_time": "2025-01-12T14:13:55.267Z"
   },
   {
    "duration": 143,
    "start_time": "2025-01-12T14:14:13.452Z"
   },
   {
    "duration": 41,
    "start_time": "2025-01-12T14:14:44.804Z"
   },
   {
    "duration": 154,
    "start_time": "2025-01-12T14:14:46.882Z"
   },
   {
    "duration": 47,
    "start_time": "2025-01-12T14:15:11.945Z"
   },
   {
    "duration": 185,
    "start_time": "2025-01-12T14:15:13.525Z"
   },
   {
    "duration": 41,
    "start_time": "2025-01-12T14:15:29.929Z"
   },
   {
    "duration": 127,
    "start_time": "2025-01-12T14:15:34.024Z"
   },
   {
    "duration": 42,
    "start_time": "2025-01-12T14:15:40.913Z"
   },
   {
    "duration": 158,
    "start_time": "2025-01-12T14:15:42.760Z"
   },
   {
    "duration": 38,
    "start_time": "2025-01-12T14:15:53.533Z"
   },
   {
    "duration": 44,
    "start_time": "2025-01-12T14:16:10.839Z"
   },
   {
    "duration": 190,
    "start_time": "2025-01-12T14:16:12.796Z"
   },
   {
    "duration": 47,
    "start_time": "2025-01-12T14:16:24.427Z"
   },
   {
    "duration": 149,
    "start_time": "2025-01-12T14:16:26.110Z"
   },
   {
    "duration": 39,
    "start_time": "2025-01-12T14:17:28.680Z"
   },
   {
    "duration": 41,
    "start_time": "2025-01-12T14:17:35.589Z"
   },
   {
    "duration": 42,
    "start_time": "2025-01-12T14:17:45.814Z"
   },
   {
    "duration": 63,
    "start_time": "2025-01-12T14:17:51.987Z"
   },
   {
    "duration": 183,
    "start_time": "2025-01-12T14:17:57.037Z"
   },
   {
    "duration": 289,
    "start_time": "2025-01-12T14:20:32.058Z"
   },
   {
    "duration": 35,
    "start_time": "2025-01-12T14:21:53.952Z"
   },
   {
    "duration": 44,
    "start_time": "2025-01-12T14:22:40.830Z"
   },
   {
    "duration": 186,
    "start_time": "2025-01-12T14:22:50.197Z"
   },
   {
    "duration": 3,
    "start_time": "2025-01-12T14:23:45.760Z"
   },
   {
    "duration": 225,
    "start_time": "2025-01-12T14:23:45.765Z"
   },
   {
    "duration": 50,
    "start_time": "2025-01-12T14:23:45.992Z"
   },
   {
    "duration": 17,
    "start_time": "2025-01-12T14:23:46.045Z"
   },
   {
    "duration": 37,
    "start_time": "2025-01-12T14:23:46.064Z"
   },
   {
    "duration": 45,
    "start_time": "2025-01-12T14:23:46.103Z"
   },
   {
    "duration": 113,
    "start_time": "2025-01-12T14:23:46.150Z"
   },
   {
    "duration": 102,
    "start_time": "2025-01-12T14:23:46.265Z"
   },
   {
    "duration": 11,
    "start_time": "2025-01-12T14:23:46.368Z"
   },
   {
    "duration": 37,
    "start_time": "2025-01-12T14:23:46.381Z"
   },
   {
    "duration": 17,
    "start_time": "2025-01-12T14:23:46.420Z"
   },
   {
    "duration": 60,
    "start_time": "2025-01-12T14:23:46.439Z"
   },
   {
    "duration": 41,
    "start_time": "2025-01-12T14:23:46.500Z"
   },
   {
    "duration": 37,
    "start_time": "2025-01-12T14:23:46.543Z"
   },
   {
    "duration": 68,
    "start_time": "2025-01-12T14:23:46.582Z"
   },
   {
    "duration": 123,
    "start_time": "2025-01-12T14:23:46.651Z"
   },
   {
    "duration": 34,
    "start_time": "2025-01-12T14:23:46.775Z"
   },
   {
    "duration": 2,
    "start_time": "2025-01-12T14:23:46.811Z"
   },
   {
    "duration": 185,
    "start_time": "2025-01-12T14:23:46.831Z"
   },
   {
    "duration": 196,
    "start_time": "2025-01-12T14:23:47.017Z"
   },
   {
    "duration": 54,
    "start_time": "2025-01-12T14:23:47.215Z"
   },
   {
    "duration": 195,
    "start_time": "2025-01-12T14:23:47.270Z"
   },
   {
    "duration": 19,
    "start_time": "2025-01-12T14:26:10.527Z"
   },
   {
    "duration": 51,
    "start_time": "2025-01-12T14:26:24.974Z"
   },
   {
    "duration": 54,
    "start_time": "2025-01-12T14:26:30.106Z"
   },
   {
    "duration": 190,
    "start_time": "2025-01-12T14:26:42.291Z"
   },
   {
    "duration": 201,
    "start_time": "2025-01-12T14:27:04.931Z"
   },
   {
    "duration": 235,
    "start_time": "2025-01-12T14:27:35.967Z"
   },
   {
    "duration": 185,
    "start_time": "2025-01-12T14:27:46.565Z"
   },
   {
    "duration": 44,
    "start_time": "2025-01-12T14:27:55.770Z"
   },
   {
    "duration": 175,
    "start_time": "2025-01-12T14:27:58.772Z"
   },
   {
    "duration": 156,
    "start_time": "2025-01-12T14:28:03.899Z"
   },
   {
    "duration": 49,
    "start_time": "2025-01-12T14:28:28.564Z"
   },
   {
    "duration": 267,
    "start_time": "2025-01-12T14:28:30.631Z"
   },
   {
    "duration": 197,
    "start_time": "2025-01-12T14:28:33.620Z"
   },
   {
    "duration": 43,
    "start_time": "2025-01-12T14:28:42.898Z"
   },
   {
    "duration": 172,
    "start_time": "2025-01-12T14:28:46.664Z"
   },
   {
    "duration": 48,
    "start_time": "2025-01-12T14:28:53.143Z"
   },
   {
    "duration": 197,
    "start_time": "2025-01-12T14:28:55.358Z"
   },
   {
    "duration": 151,
    "start_time": "2025-01-12T14:28:57.129Z"
   },
   {
    "duration": 55,
    "start_time": "2025-01-12T14:29:20.757Z"
   },
   {
    "duration": 181,
    "start_time": "2025-01-12T14:29:22.308Z"
   },
   {
    "duration": 196,
    "start_time": "2025-01-12T14:29:24.411Z"
   },
   {
    "duration": 14,
    "start_time": "2025-01-12T14:33:20.572Z"
   },
   {
    "duration": 13,
    "start_time": "2025-01-12T14:34:01.361Z"
   },
   {
    "duration": 12,
    "start_time": "2025-01-12T14:35:50.439Z"
   },
   {
    "duration": 14,
    "start_time": "2025-01-12T14:42:19.396Z"
   },
   {
    "duration": 5,
    "start_time": "2025-01-12T14:42:39.869Z"
   },
   {
    "duration": 7,
    "start_time": "2025-01-12T14:44:06.805Z"
   },
   {
    "duration": 7,
    "start_time": "2025-01-12T14:44:09.127Z"
   },
   {
    "duration": 19,
    "start_time": "2025-01-12T14:44:15.390Z"
   },
   {
    "duration": 7,
    "start_time": "2025-01-12T14:46:50.451Z"
   },
   {
    "duration": 7,
    "start_time": "2025-01-12T14:46:53.328Z"
   },
   {
    "duration": 202,
    "start_time": "2025-01-12T14:48:48.160Z"
   },
   {
    "duration": 222,
    "start_time": "2025-01-12T14:51:59.174Z"
   },
   {
    "duration": 203,
    "start_time": "2025-01-12T14:52:06.924Z"
   },
   {
    "duration": 157,
    "start_time": "2025-01-12T14:52:19.143Z"
   },
   {
    "duration": 172,
    "start_time": "2025-01-12T14:52:33.093Z"
   },
   {
    "duration": 3,
    "start_time": "2025-01-12T14:53:05.118Z"
   },
   {
    "duration": 4,
    "start_time": "2025-01-12T14:53:06.947Z"
   },
   {
    "duration": 246,
    "start_time": "2025-01-12T14:53:34.319Z"
   },
   {
    "duration": 165,
    "start_time": "2025-01-12T14:53:43.991Z"
   },
   {
    "duration": 158,
    "start_time": "2025-01-12T14:53:49.405Z"
   },
   {
    "duration": 162,
    "start_time": "2025-01-12T14:53:52.453Z"
   },
   {
    "duration": 14,
    "start_time": "2025-01-12T14:54:03.026Z"
   },
   {
    "duration": 156,
    "start_time": "2025-01-12T14:54:04.378Z"
   },
   {
    "duration": 4,
    "start_time": "2025-01-12T14:54:13.026Z"
   },
   {
    "duration": 151,
    "start_time": "2025-01-12T14:54:14.271Z"
   },
   {
    "duration": 3,
    "start_time": "2025-01-12T14:55:15.648Z"
   },
   {
    "duration": 216,
    "start_time": "2025-01-12T14:55:15.653Z"
   },
   {
    "duration": 46,
    "start_time": "2025-01-12T14:55:15.871Z"
   },
   {
    "duration": 62,
    "start_time": "2025-01-12T14:55:15.918Z"
   },
   {
    "duration": 29,
    "start_time": "2025-01-12T14:55:15.983Z"
   },
   {
    "duration": 36,
    "start_time": "2025-01-12T14:55:16.015Z"
   },
   {
    "duration": 98,
    "start_time": "2025-01-12T14:55:16.054Z"
   },
   {
    "duration": 88,
    "start_time": "2025-01-12T14:55:16.154Z"
   },
   {
    "duration": 10,
    "start_time": "2025-01-12T14:55:16.244Z"
   },
   {
    "duration": 13,
    "start_time": "2025-01-12T14:55:16.255Z"
   },
   {
    "duration": 7,
    "start_time": "2025-01-12T14:55:16.270Z"
   },
   {
    "duration": 64,
    "start_time": "2025-01-12T14:55:16.279Z"
   },
   {
    "duration": 41,
    "start_time": "2025-01-12T14:55:16.345Z"
   },
   {
    "duration": 54,
    "start_time": "2025-01-12T14:55:16.388Z"
   },
   {
    "duration": 60,
    "start_time": "2025-01-12T14:55:16.443Z"
   },
   {
    "duration": 139,
    "start_time": "2025-01-12T14:55:16.505Z"
   },
   {
    "duration": 32,
    "start_time": "2025-01-12T14:55:16.646Z"
   },
   {
    "duration": 2,
    "start_time": "2025-01-12T14:55:16.680Z"
   },
   {
    "duration": 196,
    "start_time": "2025-01-12T14:55:16.684Z"
   },
   {
    "duration": 210,
    "start_time": "2025-01-12T14:55:16.882Z"
   },
   {
    "duration": 61,
    "start_time": "2025-01-12T14:55:17.093Z"
   },
   {
    "duration": 198,
    "start_time": "2025-01-12T14:55:17.156Z"
   },
   {
    "duration": 201,
    "start_time": "2025-01-12T14:55:17.356Z"
   },
   {
    "duration": 12,
    "start_time": "2025-01-12T14:55:17.559Z"
   },
   {
    "duration": 53,
    "start_time": "2025-01-12T14:55:17.572Z"
   },
   {
    "duration": 182,
    "start_time": "2025-01-12T14:55:17.627Z"
   },
   {
    "duration": 33,
    "start_time": "2025-01-12T14:55:32.738Z"
   },
   {
    "duration": 2110,
    "start_time": "2025-01-12T14:56:22.301Z"
   },
   {
    "duration": 6,
    "start_time": "2025-01-12T14:56:54.547Z"
   },
   {
    "duration": 6,
    "start_time": "2025-01-12T14:56:56.080Z"
   },
   {
    "duration": 267,
    "start_time": "2025-01-12T14:56:57.452Z"
   },
   {
    "duration": 1963,
    "start_time": "2025-01-12T14:57:02.874Z"
   },
   {
    "duration": 1171,
    "start_time": "2025-01-12T14:57:18.563Z"
   },
   {
    "duration": 14,
    "start_time": "2025-01-12T14:57:37.952Z"
   },
   {
    "duration": 104,
    "start_time": "2025-01-12T14:57:53.433Z"
   },
   {
    "duration": 5,
    "start_time": "2025-01-12T14:57:55.711Z"
   },
   {
    "duration": 6,
    "start_time": "2025-01-12T15:00:10.984Z"
   },
   {
    "duration": 6,
    "start_time": "2025-01-12T15:00:18.825Z"
   },
   {
    "duration": 93,
    "start_time": "2025-01-12T15:00:49.436Z"
   },
   {
    "duration": 6,
    "start_time": "2025-01-12T15:00:52.425Z"
   },
   {
    "duration": 9,
    "start_time": "2025-01-12T15:01:15.157Z"
   },
   {
    "duration": 6,
    "start_time": "2025-01-12T15:02:14.192Z"
   },
   {
    "duration": 11,
    "start_time": "2025-01-12T15:02:17.996Z"
   },
   {
    "duration": 7,
    "start_time": "2025-01-12T15:02:21.502Z"
   },
   {
    "duration": 6,
    "start_time": "2025-01-12T15:02:25.854Z"
   },
   {
    "duration": 45,
    "start_time": "2025-01-12T15:12:02.369Z"
   },
   {
    "duration": 409,
    "start_time": "2025-01-12T15:12:26.534Z"
   },
   {
    "duration": 48,
    "start_time": "2025-01-12T15:12:38.928Z"
   },
   {
    "duration": 44,
    "start_time": "2025-01-12T15:13:05.549Z"
   },
   {
    "duration": 17,
    "start_time": "2025-01-12T15:15:03.130Z"
   },
   {
    "duration": 19,
    "start_time": "2025-01-12T15:15:18.327Z"
   },
   {
    "duration": 45,
    "start_time": "2025-01-12T15:16:15.509Z"
   },
   {
    "duration": 10,
    "start_time": "2025-01-12T15:16:40.082Z"
   },
   {
    "duration": 50,
    "start_time": "2025-01-12T15:20:34.264Z"
   },
   {
    "duration": 6,
    "start_time": "2025-01-12T15:24:59.317Z"
   },
   {
    "duration": 7,
    "start_time": "2025-01-12T15:26:04.147Z"
   },
   {
    "duration": 4,
    "start_time": "2025-01-12T15:26:10.253Z"
   },
   {
    "duration": 15,
    "start_time": "2025-01-12T15:31:30.178Z"
   },
   {
    "duration": 20,
    "start_time": "2025-01-12T15:31:49.854Z"
   },
   {
    "duration": 7,
    "start_time": "2025-01-12T15:31:51.609Z"
   },
   {
    "duration": 14,
    "start_time": "2025-01-12T15:31:57.228Z"
   },
   {
    "duration": 1401,
    "start_time": "2025-01-12T15:32:10.849Z"
   },
   {
    "duration": 18,
    "start_time": "2025-01-12T15:32:32.348Z"
   },
   {
    "duration": 182,
    "start_time": "2025-01-12T15:32:57.302Z"
   },
   {
    "duration": 215,
    "start_time": "2025-01-12T15:33:54.769Z"
   },
   {
    "duration": 180,
    "start_time": "2025-01-12T15:34:05.205Z"
   },
   {
    "duration": 191,
    "start_time": "2025-01-12T15:34:13.293Z"
   },
   {
    "duration": 15,
    "start_time": "2025-01-12T15:34:23.652Z"
   },
   {
    "duration": 159,
    "start_time": "2025-01-12T15:35:05.894Z"
   },
   {
    "duration": 14,
    "start_time": "2025-01-12T15:35:08.515Z"
   },
   {
    "duration": 282,
    "start_time": "2025-01-12T15:35:15.917Z"
   },
   {
    "duration": 68,
    "start_time": "2025-01-12T15:35:23.230Z"
   },
   {
    "duration": 186,
    "start_time": "2025-01-12T15:35:31.011Z"
   },
   {
    "duration": 3,
    "start_time": "2025-01-12T15:35:34.367Z"
   },
   {
    "duration": 229,
    "start_time": "2025-01-12T15:35:34.371Z"
   },
   {
    "duration": 94,
    "start_time": "2025-01-12T15:35:34.601Z"
   },
   {
    "duration": 9,
    "start_time": "2025-01-12T15:35:34.697Z"
   },
   {
    "duration": 26,
    "start_time": "2025-01-12T15:35:34.708Z"
   },
   {
    "duration": 23,
    "start_time": "2025-01-12T15:35:34.736Z"
   },
   {
    "duration": 91,
    "start_time": "2025-01-12T15:35:34.760Z"
   },
   {
    "duration": 95,
    "start_time": "2025-01-12T15:35:34.853Z"
   },
   {
    "duration": 10,
    "start_time": "2025-01-12T15:35:34.951Z"
   },
   {
    "duration": 11,
    "start_time": "2025-01-12T15:35:34.963Z"
   },
   {
    "duration": 12,
    "start_time": "2025-01-12T15:35:34.976Z"
   },
   {
    "duration": 65,
    "start_time": "2025-01-12T15:35:34.990Z"
   },
   {
    "duration": 40,
    "start_time": "2025-01-12T15:35:35.057Z"
   },
   {
    "duration": 52,
    "start_time": "2025-01-12T15:35:35.099Z"
   },
   {
    "duration": 55,
    "start_time": "2025-01-12T15:35:35.152Z"
   },
   {
    "duration": 132,
    "start_time": "2025-01-12T15:35:35.209Z"
   },
   {
    "duration": 32,
    "start_time": "2025-01-12T15:35:35.343Z"
   },
   {
    "duration": 2,
    "start_time": "2025-01-12T15:35:35.377Z"
   },
   {
    "duration": 191,
    "start_time": "2025-01-12T15:35:35.381Z"
   },
   {
    "duration": 197,
    "start_time": "2025-01-12T15:35:35.574Z"
   },
   {
    "duration": 58,
    "start_time": "2025-01-12T15:35:35.773Z"
   },
   {
    "duration": 203,
    "start_time": "2025-01-12T15:35:35.832Z"
   },
   {
    "duration": 212,
    "start_time": "2025-01-12T15:35:36.037Z"
   },
   {
    "duration": 12,
    "start_time": "2025-01-12T15:35:36.252Z"
   },
   {
    "duration": 5,
    "start_time": "2025-01-12T15:35:36.266Z"
   },
   {
    "duration": 188,
    "start_time": "2025-01-12T15:35:36.273Z"
   },
   {
    "duration": 26,
    "start_time": "2025-01-12T15:35:36.463Z"
   },
   {
    "duration": 1117,
    "start_time": "2025-01-12T15:35:36.491Z"
   },
   {
    "duration": 8,
    "start_time": "2025-01-12T15:35:37.609Z"
   },
   {
    "duration": 140,
    "start_time": "2025-01-12T15:36:14.120Z"
   },
   {
    "duration": 3,
    "start_time": "2025-01-12T15:36:18.822Z"
   },
   {
    "duration": 224,
    "start_time": "2025-01-12T15:36:18.826Z"
   },
   {
    "duration": 53,
    "start_time": "2025-01-12T15:36:19.053Z"
   },
   {
    "duration": 10,
    "start_time": "2025-01-12T15:36:19.108Z"
   },
   {
    "duration": 29,
    "start_time": "2025-01-12T15:36:19.121Z"
   },
   {
    "duration": 23,
    "start_time": "2025-01-12T15:36:19.151Z"
   },
   {
    "duration": 94,
    "start_time": "2025-01-12T15:36:19.175Z"
   },
   {
    "duration": 89,
    "start_time": "2025-01-12T15:36:19.270Z"
   },
   {
    "duration": 11,
    "start_time": "2025-01-12T15:36:19.361Z"
   },
   {
    "duration": 16,
    "start_time": "2025-01-12T15:36:19.374Z"
   },
   {
    "duration": 8,
    "start_time": "2025-01-12T15:36:19.391Z"
   },
   {
    "duration": 71,
    "start_time": "2025-01-12T15:36:19.400Z"
   },
   {
    "duration": 45,
    "start_time": "2025-01-12T15:36:19.472Z"
   },
   {
    "duration": 39,
    "start_time": "2025-01-12T15:36:19.532Z"
   },
   {
    "duration": 73,
    "start_time": "2025-01-12T15:36:19.572Z"
   },
   {
    "duration": 155,
    "start_time": "2025-01-12T15:36:19.647Z"
   },
   {
    "duration": 42,
    "start_time": "2025-01-12T15:36:19.804Z"
   },
   {
    "duration": 4,
    "start_time": "2025-01-12T15:36:19.847Z"
   },
   {
    "duration": 203,
    "start_time": "2025-01-12T15:36:19.852Z"
   },
   {
    "duration": 198,
    "start_time": "2025-01-12T15:36:20.057Z"
   },
   {
    "duration": 51,
    "start_time": "2025-01-12T15:36:20.257Z"
   },
   {
    "duration": 203,
    "start_time": "2025-01-12T15:36:20.309Z"
   },
   {
    "duration": 294,
    "start_time": "2025-01-12T15:36:20.514Z"
   },
   {
    "duration": 5,
    "start_time": "2025-01-12T15:36:20.810Z"
   },
   {
    "duration": 204,
    "start_time": "2025-01-12T15:36:20.817Z"
   },
   {
    "duration": 30,
    "start_time": "2025-01-12T15:36:21.023Z"
   },
   {
    "duration": 1263,
    "start_time": "2025-01-12T15:36:21.055Z"
   },
   {
    "duration": 15,
    "start_time": "2025-01-12T15:36:22.320Z"
   },
   {
    "duration": 58,
    "start_time": "2025-01-12T15:37:20.398Z"
   },
   {
    "duration": 2,
    "start_time": "2025-01-12T15:37:24.630Z"
   },
   {
    "duration": 217,
    "start_time": "2025-01-12T15:37:24.634Z"
   },
   {
    "duration": 56,
    "start_time": "2025-01-12T15:37:24.852Z"
   },
   {
    "duration": 9,
    "start_time": "2025-01-12T15:37:24.911Z"
   },
   {
    "duration": 27,
    "start_time": "2025-01-12T15:37:24.922Z"
   },
   {
    "duration": 23,
    "start_time": "2025-01-12T15:37:24.951Z"
   },
   {
    "duration": 107,
    "start_time": "2025-01-12T15:37:24.975Z"
   },
   {
    "duration": 95,
    "start_time": "2025-01-12T15:37:25.084Z"
   },
   {
    "duration": 10,
    "start_time": "2025-01-12T15:37:25.182Z"
   },
   {
    "duration": 14,
    "start_time": "2025-01-12T15:37:25.194Z"
   },
   {
    "duration": 21,
    "start_time": "2025-01-12T15:37:25.210Z"
   },
   {
    "duration": 45,
    "start_time": "2025-01-12T15:37:25.233Z"
   },
   {
    "duration": 58,
    "start_time": "2025-01-12T15:37:25.280Z"
   },
   {
    "duration": 38,
    "start_time": "2025-01-12T15:37:25.340Z"
   },
   {
    "duration": 75,
    "start_time": "2025-01-12T15:37:25.380Z"
   },
   {
    "duration": 138,
    "start_time": "2025-01-12T15:37:25.456Z"
   },
   {
    "duration": 38,
    "start_time": "2025-01-12T15:37:25.596Z"
   },
   {
    "duration": 6,
    "start_time": "2025-01-12T15:37:25.636Z"
   },
   {
    "duration": 188,
    "start_time": "2025-01-12T15:37:25.644Z"
   },
   {
    "duration": 206,
    "start_time": "2025-01-12T15:37:25.834Z"
   },
   {
    "duration": 90,
    "start_time": "2025-01-12T15:37:26.043Z"
   },
   {
    "duration": 198,
    "start_time": "2025-01-12T15:37:26.135Z"
   },
   {
    "duration": 198,
    "start_time": "2025-01-12T15:37:26.335Z"
   },
   {
    "duration": 5,
    "start_time": "2025-01-12T15:37:26.536Z"
   },
   {
    "duration": 199,
    "start_time": "2025-01-12T15:37:26.542Z"
   },
   {
    "duration": 27,
    "start_time": "2025-01-12T15:37:26.743Z"
   },
   {
    "duration": 0,
    "start_time": "2025-01-12T15:37:26.772Z"
   },
   {
    "duration": 0,
    "start_time": "2025-01-12T15:37:26.773Z"
   },
   {
    "duration": 59,
    "start_time": "2025-01-12T15:37:46.346Z"
   },
   {
    "duration": 3,
    "start_time": "2025-01-12T15:37:54.864Z"
   },
   {
    "duration": 218,
    "start_time": "2025-01-12T15:37:54.870Z"
   },
   {
    "duration": 57,
    "start_time": "2025-01-12T15:37:55.089Z"
   },
   {
    "duration": 10,
    "start_time": "2025-01-12T15:37:55.148Z"
   },
   {
    "duration": 41,
    "start_time": "2025-01-12T15:37:55.161Z"
   },
   {
    "duration": 39,
    "start_time": "2025-01-12T15:37:55.204Z"
   },
   {
    "duration": 91,
    "start_time": "2025-01-12T15:37:55.244Z"
   },
   {
    "duration": 96,
    "start_time": "2025-01-12T15:37:55.337Z"
   },
   {
    "duration": 11,
    "start_time": "2025-01-12T15:37:55.435Z"
   },
   {
    "duration": 15,
    "start_time": "2025-01-12T15:37:55.448Z"
   },
   {
    "duration": 13,
    "start_time": "2025-01-12T15:37:55.465Z"
   },
   {
    "duration": 70,
    "start_time": "2025-01-12T15:37:55.480Z"
   },
   {
    "duration": 45,
    "start_time": "2025-01-12T15:37:55.551Z"
   },
   {
    "duration": 56,
    "start_time": "2025-01-12T15:37:55.599Z"
   },
   {
    "duration": 109,
    "start_time": "2025-01-12T15:37:55.657Z"
   },
   {
    "duration": 148,
    "start_time": "2025-01-12T15:37:55.768Z"
   },
   {
    "duration": 38,
    "start_time": "2025-01-12T15:37:55.918Z"
   },
   {
    "duration": 3,
    "start_time": "2025-01-12T15:37:55.958Z"
   },
   {
    "duration": 270,
    "start_time": "2025-01-12T15:37:55.963Z"
   },
   {
    "duration": 195,
    "start_time": "2025-01-12T15:37:56.235Z"
   },
   {
    "duration": 69,
    "start_time": "2025-01-12T15:37:56.432Z"
   },
   {
    "duration": 203,
    "start_time": "2025-01-12T15:37:56.503Z"
   },
   {
    "duration": 199,
    "start_time": "2025-01-12T15:37:56.708Z"
   },
   {
    "duration": 4,
    "start_time": "2025-01-12T15:37:56.909Z"
   },
   {
    "duration": 287,
    "start_time": "2025-01-12T15:37:56.915Z"
   },
   {
    "duration": 32,
    "start_time": "2025-01-12T15:37:57.204Z"
   },
   {
    "duration": 0,
    "start_time": "2025-01-12T15:37:57.238Z"
   },
   {
    "duration": 0,
    "start_time": "2025-01-12T15:37:57.239Z"
   },
   {
    "duration": 1407,
    "start_time": "2025-01-12T15:39:11.160Z"
   },
   {
    "duration": 1413,
    "start_time": "2025-01-12T15:39:32.523Z"
   },
   {
    "duration": 5,
    "start_time": "2025-01-12T15:39:39.856Z"
   },
   {
    "duration": 182,
    "start_time": "2025-01-12T15:39:42.801Z"
   },
   {
    "duration": 1326,
    "start_time": "2025-01-12T15:39:55.258Z"
   },
   {
    "duration": 3,
    "start_time": "2025-01-12T15:40:09.303Z"
   },
   {
    "duration": 228,
    "start_time": "2025-01-12T15:40:09.308Z"
   },
   {
    "duration": 46,
    "start_time": "2025-01-12T15:40:09.538Z"
   },
   {
    "duration": 8,
    "start_time": "2025-01-12T15:40:09.586Z"
   },
   {
    "duration": 28,
    "start_time": "2025-01-12T15:40:09.596Z"
   },
   {
    "duration": 49,
    "start_time": "2025-01-12T15:40:09.625Z"
   },
   {
    "duration": 111,
    "start_time": "2025-01-12T15:40:09.676Z"
   },
   {
    "duration": 92,
    "start_time": "2025-01-12T15:40:09.788Z"
   },
   {
    "duration": 11,
    "start_time": "2025-01-12T15:40:09.882Z"
   },
   {
    "duration": 13,
    "start_time": "2025-01-12T15:40:09.894Z"
   },
   {
    "duration": 25,
    "start_time": "2025-01-12T15:40:09.908Z"
   },
   {
    "duration": 46,
    "start_time": "2025-01-12T15:40:09.934Z"
   },
   {
    "duration": 64,
    "start_time": "2025-01-12T15:40:09.982Z"
   },
   {
    "duration": 50,
    "start_time": "2025-01-12T15:40:10.048Z"
   },
   {
    "duration": 99,
    "start_time": "2025-01-12T15:40:10.100Z"
   },
   {
    "duration": 128,
    "start_time": "2025-01-12T15:40:10.202Z"
   },
   {
    "duration": 33,
    "start_time": "2025-01-12T15:40:10.331Z"
   },
   {
    "duration": 2,
    "start_time": "2025-01-12T15:40:10.366Z"
   },
   {
    "duration": 192,
    "start_time": "2025-01-12T15:40:10.370Z"
   },
   {
    "duration": 206,
    "start_time": "2025-01-12T15:40:10.564Z"
   },
   {
    "duration": 75,
    "start_time": "2025-01-12T15:40:10.772Z"
   },
   {
    "duration": 195,
    "start_time": "2025-01-12T15:40:10.848Z"
   },
   {
    "duration": 204,
    "start_time": "2025-01-12T15:40:11.045Z"
   },
   {
    "duration": 5,
    "start_time": "2025-01-12T15:40:11.251Z"
   },
   {
    "duration": 204,
    "start_time": "2025-01-12T15:40:11.258Z"
   },
   {
    "duration": 2044,
    "start_time": "2025-01-12T15:40:11.463Z"
   },
   {
    "duration": 0,
    "start_time": "2025-01-12T15:40:13.509Z"
   },
   {
    "duration": 0,
    "start_time": "2025-01-12T15:40:13.510Z"
   },
   {
    "duration": 77,
    "start_time": "2025-01-12T15:40:47.560Z"
   },
   {
    "duration": 195,
    "start_time": "2025-01-12T15:41:05.327Z"
   },
   {
    "duration": 53,
    "start_time": "2025-01-12T15:41:14.500Z"
   },
   {
    "duration": 143,
    "start_time": "2025-01-12T15:41:18.253Z"
   },
   {
    "duration": 51,
    "start_time": "2025-01-12T15:41:34.216Z"
   },
   {
    "duration": 146,
    "start_time": "2025-01-12T15:41:38.410Z"
   },
   {
    "duration": 50,
    "start_time": "2025-01-12T15:41:44.103Z"
   },
   {
    "duration": 138,
    "start_time": "2025-01-12T15:41:47.094Z"
   },
   {
    "duration": 50,
    "start_time": "2025-01-12T15:41:54.228Z"
   },
   {
    "duration": 3,
    "start_time": "2025-01-12T15:42:01.770Z"
   },
   {
    "duration": 237,
    "start_time": "2025-01-12T15:42:01.775Z"
   },
   {
    "duration": 70,
    "start_time": "2025-01-12T15:42:02.014Z"
   },
   {
    "duration": 8,
    "start_time": "2025-01-12T15:42:02.086Z"
   },
   {
    "duration": 55,
    "start_time": "2025-01-12T15:42:02.095Z"
   },
   {
    "duration": 94,
    "start_time": "2025-01-12T15:42:02.152Z"
   },
   {
    "duration": 97,
    "start_time": "2025-01-12T15:42:02.247Z"
   },
   {
    "duration": 92,
    "start_time": "2025-01-12T15:42:02.345Z"
   },
   {
    "duration": 12,
    "start_time": "2025-01-12T15:42:02.439Z"
   },
   {
    "duration": 115,
    "start_time": "2025-01-12T15:42:02.453Z"
   },
   {
    "duration": 9,
    "start_time": "2025-01-12T15:42:02.570Z"
   },
   {
    "duration": 65,
    "start_time": "2025-01-12T15:42:02.581Z"
   },
   {
    "duration": 46,
    "start_time": "2025-01-12T15:42:02.647Z"
   },
   {
    "duration": 51,
    "start_time": "2025-01-12T15:42:02.695Z"
   },
   {
    "duration": 59,
    "start_time": "2025-01-12T15:42:02.747Z"
   },
   {
    "duration": 130,
    "start_time": "2025-01-12T15:42:02.807Z"
   },
   {
    "duration": 33,
    "start_time": "2025-01-12T15:42:02.939Z"
   },
   {
    "duration": 2,
    "start_time": "2025-01-12T15:42:02.974Z"
   },
   {
    "duration": 209,
    "start_time": "2025-01-12T15:42:02.978Z"
   },
   {
    "duration": 204,
    "start_time": "2025-01-12T15:42:03.189Z"
   },
   {
    "duration": 80,
    "start_time": "2025-01-12T15:42:03.396Z"
   },
   {
    "duration": 231,
    "start_time": "2025-01-12T15:42:03.478Z"
   },
   {
    "duration": 215,
    "start_time": "2025-01-12T15:42:03.711Z"
   },
   {
    "duration": 5,
    "start_time": "2025-01-12T15:42:03.929Z"
   },
   {
    "duration": 202,
    "start_time": "2025-01-12T15:42:03.936Z"
   },
   {
    "duration": 66,
    "start_time": "2025-01-12T15:42:04.139Z"
   },
   {
    "duration": 182,
    "start_time": "2025-01-12T15:42:04.207Z"
   },
   {
    "duration": 1207,
    "start_time": "2025-01-12T15:42:04.393Z"
   },
   {
    "duration": 6,
    "start_time": "2025-01-12T15:42:05.602Z"
   },
   {
    "duration": 43,
    "start_time": "2025-01-12T15:42:16.579Z"
   },
   {
    "duration": 152,
    "start_time": "2025-01-12T15:42:18.825Z"
   },
   {
    "duration": 2,
    "start_time": "2025-01-12T15:43:00.567Z"
   },
   {
    "duration": 2,
    "start_time": "2025-01-12T15:43:02.227Z"
   },
   {
    "duration": 2,
    "start_time": "2025-01-12T15:43:19.751Z"
   },
   {
    "duration": 40,
    "start_time": "2025-01-12T15:44:09.374Z"
   },
   {
    "duration": 151,
    "start_time": "2025-01-12T15:44:14.276Z"
   },
   {
    "duration": 40,
    "start_time": "2025-01-12T15:44:22.509Z"
   },
   {
    "duration": 154,
    "start_time": "2025-01-12T15:44:23.941Z"
   },
   {
    "duration": 155,
    "start_time": "2025-01-12T15:44:28.248Z"
   },
   {
    "duration": 41,
    "start_time": "2025-01-12T15:44:30.882Z"
   },
   {
    "duration": 42,
    "start_time": "2025-01-12T15:44:34.486Z"
   },
   {
    "duration": 160,
    "start_time": "2025-01-12T15:44:36.287Z"
   },
   {
    "duration": 3,
    "start_time": "2025-01-12T15:44:39.728Z"
   },
   {
    "duration": 209,
    "start_time": "2025-01-12T15:44:39.732Z"
   },
   {
    "duration": 63,
    "start_time": "2025-01-12T15:44:39.942Z"
   },
   {
    "duration": 12,
    "start_time": "2025-01-12T15:44:40.007Z"
   },
   {
    "duration": 78,
    "start_time": "2025-01-12T15:44:40.022Z"
   },
   {
    "duration": 28,
    "start_time": "2025-01-12T15:44:40.101Z"
   },
   {
    "duration": 82,
    "start_time": "2025-01-12T15:44:40.130Z"
   },
   {
    "duration": 90,
    "start_time": "2025-01-12T15:44:40.213Z"
   },
   {
    "duration": 10,
    "start_time": "2025-01-12T15:44:40.304Z"
   },
   {
    "duration": 29,
    "start_time": "2025-01-12T15:44:40.316Z"
   },
   {
    "duration": 10,
    "start_time": "2025-01-12T15:44:40.347Z"
   },
   {
    "duration": 82,
    "start_time": "2025-01-12T15:44:40.358Z"
   },
   {
    "duration": 142,
    "start_time": "2025-01-12T15:44:40.442Z"
   },
   {
    "duration": 49,
    "start_time": "2025-01-12T15:44:40.588Z"
   },
   {
    "duration": 56,
    "start_time": "2025-01-12T15:44:40.639Z"
   },
   {
    "duration": 133,
    "start_time": "2025-01-12T15:44:40.697Z"
   },
   {
    "duration": 34,
    "start_time": "2025-01-12T15:44:40.831Z"
   },
   {
    "duration": 2,
    "start_time": "2025-01-12T15:44:40.867Z"
   },
   {
    "duration": 200,
    "start_time": "2025-01-12T15:44:40.871Z"
   },
   {
    "duration": 203,
    "start_time": "2025-01-12T15:44:41.073Z"
   },
   {
    "duration": 79,
    "start_time": "2025-01-12T15:44:41.277Z"
   },
   {
    "duration": 200,
    "start_time": "2025-01-12T15:44:41.357Z"
   },
   {
    "duration": 209,
    "start_time": "2025-01-12T15:44:41.559Z"
   },
   {
    "duration": 5,
    "start_time": "2025-01-12T15:44:41.770Z"
   },
   {
    "duration": 251,
    "start_time": "2025-01-12T15:44:41.776Z"
   },
   {
    "duration": 75,
    "start_time": "2025-01-12T15:44:42.031Z"
   },
   {
    "duration": 167,
    "start_time": "2025-01-12T15:44:42.108Z"
   },
   {
    "duration": 1145,
    "start_time": "2025-01-12T15:44:42.277Z"
   },
   {
    "duration": 11,
    "start_time": "2025-01-12T15:44:43.423Z"
   },
   {
    "duration": 18,
    "start_time": "2025-01-12T15:45:53.148Z"
   },
   {
    "duration": 8,
    "start_time": "2025-01-12T15:45:54.450Z"
   },
   {
    "duration": 12,
    "start_time": "2025-01-12T15:46:40.307Z"
   },
   {
    "duration": 92,
    "start_time": "2025-01-12T15:47:09.773Z"
   },
   {
    "duration": 21,
    "start_time": "2025-01-12T15:47:12.199Z"
   },
   {
    "duration": 28,
    "start_time": "2025-01-12T15:47:21.131Z"
   },
   {
    "duration": 35,
    "start_time": "2025-01-12T15:47:24.812Z"
   },
   {
    "duration": 70,
    "start_time": "2025-01-12T15:51:06.031Z"
   },
   {
    "duration": 25,
    "start_time": "2025-01-12T15:51:13.017Z"
   },
   {
    "duration": 36,
    "start_time": "2025-01-12T15:51:22.079Z"
   },
   {
    "duration": 4,
    "start_time": "2025-01-12T15:53:28.144Z"
   },
   {
    "duration": 1531,
    "start_time": "2025-01-12T15:53:38.393Z"
   },
   {
    "duration": 1324,
    "start_time": "2025-01-12T15:53:48.669Z"
   },
   {
    "duration": 26,
    "start_time": "2025-01-12T15:53:57.296Z"
   },
   {
    "duration": 20,
    "start_time": "2025-01-12T15:55:09.934Z"
   },
   {
    "duration": 4,
    "start_time": "2025-01-12T15:56:19.096Z"
   },
   {
    "duration": 7,
    "start_time": "2025-01-12T15:56:33.802Z"
   },
   {
    "duration": 7,
    "start_time": "2025-01-12T15:58:43.749Z"
   },
   {
    "duration": 12,
    "start_time": "2025-01-12T15:59:49.200Z"
   },
   {
    "duration": 10,
    "start_time": "2025-01-12T16:00:08.222Z"
   },
   {
    "duration": 70,
    "start_time": "2025-01-12T16:00:21.516Z"
   },
   {
    "duration": 7,
    "start_time": "2025-01-12T16:00:23.028Z"
   },
   {
    "duration": 28,
    "start_time": "2025-01-12T16:00:24.803Z"
   },
   {
    "duration": 232,
    "start_time": "2025-01-12T16:00:31.493Z"
   },
   {
    "duration": 33,
    "start_time": "2025-01-12T16:03:10.783Z"
   },
   {
    "duration": 63,
    "start_time": "2025-01-12T16:03:28.073Z"
   },
   {
    "duration": 2,
    "start_time": "2025-01-12T16:03:42.267Z"
   },
   {
    "duration": 234,
    "start_time": "2025-01-12T16:03:42.280Z"
   },
   {
    "duration": 115,
    "start_time": "2025-01-12T16:03:42.516Z"
   },
   {
    "duration": 7,
    "start_time": "2025-01-12T16:03:42.633Z"
   },
   {
    "duration": 30,
    "start_time": "2025-01-12T16:03:42.642Z"
   },
   {
    "duration": 114,
    "start_time": "2025-01-12T16:03:42.675Z"
   },
   {
    "duration": 100,
    "start_time": "2025-01-12T16:03:42.790Z"
   },
   {
    "duration": 91,
    "start_time": "2025-01-12T16:03:42.892Z"
   },
   {
    "duration": 11,
    "start_time": "2025-01-12T16:03:42.984Z"
   },
   {
    "duration": 27,
    "start_time": "2025-01-12T16:03:42.997Z"
   },
   {
    "duration": 38,
    "start_time": "2025-01-12T16:03:43.026Z"
   },
   {
    "duration": 47,
    "start_time": "2025-01-12T16:03:43.066Z"
   },
   {
    "duration": 41,
    "start_time": "2025-01-12T16:03:43.114Z"
   },
   {
    "duration": 43,
    "start_time": "2025-01-12T16:03:43.157Z"
   },
   {
    "duration": 77,
    "start_time": "2025-01-12T16:03:43.205Z"
   },
   {
    "duration": 133,
    "start_time": "2025-01-12T16:03:43.284Z"
   },
   {
    "duration": 39,
    "start_time": "2025-01-12T16:03:43.418Z"
   },
   {
    "duration": 3,
    "start_time": "2025-01-12T16:03:43.459Z"
   },
   {
    "duration": 198,
    "start_time": "2025-01-12T16:03:43.464Z"
   },
   {
    "duration": 218,
    "start_time": "2025-01-12T16:03:43.664Z"
   },
   {
    "duration": 73,
    "start_time": "2025-01-12T16:03:43.884Z"
   },
   {
    "duration": 194,
    "start_time": "2025-01-12T16:03:43.959Z"
   },
   {
    "duration": 200,
    "start_time": "2025-01-12T16:03:44.155Z"
   },
   {
    "duration": 5,
    "start_time": "2025-01-12T16:03:44.356Z"
   },
   {
    "duration": 198,
    "start_time": "2025-01-12T16:03:44.362Z"
   },
   {
    "duration": 72,
    "start_time": "2025-01-12T16:03:44.562Z"
   },
   {
    "duration": 160,
    "start_time": "2025-01-12T16:03:44.636Z"
   },
   {
    "duration": 1232,
    "start_time": "2025-01-12T16:03:44.798Z"
   },
   {
    "duration": 8,
    "start_time": "2025-01-12T16:03:46.032Z"
   },
   {
    "duration": 272,
    "start_time": "2025-01-12T16:03:46.042Z"
   },
   {
    "duration": 16,
    "start_time": "2025-01-12T16:04:52.899Z"
   },
   {
    "duration": 52,
    "start_time": "2025-01-12T16:05:02.474Z"
   },
   {
    "duration": 34,
    "start_time": "2025-01-12T16:05:09.651Z"
   },
   {
    "duration": 39,
    "start_time": "2025-01-12T16:05:13.981Z"
   },
   {
    "duration": 0,
    "start_time": "2025-01-12T16:08:23.980Z"
   },
   {
    "duration": 46,
    "start_time": "2025-01-12T16:08:37.829Z"
   },
   {
    "duration": 37,
    "start_time": "2025-01-12T16:08:50.713Z"
   },
   {
    "duration": 8,
    "start_time": "2025-01-12T16:08:55.790Z"
   },
   {
    "duration": 39,
    "start_time": "2025-01-12T16:09:45.806Z"
   },
   {
    "duration": 40,
    "start_time": "2025-01-12T16:10:41.267Z"
   },
   {
    "duration": 8,
    "start_time": "2025-01-12T16:10:45.896Z"
   },
   {
    "duration": 47,
    "start_time": "2025-01-12T18:05:29.383Z"
   },
   {
    "duration": 423,
    "start_time": "2025-01-12T18:05:36.310Z"
   },
   {
    "duration": 380,
    "start_time": "2025-01-12T18:05:36.735Z"
   },
   {
    "duration": 56,
    "start_time": "2025-01-12T18:05:37.117Z"
   },
   {
    "duration": 14,
    "start_time": "2025-01-12T18:05:37.174Z"
   },
   {
    "duration": 37,
    "start_time": "2025-01-12T18:05:37.190Z"
   },
   {
    "duration": 23,
    "start_time": "2025-01-12T18:05:37.229Z"
   },
   {
    "duration": 136,
    "start_time": "2025-01-12T18:05:37.253Z"
   },
   {
    "duration": 146,
    "start_time": "2025-01-12T18:05:37.390Z"
   },
   {
    "duration": 10,
    "start_time": "2025-01-12T18:05:37.538Z"
   },
   {
    "duration": 39,
    "start_time": "2025-01-12T18:05:37.549Z"
   },
   {
    "duration": 29,
    "start_time": "2025-01-12T18:05:37.590Z"
   },
   {
    "duration": 86,
    "start_time": "2025-01-12T18:05:37.621Z"
   },
   {
    "duration": 42,
    "start_time": "2025-01-12T18:05:37.709Z"
   },
   {
    "duration": 49,
    "start_time": "2025-01-12T18:05:37.754Z"
   },
   {
    "duration": 82,
    "start_time": "2025-01-12T18:05:37.805Z"
   },
   {
    "duration": 144,
    "start_time": "2025-01-12T18:05:37.889Z"
   },
   {
    "duration": 36,
    "start_time": "2025-01-12T18:05:38.034Z"
   },
   {
    "duration": 1081,
    "start_time": "2025-01-12T18:05:38.072Z"
   },
   {
    "duration": 199,
    "start_time": "2025-01-12T18:05:39.155Z"
   },
   {
    "duration": 200,
    "start_time": "2025-01-12T18:05:39.355Z"
   },
   {
    "duration": 83,
    "start_time": "2025-01-12T18:05:39.557Z"
   },
   {
    "duration": 196,
    "start_time": "2025-01-12T18:05:39.642Z"
   },
   {
    "duration": 200,
    "start_time": "2025-01-12T18:05:39.840Z"
   },
   {
    "duration": 5,
    "start_time": "2025-01-12T18:05:40.042Z"
   },
   {
    "duration": 222,
    "start_time": "2025-01-12T18:05:40.048Z"
   },
   {
    "duration": 83,
    "start_time": "2025-01-12T18:05:40.271Z"
   },
   {
    "duration": 168,
    "start_time": "2025-01-12T18:05:40.356Z"
   },
   {
    "duration": 1147,
    "start_time": "2025-01-12T18:05:40.526Z"
   },
   {
    "duration": 6,
    "start_time": "2025-01-12T18:05:41.675Z"
   },
   {
    "duration": 82,
    "start_time": "2025-01-12T18:05:41.682Z"
   },
   {
    "duration": 9,
    "start_time": "2025-01-12T18:05:41.765Z"
   },
   {
    "duration": 252,
    "start_time": "2025-01-12T18:05:41.775Z"
   },
   {
    "duration": 64,
    "start_time": "2025-01-12T18:05:42.029Z"
   },
   {
    "duration": 58,
    "start_time": "2025-01-12T18:07:05.169Z"
   },
   {
    "duration": 36,
    "start_time": "2025-01-12T18:07:24.576Z"
   },
   {
    "duration": 1453,
    "start_time": "2025-01-12T18:08:27.750Z"
   },
   {
    "duration": 6,
    "start_time": "2025-01-12T18:08:41.938Z"
   },
   {
    "duration": 12,
    "start_time": "2025-01-12T18:09:11.479Z"
   },
   {
    "duration": 14,
    "start_time": "2025-01-12T18:09:15.978Z"
   },
   {
    "duration": 11,
    "start_time": "2025-01-12T18:09:29.469Z"
   },
   {
    "duration": 28,
    "start_time": "2025-01-12T18:09:45.244Z"
   },
   {
    "duration": 27,
    "start_time": "2025-01-12T18:09:50.966Z"
   },
   {
    "duration": 28,
    "start_time": "2025-01-12T18:09:55.200Z"
   },
   {
    "duration": 5,
    "start_time": "2025-01-12T18:09:59.385Z"
   },
   {
    "duration": 5,
    "start_time": "2025-01-12T18:10:04.112Z"
   },
   {
    "duration": 11,
    "start_time": "2025-01-12T18:10:13.182Z"
   },
   {
    "duration": 27,
    "start_time": "2025-01-12T18:10:19.831Z"
   },
   {
    "duration": 27,
    "start_time": "2025-01-12T18:10:22.632Z"
   },
   {
    "duration": 29,
    "start_time": "2025-01-12T18:10:37.083Z"
   },
   {
    "duration": 27,
    "start_time": "2025-01-12T18:10:49.447Z"
   },
   {
    "duration": 5,
    "start_time": "2025-01-12T18:10:53.679Z"
   },
   {
    "duration": 59,
    "start_time": "2025-01-12T18:12:13.673Z"
   },
   {
    "duration": 77,
    "start_time": "2025-01-12T18:12:22.266Z"
   },
   {
    "duration": 52,
    "start_time": "2025-01-12T18:12:26.166Z"
   },
   {
    "duration": 51,
    "start_time": "2025-01-12T18:51:09.819Z"
   },
   {
    "duration": 13,
    "start_time": "2025-01-12T18:51:18.644Z"
   },
   {
    "duration": 12,
    "start_time": "2025-01-12T18:53:29.034Z"
   },
   {
    "duration": 11,
    "start_time": "2025-01-12T18:53:36.157Z"
   },
   {
    "duration": 10,
    "start_time": "2025-01-12T18:54:02.614Z"
   },
   {
    "duration": 34,
    "start_time": "2025-01-12T18:55:40.163Z"
   },
   {
    "duration": 37,
    "start_time": "2025-01-12T18:55:50.244Z"
   },
   {
    "duration": 38,
    "start_time": "2025-01-12T18:58:39.926Z"
   },
   {
    "duration": 57,
    "start_time": "2025-01-12T19:00:12.661Z"
   },
   {
    "duration": 72,
    "start_time": "2025-01-12T19:00:22.588Z"
   },
   {
    "duration": 38,
    "start_time": "2025-01-12T19:01:00.147Z"
   },
   {
    "duration": 627,
    "start_time": "2025-01-12T19:03:42.775Z"
   },
   {
    "duration": 432,
    "start_time": "2025-01-12T19:04:34.086Z"
   },
   {
    "duration": 262,
    "start_time": "2025-01-12T19:05:08.146Z"
   },
   {
    "duration": 479,
    "start_time": "2025-01-12T19:06:18.179Z"
   },
   {
    "duration": 470,
    "start_time": "2025-01-12T19:06:39.996Z"
   },
   {
    "duration": 446,
    "start_time": "2025-01-12T19:11:30.657Z"
   },
   {
    "duration": 809,
    "start_time": "2025-01-12T19:12:27.638Z"
   },
   {
    "duration": 972,
    "start_time": "2025-01-12T19:12:52.757Z"
   },
   {
    "duration": 427,
    "start_time": "2025-01-12T19:13:05.089Z"
   },
   {
    "duration": 451,
    "start_time": "2025-01-12T19:13:15.798Z"
   },
   {
    "duration": 466,
    "start_time": "2025-01-12T19:13:22.972Z"
   },
   {
    "duration": 34,
    "start_time": "2025-01-12T19:17:55.448Z"
   },
   {
    "duration": 9,
    "start_time": "2025-01-12T19:19:39.303Z"
   },
   {
    "duration": 30,
    "start_time": "2025-01-12T19:19:55.026Z"
   },
   {
    "duration": 36,
    "start_time": "2025-01-12T19:20:03.677Z"
   },
   {
    "duration": 1324,
    "start_time": "2025-01-12T19:21:36.498Z"
   },
   {
    "duration": 477,
    "start_time": "2025-01-12T19:21:45.856Z"
   },
   {
    "duration": 1342,
    "start_time": "2025-01-12T19:22:11.661Z"
   },
   {
    "duration": 1323,
    "start_time": "2025-01-12T19:23:22.144Z"
   },
   {
    "duration": 318,
    "start_time": "2025-01-12T19:23:26.447Z"
   },
   {
    "duration": 36,
    "start_time": "2025-01-12T19:26:32.198Z"
   },
   {
    "duration": 39,
    "start_time": "2025-01-12T19:26:38.330Z"
   },
   {
    "duration": 60,
    "start_time": "2025-01-12T19:26:48.334Z"
   },
   {
    "duration": 6,
    "start_time": "2025-01-12T19:27:19.974Z"
   },
   {
    "duration": 63,
    "start_time": "2025-01-12T19:27:38.406Z"
   },
   {
    "duration": 11,
    "start_time": "2025-01-12T19:28:04.170Z"
   },
   {
    "duration": 58,
    "start_time": "2025-01-12T19:28:16.363Z"
   },
   {
    "duration": 87,
    "start_time": "2025-01-12T19:29:50.229Z"
   },
   {
    "duration": 82,
    "start_time": "2025-01-12T19:29:59.828Z"
   },
   {
    "duration": 15,
    "start_time": "2025-01-12T19:30:07.349Z"
   },
   {
    "duration": 10,
    "start_time": "2025-01-12T19:30:18.382Z"
   },
   {
    "duration": 10,
    "start_time": "2025-01-12T19:30:32.783Z"
   },
   {
    "duration": 10,
    "start_time": "2025-01-12T19:30:44.591Z"
   },
   {
    "duration": 441,
    "start_time": "2025-01-12T19:31:10.085Z"
   },
   {
    "duration": 533,
    "start_time": "2025-01-12T19:31:23.020Z"
   },
   {
    "duration": 270,
    "start_time": "2025-01-12T19:33:15.821Z"
   },
   {
    "duration": 264,
    "start_time": "2025-01-12T19:33:46.878Z"
   },
   {
    "duration": 10,
    "start_time": "2025-01-12T19:35:13.068Z"
   },
   {
    "duration": 315,
    "start_time": "2025-01-12T19:35:35.644Z"
   },
   {
    "duration": 303,
    "start_time": "2025-01-12T19:35:41.533Z"
   },
   {
    "duration": 58,
    "start_time": "2025-01-12T19:35:49.923Z"
   },
   {
    "duration": 12,
    "start_time": "2025-01-12T19:35:51.420Z"
   },
   {
    "duration": 11,
    "start_time": "2025-01-12T19:36:04.712Z"
   },
   {
    "duration": 497,
    "start_time": "2025-01-12T19:36:12.106Z"
   },
   {
    "duration": 522,
    "start_time": "2025-01-12T19:36:32.279Z"
   },
   {
    "duration": 9,
    "start_time": "2025-01-12T19:54:49.117Z"
   },
   {
    "duration": 10,
    "start_time": "2025-01-12T19:54:51.686Z"
   },
   {
    "duration": 201,
    "start_time": "2025-01-12T20:01:39.122Z"
   },
   {
    "duration": 2,
    "start_time": "2025-01-12T20:01:46.074Z"
   },
   {
    "duration": 220,
    "start_time": "2025-01-12T20:01:46.078Z"
   },
   {
    "duration": 59,
    "start_time": "2025-01-12T20:01:46.299Z"
   },
   {
    "duration": 18,
    "start_time": "2025-01-12T20:01:46.359Z"
   },
   {
    "duration": 26,
    "start_time": "2025-01-12T20:01:46.379Z"
   },
   {
    "duration": 25,
    "start_time": "2025-01-12T20:01:46.407Z"
   },
   {
    "duration": 121,
    "start_time": "2025-01-12T20:01:46.434Z"
   },
   {
    "duration": 103,
    "start_time": "2025-01-12T20:01:46.557Z"
   },
   {
    "duration": 10,
    "start_time": "2025-01-12T20:01:46.661Z"
   },
   {
    "duration": 68,
    "start_time": "2025-01-12T20:01:46.673Z"
   },
   {
    "duration": 11,
    "start_time": "2025-01-12T20:01:46.743Z"
   },
   {
    "duration": 57,
    "start_time": "2025-01-12T20:01:46.755Z"
   },
   {
    "duration": 55,
    "start_time": "2025-01-12T20:01:46.814Z"
   },
   {
    "duration": 39,
    "start_time": "2025-01-12T20:01:46.872Z"
   },
   {
    "duration": 74,
    "start_time": "2025-01-12T20:01:46.921Z"
   },
   {
    "duration": 157,
    "start_time": "2025-01-12T20:01:46.997Z"
   },
   {
    "duration": 31,
    "start_time": "2025-01-12T20:01:47.155Z"
   },
   {
    "duration": 3,
    "start_time": "2025-01-12T20:01:47.188Z"
   },
   {
    "duration": 188,
    "start_time": "2025-01-12T20:01:47.193Z"
   },
   {
    "duration": 185,
    "start_time": "2025-01-12T20:01:47.382Z"
   },
   {
    "duration": 74,
    "start_time": "2025-01-12T20:01:47.569Z"
   },
   {
    "duration": 183,
    "start_time": "2025-01-12T20:01:47.644Z"
   },
   {
    "duration": 186,
    "start_time": "2025-01-12T20:01:47.829Z"
   },
   {
    "duration": 4,
    "start_time": "2025-01-12T20:01:48.022Z"
   },
   {
    "duration": 184,
    "start_time": "2025-01-12T20:01:48.028Z"
   },
   {
    "duration": 72,
    "start_time": "2025-01-12T20:01:48.213Z"
   },
   {
    "duration": 172,
    "start_time": "2025-01-12T20:01:48.286Z"
   },
   {
    "duration": 1134,
    "start_time": "2025-01-12T20:01:48.460Z"
   },
   {
    "duration": 7,
    "start_time": "2025-01-12T20:01:49.596Z"
   },
   {
    "duration": 70,
    "start_time": "2025-01-12T20:01:49.604Z"
   },
   {
    "duration": 8,
    "start_time": "2025-01-12T20:01:49.675Z"
   },
   {
    "duration": 231,
    "start_time": "2025-01-12T20:01:49.685Z"
   },
   {
    "duration": 58,
    "start_time": "2025-01-12T20:01:49.918Z"
   },
   {
    "duration": 50,
    "start_time": "2025-01-12T20:01:49.977Z"
   },
   {
    "duration": 488,
    "start_time": "2025-01-12T20:01:50.028Z"
   },
   {
    "duration": 37,
    "start_time": "2025-01-12T20:01:50.521Z"
   },
   {
    "duration": 449,
    "start_time": "2025-01-12T20:01:50.560Z"
   },
   {
    "duration": 65,
    "start_time": "2025-01-12T20:01:51.011Z"
   },
   {
    "duration": 10,
    "start_time": "2025-01-12T20:01:51.078Z"
   },
   {
    "duration": 506,
    "start_time": "2025-01-12T20:01:51.090Z"
   },
   {
    "duration": 11,
    "start_time": "2025-01-12T20:01:51.598Z"
   },
   {
    "duration": 22,
    "start_time": "2025-01-12T20:01:51.611Z"
   },
   {
    "duration": 16,
    "start_time": "2025-01-12T20:02:12.884Z"
   },
   {
    "duration": 28,
    "start_time": "2025-01-12T20:02:23.244Z"
   },
   {
    "duration": 8,
    "start_time": "2025-01-12T20:02:44.292Z"
   },
   {
    "duration": 10,
    "start_time": "2025-01-12T20:02:50.245Z"
   },
   {
    "duration": 27,
    "start_time": "2025-01-12T20:03:04.814Z"
   },
   {
    "duration": 3,
    "start_time": "2025-01-12T20:08:28.750Z"
   },
   {
    "duration": 83,
    "start_time": "2025-01-12T20:08:44.710Z"
   },
   {
    "duration": 1688,
    "start_time": "2025-01-12T20:15:23.259Z"
   },
   {
    "duration": 76,
    "start_time": "2025-01-12T20:15:36.348Z"
   },
   {
    "duration": 74,
    "start_time": "2025-01-12T20:17:08.794Z"
   },
   {
    "duration": 72,
    "start_time": "2025-01-12T20:17:17.472Z"
   },
   {
    "duration": 73,
    "start_time": "2025-01-12T20:17:26.338Z"
   },
   {
    "duration": 74,
    "start_time": "2025-01-12T20:17:29.622Z"
   },
   {
    "duration": 73,
    "start_time": "2025-01-12T20:17:38.779Z"
   },
   {
    "duration": 73,
    "start_time": "2025-01-12T20:17:44.662Z"
   },
   {
    "duration": 73,
    "start_time": "2025-01-12T20:17:49.726Z"
   },
   {
    "duration": 8,
    "start_time": "2025-01-12T20:17:54.198Z"
   },
   {
    "duration": 1267,
    "start_time": "2025-01-12T20:18:12.207Z"
   },
   {
    "duration": 32,
    "start_time": "2025-01-12T20:18:22.438Z"
   },
   {
    "duration": 29,
    "start_time": "2025-01-12T20:18:31.569Z"
   },
   {
    "duration": 5,
    "start_time": "2025-01-12T20:18:37.549Z"
   },
   {
    "duration": 7,
    "start_time": "2025-01-12T20:19:04.574Z"
   },
   {
    "duration": 87,
    "start_time": "2025-01-12T20:19:08.231Z"
   },
   {
    "duration": 4,
    "start_time": "2025-01-12T20:19:09.316Z"
   },
   {
    "duration": 4,
    "start_time": "2025-01-12T20:19:16.826Z"
   },
   {
    "duration": 4,
    "start_time": "2025-01-12T20:19:20.686Z"
   },
   {
    "duration": 4,
    "start_time": "2025-01-12T20:19:26.956Z"
   },
   {
    "duration": 8,
    "start_time": "2025-01-12T20:20:22.649Z"
   },
   {
    "duration": 83,
    "start_time": "2025-01-12T20:20:35.053Z"
   },
   {
    "duration": 3,
    "start_time": "2025-01-12T20:20:36.959Z"
   },
   {
    "duration": 4,
    "start_time": "2025-01-12T20:20:43.861Z"
   },
   {
    "duration": 22,
    "start_time": "2025-01-12T20:24:39.039Z"
   },
   {
    "duration": 27,
    "start_time": "2025-01-12T20:26:14.862Z"
   },
   {
    "duration": 4,
    "start_time": "2025-01-12T20:26:21.416Z"
   },
   {
    "duration": 14,
    "start_time": "2025-01-12T20:26:32.297Z"
   },
   {
    "duration": 4,
    "start_time": "2025-01-12T20:26:37.971Z"
   },
   {
    "duration": 11,
    "start_time": "2025-01-12T20:26:54.279Z"
   },
   {
    "duration": 11,
    "start_time": "2025-01-12T20:27:18.361Z"
   },
   {
    "duration": 44,
    "start_time": "2025-01-12T20:27:52.990Z"
   },
   {
    "duration": 4,
    "start_time": "2025-01-12T20:28:21.759Z"
   },
   {
    "duration": 4,
    "start_time": "2025-01-12T20:28:38.150Z"
   },
   {
    "duration": 3,
    "start_time": "2025-01-12T20:29:44.788Z"
   },
   {
    "duration": 3,
    "start_time": "2025-01-12T20:30:01.333Z"
   },
   {
    "duration": 22,
    "start_time": "2025-01-12T20:31:59.403Z"
   },
   {
    "duration": 18,
    "start_time": "2025-01-12T20:34:43.835Z"
   },
   {
    "duration": 23,
    "start_time": "2025-01-12T20:34:50.219Z"
   },
   {
    "duration": 23,
    "start_time": "2025-01-12T20:35:31.450Z"
   },
   {
    "duration": 33,
    "start_time": "2025-01-12T20:36:06.406Z"
   },
   {
    "duration": 3,
    "start_time": "2025-01-12T20:37:12.649Z"
   },
   {
    "duration": 3,
    "start_time": "2025-01-12T20:37:13.697Z"
   },
   {
    "duration": 85,
    "start_time": "2025-01-12T20:51:49.942Z"
   },
   {
    "duration": 74,
    "start_time": "2025-01-12T20:52:25.983Z"
   },
   {
    "duration": 75,
    "start_time": "2025-01-12T20:52:50.533Z"
   },
   {
    "duration": 76,
    "start_time": "2025-01-12T20:53:34.865Z"
   },
   {
    "duration": 75,
    "start_time": "2025-01-12T20:53:47.117Z"
   },
   {
    "duration": 75,
    "start_time": "2025-01-12T20:54:05.639Z"
   },
   {
    "duration": 77,
    "start_time": "2025-01-12T20:54:53.963Z"
   },
   {
    "duration": 9,
    "start_time": "2025-01-12T20:57:01.683Z"
   },
   {
    "duration": 28,
    "start_time": "2025-01-12T20:57:07.663Z"
   },
   {
    "duration": 80,
    "start_time": "2025-01-12T20:58:07.879Z"
   },
   {
    "duration": 73,
    "start_time": "2025-01-12T20:58:42.922Z"
   },
   {
    "duration": 78,
    "start_time": "2025-01-12T20:59:22.431Z"
   },
   {
    "duration": 76,
    "start_time": "2025-01-12T21:00:01.467Z"
   },
   {
    "duration": 103,
    "start_time": "2025-01-12T21:01:50.493Z"
   },
   {
    "duration": 1546,
    "start_time": "2025-01-12T21:04:29.344Z"
   },
   {
    "duration": 5,
    "start_time": "2025-01-12T21:05:22.733Z"
   },
   {
    "duration": 409,
    "start_time": "2025-01-12T21:05:28.090Z"
   },
   {
    "duration": 96,
    "start_time": "2025-01-12T21:06:36.160Z"
   },
   {
    "duration": 10,
    "start_time": "2025-01-12T21:20:17.161Z"
   },
   {
    "duration": 4,
    "start_time": "2025-01-12T21:21:49.965Z"
   },
   {
    "duration": 9,
    "start_time": "2025-01-12T21:21:54.615Z"
   },
   {
    "duration": 12,
    "start_time": "2025-01-12T21:24:34.359Z"
   },
   {
    "duration": 99,
    "start_time": "2025-01-12T21:27:12.243Z"
   },
   {
    "duration": 89,
    "start_time": "2025-01-12T21:27:29.005Z"
   },
   {
    "duration": 12,
    "start_time": "2025-01-12T21:27:36.462Z"
   },
   {
    "duration": 12,
    "start_time": "2025-01-12T21:27:53.996Z"
   },
   {
    "duration": 9,
    "start_time": "2025-01-12T21:28:06.129Z"
   },
   {
    "duration": 12,
    "start_time": "2025-01-12T21:28:36.623Z"
   },
   {
    "duration": 15,
    "start_time": "2025-01-12T21:29:37.413Z"
   },
   {
    "duration": 10,
    "start_time": "2025-01-12T21:29:50.863Z"
   },
   {
    "duration": 11,
    "start_time": "2025-01-12T21:30:05.069Z"
   },
   {
    "duration": 9,
    "start_time": "2025-01-12T21:30:10.661Z"
   },
   {
    "duration": 23,
    "start_time": "2025-01-12T21:32:20.831Z"
   },
   {
    "duration": 10,
    "start_time": "2025-01-12T21:32:40.265Z"
   },
   {
    "duration": 23,
    "start_time": "2025-01-12T21:32:45.666Z"
   },
   {
    "duration": 71,
    "start_time": "2025-01-13T23:36:06.853Z"
   },
   {
    "duration": 443,
    "start_time": "2025-01-13T23:36:13.119Z"
   },
   {
    "duration": 393,
    "start_time": "2025-01-13T23:36:13.564Z"
   },
   {
    "duration": 116,
    "start_time": "2025-01-13T23:36:13.959Z"
   },
   {
    "duration": 16,
    "start_time": "2025-01-13T23:36:14.077Z"
   },
   {
    "duration": 33,
    "start_time": "2025-01-13T23:36:14.095Z"
   },
   {
    "duration": 24,
    "start_time": "2025-01-13T23:36:14.130Z"
   },
   {
    "duration": 137,
    "start_time": "2025-01-13T23:36:14.156Z"
   },
   {
    "duration": 144,
    "start_time": "2025-01-13T23:36:14.295Z"
   },
   {
    "duration": 11,
    "start_time": "2025-01-13T23:36:14.441Z"
   },
   {
    "duration": 14,
    "start_time": "2025-01-13T23:36:14.454Z"
   },
   {
    "duration": 8,
    "start_time": "2025-01-13T23:36:14.469Z"
   },
   {
    "duration": 91,
    "start_time": "2025-01-13T23:36:14.479Z"
   },
   {
    "duration": 44,
    "start_time": "2025-01-13T23:36:14.572Z"
   },
   {
    "duration": 56,
    "start_time": "2025-01-13T23:36:14.619Z"
   },
   {
    "duration": 84,
    "start_time": "2025-01-13T23:36:14.676Z"
   },
   {
    "duration": 134,
    "start_time": "2025-01-13T23:36:14.762Z"
   },
   {
    "duration": 47,
    "start_time": "2025-01-13T23:36:14.898Z"
   },
   {
    "duration": 1007,
    "start_time": "2025-01-13T23:36:14.947Z"
   },
   {
    "duration": 207,
    "start_time": "2025-01-13T23:36:15.956Z"
   },
   {
    "duration": 203,
    "start_time": "2025-01-13T23:36:16.165Z"
   },
   {
    "duration": 84,
    "start_time": "2025-01-13T23:36:16.369Z"
   },
   {
    "duration": 201,
    "start_time": "2025-01-13T23:36:16.455Z"
   },
   {
    "duration": 220,
    "start_time": "2025-01-13T23:36:16.657Z"
   },
   {
    "duration": 8,
    "start_time": "2025-01-13T23:36:16.879Z"
   },
   {
    "duration": 214,
    "start_time": "2025-01-13T23:36:16.889Z"
   },
   {
    "duration": 84,
    "start_time": "2025-01-13T23:36:17.105Z"
   },
   {
    "duration": 166,
    "start_time": "2025-01-13T23:36:17.190Z"
   },
   {
    "duration": 1267,
    "start_time": "2025-01-13T23:36:17.357Z"
   },
   {
    "duration": 12,
    "start_time": "2025-01-13T23:36:18.626Z"
   },
   {
    "duration": 67,
    "start_time": "2025-01-13T23:36:18.639Z"
   },
   {
    "duration": 29,
    "start_time": "2025-01-13T23:36:18.708Z"
   },
   {
    "duration": 251,
    "start_time": "2025-01-13T23:36:18.739Z"
   },
   {
    "duration": 73,
    "start_time": "2025-01-13T23:36:18.992Z"
   },
   {
    "duration": 43,
    "start_time": "2025-01-13T23:36:19.067Z"
   },
   {
    "duration": 610,
    "start_time": "2025-01-13T23:36:19.111Z"
   },
   {
    "duration": 46,
    "start_time": "2025-01-13T23:36:19.722Z"
   },
   {
    "duration": 608,
    "start_time": "2025-01-13T23:36:19.770Z"
   },
   {
    "duration": 65,
    "start_time": "2025-01-13T23:36:20.380Z"
   },
   {
    "duration": 13,
    "start_time": "2025-01-13T23:36:20.447Z"
   },
   {
    "duration": 560,
    "start_time": "2025-01-13T23:36:20.462Z"
   },
   {
    "duration": 18,
    "start_time": "2025-01-13T23:36:21.026Z"
   },
   {
    "duration": 85,
    "start_time": "2025-01-13T23:36:21.045Z"
   },
   {
    "duration": 34,
    "start_time": "2025-01-13T23:36:21.132Z"
   },
   {
    "duration": 6,
    "start_time": "2025-01-13T23:36:21.168Z"
   },
   {
    "duration": 14,
    "start_time": "2025-01-13T23:36:21.176Z"
   },
   {
    "duration": 4,
    "start_time": "2025-01-13T23:36:21.192Z"
   },
   {
    "duration": 16,
    "start_time": "2025-01-13T23:36:21.198Z"
   },
   {
    "duration": 64,
    "start_time": "2025-01-13T23:36:21.216Z"
   },
   {
    "duration": 4,
    "start_time": "2025-01-13T23:36:21.282Z"
   },
   {
    "duration": 3,
    "start_time": "2025-01-13T23:36:21.288Z"
   },
   {
    "duration": 5,
    "start_time": "2025-01-13T23:36:21.293Z"
   },
   {
    "duration": 140,
    "start_time": "2025-01-13T23:36:21.299Z"
   },
   {
    "duration": 25,
    "start_time": "2025-01-13T23:36:21.441Z"
   },
   {
    "duration": 90,
    "start_time": "2025-01-13T23:36:21.468Z"
   },
   {
    "duration": 16,
    "start_time": "2025-01-13T23:39:08.035Z"
   },
   {
    "duration": 1471,
    "start_time": "2025-01-13T23:40:11.203Z"
   },
   {
    "duration": 16,
    "start_time": "2025-01-13T23:40:27.224Z"
   },
   {
    "duration": 12,
    "start_time": "2025-01-13T23:41:00.286Z"
   },
   {
    "duration": 12,
    "start_time": "2025-01-13T23:41:11.759Z"
   },
   {
    "duration": 726,
    "start_time": "2025-01-13T23:41:13.857Z"
   },
   {
    "duration": 12,
    "start_time": "2025-01-13T23:41:38.157Z"
   },
   {
    "duration": 13,
    "start_time": "2025-01-13T23:42:08.362Z"
   },
   {
    "duration": 17,
    "start_time": "2025-01-13T23:42:10.498Z"
   },
   {
    "duration": 28,
    "start_time": "2025-01-13T23:43:13.062Z"
   },
   {
    "duration": 13,
    "start_time": "2025-01-13T23:43:33.501Z"
   },
   {
    "duration": 325,
    "start_time": "2025-01-13T23:43:35.263Z"
   },
   {
    "duration": 329,
    "start_time": "2025-01-13T23:43:47.203Z"
   },
   {
    "duration": 8,
    "start_time": "2025-01-13T23:46:16.453Z"
   },
   {
    "duration": 344,
    "start_time": "2025-01-13T23:46:23.113Z"
   },
   {
    "duration": 15,
    "start_time": "2025-01-13T23:48:55.945Z"
   },
   {
    "duration": 16,
    "start_time": "2025-01-13T23:49:22.983Z"
   },
   {
    "duration": 7,
    "start_time": "2025-01-13T23:49:56.310Z"
   },
   {
    "duration": 13,
    "start_time": "2025-01-13T23:52:07.224Z"
   },
   {
    "duration": 13,
    "start_time": "2025-01-13T23:52:17.278Z"
   },
   {
    "duration": 15,
    "start_time": "2025-01-13T23:52:27.454Z"
   },
   {
    "duration": 18,
    "start_time": "2025-01-14T00:05:30.611Z"
   },
   {
    "duration": 25,
    "start_time": "2025-01-14T00:19:08.983Z"
   },
   {
    "duration": 23,
    "start_time": "2025-01-14T00:19:21.179Z"
   },
   {
    "duration": 30,
    "start_time": "2025-01-14T00:19:25.068Z"
   },
   {
    "duration": 23,
    "start_time": "2025-01-14T00:19:28.620Z"
   },
   {
    "duration": 16,
    "start_time": "2025-01-14T00:19:55.597Z"
   },
   {
    "duration": 12,
    "start_time": "2025-01-14T00:20:10.808Z"
   },
   {
    "duration": 459,
    "start_time": "2025-01-14T00:21:04.432Z"
   },
   {
    "duration": 414,
    "start_time": "2025-01-14T19:50:31.251Z"
   },
   {
    "duration": 410,
    "start_time": "2025-01-14T19:50:31.667Z"
   },
   {
    "duration": 58,
    "start_time": "2025-01-14T19:50:32.078Z"
   },
   {
    "duration": 17,
    "start_time": "2025-01-14T19:50:32.137Z"
   },
   {
    "duration": 38,
    "start_time": "2025-01-14T19:50:32.157Z"
   },
   {
    "duration": 50,
    "start_time": "2025-01-14T19:50:32.197Z"
   },
   {
    "duration": 144,
    "start_time": "2025-01-14T19:50:32.250Z"
   },
   {
    "duration": 154,
    "start_time": "2025-01-14T19:50:32.396Z"
   },
   {
    "duration": 14,
    "start_time": "2025-01-14T19:50:32.552Z"
   },
   {
    "duration": 35,
    "start_time": "2025-01-14T19:50:32.569Z"
   },
   {
    "duration": 10,
    "start_time": "2025-01-14T19:50:32.606Z"
   },
   {
    "duration": 90,
    "start_time": "2025-01-14T19:50:32.618Z"
   },
   {
    "duration": 52,
    "start_time": "2025-01-14T19:50:32.710Z"
   },
   {
    "duration": 40,
    "start_time": "2025-01-14T19:50:32.765Z"
   },
   {
    "duration": 93,
    "start_time": "2025-01-14T19:50:32.807Z"
   },
   {
    "duration": 146,
    "start_time": "2025-01-14T19:50:32.901Z"
   },
   {
    "duration": 39,
    "start_time": "2025-01-14T19:50:33.049Z"
   },
   {
    "duration": 1019,
    "start_time": "2025-01-14T19:50:33.090Z"
   },
   {
    "duration": 221,
    "start_time": "2025-01-14T19:50:34.111Z"
   },
   {
    "duration": 221,
    "start_time": "2025-01-14T19:50:34.334Z"
   },
   {
    "duration": 88,
    "start_time": "2025-01-14T19:50:34.556Z"
   },
   {
    "duration": 240,
    "start_time": "2025-01-14T19:50:34.646Z"
   },
   {
    "duration": 229,
    "start_time": "2025-01-14T19:50:34.887Z"
   },
   {
    "duration": 14,
    "start_time": "2025-01-14T19:50:35.118Z"
   },
   {
    "duration": 223,
    "start_time": "2025-01-14T19:50:35.135Z"
   },
   {
    "duration": 83,
    "start_time": "2025-01-14T19:50:35.360Z"
   },
   {
    "duration": 176,
    "start_time": "2025-01-14T19:50:35.445Z"
   },
   {
    "duration": 1316,
    "start_time": "2025-01-14T19:50:35.629Z"
   },
   {
    "duration": 7,
    "start_time": "2025-01-14T19:50:36.947Z"
   },
   {
    "duration": 105,
    "start_time": "2025-01-14T19:50:36.955Z"
   },
   {
    "duration": 9,
    "start_time": "2025-01-14T19:50:37.062Z"
   },
   {
    "duration": 276,
    "start_time": "2025-01-14T19:50:37.072Z"
   },
   {
    "duration": 69,
    "start_time": "2025-01-14T19:50:37.350Z"
   },
   {
    "duration": 43,
    "start_time": "2025-01-14T19:50:37.430Z"
   },
   {
    "duration": 637,
    "start_time": "2025-01-14T19:50:37.474Z"
   },
   {
    "duration": 53,
    "start_time": "2025-01-14T19:50:38.113Z"
   },
   {
    "duration": 630,
    "start_time": "2025-01-14T19:50:38.168Z"
   },
   {
    "duration": 71,
    "start_time": "2025-01-14T19:50:38.800Z"
   },
   {
    "duration": 13,
    "start_time": "2025-01-14T19:50:38.873Z"
   },
   {
    "duration": 659,
    "start_time": "2025-01-14T19:50:38.887Z"
   },
   {
    "duration": 14,
    "start_time": "2025-01-14T19:50:39.550Z"
   },
   {
    "duration": 50,
    "start_time": "2025-01-14T19:50:39.565Z"
   },
   {
    "duration": 49,
    "start_time": "2025-01-14T19:50:39.617Z"
   },
   {
    "duration": 4,
    "start_time": "2025-01-14T19:50:39.668Z"
   },
   {
    "duration": 23,
    "start_time": "2025-01-14T19:50:39.674Z"
   },
   {
    "duration": 4,
    "start_time": "2025-01-14T19:50:39.699Z"
   },
   {
    "duration": 37,
    "start_time": "2025-01-14T19:50:39.705Z"
   },
   {
    "duration": 54,
    "start_time": "2025-01-14T19:50:39.744Z"
   },
   {
    "duration": 9,
    "start_time": "2025-01-14T19:50:39.800Z"
   },
   {
    "duration": 20,
    "start_time": "2025-01-14T19:50:39.810Z"
   },
   {
    "duration": 3,
    "start_time": "2025-01-14T19:50:39.832Z"
   },
   {
    "duration": 145,
    "start_time": "2025-01-14T19:50:39.837Z"
   },
   {
    "duration": 46,
    "start_time": "2025-01-14T19:50:39.985Z"
   },
   {
    "duration": 9,
    "start_time": "2025-01-14T19:50:40.033Z"
   },
   {
    "duration": 375,
    "start_time": "2025-01-14T19:50:40.043Z"
   },
   {
    "duration": 25,
    "start_time": "2025-01-14T19:50:40.419Z"
   },
   {
    "duration": 19,
    "start_time": "2025-01-14T19:50:40.446Z"
   },
   {
    "duration": 12,
    "start_time": "2025-01-14T19:50:40.467Z"
   },
   {
    "duration": 506,
    "start_time": "2025-01-14T19:50:40.481Z"
   },
   {
    "duration": 131,
    "start_time": "2025-01-14T19:59:33.899Z"
   },
   {
    "duration": 22,
    "start_time": "2025-01-14T20:01:50.197Z"
   },
   {
    "duration": 15,
    "start_time": "2025-01-14T20:02:40.019Z"
   },
   {
    "duration": 22,
    "start_time": "2025-01-14T20:08:41.911Z"
   },
   {
    "duration": 21,
    "start_time": "2025-01-14T20:11:20.684Z"
   },
   {
    "duration": 213,
    "start_time": "2025-01-14T20:15:54.479Z"
   },
   {
    "duration": 24,
    "start_time": "2025-01-14T20:16:11.677Z"
   },
   {
    "duration": 47,
    "start_time": "2025-01-14T20:16:24.385Z"
   },
   {
    "duration": 264,
    "start_time": "2025-01-14T20:18:22.273Z"
   },
   {
    "duration": 285,
    "start_time": "2025-01-14T20:18:31.668Z"
   },
   {
    "duration": 48,
    "start_time": "2025-01-14T20:30:45.213Z"
   },
   {
    "duration": 33,
    "start_time": "2025-01-14T20:31:38.986Z"
   },
   {
    "duration": 32,
    "start_time": "2025-01-14T20:31:57.082Z"
   },
   {
    "duration": 23,
    "start_time": "2025-01-14T20:32:22.353Z"
   },
   {
    "duration": 13,
    "start_time": "2025-01-14T20:32:50.605Z"
   },
   {
    "duration": 12,
    "start_time": "2025-01-14T20:32:59.524Z"
   },
   {
    "duration": 3,
    "start_time": "2025-01-14T20:33:05.361Z"
   },
   {
    "duration": 275,
    "start_time": "2025-01-14T20:33:05.366Z"
   },
   {
    "duration": 49,
    "start_time": "2025-01-14T20:33:05.643Z"
   },
   {
    "duration": 11,
    "start_time": "2025-01-14T20:33:05.694Z"
   },
   {
    "duration": 56,
    "start_time": "2025-01-14T20:33:05.707Z"
   },
   {
    "duration": 32,
    "start_time": "2025-01-14T20:33:05.765Z"
   },
   {
    "duration": 122,
    "start_time": "2025-01-14T20:33:05.800Z"
   },
   {
    "duration": 106,
    "start_time": "2025-01-14T20:33:05.924Z"
   },
   {
    "duration": 12,
    "start_time": "2025-01-14T20:33:06.032Z"
   },
   {
    "duration": 34,
    "start_time": "2025-01-14T20:33:06.046Z"
   },
   {
    "duration": 18,
    "start_time": "2025-01-14T20:33:06.082Z"
   },
   {
    "duration": 62,
    "start_time": "2025-01-14T20:33:06.102Z"
   },
   {
    "duration": 45,
    "start_time": "2025-01-14T20:33:06.165Z"
   },
   {
    "duration": 59,
    "start_time": "2025-01-14T20:33:06.214Z"
   },
   {
    "duration": 83,
    "start_time": "2025-01-14T20:33:06.275Z"
   },
   {
    "duration": 149,
    "start_time": "2025-01-14T20:33:06.360Z"
   },
   {
    "duration": 43,
    "start_time": "2025-01-14T20:33:06.511Z"
   },
   {
    "duration": 2,
    "start_time": "2025-01-14T20:33:06.556Z"
   },
   {
    "duration": 263,
    "start_time": "2025-01-14T20:33:06.560Z"
   },
   {
    "duration": 313,
    "start_time": "2025-01-14T20:33:06.825Z"
   },
   {
    "duration": 73,
    "start_time": "2025-01-14T20:33:07.140Z"
   },
   {
    "duration": 221,
    "start_time": "2025-01-14T20:33:07.215Z"
   },
   {
    "duration": 226,
    "start_time": "2025-01-14T20:33:07.438Z"
   },
   {
    "duration": 5,
    "start_time": "2025-01-14T20:33:07.666Z"
   },
   {
    "duration": 223,
    "start_time": "2025-01-14T20:33:07.672Z"
   },
   {
    "duration": 82,
    "start_time": "2025-01-14T20:33:07.896Z"
   },
   {
    "duration": 177,
    "start_time": "2025-01-14T20:33:07.980Z"
   },
   {
    "duration": 1340,
    "start_time": "2025-01-14T20:33:08.159Z"
   },
   {
    "duration": 6,
    "start_time": "2025-01-14T20:33:09.501Z"
   },
   {
    "duration": 74,
    "start_time": "2025-01-14T20:33:09.509Z"
   },
   {
    "duration": 8,
    "start_time": "2025-01-14T20:33:09.585Z"
   },
   {
    "duration": 272,
    "start_time": "2025-01-14T20:33:09.594Z"
   },
   {
    "duration": 74,
    "start_time": "2025-01-14T20:33:09.868Z"
   },
   {
    "duration": 48,
    "start_time": "2025-01-14T20:33:09.944Z"
   },
   {
    "duration": 584,
    "start_time": "2025-01-14T20:33:09.994Z"
   },
   {
    "duration": 53,
    "start_time": "2025-01-14T20:33:10.580Z"
   },
   {
    "duration": 543,
    "start_time": "2025-01-14T20:33:10.635Z"
   },
   {
    "duration": 76,
    "start_time": "2025-01-14T20:33:11.180Z"
   },
   {
    "duration": 14,
    "start_time": "2025-01-14T20:33:11.258Z"
   },
   {
    "duration": 588,
    "start_time": "2025-01-14T20:33:11.273Z"
   },
   {
    "duration": 14,
    "start_time": "2025-01-14T20:33:11.865Z"
   },
   {
    "duration": 49,
    "start_time": "2025-01-14T20:33:11.881Z"
   },
   {
    "duration": 37,
    "start_time": "2025-01-14T20:33:11.932Z"
   },
   {
    "duration": 12,
    "start_time": "2025-01-14T20:33:11.970Z"
   },
   {
    "duration": 26,
    "start_time": "2025-01-14T20:33:11.984Z"
   },
   {
    "duration": 10,
    "start_time": "2025-01-14T20:33:12.012Z"
   },
   {
    "duration": 13,
    "start_time": "2025-01-14T20:33:12.024Z"
   },
   {
    "duration": 51,
    "start_time": "2025-01-14T20:33:12.039Z"
   },
   {
    "duration": 4,
    "start_time": "2025-01-14T20:33:12.092Z"
   },
   {
    "duration": 77,
    "start_time": "2025-01-14T20:33:12.097Z"
   },
   {
    "duration": 15,
    "start_time": "2025-01-14T20:33:12.176Z"
   },
   {
    "duration": 103,
    "start_time": "2025-01-14T20:33:12.193Z"
   },
   {
    "duration": 34,
    "start_time": "2025-01-14T20:33:12.298Z"
   },
   {
    "duration": 8,
    "start_time": "2025-01-14T20:33:12.334Z"
   },
   {
    "duration": 376,
    "start_time": "2025-01-14T20:33:12.344Z"
   },
   {
    "duration": 21,
    "start_time": "2025-01-14T20:33:12.722Z"
   },
   {
    "duration": 18,
    "start_time": "2025-01-14T20:33:12.744Z"
   },
   {
    "duration": 11,
    "start_time": "2025-01-14T20:33:12.763Z"
   },
   {
    "duration": 101,
    "start_time": "2025-01-14T20:33:12.775Z"
   },
   {
    "duration": 298,
    "start_time": "2025-01-14T20:33:12.878Z"
   },
   {
    "duration": 59,
    "start_time": "2025-01-14T20:33:13.178Z"
   },
   {
    "duration": 31,
    "start_time": "2025-01-14T20:34:49.511Z"
   },
   {
    "duration": 3,
    "start_time": "2025-01-14T20:35:01.108Z"
   },
   {
    "duration": 259,
    "start_time": "2025-01-14T20:35:01.113Z"
   },
   {
    "duration": 49,
    "start_time": "2025-01-14T20:35:01.373Z"
   },
   {
    "duration": 9,
    "start_time": "2025-01-14T20:35:01.424Z"
   },
   {
    "duration": 52,
    "start_time": "2025-01-14T20:35:01.435Z"
   },
   {
    "duration": 25,
    "start_time": "2025-01-14T20:35:01.488Z"
   },
   {
    "duration": 114,
    "start_time": "2025-01-14T20:35:01.515Z"
   },
   {
    "duration": 99,
    "start_time": "2025-01-14T20:35:01.631Z"
   },
   {
    "duration": 11,
    "start_time": "2025-01-14T20:35:01.732Z"
   },
   {
    "duration": 43,
    "start_time": "2025-01-14T20:35:01.745Z"
   },
   {
    "duration": 51,
    "start_time": "2025-01-14T20:35:01.790Z"
   },
   {
    "duration": 74,
    "start_time": "2025-01-14T20:35:01.843Z"
   },
   {
    "duration": 45,
    "start_time": "2025-01-14T20:35:01.918Z"
   },
   {
    "duration": 58,
    "start_time": "2025-01-14T20:35:01.966Z"
   },
   {
    "duration": 99,
    "start_time": "2025-01-14T20:35:02.026Z"
   },
   {
    "duration": 138,
    "start_time": "2025-01-14T20:35:02.127Z"
   },
   {
    "duration": 35,
    "start_time": "2025-01-14T20:35:02.267Z"
   },
   {
    "duration": 3,
    "start_time": "2025-01-14T20:35:02.303Z"
   },
   {
    "duration": 222,
    "start_time": "2025-01-14T20:35:02.308Z"
   },
   {
    "duration": 218,
    "start_time": "2025-01-14T20:35:02.531Z"
   },
   {
    "duration": 87,
    "start_time": "2025-01-14T20:35:02.751Z"
   },
   {
    "duration": 338,
    "start_time": "2025-01-14T20:35:02.840Z"
   },
   {
    "duration": 222,
    "start_time": "2025-01-14T20:35:03.180Z"
   },
   {
    "duration": 5,
    "start_time": "2025-01-14T20:35:03.404Z"
   },
   {
    "duration": 223,
    "start_time": "2025-01-14T20:35:03.410Z"
   },
   {
    "duration": 75,
    "start_time": "2025-01-14T20:35:03.635Z"
   },
   {
    "duration": 186,
    "start_time": "2025-01-14T20:35:03.711Z"
   },
   {
    "duration": 1336,
    "start_time": "2025-01-14T20:35:03.899Z"
   },
   {
    "duration": 7,
    "start_time": "2025-01-14T20:35:05.237Z"
   },
   {
    "duration": 79,
    "start_time": "2025-01-14T20:35:05.246Z"
   },
   {
    "duration": 9,
    "start_time": "2025-01-14T20:35:05.327Z"
   },
   {
    "duration": 298,
    "start_time": "2025-01-14T20:35:05.337Z"
   },
   {
    "duration": 70,
    "start_time": "2025-01-14T20:35:05.636Z"
   },
   {
    "duration": 63,
    "start_time": "2025-01-14T20:35:05.707Z"
   },
   {
    "duration": 547,
    "start_time": "2025-01-14T20:35:05.771Z"
   },
   {
    "duration": 49,
    "start_time": "2025-01-14T20:35:06.320Z"
   },
   {
    "duration": 541,
    "start_time": "2025-01-14T20:35:06.371Z"
   },
   {
    "duration": 76,
    "start_time": "2025-01-14T20:35:06.914Z"
   },
   {
    "duration": 29,
    "start_time": "2025-01-14T20:35:06.992Z"
   },
   {
    "duration": 634,
    "start_time": "2025-01-14T20:35:07.022Z"
   },
   {
    "duration": 13,
    "start_time": "2025-01-14T20:35:07.662Z"
   },
   {
    "duration": 53,
    "start_time": "2025-01-14T20:35:07.677Z"
   },
   {
    "duration": 39,
    "start_time": "2025-01-14T20:35:07.732Z"
   },
   {
    "duration": 3,
    "start_time": "2025-01-14T20:35:07.774Z"
   },
   {
    "duration": 25,
    "start_time": "2025-01-14T20:35:07.779Z"
   },
   {
    "duration": 5,
    "start_time": "2025-01-14T20:35:07.806Z"
   },
   {
    "duration": 14,
    "start_time": "2025-01-14T20:35:07.830Z"
   },
   {
    "duration": 66,
    "start_time": "2025-01-14T20:35:07.846Z"
   },
   {
    "duration": 4,
    "start_time": "2025-01-14T20:35:07.914Z"
   },
   {
    "duration": 25,
    "start_time": "2025-01-14T20:35:07.919Z"
   },
   {
    "duration": 20,
    "start_time": "2025-01-14T20:35:07.946Z"
   },
   {
    "duration": 100,
    "start_time": "2025-01-14T20:35:07.968Z"
   },
   {
    "duration": 28,
    "start_time": "2025-01-14T20:35:08.070Z"
   },
   {
    "duration": 8,
    "start_time": "2025-01-14T20:35:08.100Z"
   },
   {
    "duration": 426,
    "start_time": "2025-01-14T20:35:08.110Z"
   },
   {
    "duration": 17,
    "start_time": "2025-01-14T20:35:08.538Z"
   },
   {
    "duration": 19,
    "start_time": "2025-01-14T20:35:08.556Z"
   },
   {
    "duration": 10,
    "start_time": "2025-01-14T20:35:08.576Z"
   },
   {
    "duration": 102,
    "start_time": "2025-01-14T20:35:08.588Z"
   },
   {
    "duration": 298,
    "start_time": "2025-01-14T20:35:08.691Z"
   },
   {
    "duration": 53,
    "start_time": "2025-01-14T20:35:08.991Z"
   },
   {
    "duration": 287,
    "start_time": "2025-01-14T20:35:39.911Z"
   },
   {
    "duration": 297,
    "start_time": "2025-01-14T20:35:54.009Z"
   },
   {
    "duration": 287,
    "start_time": "2025-01-14T20:36:02.634Z"
   },
   {
    "duration": 52,
    "start_time": "2025-01-14T20:36:16.388Z"
   },
   {
    "duration": 21,
    "start_time": "2025-01-14T20:40:05.459Z"
   },
   {
    "duration": 51,
    "start_time": "2025-01-14T20:40:35.627Z"
   },
   {
    "duration": 305,
    "start_time": "2025-01-14T20:43:54.142Z"
   },
   {
    "duration": 298,
    "start_time": "2025-01-14T20:44:04.889Z"
   },
   {
    "duration": 282,
    "start_time": "2025-01-14T20:44:48.920Z"
   },
   {
    "duration": 1310,
    "start_time": "2025-01-14T20:45:19.483Z"
   },
   {
    "duration": 3,
    "start_time": "2025-01-14T20:45:43.049Z"
   },
   {
    "duration": 241,
    "start_time": "2025-01-14T20:45:43.054Z"
   },
   {
    "duration": 60,
    "start_time": "2025-01-14T20:45:43.297Z"
   },
   {
    "duration": 10,
    "start_time": "2025-01-14T20:45:43.358Z"
   },
   {
    "duration": 30,
    "start_time": "2025-01-14T20:45:43.371Z"
   },
   {
    "duration": 29,
    "start_time": "2025-01-14T20:45:43.403Z"
   },
   {
    "duration": 101,
    "start_time": "2025-01-14T20:45:43.433Z"
   },
   {
    "duration": 98,
    "start_time": "2025-01-14T20:45:43.536Z"
   },
   {
    "duration": 11,
    "start_time": "2025-01-14T20:45:43.636Z"
   },
   {
    "duration": 13,
    "start_time": "2025-01-14T20:45:43.648Z"
   },
   {
    "duration": 8,
    "start_time": "2025-01-14T20:45:43.662Z"
   },
   {
    "duration": 75,
    "start_time": "2025-01-14T20:45:43.671Z"
   },
   {
    "duration": 46,
    "start_time": "2025-01-14T20:45:43.748Z"
   },
   {
    "duration": 55,
    "start_time": "2025-01-14T20:45:43.797Z"
   },
   {
    "duration": 80,
    "start_time": "2025-01-14T20:45:43.853Z"
   },
   {
    "duration": 141,
    "start_time": "2025-01-14T20:45:43.934Z"
   },
   {
    "duration": 35,
    "start_time": "2025-01-14T20:45:44.076Z"
   },
   {
    "duration": 3,
    "start_time": "2025-01-14T20:45:44.113Z"
   },
   {
    "duration": 222,
    "start_time": "2025-01-14T20:45:44.117Z"
   },
   {
    "duration": 216,
    "start_time": "2025-01-14T20:45:44.342Z"
   },
   {
    "duration": 80,
    "start_time": "2025-01-14T20:45:44.560Z"
   },
   {
    "duration": 240,
    "start_time": "2025-01-14T20:45:44.641Z"
   },
   {
    "duration": 348,
    "start_time": "2025-01-14T20:45:44.883Z"
   },
   {
    "duration": 5,
    "start_time": "2025-01-14T20:45:45.234Z"
   },
   {
    "duration": 230,
    "start_time": "2025-01-14T20:45:45.242Z"
   },
   {
    "duration": 84,
    "start_time": "2025-01-14T20:45:45.474Z"
   },
   {
    "duration": 180,
    "start_time": "2025-01-14T20:45:45.560Z"
   },
   {
    "duration": 1395,
    "start_time": "2025-01-14T20:45:45.742Z"
   },
   {
    "duration": 9,
    "start_time": "2025-01-14T20:45:47.142Z"
   },
   {
    "duration": 61,
    "start_time": "2025-01-14T20:45:47.153Z"
   },
   {
    "duration": 21,
    "start_time": "2025-01-14T20:45:47.216Z"
   },
   {
    "duration": 299,
    "start_time": "2025-01-14T20:45:47.239Z"
   },
   {
    "duration": 72,
    "start_time": "2025-01-14T20:45:47.540Z"
   },
   {
    "duration": 63,
    "start_time": "2025-01-14T20:45:47.614Z"
   },
   {
    "duration": 575,
    "start_time": "2025-01-14T20:45:47.679Z"
   },
   {
    "duration": 45,
    "start_time": "2025-01-14T20:45:48.256Z"
   },
   {
    "duration": 595,
    "start_time": "2025-01-14T20:45:48.303Z"
   },
   {
    "duration": 78,
    "start_time": "2025-01-14T20:45:48.899Z"
   },
   {
    "duration": 12,
    "start_time": "2025-01-14T20:45:48.979Z"
   },
   {
    "duration": 604,
    "start_time": "2025-01-14T20:45:48.993Z"
   },
   {
    "duration": 14,
    "start_time": "2025-01-14T20:45:49.602Z"
   },
   {
    "duration": 45,
    "start_time": "2025-01-14T20:45:49.617Z"
   },
   {
    "duration": 38,
    "start_time": "2025-01-14T20:45:49.663Z"
   },
   {
    "duration": 4,
    "start_time": "2025-01-14T20:45:49.703Z"
   },
   {
    "duration": 36,
    "start_time": "2025-01-14T20:45:49.709Z"
   },
   {
    "duration": 6,
    "start_time": "2025-01-14T20:45:49.748Z"
   },
   {
    "duration": 28,
    "start_time": "2025-01-14T20:45:49.756Z"
   },
   {
    "duration": 68,
    "start_time": "2025-01-14T20:45:49.786Z"
   },
   {
    "duration": 4,
    "start_time": "2025-01-14T20:45:49.856Z"
   },
   {
    "duration": 4,
    "start_time": "2025-01-14T20:45:49.862Z"
   },
   {
    "duration": 9,
    "start_time": "2025-01-14T20:45:49.868Z"
   },
   {
    "duration": 135,
    "start_time": "2025-01-14T20:45:49.879Z"
   },
   {
    "duration": 39,
    "start_time": "2025-01-14T20:45:50.015Z"
   },
   {
    "duration": 9,
    "start_time": "2025-01-14T20:45:50.056Z"
   },
   {
    "duration": 434,
    "start_time": "2025-01-14T20:45:50.067Z"
   },
   {
    "duration": 31,
    "start_time": "2025-01-14T20:45:50.502Z"
   },
   {
    "duration": 25,
    "start_time": "2025-01-14T20:45:50.535Z"
   },
   {
    "duration": 10,
    "start_time": "2025-01-14T20:45:50.562Z"
   },
   {
    "duration": 108,
    "start_time": "2025-01-14T20:45:50.574Z"
   },
   {
    "duration": 331,
    "start_time": "2025-01-14T20:45:50.684Z"
   },
   {
    "duration": 0,
    "start_time": "2025-01-14T20:45:51.016Z"
   },
   {
    "duration": 0,
    "start_time": "2025-01-14T20:45:51.018Z"
   },
   {
    "duration": 340,
    "start_time": "2025-01-14T20:46:26.670Z"
   },
   {
    "duration": 384,
    "start_time": "2025-01-14T20:47:56.806Z"
   },
   {
    "duration": 546,
    "start_time": "2025-01-14T20:48:03.424Z"
   },
   {
    "duration": 410,
    "start_time": "2025-01-14T20:49:13.092Z"
   },
   {
    "duration": 3,
    "start_time": "2025-01-14T20:49:20.224Z"
   },
   {
    "duration": 235,
    "start_time": "2025-01-14T20:49:20.229Z"
   },
   {
    "duration": 560,
    "start_time": "2025-01-14T20:49:20.466Z"
   },
   {
    "duration": 10,
    "start_time": "2025-01-14T20:49:21.027Z"
   },
   {
    "duration": 30,
    "start_time": "2025-01-14T20:49:21.040Z"
   },
   {
    "duration": 28,
    "start_time": "2025-01-14T20:49:21.072Z"
   },
   {
    "duration": 113,
    "start_time": "2025-01-14T20:49:21.101Z"
   },
   {
    "duration": 105,
    "start_time": "2025-01-14T20:49:21.216Z"
   },
   {
    "duration": 17,
    "start_time": "2025-01-14T20:49:21.323Z"
   },
   {
    "duration": 28,
    "start_time": "2025-01-14T20:49:21.342Z"
   },
   {
    "duration": 12,
    "start_time": "2025-01-14T20:49:21.372Z"
   },
   {
    "duration": 63,
    "start_time": "2025-01-14T20:49:21.386Z"
   },
   {
    "duration": 46,
    "start_time": "2025-01-14T20:49:21.451Z"
   },
   {
    "duration": 58,
    "start_time": "2025-01-14T20:49:21.500Z"
   },
   {
    "duration": 76,
    "start_time": "2025-01-14T20:49:21.560Z"
   },
   {
    "duration": 136,
    "start_time": "2025-01-14T20:49:21.637Z"
   },
   {
    "duration": 38,
    "start_time": "2025-01-14T20:49:21.775Z"
   },
   {
    "duration": 3,
    "start_time": "2025-01-14T20:49:21.830Z"
   },
   {
    "duration": 215,
    "start_time": "2025-01-14T20:49:21.835Z"
   },
   {
    "duration": 219,
    "start_time": "2025-01-14T20:49:22.051Z"
   },
   {
    "duration": 86,
    "start_time": "2025-01-14T20:49:22.272Z"
   },
   {
    "duration": 218,
    "start_time": "2025-01-14T20:49:22.359Z"
   },
   {
    "duration": 228,
    "start_time": "2025-01-14T20:49:22.579Z"
   },
   {
    "duration": 6,
    "start_time": "2025-01-14T20:49:22.808Z"
   },
   {
    "duration": 340,
    "start_time": "2025-01-14T20:49:22.815Z"
   },
   {
    "duration": 82,
    "start_time": "2025-01-14T20:49:23.156Z"
   },
   {
    "duration": 184,
    "start_time": "2025-01-14T20:49:23.240Z"
   },
   {
    "duration": 1351,
    "start_time": "2025-01-14T20:49:23.426Z"
   },
   {
    "duration": 8,
    "start_time": "2025-01-14T20:49:24.779Z"
   },
   {
    "duration": 82,
    "start_time": "2025-01-14T20:49:24.789Z"
   },
   {
    "duration": 9,
    "start_time": "2025-01-14T20:49:24.874Z"
   },
   {
    "duration": 283,
    "start_time": "2025-01-14T20:49:24.885Z"
   },
   {
    "duration": 86,
    "start_time": "2025-01-14T20:49:25.170Z"
   },
   {
    "duration": 46,
    "start_time": "2025-01-14T20:49:25.258Z"
   },
   {
    "duration": 568,
    "start_time": "2025-01-14T20:49:25.306Z"
   },
   {
    "duration": 58,
    "start_time": "2025-01-14T20:49:25.876Z"
   },
   {
    "duration": 527,
    "start_time": "2025-01-14T20:49:25.936Z"
   },
   {
    "duration": 78,
    "start_time": "2025-01-14T20:49:26.465Z"
   },
   {
    "duration": 14,
    "start_time": "2025-01-14T20:49:26.544Z"
   },
   {
    "duration": 563,
    "start_time": "2025-01-14T20:49:26.560Z"
   },
   {
    "duration": 13,
    "start_time": "2025-01-14T20:49:27.134Z"
   },
   {
    "duration": 35,
    "start_time": "2025-01-14T20:49:27.149Z"
   },
   {
    "duration": 58,
    "start_time": "2025-01-14T20:49:27.186Z"
   },
   {
    "duration": 4,
    "start_time": "2025-01-14T20:49:27.246Z"
   },
   {
    "duration": 17,
    "start_time": "2025-01-14T20:49:27.252Z"
   },
   {
    "duration": 5,
    "start_time": "2025-01-14T20:49:27.271Z"
   },
   {
    "duration": 41,
    "start_time": "2025-01-14T20:49:27.277Z"
   },
   {
    "duration": 56,
    "start_time": "2025-01-14T20:49:27.320Z"
   },
   {
    "duration": 4,
    "start_time": "2025-01-14T20:49:27.378Z"
   },
   {
    "duration": 3,
    "start_time": "2025-01-14T20:49:27.384Z"
   },
   {
    "duration": 4,
    "start_time": "2025-01-14T20:49:27.389Z"
   },
   {
    "duration": 122,
    "start_time": "2025-01-14T20:49:27.395Z"
   },
   {
    "duration": 33,
    "start_time": "2025-01-14T20:49:27.519Z"
   },
   {
    "duration": 8,
    "start_time": "2025-01-14T20:49:27.554Z"
   },
   {
    "duration": 389,
    "start_time": "2025-01-14T20:49:27.564Z"
   },
   {
    "duration": 20,
    "start_time": "2025-01-14T20:49:27.955Z"
   },
   {
    "duration": 18,
    "start_time": "2025-01-14T20:49:27.977Z"
   },
   {
    "duration": 33,
    "start_time": "2025-01-14T20:49:27.997Z"
   },
   {
    "duration": 79,
    "start_time": "2025-01-14T20:49:28.032Z"
   },
   {
    "duration": 344,
    "start_time": "2025-01-14T20:49:28.113Z"
   },
   {
    "duration": 90,
    "start_time": "2025-01-14T20:49:28.458Z"
   },
   {
    "duration": 1,
    "start_time": "2025-01-14T20:49:28.549Z"
   },
   {
    "duration": 289,
    "start_time": "2025-01-14T20:51:36.805Z"
   },
   {
    "duration": 291,
    "start_time": "2025-01-14T20:52:02.120Z"
   },
   {
    "duration": 284,
    "start_time": "2025-01-14T20:52:10.251Z"
   },
   {
    "duration": 279,
    "start_time": "2025-01-14T20:52:18.863Z"
   },
   {
    "duration": 69,
    "start_time": "2025-01-14T20:53:33.639Z"
   },
   {
    "duration": 27,
    "start_time": "2025-01-14T20:54:45.568Z"
   },
   {
    "duration": 19,
    "start_time": "2025-01-14T20:55:01.827Z"
   },
   {
    "duration": 20,
    "start_time": "2025-01-14T20:55:24.476Z"
   },
   {
    "duration": 286,
    "start_time": "2025-01-14T20:55:31.332Z"
   },
   {
    "duration": 7,
    "start_time": "2025-01-14T20:56:41.109Z"
   },
   {
    "duration": 91,
    "start_time": "2025-01-14T20:57:45.366Z"
   },
   {
    "duration": 12,
    "start_time": "2025-01-14T20:57:58.906Z"
   },
   {
    "duration": 276,
    "start_time": "2025-01-14T20:58:21.247Z"
   },
   {
    "duration": 17,
    "start_time": "2025-01-14T20:58:25.537Z"
   },
   {
    "duration": 30,
    "start_time": "2025-01-14T20:58:35.815Z"
   },
   {
    "duration": 3,
    "start_time": "2025-01-14T20:59:46.695Z"
   },
   {
    "duration": 225,
    "start_time": "2025-01-14T20:59:46.700Z"
   },
   {
    "duration": 50,
    "start_time": "2025-01-14T20:59:46.930Z"
   },
   {
    "duration": 10,
    "start_time": "2025-01-14T20:59:46.982Z"
   },
   {
    "duration": 34,
    "start_time": "2025-01-14T20:59:46.994Z"
   },
   {
    "duration": 24,
    "start_time": "2025-01-14T20:59:47.030Z"
   },
   {
    "duration": 102,
    "start_time": "2025-01-14T20:59:47.056Z"
   },
   {
    "duration": 105,
    "start_time": "2025-01-14T20:59:47.160Z"
   },
   {
    "duration": 11,
    "start_time": "2025-01-14T20:59:47.267Z"
   },
   {
    "duration": 14,
    "start_time": "2025-01-14T20:59:47.280Z"
   },
   {
    "duration": 11,
    "start_time": "2025-01-14T20:59:47.296Z"
   },
   {
    "duration": 70,
    "start_time": "2025-01-14T20:59:47.309Z"
   },
   {
    "duration": 60,
    "start_time": "2025-01-14T20:59:47.381Z"
   },
   {
    "duration": 42,
    "start_time": "2025-01-14T20:59:47.444Z"
   },
   {
    "duration": 86,
    "start_time": "2025-01-14T20:59:47.487Z"
   },
   {
    "duration": 142,
    "start_time": "2025-01-14T20:59:47.575Z"
   },
   {
    "duration": 36,
    "start_time": "2025-01-14T20:59:47.719Z"
   },
   {
    "duration": 3,
    "start_time": "2025-01-14T20:59:47.757Z"
   },
   {
    "duration": 214,
    "start_time": "2025-01-14T20:59:47.762Z"
   },
   {
    "duration": 216,
    "start_time": "2025-01-14T20:59:47.978Z"
   },
   {
    "duration": 83,
    "start_time": "2025-01-14T20:59:48.196Z"
   },
   {
    "duration": 234,
    "start_time": "2025-01-14T20:59:48.281Z"
   },
   {
    "duration": 228,
    "start_time": "2025-01-14T20:59:48.517Z"
   },
   {
    "duration": 5,
    "start_time": "2025-01-14T20:59:48.746Z"
   },
   {
    "duration": 224,
    "start_time": "2025-01-14T20:59:48.753Z"
   },
   {
    "duration": 86,
    "start_time": "2025-01-14T20:59:48.978Z"
   },
   {
    "duration": 311,
    "start_time": "2025-01-14T20:59:49.066Z"
   },
   {
    "duration": 1313,
    "start_time": "2025-01-14T20:59:49.379Z"
   },
   {
    "duration": 7,
    "start_time": "2025-01-14T20:59:50.694Z"
   },
   {
    "duration": 75,
    "start_time": "2025-01-14T20:59:50.702Z"
   },
   {
    "duration": 9,
    "start_time": "2025-01-14T20:59:50.778Z"
   },
   {
    "duration": 270,
    "start_time": "2025-01-14T20:59:50.788Z"
   },
   {
    "duration": 82,
    "start_time": "2025-01-14T20:59:51.060Z"
   },
   {
    "duration": 44,
    "start_time": "2025-01-14T20:59:51.144Z"
   },
   {
    "duration": 568,
    "start_time": "2025-01-14T20:59:51.190Z"
   },
   {
    "duration": 44,
    "start_time": "2025-01-14T20:59:51.760Z"
   },
   {
    "duration": 572,
    "start_time": "2025-01-14T20:59:51.805Z"
   },
   {
    "duration": 76,
    "start_time": "2025-01-14T20:59:52.379Z"
   },
   {
    "duration": 12,
    "start_time": "2025-01-14T20:59:52.457Z"
   },
   {
    "duration": 593,
    "start_time": "2025-01-14T20:59:52.470Z"
   },
   {
    "duration": 13,
    "start_time": "2025-01-14T20:59:53.067Z"
   },
   {
    "duration": 94,
    "start_time": "2025-01-14T20:59:53.081Z"
   },
   {
    "duration": 37,
    "start_time": "2025-01-14T20:59:53.177Z"
   },
   {
    "duration": 15,
    "start_time": "2025-01-14T20:59:53.215Z"
   },
   {
    "duration": 15,
    "start_time": "2025-01-14T20:59:53.232Z"
   },
   {
    "duration": 9,
    "start_time": "2025-01-14T20:59:53.249Z"
   },
   {
    "duration": 44,
    "start_time": "2025-01-14T20:59:53.259Z"
   },
   {
    "duration": 62,
    "start_time": "2025-01-14T20:59:53.304Z"
   },
   {
    "duration": 4,
    "start_time": "2025-01-14T20:59:53.367Z"
   },
   {
    "duration": 27,
    "start_time": "2025-01-14T20:59:53.372Z"
   },
   {
    "duration": 23,
    "start_time": "2025-01-14T20:59:53.401Z"
   },
   {
    "duration": 114,
    "start_time": "2025-01-14T20:59:53.426Z"
   },
   {
    "duration": 27,
    "start_time": "2025-01-14T20:59:53.541Z"
   },
   {
    "duration": 14,
    "start_time": "2025-01-14T20:59:53.570Z"
   },
   {
    "duration": 369,
    "start_time": "2025-01-14T20:59:53.585Z"
   },
   {
    "duration": 16,
    "start_time": "2025-01-14T20:59:53.956Z"
   },
   {
    "duration": 20,
    "start_time": "2025-01-14T20:59:53.974Z"
   },
   {
    "duration": 40,
    "start_time": "2025-01-14T20:59:53.996Z"
   },
   {
    "duration": 75,
    "start_time": "2025-01-14T20:59:54.038Z"
   },
   {
    "duration": 299,
    "start_time": "2025-01-14T20:59:54.115Z"
   },
   {
    "duration": 61,
    "start_time": "2025-01-14T20:59:54.416Z"
   },
   {
    "duration": 21,
    "start_time": "2025-01-14T20:59:54.479Z"
   },
   {
    "duration": 35,
    "start_time": "2025-01-14T21:00:47.269Z"
   },
   {
    "duration": 33,
    "start_time": "2025-01-14T21:03:36.398Z"
   },
   {
    "duration": 14,
    "start_time": "2025-01-14T21:06:21.728Z"
   },
   {
    "duration": 3,
    "start_time": "2025-01-14T21:36:48.762Z"
   },
   {
    "duration": 238,
    "start_time": "2025-01-14T21:36:48.767Z"
   },
   {
    "duration": 53,
    "start_time": "2025-01-14T21:36:49.008Z"
   },
   {
    "duration": 10,
    "start_time": "2025-01-14T21:36:49.064Z"
   },
   {
    "duration": 31,
    "start_time": "2025-01-14T21:36:49.075Z"
   },
   {
    "duration": 25,
    "start_time": "2025-01-14T21:36:49.107Z"
   },
   {
    "duration": 105,
    "start_time": "2025-01-14T21:36:49.135Z"
   },
   {
    "duration": 91,
    "start_time": "2025-01-14T21:36:49.241Z"
   },
   {
    "duration": 11,
    "start_time": "2025-01-14T21:36:49.334Z"
   },
   {
    "duration": 23,
    "start_time": "2025-01-14T21:36:49.348Z"
   },
   {
    "duration": 10,
    "start_time": "2025-01-14T21:36:49.372Z"
   },
   {
    "duration": 75,
    "start_time": "2025-01-14T21:36:49.384Z"
   },
   {
    "duration": 47,
    "start_time": "2025-01-14T21:36:49.461Z"
   },
   {
    "duration": 55,
    "start_time": "2025-01-14T21:36:49.510Z"
   },
   {
    "duration": 80,
    "start_time": "2025-01-14T21:36:49.567Z"
   },
   {
    "duration": 143,
    "start_time": "2025-01-14T21:36:49.649Z"
   },
   {
    "duration": 51,
    "start_time": "2025-01-14T21:36:49.794Z"
   },
   {
    "duration": 3,
    "start_time": "2025-01-14T21:36:49.847Z"
   },
   {
    "duration": 223,
    "start_time": "2025-01-14T21:36:49.858Z"
   },
   {
    "duration": 221,
    "start_time": "2025-01-14T21:36:50.083Z"
   },
   {
    "duration": 88,
    "start_time": "2025-01-14T21:36:50.307Z"
   },
   {
    "duration": 241,
    "start_time": "2025-01-14T21:36:50.397Z"
   },
   {
    "duration": 237,
    "start_time": "2025-01-14T21:36:50.640Z"
   },
   {
    "duration": 5,
    "start_time": "2025-01-14T21:36:50.879Z"
   },
   {
    "duration": 224,
    "start_time": "2025-01-14T21:36:50.885Z"
   },
   {
    "duration": 91,
    "start_time": "2025-01-14T21:36:51.111Z"
   },
   {
    "duration": 181,
    "start_time": "2025-01-14T21:36:51.204Z"
   },
   {
    "duration": 1430,
    "start_time": "2025-01-14T21:36:51.390Z"
   },
   {
    "duration": 11,
    "start_time": "2025-01-14T21:36:52.822Z"
   },
   {
    "duration": 197,
    "start_time": "2025-01-14T21:36:52.835Z"
   },
   {
    "duration": 9,
    "start_time": "2025-01-14T21:36:53.034Z"
   },
   {
    "duration": 289,
    "start_time": "2025-01-14T21:36:53.044Z"
   },
   {
    "duration": 79,
    "start_time": "2025-01-14T21:36:53.335Z"
   },
   {
    "duration": 59,
    "start_time": "2025-01-14T21:36:53.416Z"
   },
   {
    "duration": 638,
    "start_time": "2025-01-14T21:36:53.477Z"
   },
   {
    "duration": 60,
    "start_time": "2025-01-14T21:36:54.117Z"
   },
   {
    "duration": 571,
    "start_time": "2025-01-14T21:36:54.179Z"
   },
   {
    "duration": 84,
    "start_time": "2025-01-14T21:36:54.752Z"
   },
   {
    "duration": 13,
    "start_time": "2025-01-14T21:36:54.838Z"
   },
   {
    "duration": 575,
    "start_time": "2025-01-14T21:36:54.853Z"
   },
   {
    "duration": 44,
    "start_time": "2025-01-14T21:36:55.430Z"
   },
   {
    "duration": 14,
    "start_time": "2025-01-14T21:36:55.476Z"
   },
   {
    "duration": 0,
    "start_time": "2025-01-14T21:36:55.492Z"
   },
   {
    "duration": 0,
    "start_time": "2025-01-14T21:36:55.493Z"
   },
   {
    "duration": 0,
    "start_time": "2025-01-14T21:36:55.495Z"
   },
   {
    "duration": 0,
    "start_time": "2025-01-14T21:36:55.496Z"
   },
   {
    "duration": 0,
    "start_time": "2025-01-14T21:36:55.497Z"
   },
   {
    "duration": 0,
    "start_time": "2025-01-14T21:36:55.498Z"
   },
   {
    "duration": 0,
    "start_time": "2025-01-14T21:36:55.531Z"
   },
   {
    "duration": 0,
    "start_time": "2025-01-14T21:36:55.533Z"
   },
   {
    "duration": 0,
    "start_time": "2025-01-14T21:36:55.534Z"
   },
   {
    "duration": 0,
    "start_time": "2025-01-14T21:36:55.535Z"
   },
   {
    "duration": 0,
    "start_time": "2025-01-14T21:36:55.536Z"
   },
   {
    "duration": 0,
    "start_time": "2025-01-14T21:36:55.538Z"
   },
   {
    "duration": 0,
    "start_time": "2025-01-14T21:36:55.539Z"
   },
   {
    "duration": 0,
    "start_time": "2025-01-14T21:36:55.540Z"
   },
   {
    "duration": 0,
    "start_time": "2025-01-14T21:36:55.541Z"
   },
   {
    "duration": 0,
    "start_time": "2025-01-14T21:36:55.542Z"
   },
   {
    "duration": 0,
    "start_time": "2025-01-14T21:36:55.543Z"
   },
   {
    "duration": 0,
    "start_time": "2025-01-14T21:36:55.544Z"
   },
   {
    "duration": 0,
    "start_time": "2025-01-14T21:36:55.546Z"
   },
   {
    "duration": 0,
    "start_time": "2025-01-14T21:36:55.547Z"
   },
   {
    "duration": 0,
    "start_time": "2025-01-14T21:36:55.548Z"
   },
   {
    "duration": 2,
    "start_time": "2025-01-14T21:37:13.464Z"
   },
   {
    "duration": 235,
    "start_time": "2025-01-14T21:37:13.469Z"
   },
   {
    "duration": 59,
    "start_time": "2025-01-14T21:37:13.706Z"
   },
   {
    "duration": 9,
    "start_time": "2025-01-14T21:37:13.768Z"
   },
   {
    "duration": 33,
    "start_time": "2025-01-14T21:37:13.779Z"
   },
   {
    "duration": 37,
    "start_time": "2025-01-14T21:37:13.814Z"
   },
   {
    "duration": 95,
    "start_time": "2025-01-14T21:37:13.853Z"
   },
   {
    "duration": 132,
    "start_time": "2025-01-14T21:37:13.949Z"
   },
   {
    "duration": 13,
    "start_time": "2025-01-14T21:37:14.083Z"
   },
   {
    "duration": 30,
    "start_time": "2025-01-14T21:37:14.100Z"
   },
   {
    "duration": 12,
    "start_time": "2025-01-14T21:37:14.133Z"
   },
   {
    "duration": 59,
    "start_time": "2025-01-14T21:37:14.147Z"
   },
   {
    "duration": 54,
    "start_time": "2025-01-14T21:37:14.209Z"
   },
   {
    "duration": 42,
    "start_time": "2025-01-14T21:37:14.265Z"
   },
   {
    "duration": 79,
    "start_time": "2025-01-14T21:37:14.308Z"
   },
   {
    "duration": 150,
    "start_time": "2025-01-14T21:37:14.389Z"
   },
   {
    "duration": 35,
    "start_time": "2025-01-14T21:37:14.541Z"
   },
   {
    "duration": 3,
    "start_time": "2025-01-14T21:37:14.578Z"
   },
   {
    "duration": 259,
    "start_time": "2025-01-14T21:37:14.583Z"
   },
   {
    "duration": 232,
    "start_time": "2025-01-14T21:37:14.844Z"
   },
   {
    "duration": 86,
    "start_time": "2025-01-14T21:37:15.078Z"
   },
   {
    "duration": 226,
    "start_time": "2025-01-14T21:37:15.166Z"
   },
   {
    "duration": 236,
    "start_time": "2025-01-14T21:37:15.394Z"
   },
   {
    "duration": 6,
    "start_time": "2025-01-14T21:37:15.633Z"
   },
   {
    "duration": 222,
    "start_time": "2025-01-14T21:37:15.640Z"
   },
   {
    "duration": 84,
    "start_time": "2025-01-14T21:37:15.864Z"
   },
   {
    "duration": 185,
    "start_time": "2025-01-14T21:37:15.950Z"
   },
   {
    "duration": 1332,
    "start_time": "2025-01-14T21:37:16.139Z"
   },
   {
    "duration": 7,
    "start_time": "2025-01-14T21:37:17.473Z"
   },
   {
    "duration": 75,
    "start_time": "2025-01-14T21:37:17.481Z"
   },
   {
    "duration": 9,
    "start_time": "2025-01-14T21:37:17.558Z"
   },
   {
    "duration": 268,
    "start_time": "2025-01-14T21:37:17.568Z"
   },
   {
    "duration": 70,
    "start_time": "2025-01-14T21:37:17.838Z"
   },
   {
    "duration": 56,
    "start_time": "2025-01-14T21:37:17.909Z"
   },
   {
    "duration": 729,
    "start_time": "2025-01-14T21:37:17.967Z"
   },
   {
    "duration": 55,
    "start_time": "2025-01-14T21:37:18.698Z"
   },
   {
    "duration": 519,
    "start_time": "2025-01-14T21:37:18.755Z"
   },
   {
    "duration": 81,
    "start_time": "2025-01-14T21:37:19.276Z"
   },
   {
    "duration": 13,
    "start_time": "2025-01-14T21:37:19.359Z"
   },
   {
    "duration": 592,
    "start_time": "2025-01-14T21:37:19.374Z"
   },
   {
    "duration": 36,
    "start_time": "2025-01-14T21:37:19.967Z"
   },
   {
    "duration": 26,
    "start_time": "2025-01-14T21:37:20.005Z"
   },
   {
    "duration": 1,
    "start_time": "2025-01-14T21:37:20.032Z"
   },
   {
    "duration": 0,
    "start_time": "2025-01-14T21:37:20.034Z"
   },
   {
    "duration": 0,
    "start_time": "2025-01-14T21:37:20.035Z"
   },
   {
    "duration": 0,
    "start_time": "2025-01-14T21:37:20.036Z"
   },
   {
    "duration": 0,
    "start_time": "2025-01-14T21:37:20.037Z"
   },
   {
    "duration": 0,
    "start_time": "2025-01-14T21:37:20.039Z"
   },
   {
    "duration": 0,
    "start_time": "2025-01-14T21:37:20.040Z"
   },
   {
    "duration": 0,
    "start_time": "2025-01-14T21:37:20.041Z"
   },
   {
    "duration": 0,
    "start_time": "2025-01-14T21:37:20.042Z"
   },
   {
    "duration": 0,
    "start_time": "2025-01-14T21:37:20.043Z"
   },
   {
    "duration": 0,
    "start_time": "2025-01-14T21:37:20.045Z"
   },
   {
    "duration": 0,
    "start_time": "2025-01-14T21:37:20.046Z"
   },
   {
    "duration": 0,
    "start_time": "2025-01-14T21:37:20.047Z"
   },
   {
    "duration": 0,
    "start_time": "2025-01-14T21:37:20.048Z"
   },
   {
    "duration": 0,
    "start_time": "2025-01-14T21:37:20.050Z"
   },
   {
    "duration": 0,
    "start_time": "2025-01-14T21:37:20.051Z"
   },
   {
    "duration": 0,
    "start_time": "2025-01-14T21:37:20.052Z"
   },
   {
    "duration": 0,
    "start_time": "2025-01-14T21:37:20.054Z"
   },
   {
    "duration": 0,
    "start_time": "2025-01-14T21:37:20.055Z"
   },
   {
    "duration": 0,
    "start_time": "2025-01-14T21:37:20.057Z"
   },
   {
    "duration": 0,
    "start_time": "2025-01-14T21:37:20.058Z"
   },
   {
    "duration": 3,
    "start_time": "2025-01-14T21:37:39.896Z"
   },
   {
    "duration": 253,
    "start_time": "2025-01-14T21:37:39.902Z"
   },
   {
    "duration": 66,
    "start_time": "2025-01-14T21:37:40.157Z"
   },
   {
    "duration": 11,
    "start_time": "2025-01-14T21:37:40.226Z"
   },
   {
    "duration": 31,
    "start_time": "2025-01-14T21:37:40.239Z"
   },
   {
    "duration": 27,
    "start_time": "2025-01-14T21:37:40.273Z"
   },
   {
    "duration": 116,
    "start_time": "2025-01-14T21:37:40.302Z"
   },
   {
    "duration": 110,
    "start_time": "2025-01-14T21:37:40.420Z"
   },
   {
    "duration": 11,
    "start_time": "2025-01-14T21:37:40.532Z"
   },
   {
    "duration": 24,
    "start_time": "2025-01-14T21:37:40.546Z"
   },
   {
    "duration": 14,
    "start_time": "2025-01-14T21:37:40.572Z"
   },
   {
    "duration": 73,
    "start_time": "2025-01-14T21:37:40.587Z"
   },
   {
    "duration": 48,
    "start_time": "2025-01-14T21:37:40.662Z"
   },
   {
    "duration": 57,
    "start_time": "2025-01-14T21:37:40.712Z"
   },
   {
    "duration": 91,
    "start_time": "2025-01-14T21:37:40.771Z"
   },
   {
    "duration": 145,
    "start_time": "2025-01-14T21:37:40.865Z"
   },
   {
    "duration": 42,
    "start_time": "2025-01-14T21:37:41.012Z"
   },
   {
    "duration": 3,
    "start_time": "2025-01-14T21:37:41.056Z"
   },
   {
    "duration": 218,
    "start_time": "2025-01-14T21:37:41.061Z"
   },
   {
    "duration": 222,
    "start_time": "2025-01-14T21:37:41.281Z"
   },
   {
    "duration": 89,
    "start_time": "2025-01-14T21:37:41.505Z"
   },
   {
    "duration": 218,
    "start_time": "2025-01-14T21:37:41.595Z"
   },
   {
    "duration": 227,
    "start_time": "2025-01-14T21:37:41.814Z"
   },
   {
    "duration": 5,
    "start_time": "2025-01-14T21:37:42.043Z"
   },
   {
    "duration": 221,
    "start_time": "2025-01-14T21:37:42.050Z"
   },
   {
    "duration": 82,
    "start_time": "2025-01-14T21:37:42.273Z"
   },
   {
    "duration": 178,
    "start_time": "2025-01-14T21:37:42.357Z"
   },
   {
    "duration": 1315,
    "start_time": "2025-01-14T21:37:42.540Z"
   },
   {
    "duration": 6,
    "start_time": "2025-01-14T21:37:43.857Z"
   },
   {
    "duration": 82,
    "start_time": "2025-01-14T21:37:43.865Z"
   },
   {
    "duration": 10,
    "start_time": "2025-01-14T21:37:43.948Z"
   },
   {
    "duration": 273,
    "start_time": "2025-01-14T21:37:43.960Z"
   },
   {
    "duration": 70,
    "start_time": "2025-01-14T21:37:44.235Z"
   },
   {
    "duration": 56,
    "start_time": "2025-01-14T21:37:44.307Z"
   },
   {
    "duration": 573,
    "start_time": "2025-01-14T21:37:44.365Z"
   },
   {
    "duration": 42,
    "start_time": "2025-01-14T21:37:44.940Z"
   },
   {
    "duration": 680,
    "start_time": "2025-01-14T21:37:44.984Z"
   },
   {
    "duration": 79,
    "start_time": "2025-01-14T21:37:45.666Z"
   },
   {
    "duration": 12,
    "start_time": "2025-01-14T21:37:45.747Z"
   },
   {
    "duration": 595,
    "start_time": "2025-01-14T21:37:45.761Z"
   },
   {
    "duration": 37,
    "start_time": "2025-01-14T21:37:46.357Z"
   },
   {
    "duration": 13,
    "start_time": "2025-01-14T21:37:46.396Z"
   },
   {
    "duration": 0,
    "start_time": "2025-01-14T21:37:46.410Z"
   },
   {
    "duration": 0,
    "start_time": "2025-01-14T21:37:46.431Z"
   },
   {
    "duration": 0,
    "start_time": "2025-01-14T21:37:46.432Z"
   },
   {
    "duration": 0,
    "start_time": "2025-01-14T21:37:46.433Z"
   },
   {
    "duration": 0,
    "start_time": "2025-01-14T21:37:46.434Z"
   },
   {
    "duration": 0,
    "start_time": "2025-01-14T21:37:46.435Z"
   },
   {
    "duration": 0,
    "start_time": "2025-01-14T21:37:46.436Z"
   },
   {
    "duration": 0,
    "start_time": "2025-01-14T21:37:46.437Z"
   },
   {
    "duration": 0,
    "start_time": "2025-01-14T21:37:46.438Z"
   },
   {
    "duration": 0,
    "start_time": "2025-01-14T21:37:46.439Z"
   },
   {
    "duration": 0,
    "start_time": "2025-01-14T21:37:46.440Z"
   },
   {
    "duration": 0,
    "start_time": "2025-01-14T21:37:46.441Z"
   },
   {
    "duration": 0,
    "start_time": "2025-01-14T21:37:46.442Z"
   },
   {
    "duration": 0,
    "start_time": "2025-01-14T21:37:46.442Z"
   },
   {
    "duration": 0,
    "start_time": "2025-01-14T21:37:46.443Z"
   },
   {
    "duration": 0,
    "start_time": "2025-01-14T21:37:46.444Z"
   },
   {
    "duration": 0,
    "start_time": "2025-01-14T21:37:46.446Z"
   },
   {
    "duration": 0,
    "start_time": "2025-01-14T21:37:46.447Z"
   },
   {
    "duration": 0,
    "start_time": "2025-01-14T21:37:46.448Z"
   },
   {
    "duration": 0,
    "start_time": "2025-01-14T21:37:46.449Z"
   },
   {
    "duration": 0,
    "start_time": "2025-01-14T21:37:46.450Z"
   },
   {
    "duration": 3,
    "start_time": "2025-01-14T21:38:54.921Z"
   },
   {
    "duration": 251,
    "start_time": "2025-01-14T21:38:54.926Z"
   },
   {
    "duration": 54,
    "start_time": "2025-01-14T21:38:55.179Z"
   },
   {
    "duration": 14,
    "start_time": "2025-01-14T21:38:55.237Z"
   },
   {
    "duration": 33,
    "start_time": "2025-01-14T21:38:55.254Z"
   },
   {
    "duration": 46,
    "start_time": "2025-01-14T21:38:55.289Z"
   },
   {
    "duration": 116,
    "start_time": "2025-01-14T21:38:55.338Z"
   },
   {
    "duration": 108,
    "start_time": "2025-01-14T21:38:55.455Z"
   },
   {
    "duration": 11,
    "start_time": "2025-01-14T21:38:55.565Z"
   },
   {
    "duration": 16,
    "start_time": "2025-01-14T21:38:55.579Z"
   },
   {
    "duration": 8,
    "start_time": "2025-01-14T21:38:55.597Z"
   },
   {
    "duration": 78,
    "start_time": "2025-01-14T21:38:55.607Z"
   },
   {
    "duration": 56,
    "start_time": "2025-01-14T21:38:55.687Z"
   },
   {
    "duration": 44,
    "start_time": "2025-01-14T21:38:55.745Z"
   },
   {
    "duration": 89,
    "start_time": "2025-01-14T21:38:55.791Z"
   },
   {
    "duration": 145,
    "start_time": "2025-01-14T21:38:55.882Z"
   },
   {
    "duration": 40,
    "start_time": "2025-01-14T21:38:56.028Z"
   },
   {
    "duration": 3,
    "start_time": "2025-01-14T21:38:56.070Z"
   },
   {
    "duration": 222,
    "start_time": "2025-01-14T21:38:56.075Z"
   },
   {
    "duration": 234,
    "start_time": "2025-01-14T21:38:56.299Z"
   },
   {
    "duration": 75,
    "start_time": "2025-01-14T21:38:56.535Z"
   },
   {
    "duration": 248,
    "start_time": "2025-01-14T21:38:56.611Z"
   },
   {
    "duration": 233,
    "start_time": "2025-01-14T21:38:56.861Z"
   },
   {
    "duration": 5,
    "start_time": "2025-01-14T21:38:57.096Z"
   },
   {
    "duration": 229,
    "start_time": "2025-01-14T21:38:57.103Z"
   },
   {
    "duration": 78,
    "start_time": "2025-01-14T21:38:57.334Z"
   },
   {
    "duration": 195,
    "start_time": "2025-01-14T21:38:57.413Z"
   },
   {
    "duration": 1451,
    "start_time": "2025-01-14T21:38:57.613Z"
   },
   {
    "duration": 6,
    "start_time": "2025-01-14T21:38:59.066Z"
   },
   {
    "duration": 83,
    "start_time": "2025-01-14T21:38:59.074Z"
   },
   {
    "duration": 9,
    "start_time": "2025-01-14T21:38:59.159Z"
   },
   {
    "duration": 292,
    "start_time": "2025-01-14T21:38:59.169Z"
   },
   {
    "duration": 83,
    "start_time": "2025-01-14T21:38:59.463Z"
   },
   {
    "duration": 44,
    "start_time": "2025-01-14T21:38:59.548Z"
   },
   {
    "duration": 619,
    "start_time": "2025-01-14T21:38:59.593Z"
   },
   {
    "duration": 57,
    "start_time": "2025-01-14T21:39:00.214Z"
   },
   {
    "duration": 538,
    "start_time": "2025-01-14T21:39:00.274Z"
   },
   {
    "duration": 79,
    "start_time": "2025-01-14T21:39:00.813Z"
   },
   {
    "duration": 13,
    "start_time": "2025-01-14T21:39:00.894Z"
   },
   {
    "duration": 582,
    "start_time": "2025-01-14T21:39:00.909Z"
   },
   {
    "duration": 48,
    "start_time": "2025-01-14T21:39:01.493Z"
   },
   {
    "duration": 13,
    "start_time": "2025-01-14T21:39:01.543Z"
   },
   {
    "duration": 0,
    "start_time": "2025-01-14T21:39:01.558Z"
   },
   {
    "duration": 0,
    "start_time": "2025-01-14T21:39:01.559Z"
   },
   {
    "duration": 0,
    "start_time": "2025-01-14T21:39:01.560Z"
   },
   {
    "duration": 0,
    "start_time": "2025-01-14T21:39:01.561Z"
   },
   {
    "duration": 0,
    "start_time": "2025-01-14T21:39:01.562Z"
   },
   {
    "duration": 0,
    "start_time": "2025-01-14T21:39:01.563Z"
   },
   {
    "duration": 0,
    "start_time": "2025-01-14T21:39:01.564Z"
   },
   {
    "duration": 0,
    "start_time": "2025-01-14T21:39:01.565Z"
   },
   {
    "duration": 0,
    "start_time": "2025-01-14T21:39:01.566Z"
   },
   {
    "duration": 0,
    "start_time": "2025-01-14T21:39:01.567Z"
   },
   {
    "duration": 0,
    "start_time": "2025-01-14T21:39:01.569Z"
   },
   {
    "duration": 0,
    "start_time": "2025-01-14T21:39:01.570Z"
   },
   {
    "duration": 0,
    "start_time": "2025-01-14T21:39:01.571Z"
   },
   {
    "duration": 0,
    "start_time": "2025-01-14T21:39:01.572Z"
   },
   {
    "duration": 0,
    "start_time": "2025-01-14T21:39:01.573Z"
   },
   {
    "duration": 0,
    "start_time": "2025-01-14T21:39:01.574Z"
   },
   {
    "duration": 0,
    "start_time": "2025-01-14T21:39:01.575Z"
   },
   {
    "duration": 0,
    "start_time": "2025-01-14T21:39:01.576Z"
   },
   {
    "duration": 0,
    "start_time": "2025-01-14T21:39:01.577Z"
   },
   {
    "duration": 0,
    "start_time": "2025-01-14T21:39:01.578Z"
   },
   {
    "duration": 0,
    "start_time": "2025-01-14T21:39:01.579Z"
   },
   {
    "duration": 6,
    "start_time": "2025-01-14T21:39:06.694Z"
   },
   {
    "duration": 3,
    "start_time": "2025-01-14T21:39:15.430Z"
   },
   {
    "duration": 229,
    "start_time": "2025-01-14T21:39:15.435Z"
   },
   {
    "duration": 57,
    "start_time": "2025-01-14T21:39:15.666Z"
   },
   {
    "duration": 9,
    "start_time": "2025-01-14T21:39:15.725Z"
   },
   {
    "duration": 29,
    "start_time": "2025-01-14T21:39:15.736Z"
   },
   {
    "duration": 34,
    "start_time": "2025-01-14T21:39:15.767Z"
   },
   {
    "duration": 100,
    "start_time": "2025-01-14T21:39:15.803Z"
   },
   {
    "duration": 99,
    "start_time": "2025-01-14T21:39:15.905Z"
   },
   {
    "duration": 11,
    "start_time": "2025-01-14T21:39:16.006Z"
   },
   {
    "duration": 16,
    "start_time": "2025-01-14T21:39:16.030Z"
   },
   {
    "duration": 11,
    "start_time": "2025-01-14T21:39:16.048Z"
   },
   {
    "duration": 189,
    "start_time": "2025-01-14T21:39:16.061Z"
   },
   {
    "duration": 45,
    "start_time": "2025-01-14T21:39:16.253Z"
   },
   {
    "duration": 61,
    "start_time": "2025-01-14T21:39:16.303Z"
   },
   {
    "duration": 80,
    "start_time": "2025-01-14T21:39:16.366Z"
   },
   {
    "duration": 143,
    "start_time": "2025-01-14T21:39:16.448Z"
   },
   {
    "duration": 46,
    "start_time": "2025-01-14T21:39:16.593Z"
   },
   {
    "duration": 3,
    "start_time": "2025-01-14T21:39:16.641Z"
   },
   {
    "duration": 208,
    "start_time": "2025-01-14T21:39:16.646Z"
   },
   {
    "duration": 222,
    "start_time": "2025-01-14T21:39:16.856Z"
   },
   {
    "duration": 82,
    "start_time": "2025-01-14T21:39:17.080Z"
   },
   {
    "duration": 217,
    "start_time": "2025-01-14T21:39:17.164Z"
   },
   {
    "duration": 233,
    "start_time": "2025-01-14T21:39:17.383Z"
   },
   {
    "duration": 12,
    "start_time": "2025-01-14T21:39:17.618Z"
   },
   {
    "duration": 209,
    "start_time": "2025-01-14T21:39:17.631Z"
   },
   {
    "duration": 74,
    "start_time": "2025-01-14T21:39:17.842Z"
   },
   {
    "duration": 180,
    "start_time": "2025-01-14T21:39:17.930Z"
   },
   {
    "duration": 1370,
    "start_time": "2025-01-14T21:39:18.112Z"
   },
   {
    "duration": 7,
    "start_time": "2025-01-14T21:39:19.483Z"
   },
   {
    "duration": 72,
    "start_time": "2025-01-14T21:39:19.492Z"
   },
   {
    "duration": 8,
    "start_time": "2025-01-14T21:39:19.566Z"
   },
   {
    "duration": 266,
    "start_time": "2025-01-14T21:39:19.575Z"
   },
   {
    "duration": 68,
    "start_time": "2025-01-14T21:39:19.843Z"
   },
   {
    "duration": 57,
    "start_time": "2025-01-14T21:39:19.913Z"
   },
   {
    "duration": 524,
    "start_time": "2025-01-14T21:39:19.971Z"
   },
   {
    "duration": 58,
    "start_time": "2025-01-14T21:39:20.496Z"
   },
   {
    "duration": 505,
    "start_time": "2025-01-14T21:39:20.556Z"
   },
   {
    "duration": 74,
    "start_time": "2025-01-14T21:39:21.062Z"
   },
   {
    "duration": 13,
    "start_time": "2025-01-14T21:39:21.138Z"
   },
   {
    "duration": 545,
    "start_time": "2025-01-14T21:39:21.152Z"
   },
   {
    "duration": 49,
    "start_time": "2025-01-14T21:39:21.703Z"
   },
   {
    "duration": 13,
    "start_time": "2025-01-14T21:39:21.755Z"
   },
   {
    "duration": 0,
    "start_time": "2025-01-14T21:39:21.769Z"
   },
   {
    "duration": 0,
    "start_time": "2025-01-14T21:39:21.771Z"
   },
   {
    "duration": 0,
    "start_time": "2025-01-14T21:39:21.772Z"
   },
   {
    "duration": 0,
    "start_time": "2025-01-14T21:39:21.773Z"
   },
   {
    "duration": 0,
    "start_time": "2025-01-14T21:39:21.774Z"
   },
   {
    "duration": 0,
    "start_time": "2025-01-14T21:39:21.775Z"
   },
   {
    "duration": 0,
    "start_time": "2025-01-14T21:39:21.776Z"
   },
   {
    "duration": 0,
    "start_time": "2025-01-14T21:39:21.777Z"
   },
   {
    "duration": 0,
    "start_time": "2025-01-14T21:39:21.778Z"
   },
   {
    "duration": 0,
    "start_time": "2025-01-14T21:39:21.779Z"
   },
   {
    "duration": 0,
    "start_time": "2025-01-14T21:39:21.781Z"
   },
   {
    "duration": 0,
    "start_time": "2025-01-14T21:39:21.782Z"
   },
   {
    "duration": 0,
    "start_time": "2025-01-14T21:39:21.783Z"
   },
   {
    "duration": 0,
    "start_time": "2025-01-14T21:39:21.784Z"
   },
   {
    "duration": 0,
    "start_time": "2025-01-14T21:39:21.785Z"
   },
   {
    "duration": 0,
    "start_time": "2025-01-14T21:39:21.786Z"
   },
   {
    "duration": 0,
    "start_time": "2025-01-14T21:39:21.786Z"
   },
   {
    "duration": 0,
    "start_time": "2025-01-14T21:39:21.787Z"
   },
   {
    "duration": 0,
    "start_time": "2025-01-14T21:39:21.788Z"
   },
   {
    "duration": 0,
    "start_time": "2025-01-14T21:39:21.830Z"
   },
   {
    "duration": 0,
    "start_time": "2025-01-14T21:39:21.831Z"
   },
   {
    "duration": 3,
    "start_time": "2025-01-14T21:39:40.936Z"
   },
   {
    "duration": 243,
    "start_time": "2025-01-14T21:39:40.941Z"
   },
   {
    "duration": 46,
    "start_time": "2025-01-14T21:39:41.186Z"
   },
   {
    "duration": 12,
    "start_time": "2025-01-14T21:39:41.233Z"
   },
   {
    "duration": 32,
    "start_time": "2025-01-14T21:39:41.247Z"
   },
   {
    "duration": 48,
    "start_time": "2025-01-14T21:39:41.282Z"
   },
   {
    "duration": 99,
    "start_time": "2025-01-14T21:39:41.332Z"
   },
   {
    "duration": 99,
    "start_time": "2025-01-14T21:39:41.433Z"
   },
   {
    "duration": 13,
    "start_time": "2025-01-14T21:39:41.534Z"
   },
   {
    "duration": 12,
    "start_time": "2025-01-14T21:39:41.549Z"
   },
   {
    "duration": 8,
    "start_time": "2025-01-14T21:39:41.563Z"
   },
   {
    "duration": 77,
    "start_time": "2025-01-14T21:39:41.572Z"
   },
   {
    "duration": 46,
    "start_time": "2025-01-14T21:39:41.651Z"
   },
   {
    "duration": 56,
    "start_time": "2025-01-14T21:39:41.700Z"
   },
   {
    "duration": 82,
    "start_time": "2025-01-14T21:39:41.757Z"
   },
   {
    "duration": 136,
    "start_time": "2025-01-14T21:39:41.841Z"
   },
   {
    "duration": 36,
    "start_time": "2025-01-14T21:39:41.979Z"
   },
   {
    "duration": 16,
    "start_time": "2025-01-14T21:39:42.016Z"
   },
   {
    "duration": 209,
    "start_time": "2025-01-14T21:39:42.034Z"
   },
   {
    "duration": 328,
    "start_time": "2025-01-14T21:39:42.244Z"
   },
   {
    "duration": 80,
    "start_time": "2025-01-14T21:39:42.574Z"
   },
   {
    "duration": 213,
    "start_time": "2025-01-14T21:39:42.656Z"
   },
   {
    "duration": 223,
    "start_time": "2025-01-14T21:39:42.871Z"
   },
   {
    "duration": 5,
    "start_time": "2025-01-14T21:39:43.096Z"
   },
   {
    "duration": 221,
    "start_time": "2025-01-14T21:39:43.102Z"
   },
   {
    "duration": 77,
    "start_time": "2025-01-14T21:39:43.324Z"
   },
   {
    "duration": 185,
    "start_time": "2025-01-14T21:39:43.403Z"
   },
   {
    "duration": 1355,
    "start_time": "2025-01-14T21:39:43.590Z"
   },
   {
    "duration": 8,
    "start_time": "2025-01-14T21:39:44.947Z"
   },
   {
    "duration": 77,
    "start_time": "2025-01-14T21:39:44.956Z"
   },
   {
    "duration": 10,
    "start_time": "2025-01-14T21:39:45.035Z"
   },
   {
    "duration": 292,
    "start_time": "2025-01-14T21:39:45.047Z"
   },
   {
    "duration": 71,
    "start_time": "2025-01-14T21:39:45.341Z"
   },
   {
    "duration": 58,
    "start_time": "2025-01-14T21:39:45.414Z"
   },
   {
    "duration": 570,
    "start_time": "2025-01-14T21:39:45.474Z"
   },
   {
    "duration": 44,
    "start_time": "2025-01-14T21:39:46.047Z"
   },
   {
    "duration": 558,
    "start_time": "2025-01-14T21:39:46.094Z"
   },
   {
    "duration": 76,
    "start_time": "2025-01-14T21:39:46.654Z"
   },
   {
    "duration": 13,
    "start_time": "2025-01-14T21:39:46.732Z"
   },
   {
    "duration": 599,
    "start_time": "2025-01-14T21:39:46.746Z"
   },
   {
    "duration": 35,
    "start_time": "2025-01-14T21:39:47.349Z"
   },
   {
    "duration": 53,
    "start_time": "2025-01-14T21:39:47.386Z"
   },
   {
    "duration": 5,
    "start_time": "2025-01-14T21:39:47.442Z"
   },
   {
    "duration": 16,
    "start_time": "2025-01-14T21:39:47.449Z"
   },
   {
    "duration": 4,
    "start_time": "2025-01-14T21:39:47.467Z"
   },
   {
    "duration": 21,
    "start_time": "2025-01-14T21:39:47.473Z"
   },
   {
    "duration": 76,
    "start_time": "2025-01-14T21:39:47.496Z"
   },
   {
    "duration": 4,
    "start_time": "2025-01-14T21:39:47.573Z"
   },
   {
    "duration": 4,
    "start_time": "2025-01-14T21:39:47.578Z"
   },
   {
    "duration": 6,
    "start_time": "2025-01-14T21:39:47.584Z"
   },
   {
    "duration": 132,
    "start_time": "2025-01-14T21:39:47.591Z"
   },
   {
    "duration": 28,
    "start_time": "2025-01-14T21:39:47.725Z"
   },
   {
    "duration": 9,
    "start_time": "2025-01-14T21:39:47.755Z"
   },
   {
    "duration": 387,
    "start_time": "2025-01-14T21:39:47.765Z"
   },
   {
    "duration": 16,
    "start_time": "2025-01-14T21:39:48.154Z"
   },
   {
    "duration": 17,
    "start_time": "2025-01-14T21:39:48.172Z"
   },
   {
    "duration": 10,
    "start_time": "2025-01-14T21:39:48.190Z"
   },
   {
    "duration": 71,
    "start_time": "2025-01-14T21:39:48.230Z"
   },
   {
    "duration": 316,
    "start_time": "2025-01-14T21:39:48.302Z"
   },
   {
    "duration": 65,
    "start_time": "2025-01-14T21:39:48.619Z"
   },
   {
    "duration": 22,
    "start_time": "2025-01-14T21:39:48.685Z"
   },
   {
    "duration": 50,
    "start_time": "2025-01-14T21:39:48.709Z"
   },
   {
    "duration": 5,
    "start_time": "2025-01-14T21:39:48.761Z"
   },
   {
    "duration": 127,
    "start_time": "2025-01-14T21:40:48.633Z"
   },
   {
    "duration": 84,
    "start_time": "2025-01-14T21:45:36.037Z"
   },
   {
    "duration": 4,
    "start_time": "2025-01-14T21:48:58.387Z"
   },
   {
    "duration": 230,
    "start_time": "2025-01-14T21:48:58.393Z"
   },
   {
    "duration": 51,
    "start_time": "2025-01-14T21:48:58.624Z"
   },
   {
    "duration": 10,
    "start_time": "2025-01-14T21:48:58.676Z"
   },
   {
    "duration": 34,
    "start_time": "2025-01-14T21:48:58.689Z"
   },
   {
    "duration": 29,
    "start_time": "2025-01-14T21:48:58.725Z"
   },
   {
    "duration": 93,
    "start_time": "2025-01-14T21:48:58.755Z"
   },
   {
    "duration": 102,
    "start_time": "2025-01-14T21:48:58.850Z"
   },
   {
    "duration": 12,
    "start_time": "2025-01-14T21:48:58.954Z"
   },
   {
    "duration": 13,
    "start_time": "2025-01-14T21:48:58.969Z"
   },
   {
    "duration": 10,
    "start_time": "2025-01-14T21:48:58.984Z"
   },
   {
    "duration": 84,
    "start_time": "2025-01-14T21:48:58.996Z"
   },
   {
    "duration": 60,
    "start_time": "2025-01-14T21:48:59.082Z"
   },
   {
    "duration": 41,
    "start_time": "2025-01-14T21:48:59.145Z"
   },
   {
    "duration": 82,
    "start_time": "2025-01-14T21:48:59.188Z"
   },
   {
    "duration": 140,
    "start_time": "2025-01-14T21:48:59.272Z"
   },
   {
    "duration": 41,
    "start_time": "2025-01-14T21:48:59.414Z"
   },
   {
    "duration": 3,
    "start_time": "2025-01-14T21:48:59.456Z"
   },
   {
    "duration": 216,
    "start_time": "2025-01-14T21:48:59.460Z"
   },
   {
    "duration": 214,
    "start_time": "2025-01-14T21:48:59.678Z"
   },
   {
    "duration": 81,
    "start_time": "2025-01-14T21:48:59.894Z"
   },
   {
    "duration": 215,
    "start_time": "2025-01-14T21:48:59.977Z"
   },
   {
    "duration": 353,
    "start_time": "2025-01-14T21:49:00.194Z"
   },
   {
    "duration": 5,
    "start_time": "2025-01-14T21:49:00.549Z"
   },
   {
    "duration": 222,
    "start_time": "2025-01-14T21:49:00.556Z"
   },
   {
    "duration": 85,
    "start_time": "2025-01-14T21:49:00.780Z"
   },
   {
    "duration": 174,
    "start_time": "2025-01-14T21:49:00.867Z"
   },
   {
    "duration": 1314,
    "start_time": "2025-01-14T21:49:01.043Z"
   },
   {
    "duration": 7,
    "start_time": "2025-01-14T21:49:02.359Z"
   },
   {
    "duration": 77,
    "start_time": "2025-01-14T21:49:02.367Z"
   },
   {
    "duration": 9,
    "start_time": "2025-01-14T21:49:02.445Z"
   },
   {
    "duration": 265,
    "start_time": "2025-01-14T21:49:02.455Z"
   },
   {
    "duration": 71,
    "start_time": "2025-01-14T21:49:02.722Z"
   },
   {
    "duration": 56,
    "start_time": "2025-01-14T21:49:02.794Z"
   },
   {
    "duration": 533,
    "start_time": "2025-01-14T21:49:02.852Z"
   },
   {
    "duration": 52,
    "start_time": "2025-01-14T21:49:03.387Z"
   },
   {
    "duration": 530,
    "start_time": "2025-01-14T21:49:03.440Z"
   },
   {
    "duration": 76,
    "start_time": "2025-01-14T21:49:03.972Z"
   },
   {
    "duration": 12,
    "start_time": "2025-01-14T21:49:04.050Z"
   },
   {
    "duration": 588,
    "start_time": "2025-01-14T21:49:04.064Z"
   },
   {
    "duration": 41,
    "start_time": "2025-01-14T21:49:04.656Z"
   },
   {
    "duration": 69,
    "start_time": "2025-01-14T21:49:04.700Z"
   },
   {
    "duration": 13,
    "start_time": "2025-01-14T21:49:04.770Z"
   },
   {
    "duration": 17,
    "start_time": "2025-01-14T21:49:04.785Z"
   },
   {
    "duration": 5,
    "start_time": "2025-01-14T21:49:04.804Z"
   },
   {
    "duration": 15,
    "start_time": "2025-01-14T21:49:04.831Z"
   },
   {
    "duration": 52,
    "start_time": "2025-01-14T21:49:04.848Z"
   },
   {
    "duration": 4,
    "start_time": "2025-01-14T21:49:04.902Z"
   },
   {
    "duration": 22,
    "start_time": "2025-01-14T21:49:04.908Z"
   },
   {
    "duration": 8,
    "start_time": "2025-01-14T21:49:04.932Z"
   },
   {
    "duration": 126,
    "start_time": "2025-01-14T21:49:04.941Z"
   },
   {
    "duration": 29,
    "start_time": "2025-01-14T21:49:05.069Z"
   },
   {
    "duration": 25,
    "start_time": "2025-01-14T21:49:05.099Z"
   },
   {
    "duration": 370,
    "start_time": "2025-01-14T21:49:05.126Z"
   },
   {
    "duration": 17,
    "start_time": "2025-01-14T21:49:05.498Z"
   },
   {
    "duration": 20,
    "start_time": "2025-01-14T21:49:05.529Z"
   },
   {
    "duration": 21,
    "start_time": "2025-01-14T21:49:05.551Z"
   },
   {
    "duration": 83,
    "start_time": "2025-01-14T21:49:05.574Z"
   },
   {
    "duration": 286,
    "start_time": "2025-01-14T21:49:05.659Z"
   },
   {
    "duration": 57,
    "start_time": "2025-01-14T21:49:05.947Z"
   },
   {
    "duration": 33,
    "start_time": "2025-01-14T21:49:06.006Z"
   },
   {
    "duration": 50,
    "start_time": "2025-01-14T21:49:06.041Z"
   },
   {
    "duration": 5,
    "start_time": "2025-01-14T21:49:06.094Z"
   },
   {
    "duration": 75,
    "start_time": "2025-01-14T21:49:16.797Z"
   },
   {
    "duration": 11,
    "start_time": "2025-01-14T21:49:26.559Z"
   },
   {
    "duration": 72,
    "start_time": "2025-01-14T21:49:32.714Z"
   },
   {
    "duration": 3,
    "start_time": "2025-01-14T21:49:56.593Z"
   },
   {
    "duration": 240,
    "start_time": "2025-01-14T21:49:56.598Z"
   },
   {
    "duration": 96,
    "start_time": "2025-01-14T21:49:56.841Z"
   },
   {
    "duration": 11,
    "start_time": "2025-01-14T21:49:56.940Z"
   },
   {
    "duration": 36,
    "start_time": "2025-01-14T21:49:56.953Z"
   },
   {
    "duration": 41,
    "start_time": "2025-01-14T21:49:56.992Z"
   },
   {
    "duration": 103,
    "start_time": "2025-01-14T21:49:57.036Z"
   },
   {
    "duration": 101,
    "start_time": "2025-01-14T21:49:57.141Z"
   },
   {
    "duration": 11,
    "start_time": "2025-01-14T21:49:57.246Z"
   },
   {
    "duration": 19,
    "start_time": "2025-01-14T21:49:57.259Z"
   },
   {
    "duration": 11,
    "start_time": "2025-01-14T21:49:57.280Z"
   },
   {
    "duration": 75,
    "start_time": "2025-01-14T21:49:57.293Z"
   },
   {
    "duration": 45,
    "start_time": "2025-01-14T21:49:57.371Z"
   },
   {
    "duration": 42,
    "start_time": "2025-01-14T21:49:57.431Z"
   },
   {
    "duration": 84,
    "start_time": "2025-01-14T21:49:57.475Z"
   },
   {
    "duration": 134,
    "start_time": "2025-01-14T21:49:57.561Z"
   },
   {
    "duration": 43,
    "start_time": "2025-01-14T21:49:57.697Z"
   },
   {
    "duration": 3,
    "start_time": "2025-01-14T21:49:57.742Z"
   },
   {
    "duration": 202,
    "start_time": "2025-01-14T21:49:57.746Z"
   },
   {
    "duration": 213,
    "start_time": "2025-01-14T21:49:57.949Z"
   },
   {
    "duration": 85,
    "start_time": "2025-01-14T21:49:58.164Z"
   },
   {
    "duration": 229,
    "start_time": "2025-01-14T21:49:58.251Z"
   },
   {
    "duration": 220,
    "start_time": "2025-01-14T21:49:58.481Z"
   },
   {
    "duration": 5,
    "start_time": "2025-01-14T21:49:58.705Z"
   },
   {
    "duration": 339,
    "start_time": "2025-01-14T21:49:58.712Z"
   },
   {
    "duration": 88,
    "start_time": "2025-01-14T21:49:59.053Z"
   },
   {
    "duration": 178,
    "start_time": "2025-01-14T21:49:59.142Z"
   },
   {
    "duration": 1303,
    "start_time": "2025-01-14T21:49:59.322Z"
   },
   {
    "duration": 8,
    "start_time": "2025-01-14T21:50:00.626Z"
   },
   {
    "duration": 72,
    "start_time": "2025-01-14T21:50:00.635Z"
   },
   {
    "duration": 7,
    "start_time": "2025-01-14T21:50:00.709Z"
   },
   {
    "duration": 275,
    "start_time": "2025-01-14T21:50:00.718Z"
   },
   {
    "duration": 72,
    "start_time": "2025-01-14T21:50:00.995Z"
   },
   {
    "duration": 42,
    "start_time": "2025-01-14T21:50:01.069Z"
   },
   {
    "duration": 556,
    "start_time": "2025-01-14T21:50:01.113Z"
   },
   {
    "duration": 44,
    "start_time": "2025-01-14T21:50:01.672Z"
   },
   {
    "duration": 535,
    "start_time": "2025-01-14T21:50:01.731Z"
   },
   {
    "duration": 76,
    "start_time": "2025-01-14T21:50:02.267Z"
   },
   {
    "duration": 12,
    "start_time": "2025-01-14T21:50:02.345Z"
   },
   {
    "duration": 592,
    "start_time": "2025-01-14T21:50:02.359Z"
   },
   {
    "duration": 36,
    "start_time": "2025-01-14T21:50:02.953Z"
   },
   {
    "duration": 50,
    "start_time": "2025-01-14T21:50:02.991Z"
   },
   {
    "duration": 31,
    "start_time": "2025-01-14T21:50:03.042Z"
   },
   {
    "duration": 35,
    "start_time": "2025-01-14T21:50:03.075Z"
   },
   {
    "duration": 57,
    "start_time": "2025-01-14T21:50:03.112Z"
   },
   {
    "duration": 55,
    "start_time": "2025-01-14T21:50:03.171Z"
   },
   {
    "duration": 110,
    "start_time": "2025-01-14T21:50:03.228Z"
   },
   {
    "duration": 4,
    "start_time": "2025-01-14T21:50:03.340Z"
   },
   {
    "duration": 10,
    "start_time": "2025-01-14T21:50:03.345Z"
   },
   {
    "duration": 7,
    "start_time": "2025-01-14T21:50:03.357Z"
   },
   {
    "duration": 111,
    "start_time": "2025-01-14T21:50:03.365Z"
   },
   {
    "duration": 27,
    "start_time": "2025-01-14T21:50:03.478Z"
   },
   {
    "duration": 25,
    "start_time": "2025-01-14T21:50:03.506Z"
   },
   {
    "duration": 375,
    "start_time": "2025-01-14T21:50:03.532Z"
   },
   {
    "duration": 21,
    "start_time": "2025-01-14T21:50:03.909Z"
   },
   {
    "duration": 25,
    "start_time": "2025-01-14T21:50:03.932Z"
   },
   {
    "duration": 13,
    "start_time": "2025-01-14T21:50:03.959Z"
   },
   {
    "duration": 96,
    "start_time": "2025-01-14T21:50:03.973Z"
   },
   {
    "duration": 292,
    "start_time": "2025-01-14T21:50:04.071Z"
   },
   {
    "duration": 65,
    "start_time": "2025-01-14T21:50:04.365Z"
   },
   {
    "duration": 21,
    "start_time": "2025-01-14T21:50:04.432Z"
   },
   {
    "duration": 33,
    "start_time": "2025-01-14T21:50:04.455Z"
   },
   {
    "duration": 5,
    "start_time": "2025-01-14T21:50:04.490Z"
   },
   {
    "duration": 77,
    "start_time": "2025-01-14T21:50:55.489Z"
   },
   {
    "duration": 271,
    "start_time": "2025-01-14T21:50:56.469Z"
   },
   {
    "duration": 74,
    "start_time": "2025-01-14T21:51:04.753Z"
   },
   {
    "duration": 72,
    "start_time": "2025-01-14T21:51:07.042Z"
   },
   {
    "duration": 23,
    "start_time": "2025-01-14T21:51:19.593Z"
   },
   {
    "duration": 11,
    "start_time": "2025-01-14T21:51:25.269Z"
   },
   {
    "duration": 77,
    "start_time": "2025-01-14T21:51:27.789Z"
   },
   {
    "duration": 70,
    "start_time": "2025-01-14T21:51:50.554Z"
   },
   {
    "duration": 67,
    "start_time": "2025-01-14T21:52:00.033Z"
   },
   {
    "duration": 75,
    "start_time": "2025-01-14T21:52:24.253Z"
   },
   {
    "duration": 278,
    "start_time": "2025-01-14T21:54:41.249Z"
   },
   {
    "duration": 84,
    "start_time": "2025-01-14T21:55:50.272Z"
   },
   {
    "duration": 99,
    "start_time": "2025-01-14T21:59:01.128Z"
   },
   {
    "duration": 123,
    "start_time": "2025-01-14T22:00:08.233Z"
   },
   {
    "duration": 74,
    "start_time": "2025-01-14T22:00:29.886Z"
   },
   {
    "duration": 5,
    "start_time": "2025-01-14T22:03:35.956Z"
   },
   {
    "duration": 24,
    "start_time": "2025-01-14T22:03:41.562Z"
   },
   {
    "duration": 31,
    "start_time": "2025-01-14T22:05:00.571Z"
   },
   {
    "duration": 10,
    "start_time": "2025-01-14T22:05:59.601Z"
   },
   {
    "duration": 18,
    "start_time": "2025-01-14T22:06:19.025Z"
   },
   {
    "duration": 21,
    "start_time": "2025-01-14T22:20:02.122Z"
   },
   {
    "duration": 6,
    "start_time": "2025-01-14T22:20:21.240Z"
   },
   {
    "duration": 6,
    "start_time": "2025-01-14T22:20:50.368Z"
   },
   {
    "duration": 39,
    "start_time": "2025-01-14T22:21:01.435Z"
   },
   {
    "duration": 23,
    "start_time": "2025-01-14T22:21:57.749Z"
   },
   {
    "duration": 20,
    "start_time": "2025-01-14T22:24:41.745Z"
   },
   {
    "duration": 13,
    "start_time": "2025-01-14T22:24:44.191Z"
   },
   {
    "duration": 20,
    "start_time": "2025-01-14T22:24:55.691Z"
   },
   {
    "duration": 4,
    "start_time": "2025-01-14T22:24:57.329Z"
   },
   {
    "duration": 33,
    "start_time": "2025-01-14T22:28:57.904Z"
   },
   {
    "duration": 33,
    "start_time": "2025-01-14T22:29:13.347Z"
   },
   {
    "duration": 27,
    "start_time": "2025-01-14T22:30:01.514Z"
   },
   {
    "duration": 28,
    "start_time": "2025-01-14T22:33:19.959Z"
   },
   {
    "duration": 590,
    "start_time": "2025-01-14T22:37:54.653Z"
   },
   {
    "duration": 99,
    "start_time": "2025-01-14T22:48:02.421Z"
   },
   {
    "duration": 42,
    "start_time": "2025-01-14T22:49:52.638Z"
   },
   {
    "duration": 3,
    "start_time": "2025-01-14T22:50:54.022Z"
   },
   {
    "duration": 241,
    "start_time": "2025-01-14T22:50:54.027Z"
   },
   {
    "duration": 99,
    "start_time": "2025-01-14T22:50:54.270Z"
   },
   {
    "duration": 10,
    "start_time": "2025-01-14T22:50:54.371Z"
   },
   {
    "duration": 29,
    "start_time": "2025-01-14T22:50:54.384Z"
   },
   {
    "duration": 29,
    "start_time": "2025-01-14T22:50:54.415Z"
   },
   {
    "duration": 98,
    "start_time": "2025-01-14T22:50:54.446Z"
   },
   {
    "duration": 99,
    "start_time": "2025-01-14T22:50:54.546Z"
   },
   {
    "duration": 11,
    "start_time": "2025-01-14T22:50:54.647Z"
   },
   {
    "duration": 15,
    "start_time": "2025-01-14T22:50:54.660Z"
   },
   {
    "duration": 16,
    "start_time": "2025-01-14T22:50:54.678Z"
   },
   {
    "duration": 85,
    "start_time": "2025-01-14T22:50:54.697Z"
   },
   {
    "duration": 56,
    "start_time": "2025-01-14T22:50:54.783Z"
   },
   {
    "duration": 42,
    "start_time": "2025-01-14T22:50:54.842Z"
   },
   {
    "duration": 85,
    "start_time": "2025-01-14T22:50:54.886Z"
   },
   {
    "duration": 137,
    "start_time": "2025-01-14T22:50:54.973Z"
   },
   {
    "duration": 45,
    "start_time": "2025-01-14T22:50:55.111Z"
   },
   {
    "duration": 3,
    "start_time": "2025-01-14T22:50:55.158Z"
   },
   {
    "duration": 206,
    "start_time": "2025-01-14T22:50:55.163Z"
   },
   {
    "duration": 340,
    "start_time": "2025-01-14T22:50:55.371Z"
   },
   {
    "duration": 74,
    "start_time": "2025-01-14T22:50:55.713Z"
   },
   {
    "duration": 215,
    "start_time": "2025-01-14T22:50:55.789Z"
   },
   {
    "duration": 221,
    "start_time": "2025-01-14T22:50:56.006Z"
   },
   {
    "duration": 5,
    "start_time": "2025-01-14T22:50:56.229Z"
   },
   {
    "duration": 216,
    "start_time": "2025-01-14T22:50:56.236Z"
   },
   {
    "duration": 87,
    "start_time": "2025-01-14T22:50:56.454Z"
   },
   {
    "duration": 174,
    "start_time": "2025-01-14T22:50:56.543Z"
   },
   {
    "duration": 1315,
    "start_time": "2025-01-14T22:50:56.718Z"
   },
   {
    "duration": 6,
    "start_time": "2025-01-14T22:50:58.035Z"
   },
   {
    "duration": 61,
    "start_time": "2025-01-14T22:50:58.043Z"
   },
   {
    "duration": 30,
    "start_time": "2025-01-14T22:50:58.105Z"
   },
   {
    "duration": 278,
    "start_time": "2025-01-14T22:50:58.137Z"
   },
   {
    "duration": 77,
    "start_time": "2025-01-14T22:50:58.416Z"
   },
   {
    "duration": 57,
    "start_time": "2025-01-14T22:50:58.494Z"
   },
   {
    "duration": 523,
    "start_time": "2025-01-14T22:50:58.552Z"
   },
   {
    "duration": 42,
    "start_time": "2025-01-14T22:50:59.077Z"
   },
   {
    "duration": 525,
    "start_time": "2025-01-14T22:50:59.130Z"
   },
   {
    "duration": 79,
    "start_time": "2025-01-14T22:50:59.657Z"
   },
   {
    "duration": 12,
    "start_time": "2025-01-14T22:50:59.738Z"
   },
   {
    "duration": 546,
    "start_time": "2025-01-14T22:50:59.751Z"
   },
   {
    "duration": 49,
    "start_time": "2025-01-14T22:51:00.301Z"
   },
   {
    "duration": 36,
    "start_time": "2025-01-14T22:51:00.352Z"
   },
   {
    "duration": 41,
    "start_time": "2025-01-14T22:51:00.390Z"
   },
   {
    "duration": 60,
    "start_time": "2025-01-14T22:51:00.432Z"
   },
   {
    "duration": 8,
    "start_time": "2025-01-14T22:51:00.494Z"
   },
   {
    "duration": 27,
    "start_time": "2025-01-14T22:51:00.504Z"
   },
   {
    "duration": 73,
    "start_time": "2025-01-14T22:51:00.533Z"
   },
   {
    "duration": 4,
    "start_time": "2025-01-14T22:51:00.607Z"
   },
   {
    "duration": 49,
    "start_time": "2025-01-14T22:51:00.613Z"
   },
   {
    "duration": 6,
    "start_time": "2025-01-14T22:51:00.663Z"
   },
   {
    "duration": 112,
    "start_time": "2025-01-14T22:51:00.670Z"
   },
   {
    "duration": 28,
    "start_time": "2025-01-14T22:51:00.784Z"
   },
   {
    "duration": 16,
    "start_time": "2025-01-14T22:51:00.814Z"
   },
   {
    "duration": 386,
    "start_time": "2025-01-14T22:51:00.832Z"
   },
   {
    "duration": 25,
    "start_time": "2025-01-14T22:51:01.220Z"
   },
   {
    "duration": 35,
    "start_time": "2025-01-14T22:51:01.248Z"
   },
   {
    "duration": 29,
    "start_time": "2025-01-14T22:51:01.285Z"
   },
   {
    "duration": 84,
    "start_time": "2025-01-14T22:51:01.316Z"
   },
   {
    "duration": 283,
    "start_time": "2025-01-14T22:51:01.401Z"
   },
   {
    "duration": 65,
    "start_time": "2025-01-14T22:51:01.686Z"
   },
   {
    "duration": 22,
    "start_time": "2025-01-14T22:51:01.752Z"
   },
   {
    "duration": 46,
    "start_time": "2025-01-14T22:51:01.775Z"
   },
   {
    "duration": 6,
    "start_time": "2025-01-14T22:51:01.830Z"
   },
   {
    "duration": 60,
    "start_time": "2025-01-14T22:51:01.838Z"
   },
   {
    "duration": 3,
    "start_time": "2025-01-14T22:53:17.036Z"
   },
   {
    "duration": 228,
    "start_time": "2025-01-14T22:53:17.041Z"
   },
   {
    "duration": 55,
    "start_time": "2025-01-14T22:53:17.270Z"
   },
   {
    "duration": 11,
    "start_time": "2025-01-14T22:53:17.327Z"
   },
   {
    "duration": 30,
    "start_time": "2025-01-14T22:53:17.341Z"
   },
   {
    "duration": 27,
    "start_time": "2025-01-14T22:53:17.373Z"
   },
   {
    "duration": 128,
    "start_time": "2025-01-14T22:53:17.402Z"
   },
   {
    "duration": 98,
    "start_time": "2025-01-14T22:53:17.532Z"
   },
   {
    "duration": 11,
    "start_time": "2025-01-14T22:53:17.632Z"
   },
   {
    "duration": 15,
    "start_time": "2025-01-14T22:53:17.644Z"
   },
   {
    "duration": 9,
    "start_time": "2025-01-14T22:53:17.660Z"
   },
   {
    "duration": 70,
    "start_time": "2025-01-14T22:53:17.670Z"
   },
   {
    "duration": 47,
    "start_time": "2025-01-14T22:53:17.742Z"
   },
   {
    "duration": 58,
    "start_time": "2025-01-14T22:53:17.793Z"
   },
   {
    "duration": 79,
    "start_time": "2025-01-14T22:53:17.852Z"
   },
   {
    "duration": 138,
    "start_time": "2025-01-14T22:53:17.933Z"
   },
   {
    "duration": 38,
    "start_time": "2025-01-14T22:53:18.072Z"
   },
   {
    "duration": 20,
    "start_time": "2025-01-14T22:53:18.111Z"
   },
   {
    "duration": 210,
    "start_time": "2025-01-14T22:53:18.133Z"
   },
   {
    "duration": 236,
    "start_time": "2025-01-14T22:53:18.345Z"
   },
   {
    "duration": 86,
    "start_time": "2025-01-14T22:53:18.583Z"
   },
   {
    "duration": 226,
    "start_time": "2025-01-14T22:53:18.671Z"
   },
   {
    "duration": 233,
    "start_time": "2025-01-14T22:53:18.899Z"
   },
   {
    "duration": 5,
    "start_time": "2025-01-14T22:53:19.134Z"
   },
   {
    "duration": 369,
    "start_time": "2025-01-14T22:53:19.141Z"
   },
   {
    "duration": 85,
    "start_time": "2025-01-14T22:53:19.512Z"
   },
   {
    "duration": 184,
    "start_time": "2025-01-14T22:53:19.599Z"
   },
   {
    "duration": 1359,
    "start_time": "2025-01-14T22:53:19.785Z"
   },
   {
    "duration": 8,
    "start_time": "2025-01-14T22:53:21.146Z"
   },
   {
    "duration": 77,
    "start_time": "2025-01-14T22:53:21.155Z"
   },
   {
    "duration": 9,
    "start_time": "2025-01-14T22:53:21.233Z"
   },
   {
    "duration": 271,
    "start_time": "2025-01-14T22:53:21.243Z"
   },
   {
    "duration": 85,
    "start_time": "2025-01-14T22:53:21.516Z"
   },
   {
    "duration": 59,
    "start_time": "2025-01-14T22:53:21.603Z"
   },
   {
    "duration": 538,
    "start_time": "2025-01-14T22:53:21.664Z"
   },
   {
    "duration": 53,
    "start_time": "2025-01-14T22:53:22.204Z"
   },
   {
    "duration": 534,
    "start_time": "2025-01-14T22:53:22.260Z"
   },
   {
    "duration": 74,
    "start_time": "2025-01-14T22:53:22.795Z"
   },
   {
    "duration": 13,
    "start_time": "2025-01-14T22:53:22.871Z"
   },
   {
    "duration": 575,
    "start_time": "2025-01-14T22:53:22.885Z"
   },
   {
    "duration": 37,
    "start_time": "2025-01-14T22:53:23.464Z"
   },
   {
    "duration": 50,
    "start_time": "2025-01-14T22:53:23.503Z"
   },
   {
    "duration": 4,
    "start_time": "2025-01-14T22:53:23.555Z"
   },
   {
    "duration": 18,
    "start_time": "2025-01-14T22:53:23.562Z"
   },
   {
    "duration": 6,
    "start_time": "2025-01-14T22:53:23.581Z"
   },
   {
    "duration": 51,
    "start_time": "2025-01-14T22:53:23.589Z"
   },
   {
    "duration": 55,
    "start_time": "2025-01-14T22:53:23.642Z"
   },
   {
    "duration": 4,
    "start_time": "2025-01-14T22:53:23.698Z"
   },
   {
    "duration": 7,
    "start_time": "2025-01-14T22:53:23.703Z"
   },
   {
    "duration": 20,
    "start_time": "2025-01-14T22:53:23.712Z"
   },
   {
    "duration": 121,
    "start_time": "2025-01-14T22:53:23.733Z"
   },
   {
    "duration": 26,
    "start_time": "2025-01-14T22:53:23.855Z"
   },
   {
    "duration": 7,
    "start_time": "2025-01-14T22:53:23.883Z"
   },
   {
    "duration": 424,
    "start_time": "2025-01-14T22:53:23.892Z"
   },
   {
    "duration": 27,
    "start_time": "2025-01-14T22:53:24.317Z"
   },
   {
    "duration": 19,
    "start_time": "2025-01-14T22:53:24.346Z"
   },
   {
    "duration": 10,
    "start_time": "2025-01-14T22:53:24.367Z"
   },
   {
    "duration": 104,
    "start_time": "2025-01-14T22:53:24.379Z"
   },
   {
    "duration": 313,
    "start_time": "2025-01-14T22:53:24.485Z"
   },
   {
    "duration": 71,
    "start_time": "2025-01-14T22:53:24.800Z"
   },
   {
    "duration": 22,
    "start_time": "2025-01-14T22:53:24.872Z"
   },
   {
    "duration": 55,
    "start_time": "2025-01-14T22:53:24.896Z"
   },
   {
    "duration": 5,
    "start_time": "2025-01-14T22:53:24.953Z"
   },
   {
    "duration": 38,
    "start_time": "2025-01-14T22:53:24.960Z"
   },
   {
    "duration": 18,
    "start_time": "2025-01-14T22:54:19.259Z"
   },
   {
    "duration": 76,
    "start_time": "2025-01-14T22:54:32.533Z"
   },
   {
    "duration": 74,
    "start_time": "2025-01-14T22:56:26.140Z"
   },
   {
    "duration": 1862,
    "start_time": "2025-01-14T23:02:38.556Z"
   },
   {
    "duration": 2,
    "start_time": "2025-01-14T23:02:46.390Z"
   },
   {
    "duration": 245,
    "start_time": "2025-01-14T23:02:46.394Z"
   },
   {
    "duration": 50,
    "start_time": "2025-01-14T23:02:46.640Z"
   },
   {
    "duration": 11,
    "start_time": "2025-01-14T23:02:46.692Z"
   },
   {
    "duration": 37,
    "start_time": "2025-01-14T23:02:46.705Z"
   },
   {
    "duration": 26,
    "start_time": "2025-01-14T23:02:46.743Z"
   },
   {
    "duration": 112,
    "start_time": "2025-01-14T23:02:46.770Z"
   },
   {
    "duration": 108,
    "start_time": "2025-01-14T23:02:46.884Z"
   },
   {
    "duration": 11,
    "start_time": "2025-01-14T23:02:46.994Z"
   },
   {
    "duration": 25,
    "start_time": "2025-01-14T23:02:47.006Z"
   },
   {
    "duration": 16,
    "start_time": "2025-01-14T23:02:47.032Z"
   },
   {
    "duration": 52,
    "start_time": "2025-01-14T23:02:47.050Z"
   },
   {
    "duration": 58,
    "start_time": "2025-01-14T23:02:47.103Z"
   },
   {
    "duration": 42,
    "start_time": "2025-01-14T23:02:47.165Z"
   },
   {
    "duration": 93,
    "start_time": "2025-01-14T23:02:47.209Z"
   },
   {
    "duration": 158,
    "start_time": "2025-01-14T23:02:47.303Z"
   },
   {
    "duration": 37,
    "start_time": "2025-01-14T23:02:47.463Z"
   },
   {
    "duration": 3,
    "start_time": "2025-01-14T23:02:47.502Z"
   },
   {
    "duration": 213,
    "start_time": "2025-01-14T23:02:47.530Z"
   },
   {
    "duration": 223,
    "start_time": "2025-01-14T23:02:47.746Z"
   },
   {
    "duration": 86,
    "start_time": "2025-01-14T23:02:47.971Z"
   },
   {
    "duration": 230,
    "start_time": "2025-01-14T23:02:48.060Z"
   },
   {
    "duration": 267,
    "start_time": "2025-01-14T23:02:48.291Z"
   },
   {
    "duration": 4,
    "start_time": "2025-01-14T23:02:48.560Z"
   },
   {
    "duration": 224,
    "start_time": "2025-01-14T23:02:48.566Z"
   },
   {
    "duration": 87,
    "start_time": "2025-01-14T23:02:48.792Z"
   },
   {
    "duration": 306,
    "start_time": "2025-01-14T23:02:48.881Z"
   },
   {
    "duration": 1322,
    "start_time": "2025-01-14T23:02:49.188Z"
   },
   {
    "duration": 7,
    "start_time": "2025-01-14T23:02:50.512Z"
   },
   {
    "duration": 62,
    "start_time": "2025-01-14T23:02:50.530Z"
   },
   {
    "duration": 9,
    "start_time": "2025-01-14T23:02:50.593Z"
   },
   {
    "duration": 283,
    "start_time": "2025-01-14T23:02:50.603Z"
   },
   {
    "duration": 73,
    "start_time": "2025-01-14T23:02:50.888Z"
   },
   {
    "duration": 42,
    "start_time": "2025-01-14T23:02:50.962Z"
   },
   {
    "duration": 566,
    "start_time": "2025-01-14T23:02:51.010Z"
   },
   {
    "duration": 57,
    "start_time": "2025-01-14T23:02:51.578Z"
   },
   {
    "duration": 546,
    "start_time": "2025-01-14T23:02:51.636Z"
   },
   {
    "duration": 82,
    "start_time": "2025-01-14T23:02:52.183Z"
   },
   {
    "duration": 13,
    "start_time": "2025-01-14T23:02:52.267Z"
   },
   {
    "duration": 576,
    "start_time": "2025-01-14T23:02:52.282Z"
   },
   {
    "duration": 38,
    "start_time": "2025-01-14T23:02:52.860Z"
   },
   {
    "duration": 55,
    "start_time": "2025-01-14T23:02:52.900Z"
   },
   {
    "duration": 10,
    "start_time": "2025-01-14T23:02:52.956Z"
   },
   {
    "duration": 27,
    "start_time": "2025-01-14T23:02:52.968Z"
   },
   {
    "duration": 6,
    "start_time": "2025-01-14T23:02:52.997Z"
   },
   {
    "duration": 38,
    "start_time": "2025-01-14T23:02:53.005Z"
   },
   {
    "duration": 59,
    "start_time": "2025-01-14T23:02:53.045Z"
   },
   {
    "duration": 4,
    "start_time": "2025-01-14T23:02:53.106Z"
   },
   {
    "duration": 20,
    "start_time": "2025-01-14T23:02:53.112Z"
   },
   {
    "duration": 8,
    "start_time": "2025-01-14T23:02:53.134Z"
   },
   {
    "duration": 118,
    "start_time": "2025-01-14T23:02:53.143Z"
   },
   {
    "duration": 1734,
    "start_time": "2025-01-14T23:02:53.263Z"
   },
   {
    "duration": 0,
    "start_time": "2025-01-14T23:02:54.999Z"
   },
   {
    "duration": 0,
    "start_time": "2025-01-14T23:02:55.001Z"
   },
   {
    "duration": 0,
    "start_time": "2025-01-14T23:02:55.002Z"
   },
   {
    "duration": 0,
    "start_time": "2025-01-14T23:02:55.003Z"
   },
   {
    "duration": 0,
    "start_time": "2025-01-14T23:02:55.004Z"
   },
   {
    "duration": 0,
    "start_time": "2025-01-14T23:02:55.005Z"
   },
   {
    "duration": 0,
    "start_time": "2025-01-14T23:02:55.006Z"
   },
   {
    "duration": 0,
    "start_time": "2025-01-14T23:02:55.007Z"
   },
   {
    "duration": 0,
    "start_time": "2025-01-14T23:02:55.008Z"
   },
   {
    "duration": 0,
    "start_time": "2025-01-14T23:02:55.010Z"
   },
   {
    "duration": 0,
    "start_time": "2025-01-14T23:02:55.011Z"
   },
   {
    "duration": 0,
    "start_time": "2025-01-14T23:02:55.012Z"
   },
   {
    "duration": 0,
    "start_time": "2025-01-14T23:02:55.013Z"
   },
   {
    "duration": 8,
    "start_time": "2025-01-14T23:03:06.630Z"
   },
   {
    "duration": 9,
    "start_time": "2025-01-14T23:04:40.943Z"
   },
   {
    "duration": 8,
    "start_time": "2025-01-14T23:06:48.095Z"
   },
   {
    "duration": 14,
    "start_time": "2025-01-14T23:06:59.889Z"
   },
   {
    "duration": 29,
    "start_time": "2025-01-14T23:07:57.287Z"
   },
   {
    "duration": 3,
    "start_time": "2025-01-14T23:08:03.936Z"
   },
   {
    "duration": 256,
    "start_time": "2025-01-14T23:08:03.940Z"
   },
   {
    "duration": 57,
    "start_time": "2025-01-14T23:08:04.198Z"
   },
   {
    "duration": 10,
    "start_time": "2025-01-14T23:08:04.256Z"
   },
   {
    "duration": 30,
    "start_time": "2025-01-14T23:08:04.269Z"
   },
   {
    "duration": 36,
    "start_time": "2025-01-14T23:08:04.301Z"
   },
   {
    "duration": 108,
    "start_time": "2025-01-14T23:08:04.339Z"
   },
   {
    "duration": 116,
    "start_time": "2025-01-14T23:08:04.449Z"
   },
   {
    "duration": 11,
    "start_time": "2025-01-14T23:08:04.567Z"
   },
   {
    "duration": 19,
    "start_time": "2025-01-14T23:08:04.580Z"
   },
   {
    "duration": 29,
    "start_time": "2025-01-14T23:08:04.601Z"
   },
   {
    "duration": 71,
    "start_time": "2025-01-14T23:08:04.632Z"
   },
   {
    "duration": 61,
    "start_time": "2025-01-14T23:08:04.704Z"
   },
   {
    "duration": 43,
    "start_time": "2025-01-14T23:08:04.768Z"
   },
   {
    "duration": 80,
    "start_time": "2025-01-14T23:08:04.813Z"
   },
   {
    "duration": 147,
    "start_time": "2025-01-14T23:08:04.895Z"
   },
   {
    "duration": 36,
    "start_time": "2025-01-14T23:08:05.044Z"
   },
   {
    "duration": 3,
    "start_time": "2025-01-14T23:08:05.082Z"
   },
   {
    "duration": 217,
    "start_time": "2025-01-14T23:08:05.087Z"
   },
   {
    "duration": 217,
    "start_time": "2025-01-14T23:08:05.306Z"
   },
   {
    "duration": 73,
    "start_time": "2025-01-14T23:08:05.529Z"
   },
   {
    "duration": 231,
    "start_time": "2025-01-14T23:08:05.604Z"
   },
   {
    "duration": 221,
    "start_time": "2025-01-14T23:08:05.837Z"
   },
   {
    "duration": 5,
    "start_time": "2025-01-14T23:08:06.060Z"
   },
   {
    "duration": 269,
    "start_time": "2025-01-14T23:08:06.067Z"
   },
   {
    "duration": 81,
    "start_time": "2025-01-14T23:08:06.338Z"
   },
   {
    "duration": 181,
    "start_time": "2025-01-14T23:08:06.431Z"
   },
   {
    "duration": 1330,
    "start_time": "2025-01-14T23:08:06.614Z"
   },
   {
    "duration": 7,
    "start_time": "2025-01-14T23:08:07.946Z"
   },
   {
    "duration": 77,
    "start_time": "2025-01-14T23:08:07.955Z"
   },
   {
    "duration": 9,
    "start_time": "2025-01-14T23:08:08.034Z"
   },
   {
    "duration": 278,
    "start_time": "2025-01-14T23:08:08.045Z"
   },
   {
    "duration": 88,
    "start_time": "2025-01-14T23:08:08.330Z"
   },
   {
    "duration": 46,
    "start_time": "2025-01-14T23:08:08.431Z"
   },
   {
    "duration": 700,
    "start_time": "2025-01-14T23:08:08.480Z"
   },
   {
    "duration": 56,
    "start_time": "2025-01-14T23:08:09.182Z"
   },
   {
    "duration": 522,
    "start_time": "2025-01-14T23:08:09.241Z"
   },
   {
    "duration": 82,
    "start_time": "2025-01-14T23:08:09.765Z"
   },
   {
    "duration": 13,
    "start_time": "2025-01-14T23:08:09.848Z"
   },
   {
    "duration": 592,
    "start_time": "2025-01-14T23:08:09.862Z"
   },
   {
    "duration": 36,
    "start_time": "2025-01-14T23:08:10.459Z"
   },
   {
    "duration": 52,
    "start_time": "2025-01-14T23:08:10.496Z"
   },
   {
    "duration": 4,
    "start_time": "2025-01-14T23:08:10.550Z"
   },
   {
    "duration": 15,
    "start_time": "2025-01-14T23:08:10.555Z"
   },
   {
    "duration": 11,
    "start_time": "2025-01-14T23:08:10.572Z"
   },
   {
    "duration": 19,
    "start_time": "2025-01-14T23:08:10.585Z"
   },
   {
    "duration": 76,
    "start_time": "2025-01-14T23:08:10.606Z"
   },
   {
    "duration": 4,
    "start_time": "2025-01-14T23:08:10.684Z"
   },
   {
    "duration": 11,
    "start_time": "2025-01-14T23:08:10.689Z"
   },
   {
    "duration": 7,
    "start_time": "2025-01-14T23:08:10.702Z"
   },
   {
    "duration": 109,
    "start_time": "2025-01-14T23:08:10.711Z"
   },
   {
    "duration": 15,
    "start_time": "2025-01-14T23:08:10.821Z"
   },
   {
    "duration": 30,
    "start_time": "2025-01-14T23:08:10.838Z"
   },
   {
    "duration": 27,
    "start_time": "2025-01-14T23:08:10.870Z"
   },
   {
    "duration": 32,
    "start_time": "2025-01-14T23:08:10.898Z"
   },
   {
    "duration": 372,
    "start_time": "2025-01-14T23:08:10.932Z"
   },
   {
    "duration": 24,
    "start_time": "2025-01-14T23:08:11.306Z"
   },
   {
    "duration": 18,
    "start_time": "2025-01-14T23:08:11.331Z"
   },
   {
    "duration": 10,
    "start_time": "2025-01-14T23:08:11.351Z"
   },
   {
    "duration": 108,
    "start_time": "2025-01-14T23:08:11.363Z"
   },
   {
    "duration": 216,
    "start_time": "2025-01-14T23:08:11.472Z"
   },
   {
    "duration": 40,
    "start_time": "2025-01-14T23:08:11.690Z"
   },
   {
    "duration": 19,
    "start_time": "2025-01-14T23:08:11.731Z"
   },
   {
    "duration": 30,
    "start_time": "2025-01-14T23:08:11.752Z"
   },
   {
    "duration": 5,
    "start_time": "2025-01-14T23:08:11.784Z"
   },
   {
    "duration": 59,
    "start_time": "2025-01-14T23:08:11.790Z"
   },
   {
    "duration": 6,
    "start_time": "2025-01-14T23:10:24.446Z"
   },
   {
    "duration": 41,
    "start_time": "2025-01-14T23:13:23.614Z"
   },
   {
    "duration": 21,
    "start_time": "2025-01-14T23:19:44.848Z"
   },
   {
    "duration": 13,
    "start_time": "2025-01-14T23:19:58.002Z"
   },
   {
    "duration": 14,
    "start_time": "2025-01-14T23:24:32.629Z"
   },
   {
    "duration": 13,
    "start_time": "2025-01-14T23:24:36.116Z"
   },
   {
    "duration": 108,
    "start_time": "2025-01-14T23:25:57.219Z"
   },
   {
    "duration": 25,
    "start_time": "2025-01-14T23:28:21.051Z"
   },
   {
    "duration": 3,
    "start_time": "2025-01-14T23:28:25.349Z"
   },
   {
    "duration": 233,
    "start_time": "2025-01-14T23:28:25.354Z"
   },
   {
    "duration": 65,
    "start_time": "2025-01-14T23:28:25.588Z"
   },
   {
    "duration": 11,
    "start_time": "2025-01-14T23:28:25.654Z"
   },
   {
    "duration": 31,
    "start_time": "2025-01-14T23:28:25.667Z"
   },
   {
    "duration": 35,
    "start_time": "2025-01-14T23:28:25.699Z"
   },
   {
    "duration": 103,
    "start_time": "2025-01-14T23:28:25.735Z"
   },
   {
    "duration": 99,
    "start_time": "2025-01-14T23:28:25.840Z"
   },
   {
    "duration": 12,
    "start_time": "2025-01-14T23:28:25.941Z"
   },
   {
    "duration": 14,
    "start_time": "2025-01-14T23:28:25.955Z"
   },
   {
    "duration": 9,
    "start_time": "2025-01-14T23:28:25.971Z"
   },
   {
    "duration": 78,
    "start_time": "2025-01-14T23:28:25.982Z"
   },
   {
    "duration": 47,
    "start_time": "2025-01-14T23:28:26.061Z"
   },
   {
    "duration": 43,
    "start_time": "2025-01-14T23:28:26.129Z"
   },
   {
    "duration": 81,
    "start_time": "2025-01-14T23:28:26.174Z"
   },
   {
    "duration": 135,
    "start_time": "2025-01-14T23:28:26.257Z"
   },
   {
    "duration": 18,
    "start_time": "2025-01-14T23:28:26.394Z"
   },
   {
    "duration": 43,
    "start_time": "2025-01-14T23:28:26.414Z"
   },
   {
    "duration": 3,
    "start_time": "2025-01-14T23:28:26.459Z"
   },
   {
    "duration": 218,
    "start_time": "2025-01-14T23:28:26.463Z"
   },
   {
    "duration": 203,
    "start_time": "2025-01-14T23:28:26.683Z"
   },
   {
    "duration": 68,
    "start_time": "2025-01-14T23:28:26.887Z"
   },
   {
    "duration": 203,
    "start_time": "2025-01-14T23:28:26.957Z"
   },
   {
    "duration": 190,
    "start_time": "2025-01-14T23:28:27.161Z"
   },
   {
    "duration": 5,
    "start_time": "2025-01-14T23:28:27.353Z"
   },
   {
    "duration": 221,
    "start_time": "2025-01-14T23:28:27.359Z"
   },
   {
    "duration": 64,
    "start_time": "2025-01-14T23:28:27.582Z"
   },
   {
    "duration": 168,
    "start_time": "2025-01-14T23:28:27.647Z"
   },
   {
    "duration": 1214,
    "start_time": "2025-01-14T23:28:27.816Z"
   },
   {
    "duration": 7,
    "start_time": "2025-01-14T23:28:29.031Z"
   },
   {
    "duration": 47,
    "start_time": "2025-01-14T23:28:29.040Z"
   },
   {
    "duration": 8,
    "start_time": "2025-01-14T23:28:29.089Z"
   },
   {
    "duration": 288,
    "start_time": "2025-01-14T23:28:29.098Z"
   },
   {
    "duration": 61,
    "start_time": "2025-01-14T23:28:29.388Z"
   },
   {
    "duration": 39,
    "start_time": "2025-01-14T23:28:29.451Z"
   },
   {
    "duration": 559,
    "start_time": "2025-01-14T23:28:29.491Z"
   },
   {
    "duration": 38,
    "start_time": "2025-01-14T23:28:30.052Z"
   },
   {
    "duration": 695,
    "start_time": "2025-01-14T23:28:30.092Z"
   },
   {
    "duration": 63,
    "start_time": "2025-01-14T23:28:30.789Z"
   },
   {
    "duration": 13,
    "start_time": "2025-01-14T23:28:30.854Z"
   },
   {
    "duration": 575,
    "start_time": "2025-01-14T23:28:30.872Z"
   },
   {
    "duration": 22,
    "start_time": "2025-01-14T23:28:31.449Z"
   },
   {
    "duration": 33,
    "start_time": "2025-01-14T23:28:31.473Z"
   },
   {
    "duration": 23,
    "start_time": "2025-01-14T23:28:31.508Z"
   },
   {
    "duration": 24,
    "start_time": "2025-01-14T23:28:31.533Z"
   },
   {
    "duration": 11,
    "start_time": "2025-01-14T23:28:31.559Z"
   },
   {
    "duration": 14,
    "start_time": "2025-01-14T23:28:31.571Z"
   },
   {
    "duration": 54,
    "start_time": "2025-01-14T23:28:31.587Z"
   },
   {
    "duration": 4,
    "start_time": "2025-01-14T23:28:31.643Z"
   },
   {
    "duration": 21,
    "start_time": "2025-01-14T23:28:31.649Z"
   },
   {
    "duration": 20,
    "start_time": "2025-01-14T23:28:31.672Z"
   },
   {
    "duration": 82,
    "start_time": "2025-01-14T23:28:31.694Z"
   },
   {
    "duration": 26,
    "start_time": "2025-01-14T23:28:31.778Z"
   },
   {
    "duration": 7,
    "start_time": "2025-01-14T23:28:31.805Z"
   },
   {
    "duration": 374,
    "start_time": "2025-01-14T23:28:31.814Z"
   },
   {
    "duration": 17,
    "start_time": "2025-01-14T23:28:32.190Z"
   },
   {
    "duration": 32,
    "start_time": "2025-01-14T23:28:32.209Z"
   },
   {
    "duration": 11,
    "start_time": "2025-01-14T23:28:32.243Z"
   },
   {
    "duration": 91,
    "start_time": "2025-01-14T23:28:32.255Z"
   },
   {
    "duration": 218,
    "start_time": "2025-01-14T23:28:32.348Z"
   },
   {
    "duration": 37,
    "start_time": "2025-01-14T23:28:32.568Z"
   },
   {
    "duration": 32,
    "start_time": "2025-01-14T23:28:32.607Z"
   },
   {
    "duration": 30,
    "start_time": "2025-01-14T23:28:32.640Z"
   },
   {
    "duration": 6,
    "start_time": "2025-01-14T23:28:32.672Z"
   },
   {
    "duration": 51,
    "start_time": "2025-01-14T23:28:32.680Z"
   },
   {
    "duration": 13,
    "start_time": "2025-01-14T23:28:32.733Z"
   },
   {
    "duration": 4,
    "start_time": "2025-01-14T23:31:40.721Z"
   },
   {
    "duration": 246,
    "start_time": "2025-01-14T23:31:40.727Z"
   },
   {
    "duration": 49,
    "start_time": "2025-01-14T23:31:40.975Z"
   },
   {
    "duration": 11,
    "start_time": "2025-01-14T23:31:41.026Z"
   },
   {
    "duration": 31,
    "start_time": "2025-01-14T23:31:41.039Z"
   },
   {
    "duration": 25,
    "start_time": "2025-01-14T23:31:41.071Z"
   },
   {
    "duration": 116,
    "start_time": "2025-01-14T23:31:41.098Z"
   },
   {
    "duration": 100,
    "start_time": "2025-01-14T23:31:41.215Z"
   },
   {
    "duration": 19,
    "start_time": "2025-01-14T23:31:41.317Z"
   },
   {
    "duration": 16,
    "start_time": "2025-01-14T23:31:41.339Z"
   },
   {
    "duration": 51,
    "start_time": "2025-01-14T23:31:41.357Z"
   },
   {
    "duration": 55,
    "start_time": "2025-01-14T23:31:41.410Z"
   },
   {
    "duration": 48,
    "start_time": "2025-01-14T23:31:41.467Z"
   },
   {
    "duration": 46,
    "start_time": "2025-01-14T23:31:41.529Z"
   },
   {
    "duration": 80,
    "start_time": "2025-01-14T23:31:41.576Z"
   },
   {
    "duration": 144,
    "start_time": "2025-01-14T23:31:41.658Z"
   },
   {
    "duration": 56,
    "start_time": "2025-01-14T23:31:41.803Z"
   },
   {
    "duration": 2,
    "start_time": "2025-01-14T23:31:41.861Z"
   },
   {
    "duration": 231,
    "start_time": "2025-01-14T23:31:41.865Z"
   },
   {
    "duration": 234,
    "start_time": "2025-01-14T23:31:42.099Z"
   },
   {
    "duration": 77,
    "start_time": "2025-01-14T23:31:42.335Z"
   },
   {
    "duration": 220,
    "start_time": "2025-01-14T23:31:42.430Z"
   },
   {
    "duration": 221,
    "start_time": "2025-01-14T23:31:42.652Z"
   },
   {
    "duration": 5,
    "start_time": "2025-01-14T23:31:42.875Z"
   },
   {
    "duration": 221,
    "start_time": "2025-01-14T23:31:42.882Z"
   },
   {
    "duration": 89,
    "start_time": "2025-01-14T23:31:43.105Z"
   },
   {
    "duration": 179,
    "start_time": "2025-01-14T23:31:43.196Z"
   },
   {
    "duration": 20,
    "start_time": "2025-01-14T23:31:43.377Z"
   },
   {
    "duration": 1243,
    "start_time": "2025-01-14T23:31:43.399Z"
   },
   {
    "duration": 8,
    "start_time": "2025-01-14T23:31:44.644Z"
   },
   {
    "duration": 81,
    "start_time": "2025-01-14T23:31:44.654Z"
   },
   {
    "duration": 9,
    "start_time": "2025-01-14T23:31:44.737Z"
   },
   {
    "duration": 272,
    "start_time": "2025-01-14T23:31:44.747Z"
   },
   {
    "duration": 57,
    "start_time": "2025-01-14T23:31:45.021Z"
   },
   {
    "duration": 56,
    "start_time": "2025-01-14T23:31:45.080Z"
   },
   {
    "duration": 531,
    "start_time": "2025-01-14T23:31:45.138Z"
   },
   {
    "duration": 39,
    "start_time": "2025-01-14T23:31:45.671Z"
   },
   {
    "duration": 549,
    "start_time": "2025-01-14T23:31:45.712Z"
   },
   {
    "duration": 56,
    "start_time": "2025-01-14T23:31:46.262Z"
   },
   {
    "duration": 14,
    "start_time": "2025-01-14T23:31:46.330Z"
   },
   {
    "duration": 730,
    "start_time": "2025-01-14T23:31:46.348Z"
   },
   {
    "duration": 24,
    "start_time": "2025-01-14T23:31:47.081Z"
   },
   {
    "duration": 50,
    "start_time": "2025-01-14T23:31:47.108Z"
   },
   {
    "duration": 5,
    "start_time": "2025-01-14T23:31:47.160Z"
   },
   {
    "duration": 17,
    "start_time": "2025-01-14T23:31:47.167Z"
   },
   {
    "duration": 5,
    "start_time": "2025-01-14T23:31:47.186Z"
   },
   {
    "duration": 43,
    "start_time": "2025-01-14T23:31:47.192Z"
   },
   {
    "duration": 42,
    "start_time": "2025-01-14T23:31:47.237Z"
   },
   {
    "duration": 3,
    "start_time": "2025-01-14T23:31:47.281Z"
   },
   {
    "duration": 3,
    "start_time": "2025-01-14T23:31:47.286Z"
   },
   {
    "duration": 4,
    "start_time": "2025-01-14T23:31:47.291Z"
   },
   {
    "duration": 107,
    "start_time": "2025-01-14T23:31:47.297Z"
   },
   {
    "duration": 36,
    "start_time": "2025-01-14T23:31:47.406Z"
   },
   {
    "duration": 7,
    "start_time": "2025-01-14T23:31:47.444Z"
   },
   {
    "duration": 370,
    "start_time": "2025-01-14T23:31:47.452Z"
   },
   {
    "duration": 18,
    "start_time": "2025-01-14T23:31:47.829Z"
   },
   {
    "duration": 19,
    "start_time": "2025-01-14T23:31:47.848Z"
   },
   {
    "duration": 10,
    "start_time": "2025-01-14T23:31:47.869Z"
   },
   {
    "duration": 95,
    "start_time": "2025-01-14T23:31:47.881Z"
   },
   {
    "duration": 220,
    "start_time": "2025-01-14T23:31:47.977Z"
   },
   {
    "duration": 47,
    "start_time": "2025-01-14T23:31:48.199Z"
   },
   {
    "duration": 21,
    "start_time": "2025-01-14T23:31:48.247Z"
   },
   {
    "duration": 29,
    "start_time": "2025-01-14T23:31:48.270Z"
   },
   {
    "duration": 6,
    "start_time": "2025-01-14T23:31:48.301Z"
   },
   {
    "duration": 42,
    "start_time": "2025-01-14T23:31:48.309Z"
   },
   {
    "duration": 15,
    "start_time": "2025-01-14T23:31:48.353Z"
   },
   {
    "duration": 575,
    "start_time": "2025-01-15T07:18:11.695Z"
   },
   {
    "duration": 3,
    "start_time": "2025-01-15T07:18:17.374Z"
   },
   {
    "duration": 434,
    "start_time": "2025-01-15T07:18:17.379Z"
   },
   {
    "duration": 108,
    "start_time": "2025-01-15T07:18:17.815Z"
   },
   {
    "duration": 16,
    "start_time": "2025-01-15T07:18:17.925Z"
   },
   {
    "duration": 102,
    "start_time": "2025-01-15T07:18:17.943Z"
   },
   {
    "duration": 51,
    "start_time": "2025-01-15T07:18:18.046Z"
   },
   {
    "duration": 177,
    "start_time": "2025-01-15T07:18:18.099Z"
   },
   {
    "duration": 135,
    "start_time": "2025-01-15T07:18:18.277Z"
   },
   {
    "duration": 11,
    "start_time": "2025-01-15T07:18:18.413Z"
   },
   {
    "duration": 43,
    "start_time": "2025-01-15T07:18:18.426Z"
   },
   {
    "duration": 7,
    "start_time": "2025-01-15T07:18:18.471Z"
   },
   {
    "duration": 70,
    "start_time": "2025-01-15T07:18:18.480Z"
   },
   {
    "duration": 56,
    "start_time": "2025-01-15T07:18:18.552Z"
   },
   {
    "duration": 40,
    "start_time": "2025-01-15T07:18:18.610Z"
   },
   {
    "duration": 96,
    "start_time": "2025-01-15T07:18:18.651Z"
   },
   {
    "duration": 143,
    "start_time": "2025-01-15T07:18:18.748Z"
   },
   {
    "duration": 35,
    "start_time": "2025-01-15T07:18:18.892Z"
   },
   {
    "duration": 1075,
    "start_time": "2025-01-15T07:18:18.928Z"
   },
   {
    "duration": 208,
    "start_time": "2025-01-15T07:18:20.005Z"
   },
   {
    "duration": 210,
    "start_time": "2025-01-15T07:18:20.215Z"
   },
   {
    "duration": 87,
    "start_time": "2025-01-15T07:18:20.427Z"
   },
   {
    "duration": 227,
    "start_time": "2025-01-15T07:18:20.516Z"
   },
   {
    "duration": 226,
    "start_time": "2025-01-15T07:18:20.745Z"
   },
   {
    "duration": 6,
    "start_time": "2025-01-15T07:18:20.972Z"
   },
   {
    "duration": 212,
    "start_time": "2025-01-15T07:18:20.979Z"
   },
   {
    "duration": 83,
    "start_time": "2025-01-15T07:18:21.193Z"
   },
   {
    "duration": 173,
    "start_time": "2025-01-15T07:18:21.278Z"
   },
   {
    "duration": 26,
    "start_time": "2025-01-15T07:18:21.452Z"
   },
   {
    "duration": 1165,
    "start_time": "2025-01-15T07:18:21.479Z"
   },
   {
    "duration": 6,
    "start_time": "2025-01-15T07:18:22.646Z"
   },
   {
    "duration": 146,
    "start_time": "2025-01-15T07:18:22.653Z"
   },
   {
    "duration": 8,
    "start_time": "2025-01-15T07:18:22.801Z"
   },
   {
    "duration": 273,
    "start_time": "2025-01-15T07:18:22.811Z"
   },
   {
    "duration": 52,
    "start_time": "2025-01-15T07:18:23.086Z"
   },
   {
    "duration": 54,
    "start_time": "2025-01-15T07:18:23.140Z"
   },
   {
    "duration": 640,
    "start_time": "2025-01-15T07:18:23.196Z"
   },
   {
    "duration": 46,
    "start_time": "2025-01-15T07:18:23.838Z"
   },
   {
    "duration": 562,
    "start_time": "2025-01-15T07:18:23.885Z"
   },
   {
    "duration": 57,
    "start_time": "2025-01-15T07:18:24.449Z"
   },
   {
    "duration": 13,
    "start_time": "2025-01-15T07:18:24.507Z"
   },
   {
    "duration": 583,
    "start_time": "2025-01-15T07:18:24.525Z"
   },
   {
    "duration": 31,
    "start_time": "2025-01-15T07:18:25.110Z"
   },
   {
    "duration": 42,
    "start_time": "2025-01-15T07:18:25.142Z"
   },
   {
    "duration": 27,
    "start_time": "2025-01-15T07:18:25.186Z"
   },
   {
    "duration": 17,
    "start_time": "2025-01-15T07:18:25.214Z"
   },
   {
    "duration": 10,
    "start_time": "2025-01-15T07:18:25.233Z"
   },
   {
    "duration": 20,
    "start_time": "2025-01-15T07:18:25.245Z"
   },
   {
    "duration": 41,
    "start_time": "2025-01-15T07:18:25.267Z"
   },
   {
    "duration": 4,
    "start_time": "2025-01-15T07:18:25.310Z"
   },
   {
    "duration": 4,
    "start_time": "2025-01-15T07:18:25.316Z"
   },
   {
    "duration": 15,
    "start_time": "2025-01-15T07:18:25.321Z"
   },
   {
    "duration": 109,
    "start_time": "2025-01-15T07:18:25.338Z"
   },
   {
    "duration": 34,
    "start_time": "2025-01-15T07:18:25.449Z"
   },
   {
    "duration": 7,
    "start_time": "2025-01-15T07:18:25.485Z"
   },
   {
    "duration": 408,
    "start_time": "2025-01-15T07:18:25.493Z"
   },
   {
    "duration": 16,
    "start_time": "2025-01-15T07:18:25.902Z"
   },
   {
    "duration": 17,
    "start_time": "2025-01-15T07:18:25.919Z"
   },
   {
    "duration": 9,
    "start_time": "2025-01-15T07:18:25.938Z"
   },
   {
    "duration": 369,
    "start_time": "2025-01-15T07:18:25.970Z"
   },
   {
    "duration": 291,
    "start_time": "2025-01-15T07:18:26.341Z"
   },
   {
    "duration": 49,
    "start_time": "2025-01-15T07:18:26.633Z"
   },
   {
    "duration": 62,
    "start_time": "2025-01-15T07:18:26.684Z"
   },
   {
    "duration": 30,
    "start_time": "2025-01-15T07:18:26.748Z"
   },
   {
    "duration": 12,
    "start_time": "2025-01-15T07:18:26.780Z"
   },
   {
    "duration": 21,
    "start_time": "2025-01-15T07:18:26.793Z"
   },
   {
    "duration": 13,
    "start_time": "2025-01-15T07:18:26.816Z"
   },
   {
    "duration": 5,
    "start_time": "2025-01-15T08:31:16.260Z"
   },
   {
    "duration": 52,
    "start_time": "2025-01-17T00:42:54.642Z"
   },
   {
    "duration": 52,
    "start_time": "2025-01-17T13:54:24.053Z"
   },
   {
    "duration": 427,
    "start_time": "2025-01-17T13:54:31.976Z"
   },
   {
    "duration": 1059,
    "start_time": "2025-01-17T13:54:32.405Z"
   },
   {
    "duration": 107,
    "start_time": "2025-01-17T13:54:33.465Z"
   },
   {
    "duration": 16,
    "start_time": "2025-01-17T13:54:33.574Z"
   },
   {
    "duration": 35,
    "start_time": "2025-01-17T13:54:33.593Z"
   },
   {
    "duration": 46,
    "start_time": "2025-01-17T13:54:33.630Z"
   },
   {
    "duration": 153,
    "start_time": "2025-01-17T13:54:33.677Z"
   },
   {
    "duration": 158,
    "start_time": "2025-01-17T13:54:33.831Z"
   },
   {
    "duration": 12,
    "start_time": "2025-01-17T13:54:33.991Z"
   },
   {
    "duration": 26,
    "start_time": "2025-01-17T13:54:34.004Z"
   },
   {
    "duration": 13,
    "start_time": "2025-01-17T13:54:34.032Z"
   },
   {
    "duration": 11,
    "start_time": "2025-01-17T13:54:34.059Z"
   },
   {
    "duration": 102,
    "start_time": "2025-01-17T13:54:34.072Z"
   },
   {
    "duration": 46,
    "start_time": "2025-01-17T13:54:34.177Z"
   },
   {
    "duration": 49,
    "start_time": "2025-01-17T13:54:34.224Z"
   },
   {
    "duration": 87,
    "start_time": "2025-01-17T13:54:34.274Z"
   },
   {
    "duration": 154,
    "start_time": "2025-01-17T13:54:34.363Z"
   },
   {
    "duration": 43,
    "start_time": "2025-01-17T13:54:34.519Z"
   },
   {
    "duration": 1108,
    "start_time": "2025-01-17T13:54:34.564Z"
   },
   {
    "duration": 242,
    "start_time": "2025-01-17T13:54:35.675Z"
   },
   {
    "duration": 221,
    "start_time": "2025-01-17T13:54:35.919Z"
   },
   {
    "duration": 91,
    "start_time": "2025-01-17T13:54:36.142Z"
   },
   {
    "duration": 232,
    "start_time": "2025-01-17T13:54:36.235Z"
   },
   {
    "duration": 226,
    "start_time": "2025-01-17T13:54:36.469Z"
   },
   {
    "duration": 6,
    "start_time": "2025-01-17T13:54:36.697Z"
   },
   {
    "duration": 228,
    "start_time": "2025-01-17T13:54:36.705Z"
   },
   {
    "duration": 89,
    "start_time": "2025-01-17T13:54:36.935Z"
   },
   {
    "duration": 181,
    "start_time": "2025-01-17T13:54:37.025Z"
   },
   {
    "duration": 20,
    "start_time": "2025-01-17T13:54:37.208Z"
   },
   {
    "duration": 1165,
    "start_time": "2025-01-17T13:54:37.230Z"
   },
   {
    "duration": 7,
    "start_time": "2025-01-17T13:54:38.396Z"
   },
   {
    "duration": 75,
    "start_time": "2025-01-17T13:54:38.404Z"
   },
   {
    "duration": 10,
    "start_time": "2025-01-17T13:54:38.480Z"
   },
   {
    "duration": 285,
    "start_time": "2025-01-17T13:54:38.491Z"
   },
   {
    "duration": 51,
    "start_time": "2025-01-17T13:54:38.778Z"
   },
   {
    "duration": 55,
    "start_time": "2025-01-17T13:54:38.831Z"
   },
   {
    "duration": 548,
    "start_time": "2025-01-17T13:54:38.888Z"
   },
   {
    "duration": 54,
    "start_time": "2025-01-17T13:54:39.438Z"
   },
   {
    "duration": 643,
    "start_time": "2025-01-17T13:54:39.493Z"
   },
   {
    "duration": 56,
    "start_time": "2025-01-17T13:54:40.138Z"
   },
   {
    "duration": 13,
    "start_time": "2025-01-17T13:54:40.198Z"
   },
   {
    "duration": 569,
    "start_time": "2025-01-17T13:54:40.212Z"
   },
   {
    "duration": 32,
    "start_time": "2025-01-17T13:54:40.782Z"
   },
   {
    "duration": 44,
    "start_time": "2025-01-17T13:54:40.815Z"
   },
   {
    "duration": 4,
    "start_time": "2025-01-17T13:54:40.861Z"
   },
   {
    "duration": 18,
    "start_time": "2025-01-17T13:54:40.867Z"
   },
   {
    "duration": 4,
    "start_time": "2025-01-17T13:54:40.887Z"
   },
   {
    "duration": 15,
    "start_time": "2025-01-17T13:54:40.893Z"
   },
   {
    "duration": 68,
    "start_time": "2025-01-17T13:54:40.910Z"
   },
   {
    "duration": 4,
    "start_time": "2025-01-17T13:54:40.980Z"
   },
   {
    "duration": 4,
    "start_time": "2025-01-17T13:54:40.986Z"
   },
   {
    "duration": 3,
    "start_time": "2025-01-17T13:54:40.992Z"
   },
   {
    "duration": 158,
    "start_time": "2025-01-17T13:54:40.997Z"
   },
   {
    "duration": 32,
    "start_time": "2025-01-17T13:54:41.159Z"
   },
   {
    "duration": 8,
    "start_time": "2025-01-17T13:54:41.193Z"
   },
   {
    "duration": 396,
    "start_time": "2025-01-17T13:54:41.203Z"
   },
   {
    "duration": 21,
    "start_time": "2025-01-17T13:54:41.601Z"
   },
   {
    "duration": 38,
    "start_time": "2025-01-17T13:54:41.624Z"
   },
   {
    "duration": 15,
    "start_time": "2025-01-17T13:54:41.665Z"
   },
   {
    "duration": 530,
    "start_time": "2025-01-17T13:54:41.682Z"
   },
   {
    "duration": 305,
    "start_time": "2025-01-17T13:54:42.214Z"
   },
   {
    "duration": 52,
    "start_time": "2025-01-17T13:54:42.521Z"
   },
   {
    "duration": 21,
    "start_time": "2025-01-17T13:54:42.575Z"
   },
   {
    "duration": 33,
    "start_time": "2025-01-17T13:54:42.597Z"
   },
   {
    "duration": 39,
    "start_time": "2025-01-17T13:54:42.632Z"
   },
   {
    "duration": 28,
    "start_time": "2025-01-17T13:54:42.673Z"
   },
   {
    "duration": 14,
    "start_time": "2025-01-17T13:54:42.703Z"
   },
   {
    "duration": 7,
    "start_time": "2025-01-17T13:55:07.432Z"
   },
   {
    "duration": 52,
    "start_time": "2025-01-17T20:54:06.598Z"
   },
   {
    "duration": 389,
    "start_time": "2025-01-17T20:54:10.011Z"
   },
   {
    "duration": 1046,
    "start_time": "2025-01-17T20:54:10.402Z"
   },
   {
    "duration": 98,
    "start_time": "2025-01-17T20:54:11.450Z"
   },
   {
    "duration": 16,
    "start_time": "2025-01-17T20:54:11.550Z"
   },
   {
    "duration": 33,
    "start_time": "2025-01-17T20:54:11.567Z"
   },
   {
    "duration": 24,
    "start_time": "2025-01-17T20:54:11.601Z"
   },
   {
    "duration": 173,
    "start_time": "2025-01-17T20:54:11.627Z"
   },
   {
    "duration": 141,
    "start_time": "2025-01-17T20:54:11.801Z"
   },
   {
    "duration": 17,
    "start_time": "2025-01-17T20:54:11.944Z"
   },
   {
    "duration": 26,
    "start_time": "2025-01-17T20:54:11.964Z"
   },
   {
    "duration": 8,
    "start_time": "2025-01-17T20:54:11.992Z"
   },
   {
    "duration": 96,
    "start_time": "2025-01-17T20:54:12.001Z"
   },
   {
    "duration": 0,
    "start_time": "2025-01-17T20:54:12.100Z"
   },
   {
    "duration": 0,
    "start_time": "2025-01-17T20:54:12.102Z"
   },
   {
    "duration": 0,
    "start_time": "2025-01-17T20:54:12.104Z"
   },
   {
    "duration": 0,
    "start_time": "2025-01-17T20:54:12.105Z"
   },
   {
    "duration": 0,
    "start_time": "2025-01-17T20:54:12.106Z"
   },
   {
    "duration": 0,
    "start_time": "2025-01-17T20:54:12.108Z"
   },
   {
    "duration": 0,
    "start_time": "2025-01-17T20:54:12.109Z"
   },
   {
    "duration": 0,
    "start_time": "2025-01-17T20:54:12.111Z"
   },
   {
    "duration": 0,
    "start_time": "2025-01-17T20:54:12.112Z"
   },
   {
    "duration": 0,
    "start_time": "2025-01-17T20:54:12.114Z"
   },
   {
    "duration": 0,
    "start_time": "2025-01-17T20:54:12.115Z"
   },
   {
    "duration": 0,
    "start_time": "2025-01-17T20:54:12.117Z"
   },
   {
    "duration": 0,
    "start_time": "2025-01-17T20:54:12.119Z"
   },
   {
    "duration": 0,
    "start_time": "2025-01-17T20:54:12.121Z"
   },
   {
    "duration": 0,
    "start_time": "2025-01-17T20:54:12.122Z"
   },
   {
    "duration": 0,
    "start_time": "2025-01-17T20:54:12.123Z"
   },
   {
    "duration": 0,
    "start_time": "2025-01-17T20:54:12.125Z"
   },
   {
    "duration": 0,
    "start_time": "2025-01-17T20:54:12.126Z"
   },
   {
    "duration": 1,
    "start_time": "2025-01-17T20:54:12.127Z"
   },
   {
    "duration": 0,
    "start_time": "2025-01-17T20:54:12.129Z"
   },
   {
    "duration": 0,
    "start_time": "2025-01-17T20:54:12.130Z"
   },
   {
    "duration": 0,
    "start_time": "2025-01-17T20:54:12.132Z"
   },
   {
    "duration": 0,
    "start_time": "2025-01-17T20:54:12.133Z"
   },
   {
    "duration": 0,
    "start_time": "2025-01-17T20:54:12.134Z"
   },
   {
    "duration": 0,
    "start_time": "2025-01-17T20:54:12.135Z"
   },
   {
    "duration": 0,
    "start_time": "2025-01-17T20:54:12.160Z"
   },
   {
    "duration": 0,
    "start_time": "2025-01-17T20:54:12.161Z"
   },
   {
    "duration": 0,
    "start_time": "2025-01-17T20:54:12.163Z"
   },
   {
    "duration": 1,
    "start_time": "2025-01-17T20:54:12.163Z"
   },
   {
    "duration": 0,
    "start_time": "2025-01-17T20:54:12.164Z"
   },
   {
    "duration": 0,
    "start_time": "2025-01-17T20:54:12.166Z"
   },
   {
    "duration": 0,
    "start_time": "2025-01-17T20:54:12.167Z"
   },
   {
    "duration": 0,
    "start_time": "2025-01-17T20:54:12.169Z"
   },
   {
    "duration": 0,
    "start_time": "2025-01-17T20:54:12.170Z"
   },
   {
    "duration": 0,
    "start_time": "2025-01-17T20:54:12.171Z"
   },
   {
    "duration": 1,
    "start_time": "2025-01-17T20:54:12.172Z"
   },
   {
    "duration": 0,
    "start_time": "2025-01-17T20:54:12.174Z"
   },
   {
    "duration": 0,
    "start_time": "2025-01-17T20:54:12.175Z"
   },
   {
    "duration": 0,
    "start_time": "2025-01-17T20:54:12.176Z"
   },
   {
    "duration": 0,
    "start_time": "2025-01-17T20:54:12.178Z"
   },
   {
    "duration": 0,
    "start_time": "2025-01-17T20:54:12.180Z"
   },
   {
    "duration": 0,
    "start_time": "2025-01-17T20:54:12.181Z"
   },
   {
    "duration": 0,
    "start_time": "2025-01-17T20:54:12.183Z"
   },
   {
    "duration": 0,
    "start_time": "2025-01-17T20:54:12.184Z"
   },
   {
    "duration": 0,
    "start_time": "2025-01-17T20:54:12.186Z"
   },
   {
    "duration": 0,
    "start_time": "2025-01-17T20:54:12.187Z"
   },
   {
    "duration": 0,
    "start_time": "2025-01-17T20:54:12.189Z"
   },
   {
    "duration": 0,
    "start_time": "2025-01-17T20:54:12.190Z"
   },
   {
    "duration": 0,
    "start_time": "2025-01-17T20:54:12.191Z"
   },
   {
    "duration": 0,
    "start_time": "2025-01-17T20:54:12.192Z"
   },
   {
    "duration": 0,
    "start_time": "2025-01-17T20:54:12.193Z"
   },
   {
    "duration": 0,
    "start_time": "2025-01-17T20:54:12.194Z"
   },
   {
    "duration": 0,
    "start_time": "2025-01-17T20:54:12.195Z"
   },
   {
    "duration": 0,
    "start_time": "2025-01-17T20:54:12.196Z"
   },
   {
    "duration": 0,
    "start_time": "2025-01-17T20:54:12.197Z"
   },
   {
    "duration": 0,
    "start_time": "2025-01-17T20:54:12.198Z"
   },
   {
    "duration": 185,
    "start_time": "2025-01-17T20:54:36.855Z"
   },
   {
    "duration": 10,
    "start_time": "2025-01-17T20:54:50.074Z"
   },
   {
    "duration": 3,
    "start_time": "2025-01-17T20:55:06.021Z"
   },
   {
    "duration": 304,
    "start_time": "2025-01-17T20:55:06.026Z"
   },
   {
    "duration": 41,
    "start_time": "2025-01-17T20:55:06.331Z"
   },
   {
    "duration": 12,
    "start_time": "2025-01-17T20:55:06.374Z"
   },
   {
    "duration": 28,
    "start_time": "2025-01-17T20:55:06.388Z"
   },
   {
    "duration": 45,
    "start_time": "2025-01-17T20:55:06.418Z"
   },
   {
    "duration": 126,
    "start_time": "2025-01-17T20:55:06.464Z"
   },
   {
    "duration": 102,
    "start_time": "2025-01-17T20:55:06.592Z"
   },
   {
    "duration": 11,
    "start_time": "2025-01-17T20:55:06.696Z"
   },
   {
    "duration": 24,
    "start_time": "2025-01-17T20:55:06.710Z"
   },
   {
    "duration": 8,
    "start_time": "2025-01-17T20:55:06.736Z"
   },
   {
    "duration": 93,
    "start_time": "2025-01-17T20:55:06.760Z"
   },
   {
    "duration": 0,
    "start_time": "2025-01-17T20:55:06.856Z"
   },
   {
    "duration": 0,
    "start_time": "2025-01-17T20:55:06.858Z"
   },
   {
    "duration": 0,
    "start_time": "2025-01-17T20:55:06.860Z"
   },
   {
    "duration": 0,
    "start_time": "2025-01-17T20:55:06.861Z"
   },
   {
    "duration": 0,
    "start_time": "2025-01-17T20:55:06.863Z"
   },
   {
    "duration": 0,
    "start_time": "2025-01-17T20:55:06.865Z"
   },
   {
    "duration": 0,
    "start_time": "2025-01-17T20:55:06.866Z"
   },
   {
    "duration": 0,
    "start_time": "2025-01-17T20:55:06.868Z"
   },
   {
    "duration": 0,
    "start_time": "2025-01-17T20:55:06.869Z"
   },
   {
    "duration": 0,
    "start_time": "2025-01-17T20:55:06.871Z"
   },
   {
    "duration": 1,
    "start_time": "2025-01-17T20:55:06.872Z"
   },
   {
    "duration": 0,
    "start_time": "2025-01-17T20:55:06.874Z"
   },
   {
    "duration": 0,
    "start_time": "2025-01-17T20:55:06.875Z"
   },
   {
    "duration": 0,
    "start_time": "2025-01-17T20:55:06.876Z"
   },
   {
    "duration": 0,
    "start_time": "2025-01-17T20:55:06.877Z"
   },
   {
    "duration": 0,
    "start_time": "2025-01-17T20:55:06.878Z"
   },
   {
    "duration": 0,
    "start_time": "2025-01-17T20:55:06.880Z"
   },
   {
    "duration": 0,
    "start_time": "2025-01-17T20:55:06.881Z"
   },
   {
    "duration": 0,
    "start_time": "2025-01-17T20:55:06.881Z"
   },
   {
    "duration": 0,
    "start_time": "2025-01-17T20:55:06.882Z"
   },
   {
    "duration": 0,
    "start_time": "2025-01-17T20:55:06.883Z"
   },
   {
    "duration": 0,
    "start_time": "2025-01-17T20:55:06.884Z"
   },
   {
    "duration": 0,
    "start_time": "2025-01-17T20:55:06.886Z"
   },
   {
    "duration": 0,
    "start_time": "2025-01-17T20:55:06.887Z"
   },
   {
    "duration": 0,
    "start_time": "2025-01-17T20:55:06.888Z"
   },
   {
    "duration": 0,
    "start_time": "2025-01-17T20:55:06.889Z"
   },
   {
    "duration": 0,
    "start_time": "2025-01-17T20:55:06.890Z"
   },
   {
    "duration": 0,
    "start_time": "2025-01-17T20:55:06.891Z"
   },
   {
    "duration": 0,
    "start_time": "2025-01-17T20:55:06.892Z"
   },
   {
    "duration": 0,
    "start_time": "2025-01-17T20:55:06.893Z"
   },
   {
    "duration": 0,
    "start_time": "2025-01-17T20:55:06.894Z"
   },
   {
    "duration": 0,
    "start_time": "2025-01-17T20:55:06.895Z"
   },
   {
    "duration": 0,
    "start_time": "2025-01-17T20:55:06.896Z"
   },
   {
    "duration": 0,
    "start_time": "2025-01-17T20:55:06.897Z"
   },
   {
    "duration": 0,
    "start_time": "2025-01-17T20:55:06.898Z"
   },
   {
    "duration": 0,
    "start_time": "2025-01-17T20:55:06.899Z"
   },
   {
    "duration": 0,
    "start_time": "2025-01-17T20:55:06.961Z"
   },
   {
    "duration": 0,
    "start_time": "2025-01-17T20:55:06.962Z"
   },
   {
    "duration": 0,
    "start_time": "2025-01-17T20:55:06.964Z"
   },
   {
    "duration": 0,
    "start_time": "2025-01-17T20:55:06.965Z"
   },
   {
    "duration": 0,
    "start_time": "2025-01-17T20:55:06.967Z"
   },
   {
    "duration": 0,
    "start_time": "2025-01-17T20:55:06.968Z"
   },
   {
    "duration": 0,
    "start_time": "2025-01-17T20:55:06.970Z"
   },
   {
    "duration": 0,
    "start_time": "2025-01-17T20:55:06.972Z"
   },
   {
    "duration": 0,
    "start_time": "2025-01-17T20:55:06.973Z"
   },
   {
    "duration": 0,
    "start_time": "2025-01-17T20:55:06.975Z"
   },
   {
    "duration": 0,
    "start_time": "2025-01-17T20:55:06.976Z"
   },
   {
    "duration": 0,
    "start_time": "2025-01-17T20:55:06.978Z"
   },
   {
    "duration": 0,
    "start_time": "2025-01-17T20:55:06.979Z"
   },
   {
    "duration": 0,
    "start_time": "2025-01-17T20:55:06.981Z"
   },
   {
    "duration": 0,
    "start_time": "2025-01-17T20:55:06.983Z"
   },
   {
    "duration": 0,
    "start_time": "2025-01-17T20:55:06.984Z"
   },
   {
    "duration": 0,
    "start_time": "2025-01-17T20:55:06.986Z"
   },
   {
    "duration": 0,
    "start_time": "2025-01-17T20:55:06.988Z"
   },
   {
    "duration": 0,
    "start_time": "2025-01-17T20:55:06.989Z"
   },
   {
    "duration": 0,
    "start_time": "2025-01-17T20:55:06.990Z"
   },
   {
    "duration": 3,
    "start_time": "2025-01-17T20:55:26.483Z"
   },
   {
    "duration": 236,
    "start_time": "2025-01-17T20:55:26.488Z"
   },
   {
    "duration": 47,
    "start_time": "2025-01-17T20:55:26.725Z"
   },
   {
    "duration": 10,
    "start_time": "2025-01-17T20:55:26.774Z"
   },
   {
    "duration": 33,
    "start_time": "2025-01-17T20:55:26.785Z"
   },
   {
    "duration": 23,
    "start_time": "2025-01-17T20:55:26.820Z"
   },
   {
    "duration": 89,
    "start_time": "2025-01-17T20:55:26.860Z"
   },
   {
    "duration": 102,
    "start_time": "2025-01-17T20:55:26.959Z"
   },
   {
    "duration": 11,
    "start_time": "2025-01-17T20:55:27.063Z"
   },
   {
    "duration": 12,
    "start_time": "2025-01-17T20:55:27.077Z"
   },
   {
    "duration": 9,
    "start_time": "2025-01-17T20:55:27.091Z"
   },
   {
    "duration": 77,
    "start_time": "2025-01-17T20:55:27.101Z"
   },
   {
    "duration": 46,
    "start_time": "2025-01-17T20:55:27.180Z"
   },
   {
    "duration": 59,
    "start_time": "2025-01-17T20:55:27.228Z"
   },
   {
    "duration": 98,
    "start_time": "2025-01-17T20:55:27.289Z"
   },
   {
    "duration": 130,
    "start_time": "2025-01-17T20:55:27.389Z"
   },
   {
    "duration": 44,
    "start_time": "2025-01-17T20:55:27.520Z"
   },
   {
    "duration": 1002,
    "start_time": "2025-01-17T20:55:27.566Z"
   },
   {
    "duration": 206,
    "start_time": "2025-01-17T20:55:28.570Z"
   },
   {
    "duration": 220,
    "start_time": "2025-01-17T20:55:28.778Z"
   },
   {
    "duration": 87,
    "start_time": "2025-01-17T20:55:29.000Z"
   },
   {
    "duration": 210,
    "start_time": "2025-01-17T20:55:29.089Z"
   },
   {
    "duration": 224,
    "start_time": "2025-01-17T20:55:29.300Z"
   },
   {
    "duration": 5,
    "start_time": "2025-01-17T20:55:29.526Z"
   },
   {
    "duration": 214,
    "start_time": "2025-01-17T20:55:29.533Z"
   },
   {
    "duration": 84,
    "start_time": "2025-01-17T20:55:29.749Z"
   },
   {
    "duration": 170,
    "start_time": "2025-01-17T20:55:29.834Z"
   },
   {
    "duration": 16,
    "start_time": "2025-01-17T20:55:30.008Z"
   },
   {
    "duration": 63,
    "start_time": "2025-01-17T20:55:30.026Z"
   },
   {
    "duration": 1155,
    "start_time": "2025-01-17T20:55:30.091Z"
   },
   {
    "duration": 13,
    "start_time": "2025-01-17T20:55:31.248Z"
   },
   {
    "duration": 52,
    "start_time": "2025-01-17T20:55:31.262Z"
   },
   {
    "duration": 9,
    "start_time": "2025-01-17T20:55:31.316Z"
   },
   {
    "duration": 272,
    "start_time": "2025-01-17T20:55:31.326Z"
   },
   {
    "duration": 61,
    "start_time": "2025-01-17T20:55:31.599Z"
   },
   {
    "duration": 42,
    "start_time": "2025-01-17T20:55:31.662Z"
   },
   {
    "duration": 711,
    "start_time": "2025-01-17T20:55:31.706Z"
   },
   {
    "duration": 51,
    "start_time": "2025-01-17T20:55:32.419Z"
   },
   {
    "duration": 552,
    "start_time": "2025-01-17T20:55:32.472Z"
   },
   {
    "duration": 58,
    "start_time": "2025-01-17T20:55:33.026Z"
   },
   {
    "duration": 14,
    "start_time": "2025-01-17T20:55:33.085Z"
   },
   {
    "duration": 565,
    "start_time": "2025-01-17T20:55:33.101Z"
   },
   {
    "duration": 37,
    "start_time": "2025-01-17T20:55:33.668Z"
   },
   {
    "duration": 30,
    "start_time": "2025-01-17T20:55:33.707Z"
   },
   {
    "duration": 6,
    "start_time": "2025-01-17T20:55:33.759Z"
   },
   {
    "duration": 21,
    "start_time": "2025-01-17T20:55:33.767Z"
   },
   {
    "duration": 20,
    "start_time": "2025-01-17T20:55:33.789Z"
   },
   {
    "duration": 13,
    "start_time": "2025-01-17T20:55:33.811Z"
   },
   {
    "duration": 56,
    "start_time": "2025-01-17T20:55:33.826Z"
   },
   {
    "duration": 4,
    "start_time": "2025-01-17T20:55:33.884Z"
   },
   {
    "duration": 17,
    "start_time": "2025-01-17T20:55:33.890Z"
   },
   {
    "duration": 7,
    "start_time": "2025-01-17T20:55:33.909Z"
   },
   {
    "duration": 101,
    "start_time": "2025-01-17T20:55:33.917Z"
   },
   {
    "duration": 26,
    "start_time": "2025-01-17T20:55:34.020Z"
   },
   {
    "duration": 7,
    "start_time": "2025-01-17T20:55:34.060Z"
   },
   {
    "duration": 356,
    "start_time": "2025-01-17T20:55:34.069Z"
   },
   {
    "duration": 16,
    "start_time": "2025-01-17T20:55:34.427Z"
   },
   {
    "duration": 30,
    "start_time": "2025-01-17T20:55:34.444Z"
   },
   {
    "duration": 37,
    "start_time": "2025-01-17T20:55:34.476Z"
   },
   {
    "duration": 377,
    "start_time": "2025-01-17T20:55:34.514Z"
   },
   {
    "duration": 298,
    "start_time": "2025-01-17T20:55:34.892Z"
   },
   {
    "duration": 37,
    "start_time": "2025-01-17T20:55:35.192Z"
   },
   {
    "duration": 34,
    "start_time": "2025-01-17T20:55:35.231Z"
   },
   {
    "duration": 31,
    "start_time": "2025-01-17T20:55:35.267Z"
   },
   {
    "duration": 12,
    "start_time": "2025-01-17T20:55:35.300Z"
   },
   {
    "duration": 51,
    "start_time": "2025-01-17T20:55:35.314Z"
   },
   {
    "duration": 15,
    "start_time": "2025-01-17T20:55:35.367Z"
   },
   {
    "duration": 98,
    "start_time": "2025-01-17T21:00:05.722Z"
   },
   {
    "duration": 11,
    "start_time": "2025-01-17T21:01:55.017Z"
   },
   {
    "duration": 6,
    "start_time": "2025-01-17T21:02:05.773Z"
   },
   {
    "duration": 5,
    "start_time": "2025-01-17T21:02:13.388Z"
   },
   {
    "duration": 11,
    "start_time": "2025-01-17T21:03:58.838Z"
   },
   {
    "duration": 13,
    "start_time": "2025-01-17T21:04:13.468Z"
   },
   {
    "duration": 12,
    "start_time": "2025-01-17T21:04:48.573Z"
   },
   {
    "duration": 18,
    "start_time": "2025-01-17T21:05:31.689Z"
   },
   {
    "duration": 25,
    "start_time": "2025-01-17T21:06:38.855Z"
   },
   {
    "duration": 3,
    "start_time": "2025-01-17T21:06:49.689Z"
   },
   {
    "duration": 240,
    "start_time": "2025-01-17T21:06:49.694Z"
   },
   {
    "duration": 68,
    "start_time": "2025-01-17T21:06:49.936Z"
   },
   {
    "duration": 12,
    "start_time": "2025-01-17T21:06:50.006Z"
   },
   {
    "duration": 43,
    "start_time": "2025-01-17T21:06:50.020Z"
   },
   {
    "duration": 25,
    "start_time": "2025-01-17T21:06:50.065Z"
   },
   {
    "duration": 117,
    "start_time": "2025-01-17T21:06:50.092Z"
   },
   {
    "duration": 103,
    "start_time": "2025-01-17T21:06:50.211Z"
   },
   {
    "duration": 12,
    "start_time": "2025-01-17T21:06:50.315Z"
   },
   {
    "duration": 30,
    "start_time": "2025-01-17T21:06:50.330Z"
   },
   {
    "duration": 9,
    "start_time": "2025-01-17T21:06:50.362Z"
   },
   {
    "duration": 24,
    "start_time": "2025-01-17T21:06:50.372Z"
   },
   {
    "duration": 83,
    "start_time": "2025-01-17T21:06:50.398Z"
   },
   {
    "duration": 47,
    "start_time": "2025-01-17T21:06:50.484Z"
   },
   {
    "duration": 54,
    "start_time": "2025-01-17T21:06:50.533Z"
   },
   {
    "duration": 82,
    "start_time": "2025-01-17T21:06:50.589Z"
   },
   {
    "duration": 148,
    "start_time": "2025-01-17T21:06:50.673Z"
   },
   {
    "duration": 45,
    "start_time": "2025-01-17T21:06:50.823Z"
   },
   {
    "duration": 3,
    "start_time": "2025-01-17T21:06:50.870Z"
   },
   {
    "duration": 209,
    "start_time": "2025-01-17T21:06:50.874Z"
   },
   {
    "duration": 301,
    "start_time": "2025-01-17T21:06:51.085Z"
   },
   {
    "duration": 79,
    "start_time": "2025-01-17T21:06:51.387Z"
   },
   {
    "duration": 211,
    "start_time": "2025-01-17T21:06:51.467Z"
   },
   {
    "duration": 224,
    "start_time": "2025-01-17T21:06:51.679Z"
   },
   {
    "duration": 5,
    "start_time": "2025-01-17T21:06:51.904Z"
   },
   {
    "duration": 214,
    "start_time": "2025-01-17T21:06:51.911Z"
   },
   {
    "duration": 79,
    "start_time": "2025-01-17T21:06:52.126Z"
   },
   {
    "duration": 165,
    "start_time": "2025-01-17T21:06:52.207Z"
   },
   {
    "duration": 16,
    "start_time": "2025-01-17T21:06:52.374Z"
   },
   {
    "duration": 1158,
    "start_time": "2025-01-17T21:06:52.392Z"
   },
   {
    "duration": 13,
    "start_time": "2025-01-17T21:06:53.551Z"
   },
   {
    "duration": 52,
    "start_time": "2025-01-17T21:06:53.566Z"
   },
   {
    "duration": 7,
    "start_time": "2025-01-17T21:06:53.620Z"
   },
   {
    "duration": 273,
    "start_time": "2025-01-17T21:06:53.629Z"
   },
   {
    "duration": 59,
    "start_time": "2025-01-17T21:06:53.903Z"
   },
   {
    "duration": 38,
    "start_time": "2025-01-17T21:06:53.963Z"
   },
   {
    "duration": 527,
    "start_time": "2025-01-17T21:06:54.003Z"
   },
   {
    "duration": 45,
    "start_time": "2025-01-17T21:06:54.531Z"
   },
   {
    "duration": 504,
    "start_time": "2025-01-17T21:06:54.577Z"
   },
   {
    "duration": 55,
    "start_time": "2025-01-17T21:06:55.084Z"
   },
   {
    "duration": 15,
    "start_time": "2025-01-17T21:06:55.162Z"
   },
   {
    "duration": 594,
    "start_time": "2025-01-17T21:06:55.179Z"
   },
   {
    "duration": 39,
    "start_time": "2025-01-17T21:06:55.776Z"
   },
   {
    "duration": 51,
    "start_time": "2025-01-17T21:06:55.817Z"
   },
   {
    "duration": 5,
    "start_time": "2025-01-17T21:06:55.870Z"
   },
   {
    "duration": 18,
    "start_time": "2025-01-17T21:06:55.876Z"
   },
   {
    "duration": 4,
    "start_time": "2025-01-17T21:06:55.896Z"
   },
   {
    "duration": 14,
    "start_time": "2025-01-17T21:06:55.902Z"
   },
   {
    "duration": 71,
    "start_time": "2025-01-17T21:06:55.918Z"
   },
   {
    "duration": 4,
    "start_time": "2025-01-17T21:06:55.990Z"
   },
   {
    "duration": 9,
    "start_time": "2025-01-17T21:06:55.996Z"
   },
   {
    "duration": 4,
    "start_time": "2025-01-17T21:06:56.007Z"
   },
   {
    "duration": 105,
    "start_time": "2025-01-17T21:06:56.012Z"
   },
   {
    "duration": 26,
    "start_time": "2025-01-17T21:06:56.119Z"
   },
   {
    "duration": 19,
    "start_time": "2025-01-17T21:06:56.147Z"
   },
   {
    "duration": 365,
    "start_time": "2025-01-17T21:06:56.168Z"
   },
   {
    "duration": 27,
    "start_time": "2025-01-17T21:06:56.534Z"
   },
   {
    "duration": 19,
    "start_time": "2025-01-17T21:06:56.562Z"
   },
   {
    "duration": 10,
    "start_time": "2025-01-17T21:06:56.583Z"
   },
   {
    "duration": 106,
    "start_time": "2025-01-17T21:06:56.595Z"
   },
   {
    "duration": 216,
    "start_time": "2025-01-17T21:06:56.703Z"
   },
   {
    "duration": 40,
    "start_time": "2025-01-17T21:06:56.920Z"
   },
   {
    "duration": 20,
    "start_time": "2025-01-17T21:06:56.962Z"
   },
   {
    "duration": 50,
    "start_time": "2025-01-17T21:06:56.984Z"
   },
   {
    "duration": 5,
    "start_time": "2025-01-17T21:06:57.036Z"
   },
   {
    "duration": 39,
    "start_time": "2025-01-17T21:06:57.043Z"
   },
   {
    "duration": 12,
    "start_time": "2025-01-17T21:06:57.084Z"
   },
   {
    "duration": 26,
    "start_time": "2025-01-17T21:09:16.964Z"
   },
   {
    "duration": 25,
    "start_time": "2025-01-17T21:09:30.653Z"
   },
   {
    "duration": 24,
    "start_time": "2025-01-17T21:09:39.093Z"
   },
   {
    "duration": 3,
    "start_time": "2025-01-17T21:11:45.559Z"
   },
   {
    "duration": 217,
    "start_time": "2025-01-17T21:11:45.564Z"
   },
   {
    "duration": 59,
    "start_time": "2025-01-17T21:11:45.783Z"
   },
   {
    "duration": 10,
    "start_time": "2025-01-17T21:11:45.845Z"
   },
   {
    "duration": 28,
    "start_time": "2025-01-17T21:11:45.857Z"
   },
   {
    "duration": 24,
    "start_time": "2025-01-17T21:11:45.887Z"
   },
   {
    "duration": 112,
    "start_time": "2025-01-17T21:11:45.912Z"
   },
   {
    "duration": 99,
    "start_time": "2025-01-17T21:11:46.025Z"
   },
   {
    "duration": 11,
    "start_time": "2025-01-17T21:11:46.126Z"
   },
   {
    "duration": 30,
    "start_time": "2025-01-17T21:11:46.139Z"
   },
   {
    "duration": 10,
    "start_time": "2025-01-17T21:11:46.171Z"
   },
   {
    "duration": 15,
    "start_time": "2025-01-17T21:11:46.183Z"
   },
   {
    "duration": 32,
    "start_time": "2025-01-17T21:11:46.200Z"
   },
   {
    "duration": 53,
    "start_time": "2025-01-17T21:11:46.260Z"
   },
   {
    "duration": 57,
    "start_time": "2025-01-17T21:11:46.315Z"
   },
   {
    "duration": 39,
    "start_time": "2025-01-17T21:11:46.374Z"
   },
   {
    "duration": 77,
    "start_time": "2025-01-17T21:11:46.414Z"
   },
   {
    "duration": 136,
    "start_time": "2025-01-17T21:11:46.492Z"
   },
   {
    "duration": 50,
    "start_time": "2025-01-17T21:11:46.630Z"
   },
   {
    "duration": 3,
    "start_time": "2025-01-17T21:11:46.682Z"
   },
   {
    "duration": 200,
    "start_time": "2025-01-17T21:11:46.686Z"
   },
   {
    "duration": 332,
    "start_time": "2025-01-17T21:11:46.888Z"
   },
   {
    "duration": 82,
    "start_time": "2025-01-17T21:11:47.222Z"
   },
   {
    "duration": 218,
    "start_time": "2025-01-17T21:11:47.306Z"
   },
   {
    "duration": 223,
    "start_time": "2025-01-17T21:11:47.526Z"
   },
   {
    "duration": 11,
    "start_time": "2025-01-17T21:11:47.751Z"
   },
   {
    "duration": 246,
    "start_time": "2025-01-17T21:11:47.764Z"
   },
   {
    "duration": 75,
    "start_time": "2025-01-17T21:11:48.011Z"
   },
   {
    "duration": 181,
    "start_time": "2025-01-17T21:11:48.087Z"
   },
   {
    "duration": 17,
    "start_time": "2025-01-17T21:11:48.270Z"
   },
   {
    "duration": 1142,
    "start_time": "2025-01-17T21:11:48.289Z"
   },
   {
    "duration": 6,
    "start_time": "2025-01-17T21:11:49.433Z"
   },
   {
    "duration": 63,
    "start_time": "2025-01-17T21:11:49.441Z"
   },
   {
    "duration": 9,
    "start_time": "2025-01-17T21:11:49.505Z"
   },
   {
    "duration": 265,
    "start_time": "2025-01-17T21:11:49.515Z"
   },
   {
    "duration": 52,
    "start_time": "2025-01-17T21:11:49.782Z"
   },
   {
    "duration": 54,
    "start_time": "2025-01-17T21:11:49.836Z"
   },
   {
    "duration": 512,
    "start_time": "2025-01-17T21:11:49.892Z"
   },
   {
    "duration": 54,
    "start_time": "2025-01-17T21:11:50.406Z"
   },
   {
    "duration": 552,
    "start_time": "2025-01-17T21:11:50.461Z"
   },
   {
    "duration": 61,
    "start_time": "2025-01-17T21:11:51.018Z"
   },
   {
    "duration": 13,
    "start_time": "2025-01-17T21:11:51.081Z"
   },
   {
    "duration": 565,
    "start_time": "2025-01-17T21:11:51.095Z"
   },
   {
    "duration": 26,
    "start_time": "2025-01-17T21:11:51.662Z"
   },
   {
    "duration": 34,
    "start_time": "2025-01-17T21:11:51.690Z"
   },
   {
    "duration": 4,
    "start_time": "2025-01-17T21:11:51.726Z"
   },
   {
    "duration": 14,
    "start_time": "2025-01-17T21:11:51.760Z"
   },
   {
    "duration": 5,
    "start_time": "2025-01-17T21:11:51.776Z"
   },
   {
    "duration": 27,
    "start_time": "2025-01-17T21:11:51.783Z"
   },
   {
    "duration": 53,
    "start_time": "2025-01-17T21:11:51.812Z"
   },
   {
    "duration": 4,
    "start_time": "2025-01-17T21:11:51.867Z"
   },
   {
    "duration": 5,
    "start_time": "2025-01-17T21:11:51.872Z"
   },
   {
    "duration": 4,
    "start_time": "2025-01-17T21:11:51.879Z"
   },
   {
    "duration": 100,
    "start_time": "2025-01-17T21:11:51.885Z"
   },
   {
    "duration": 26,
    "start_time": "2025-01-17T21:11:51.987Z"
   },
   {
    "duration": 11,
    "start_time": "2025-01-17T21:11:52.015Z"
   },
   {
    "duration": 364,
    "start_time": "2025-01-17T21:11:52.027Z"
   },
   {
    "duration": 17,
    "start_time": "2025-01-17T21:11:52.393Z"
   },
   {
    "duration": 18,
    "start_time": "2025-01-17T21:11:52.412Z"
   },
   {
    "duration": 32,
    "start_time": "2025-01-17T21:11:52.432Z"
   },
   {
    "duration": 74,
    "start_time": "2025-01-17T21:11:52.466Z"
   },
   {
    "duration": 223,
    "start_time": "2025-01-17T21:11:52.542Z"
   },
   {
    "duration": 47,
    "start_time": "2025-01-17T21:11:52.767Z"
   },
   {
    "duration": 20,
    "start_time": "2025-01-17T21:11:52.816Z"
   },
   {
    "duration": 46,
    "start_time": "2025-01-17T21:11:52.838Z"
   },
   {
    "duration": 6,
    "start_time": "2025-01-17T21:11:52.886Z"
   },
   {
    "duration": 28,
    "start_time": "2025-01-17T21:11:52.893Z"
   },
   {
    "duration": 45,
    "start_time": "2025-01-17T21:11:52.923Z"
   },
   {
    "duration": 24,
    "start_time": "2025-01-17T21:13:38.257Z"
   },
   {
    "duration": 2,
    "start_time": "2025-01-17T21:14:04.003Z"
   },
   {
    "duration": 230,
    "start_time": "2025-01-17T21:14:04.007Z"
   },
   {
    "duration": 62,
    "start_time": "2025-01-17T21:14:04.239Z"
   },
   {
    "duration": 16,
    "start_time": "2025-01-17T21:14:04.303Z"
   },
   {
    "duration": 29,
    "start_time": "2025-01-17T21:14:04.321Z"
   },
   {
    "duration": 25,
    "start_time": "2025-01-17T21:14:04.352Z"
   },
   {
    "duration": 104,
    "start_time": "2025-01-17T21:14:04.378Z"
   },
   {
    "duration": 96,
    "start_time": "2025-01-17T21:14:04.484Z"
   },
   {
    "duration": 10,
    "start_time": "2025-01-17T21:14:04.582Z"
   },
   {
    "duration": 26,
    "start_time": "2025-01-17T21:14:04.594Z"
   },
   {
    "duration": 8,
    "start_time": "2025-01-17T21:14:04.622Z"
   },
   {
    "duration": 52,
    "start_time": "2025-01-17T21:14:04.631Z"
   },
   {
    "duration": 48,
    "start_time": "2025-01-17T21:14:04.685Z"
   },
   {
    "duration": 55,
    "start_time": "2025-01-17T21:14:04.736Z"
   },
   {
    "duration": 39,
    "start_time": "2025-01-17T21:14:04.793Z"
   },
   {
    "duration": 90,
    "start_time": "2025-01-17T21:14:04.834Z"
   },
   {
    "duration": 135,
    "start_time": "2025-01-17T21:14:04.926Z"
   },
   {
    "duration": 36,
    "start_time": "2025-01-17T21:14:05.063Z"
   },
   {
    "duration": 2,
    "start_time": "2025-01-17T21:14:05.101Z"
   },
   {
    "duration": 224,
    "start_time": "2025-01-17T21:14:05.105Z"
   },
   {
    "duration": 203,
    "start_time": "2025-01-17T21:14:05.331Z"
   },
   {
    "duration": 77,
    "start_time": "2025-01-17T21:14:05.536Z"
   },
   {
    "duration": 327,
    "start_time": "2025-01-17T21:14:05.614Z"
   },
   {
    "duration": 216,
    "start_time": "2025-01-17T21:14:05.943Z"
   },
   {
    "duration": 6,
    "start_time": "2025-01-17T21:14:06.161Z"
   },
   {
    "duration": 220,
    "start_time": "2025-01-17T21:14:06.168Z"
   },
   {
    "duration": 80,
    "start_time": "2025-01-17T21:14:06.389Z"
   },
   {
    "duration": 178,
    "start_time": "2025-01-17T21:14:06.471Z"
   },
   {
    "duration": 21,
    "start_time": "2025-01-17T21:14:06.651Z"
   },
   {
    "duration": 25,
    "start_time": "2025-01-17T21:14:06.674Z"
   },
   {
    "duration": 1126,
    "start_time": "2025-01-17T21:14:06.700Z"
   },
   {
    "duration": 6,
    "start_time": "2025-01-17T21:14:07.828Z"
   },
   {
    "duration": 77,
    "start_time": "2025-01-17T21:14:07.836Z"
   },
   {
    "duration": 13,
    "start_time": "2025-01-17T21:14:07.915Z"
   },
   {
    "duration": 288,
    "start_time": "2025-01-17T21:14:07.931Z"
   },
   {
    "duration": 64,
    "start_time": "2025-01-17T21:14:08.220Z"
   },
   {
    "duration": 41,
    "start_time": "2025-01-17T21:14:08.287Z"
   },
   {
    "duration": 583,
    "start_time": "2025-01-17T21:14:08.330Z"
   },
   {
    "duration": 51,
    "start_time": "2025-01-17T21:14:08.915Z"
   },
   {
    "duration": 538,
    "start_time": "2025-01-17T21:14:08.968Z"
   },
   {
    "duration": 68,
    "start_time": "2025-01-17T21:14:09.510Z"
   },
   {
    "duration": 13,
    "start_time": "2025-01-17T21:14:09.580Z"
   },
   {
    "duration": 582,
    "start_time": "2025-01-17T21:14:09.594Z"
   },
   {
    "duration": 23,
    "start_time": "2025-01-17T21:14:10.177Z"
   },
   {
    "duration": 43,
    "start_time": "2025-01-17T21:14:10.202Z"
   },
   {
    "duration": 4,
    "start_time": "2025-01-17T21:14:10.246Z"
   },
   {
    "duration": 14,
    "start_time": "2025-01-17T21:14:10.260Z"
   },
   {
    "duration": 17,
    "start_time": "2025-01-17T21:14:10.275Z"
   },
   {
    "duration": 26,
    "start_time": "2025-01-17T21:14:10.294Z"
   },
   {
    "duration": 43,
    "start_time": "2025-01-17T21:14:10.322Z"
   },
   {
    "duration": 4,
    "start_time": "2025-01-17T21:14:10.367Z"
   },
   {
    "duration": 4,
    "start_time": "2025-01-17T21:14:10.372Z"
   },
   {
    "duration": 9,
    "start_time": "2025-01-17T21:14:10.377Z"
   },
   {
    "duration": 105,
    "start_time": "2025-01-17T21:14:10.387Z"
   },
   {
    "duration": 27,
    "start_time": "2025-01-17T21:14:10.494Z"
   },
   {
    "duration": 8,
    "start_time": "2025-01-17T21:14:10.523Z"
   },
   {
    "duration": 369,
    "start_time": "2025-01-17T21:14:10.533Z"
   },
   {
    "duration": 16,
    "start_time": "2025-01-17T21:14:10.903Z"
   },
   {
    "duration": 19,
    "start_time": "2025-01-17T21:14:10.921Z"
   },
   {
    "duration": 28,
    "start_time": "2025-01-17T21:14:10.941Z"
   },
   {
    "duration": 74,
    "start_time": "2025-01-17T21:14:10.970Z"
   },
   {
    "duration": 222,
    "start_time": "2025-01-17T21:14:11.045Z"
   },
   {
    "duration": 37,
    "start_time": "2025-01-17T21:14:11.269Z"
   },
   {
    "duration": 20,
    "start_time": "2025-01-17T21:14:11.308Z"
   },
   {
    "duration": 58,
    "start_time": "2025-01-17T21:14:11.330Z"
   },
   {
    "duration": 6,
    "start_time": "2025-01-17T21:14:11.389Z"
   },
   {
    "duration": 27,
    "start_time": "2025-01-17T21:14:11.396Z"
   },
   {
    "duration": 38,
    "start_time": "2025-01-17T21:14:11.425Z"
   },
   {
    "duration": 2,
    "start_time": "2025-01-17T21:14:40.778Z"
   },
   {
    "duration": 51,
    "start_time": "2025-01-17T21:14:44.752Z"
   },
   {
    "duration": 7,
    "start_time": "2025-01-17T21:14:57.125Z"
   },
   {
    "duration": 237,
    "start_time": "2025-01-17T21:14:57.133Z"
   },
   {
    "duration": 56,
    "start_time": "2025-01-17T21:14:57.372Z"
   },
   {
    "duration": 10,
    "start_time": "2025-01-17T21:14:57.429Z"
   },
   {
    "duration": 34,
    "start_time": "2025-01-17T21:14:57.442Z"
   },
   {
    "duration": 34,
    "start_time": "2025-01-17T21:14:57.478Z"
   },
   {
    "duration": 95,
    "start_time": "2025-01-17T21:14:57.514Z"
   },
   {
    "duration": 108,
    "start_time": "2025-01-17T21:14:57.611Z"
   },
   {
    "duration": 12,
    "start_time": "2025-01-17T21:14:57.721Z"
   },
   {
    "duration": 27,
    "start_time": "2025-01-17T21:14:57.735Z"
   },
   {
    "duration": 16,
    "start_time": "2025-01-17T21:14:57.764Z"
   },
   {
    "duration": 28,
    "start_time": "2025-01-17T21:14:57.782Z"
   },
   {
    "duration": 76,
    "start_time": "2025-01-17T21:14:57.812Z"
   },
   {
    "duration": 75,
    "start_time": "2025-01-17T21:14:57.892Z"
   },
   {
    "duration": 45,
    "start_time": "2025-01-17T21:14:57.969Z"
   },
   {
    "duration": 80,
    "start_time": "2025-01-17T21:14:58.016Z"
   },
   {
    "duration": 146,
    "start_time": "2025-01-17T21:14:58.098Z"
   },
   {
    "duration": 42,
    "start_time": "2025-01-17T21:14:58.246Z"
   },
   {
    "duration": 3,
    "start_time": "2025-01-17T21:14:58.289Z"
   },
   {
    "duration": 207,
    "start_time": "2025-01-17T21:14:58.294Z"
   },
   {
    "duration": 214,
    "start_time": "2025-01-17T21:14:58.502Z"
   },
   {
    "duration": 83,
    "start_time": "2025-01-17T21:14:58.718Z"
   },
   {
    "duration": 213,
    "start_time": "2025-01-17T21:14:58.803Z"
   },
   {
    "duration": 325,
    "start_time": "2025-01-17T21:14:59.018Z"
   },
   {
    "duration": 15,
    "start_time": "2025-01-17T21:14:59.345Z"
   },
   {
    "duration": 208,
    "start_time": "2025-01-17T21:14:59.362Z"
   },
   {
    "duration": 70,
    "start_time": "2025-01-17T21:14:59.572Z"
   },
   {
    "duration": 181,
    "start_time": "2025-01-17T21:14:59.644Z"
   },
   {
    "duration": 16,
    "start_time": "2025-01-17T21:14:59.827Z"
   },
   {
    "duration": 27,
    "start_time": "2025-01-17T21:14:59.845Z"
   },
   {
    "duration": 1124,
    "start_time": "2025-01-17T21:14:59.874Z"
   },
   {
    "duration": 6,
    "start_time": "2025-01-17T21:15:01.000Z"
   },
   {
    "duration": 61,
    "start_time": "2025-01-17T21:15:01.007Z"
   },
   {
    "duration": 8,
    "start_time": "2025-01-17T21:15:01.070Z"
   },
   {
    "duration": 273,
    "start_time": "2025-01-17T21:15:01.079Z"
   },
   {
    "duration": 7,
    "start_time": "2025-01-17T21:15:01.353Z"
   },
   {
    "duration": 64,
    "start_time": "2025-01-17T21:15:01.362Z"
   },
   {
    "duration": 45,
    "start_time": "2025-01-17T21:15:01.428Z"
   },
   {
    "duration": 553,
    "start_time": "2025-01-17T21:15:01.475Z"
   },
   {
    "duration": 54,
    "start_time": "2025-01-17T21:15:02.030Z"
   },
   {
    "duration": 574,
    "start_time": "2025-01-17T21:15:02.089Z"
   },
   {
    "duration": 59,
    "start_time": "2025-01-17T21:15:02.665Z"
   },
   {
    "duration": 1132,
    "start_time": "2025-01-17T21:15:02.726Z"
   },
   {
    "duration": 618,
    "start_time": "2025-01-17T21:15:03.860Z"
   },
   {
    "duration": 29,
    "start_time": "2025-01-17T21:15:04.479Z"
   },
   {
    "duration": 43,
    "start_time": "2025-01-17T21:15:04.510Z"
   },
   {
    "duration": 8,
    "start_time": "2025-01-17T21:15:04.560Z"
   },
   {
    "duration": 44,
    "start_time": "2025-01-17T21:15:04.570Z"
   },
   {
    "duration": 4,
    "start_time": "2025-01-17T21:15:04.616Z"
   },
   {
    "duration": 13,
    "start_time": "2025-01-17T21:15:04.622Z"
   },
   {
    "duration": 42,
    "start_time": "2025-01-17T21:15:04.637Z"
   },
   {
    "duration": 5,
    "start_time": "2025-01-17T21:15:04.681Z"
   },
   {
    "duration": 13,
    "start_time": "2025-01-17T21:15:04.688Z"
   },
   {
    "duration": 10,
    "start_time": "2025-01-17T21:15:04.703Z"
   },
   {
    "duration": 92,
    "start_time": "2025-01-17T21:15:04.715Z"
   },
   {
    "duration": 26,
    "start_time": "2025-01-17T21:15:04.809Z"
   },
   {
    "duration": 29,
    "start_time": "2025-01-17T21:15:04.836Z"
   },
   {
    "duration": 356,
    "start_time": "2025-01-17T21:15:04.867Z"
   },
   {
    "duration": 17,
    "start_time": "2025-01-17T21:15:05.225Z"
   },
   {
    "duration": 30,
    "start_time": "2025-01-17T21:15:05.244Z"
   },
   {
    "duration": 32,
    "start_time": "2025-01-17T21:15:05.276Z"
   },
   {
    "duration": 71,
    "start_time": "2025-01-17T21:15:05.310Z"
   },
   {
    "duration": 203,
    "start_time": "2025-01-17T21:15:05.383Z"
   },
   {
    "duration": 35,
    "start_time": "2025-01-17T21:15:05.588Z"
   },
   {
    "duration": 18,
    "start_time": "2025-01-17T21:15:05.624Z"
   },
   {
    "duration": 52,
    "start_time": "2025-01-17T21:15:05.644Z"
   },
   {
    "duration": 6,
    "start_time": "2025-01-17T21:15:05.698Z"
   },
   {
    "duration": 56,
    "start_time": "2025-01-17T21:15:05.706Z"
   },
   {
    "duration": 13,
    "start_time": "2025-01-17T21:15:05.764Z"
   },
   {
    "duration": 1292,
    "start_time": "2025-01-17T21:27:30.887Z"
   },
   {
    "duration": 1324,
    "start_time": "2025-01-17T21:27:46.798Z"
   },
   {
    "duration": 1251,
    "start_time": "2025-01-17T21:27:51.092Z"
   },
   {
    "duration": 355,
    "start_time": "2025-01-17T21:28:04.716Z"
   },
   {
    "duration": 342,
    "start_time": "2025-01-17T21:30:45.748Z"
   },
   {
    "duration": 43245,
    "start_time": "2025-01-17T21:31:52.981Z"
   },
   {
    "duration": 292,
    "start_time": "2025-01-17T21:34:10.996Z"
   },
   {
    "duration": 302,
    "start_time": "2025-01-17T21:35:43.243Z"
   },
   {
    "duration": 83,
    "start_time": "2025-01-17T21:40:06.546Z"
   },
   {
    "duration": 6,
    "start_time": "2025-01-17T21:41:59.401Z"
   },
   {
    "duration": 6,
    "start_time": "2025-01-17T21:42:11.426Z"
   },
   {
    "duration": 97,
    "start_time": "2025-01-17T21:42:56.120Z"
   },
   {
    "duration": 109,
    "start_time": "2025-01-17T21:43:05.036Z"
   },
   {
    "duration": 51,
    "start_time": "2025-01-17T21:43:27.188Z"
   },
   {
    "duration": 27,
    "start_time": "2025-01-17T21:44:05.455Z"
   },
   {
    "duration": 3,
    "start_time": "2025-01-17T21:44:10.587Z"
   },
   {
    "duration": 224,
    "start_time": "2025-01-17T21:44:10.591Z"
   },
   {
    "duration": 50,
    "start_time": "2025-01-17T21:44:10.816Z"
   },
   {
    "duration": 8,
    "start_time": "2025-01-17T21:44:10.867Z"
   },
   {
    "duration": 30,
    "start_time": "2025-01-17T21:44:10.878Z"
   },
   {
    "duration": 25,
    "start_time": "2025-01-17T21:44:10.910Z"
   },
   {
    "duration": 110,
    "start_time": "2025-01-17T21:44:10.937Z"
   },
   {
    "duration": 101,
    "start_time": "2025-01-17T21:44:11.059Z"
   },
   {
    "duration": 11,
    "start_time": "2025-01-17T21:44:11.161Z"
   },
   {
    "duration": 14,
    "start_time": "2025-01-17T21:44:11.174Z"
   },
   {
    "duration": 33,
    "start_time": "2025-01-17T21:44:11.190Z"
   },
   {
    "duration": 24,
    "start_time": "2025-01-17T21:44:11.224Z"
   },
   {
    "duration": 54,
    "start_time": "2025-01-17T21:44:11.906Z"
   },
   {
    "duration": 44,
    "start_time": "2025-01-17T21:44:11.962Z"
   },
   {
    "duration": 60,
    "start_time": "2025-01-17T21:44:12.008Z"
   },
   {
    "duration": 62,
    "start_time": "2025-01-17T21:44:12.069Z"
   },
   {
    "duration": 146,
    "start_time": "2025-01-17T21:44:12.133Z"
   },
   {
    "duration": 36,
    "start_time": "2025-01-17T21:44:12.280Z"
   },
   {
    "duration": 8,
    "start_time": "2025-01-17T21:44:12.318Z"
   },
   {
    "duration": 217,
    "start_time": "2025-01-17T21:44:12.328Z"
   },
   {
    "duration": 395,
    "start_time": "2025-01-17T21:44:12.548Z"
   },
   {
    "duration": 81,
    "start_time": "2025-01-17T21:44:12.945Z"
   },
   {
    "duration": 216,
    "start_time": "2025-01-17T21:44:13.028Z"
   },
   {
    "duration": 223,
    "start_time": "2025-01-17T21:44:13.246Z"
   },
   {
    "duration": 5,
    "start_time": "2025-01-17T21:44:13.471Z"
   },
   {
    "duration": 224,
    "start_time": "2025-01-17T21:44:13.480Z"
   },
   {
    "duration": 76,
    "start_time": "2025-01-17T21:44:13.706Z"
   },
   {
    "duration": 169,
    "start_time": "2025-01-17T21:44:13.784Z"
   },
   {
    "duration": 16,
    "start_time": "2025-01-17T21:44:13.955Z"
   },
   {
    "duration": 335,
    "start_time": "2025-01-17T21:44:13.973Z"
   },
   {
    "duration": 1194,
    "start_time": "2025-01-17T21:44:14.309Z"
   },
   {
    "duration": 6,
    "start_time": "2025-01-17T21:44:15.505Z"
   },
   {
    "duration": 69,
    "start_time": "2025-01-17T21:44:15.513Z"
   },
   {
    "duration": 9,
    "start_time": "2025-01-17T21:44:15.584Z"
   },
   {
    "duration": 306,
    "start_time": "2025-01-17T21:44:15.594Z"
   },
   {
    "duration": 18,
    "start_time": "2025-01-17T21:44:15.901Z"
   },
   {
    "duration": 2,
    "start_time": "2025-01-17T21:44:15.921Z"
   },
   {
    "duration": 64,
    "start_time": "2025-01-17T21:44:15.925Z"
   },
   {
    "duration": 38,
    "start_time": "2025-01-17T21:44:15.990Z"
   },
   {
    "duration": 561,
    "start_time": "2025-01-17T21:44:16.030Z"
   },
   {
    "duration": 33,
    "start_time": "2025-01-17T21:44:16.593Z"
   },
   {
    "duration": 546,
    "start_time": "2025-01-17T21:44:16.628Z"
   },
   {
    "duration": 45,
    "start_time": "2025-01-17T21:44:17.176Z"
   },
   {
    "duration": 12,
    "start_time": "2025-01-17T21:44:17.222Z"
   },
   {
    "duration": 562,
    "start_time": "2025-01-17T21:44:17.236Z"
   },
   {
    "duration": 21,
    "start_time": "2025-01-17T21:44:17.800Z"
   },
   {
    "duration": 44,
    "start_time": "2025-01-17T21:44:17.823Z"
   },
   {
    "duration": 11,
    "start_time": "2025-01-17T21:44:17.869Z"
   },
   {
    "duration": 41,
    "start_time": "2025-01-17T21:44:17.881Z"
   },
   {
    "duration": 6,
    "start_time": "2025-01-17T21:44:17.925Z"
   },
   {
    "duration": 29,
    "start_time": "2025-01-17T21:44:17.933Z"
   },
   {
    "duration": 53,
    "start_time": "2025-01-17T21:44:17.964Z"
   },
   {
    "duration": 13,
    "start_time": "2025-01-17T21:44:18.022Z"
   },
   {
    "duration": 14,
    "start_time": "2025-01-17T21:44:18.036Z"
   },
   {
    "duration": 14,
    "start_time": "2025-01-17T21:44:18.052Z"
   },
   {
    "duration": 80,
    "start_time": "2025-01-17T21:44:18.068Z"
   },
   {
    "duration": 27,
    "start_time": "2025-01-17T21:44:18.150Z"
   },
   {
    "duration": 7,
    "start_time": "2025-01-17T21:44:18.178Z"
   },
   {
    "duration": 337,
    "start_time": "2025-01-17T21:44:18.186Z"
   },
   {
    "duration": 17,
    "start_time": "2025-01-17T21:44:18.525Z"
   },
   {
    "duration": 30,
    "start_time": "2025-01-17T21:44:18.543Z"
   },
   {
    "duration": 10,
    "start_time": "2025-01-17T21:44:18.575Z"
   },
   {
    "duration": 89,
    "start_time": "2025-01-17T21:44:18.587Z"
   },
   {
    "duration": 165,
    "start_time": "2025-01-17T21:44:18.678Z"
   },
   {
    "duration": 36,
    "start_time": "2025-01-17T21:44:18.844Z"
   },
   {
    "duration": 19,
    "start_time": "2025-01-17T21:44:18.881Z"
   },
   {
    "duration": 47,
    "start_time": "2025-01-17T21:44:18.901Z"
   },
   {
    "duration": 5,
    "start_time": "2025-01-17T21:44:18.949Z"
   },
   {
    "duration": 39,
    "start_time": "2025-01-17T21:44:18.960Z"
   },
   {
    "duration": 21,
    "start_time": "2025-01-17T21:44:19.001Z"
   },
   {
    "duration": 29,
    "start_time": "2025-01-17T21:45:52.136Z"
   },
   {
    "duration": 36,
    "start_time": "2025-01-17T21:46:00.993Z"
   },
   {
    "duration": 36,
    "start_time": "2025-01-17T21:46:17.971Z"
   },
   {
    "duration": 38,
    "start_time": "2025-01-17T21:48:14.133Z"
   },
   {
    "duration": 38,
    "start_time": "2025-01-17T21:48:49.612Z"
   },
   {
    "duration": 38,
    "start_time": "2025-01-17T21:49:09.369Z"
   },
   {
    "duration": 65,
    "start_time": "2025-01-17T21:49:18.724Z"
   },
   {
    "duration": 35,
    "start_time": "2025-01-17T21:49:25.138Z"
   },
   {
    "duration": 478,
    "start_time": "2025-01-17T21:49:43.603Z"
   },
   {
    "duration": 34,
    "start_time": "2025-01-17T21:50:07.416Z"
   },
   {
    "duration": 3,
    "start_time": "2025-01-17T21:55:59.425Z"
   },
   {
    "duration": 245,
    "start_time": "2025-01-17T21:55:59.430Z"
   },
   {
    "duration": 80,
    "start_time": "2025-01-17T21:55:59.677Z"
   },
   {
    "duration": 10,
    "start_time": "2025-01-17T21:55:59.758Z"
   },
   {
    "duration": 30,
    "start_time": "2025-01-17T21:55:59.770Z"
   },
   {
    "duration": 27,
    "start_time": "2025-01-17T21:55:59.802Z"
   },
   {
    "duration": 110,
    "start_time": "2025-01-17T21:55:59.831Z"
   },
   {
    "duration": 93,
    "start_time": "2025-01-17T21:55:59.943Z"
   },
   {
    "duration": 22,
    "start_time": "2025-01-17T21:56:00.038Z"
   },
   {
    "duration": 24,
    "start_time": "2025-01-17T21:56:00.061Z"
   },
   {
    "duration": 34,
    "start_time": "2025-01-17T21:56:00.086Z"
   },
   {
    "duration": 46,
    "start_time": "2025-01-17T21:56:00.122Z"
   },
   {
    "duration": 76,
    "start_time": "2025-01-17T21:56:00.169Z"
   },
   {
    "duration": 49,
    "start_time": "2025-01-17T21:56:00.248Z"
   },
   {
    "duration": 43,
    "start_time": "2025-01-17T21:56:00.299Z"
   },
   {
    "duration": 93,
    "start_time": "2025-01-17T21:56:00.344Z"
   },
   {
    "duration": 121,
    "start_time": "2025-01-17T21:56:00.439Z"
   },
   {
    "duration": 35,
    "start_time": "2025-01-17T21:56:00.561Z"
   },
   {
    "duration": 4,
    "start_time": "2025-01-17T21:56:00.598Z"
   },
   {
    "duration": 206,
    "start_time": "2025-01-17T21:56:00.604Z"
   },
   {
    "duration": 405,
    "start_time": "2025-01-17T21:56:00.811Z"
   },
   {
    "duration": 78,
    "start_time": "2025-01-17T21:56:01.218Z"
   },
   {
    "duration": 220,
    "start_time": "2025-01-17T21:56:01.297Z"
   },
   {
    "duration": 236,
    "start_time": "2025-01-17T21:56:01.518Z"
   },
   {
    "duration": 5,
    "start_time": "2025-01-17T21:56:01.759Z"
   },
   {
    "duration": 218,
    "start_time": "2025-01-17T21:56:01.766Z"
   },
   {
    "duration": 76,
    "start_time": "2025-01-17T21:56:01.986Z"
   },
   {
    "duration": 176,
    "start_time": "2025-01-17T21:56:02.064Z"
   },
   {
    "duration": 25,
    "start_time": "2025-01-17T21:56:02.241Z"
   },
   {
    "duration": 300,
    "start_time": "2025-01-17T21:56:02.268Z"
   },
   {
    "duration": 1153,
    "start_time": "2025-01-17T21:56:02.570Z"
   },
   {
    "duration": 6,
    "start_time": "2025-01-17T21:56:03.725Z"
   },
   {
    "duration": 61,
    "start_time": "2025-01-17T21:56:03.733Z"
   },
   {
    "duration": 9,
    "start_time": "2025-01-17T21:56:03.796Z"
   },
   {
    "duration": 309,
    "start_time": "2025-01-17T21:56:03.807Z"
   },
   {
    "duration": 18,
    "start_time": "2025-01-17T21:56:04.118Z"
   },
   {
    "duration": 4,
    "start_time": "2025-01-17T21:56:04.138Z"
   },
   {
    "duration": 51,
    "start_time": "2025-01-17T21:56:04.160Z"
   },
   {
    "duration": 64,
    "start_time": "2025-01-17T21:56:04.213Z"
   },
   {
    "duration": 580,
    "start_time": "2025-01-17T21:56:04.279Z"
   },
   {
    "duration": 38,
    "start_time": "2025-01-17T21:56:04.864Z"
   },
   {
    "duration": 549,
    "start_time": "2025-01-17T21:56:04.904Z"
   },
   {
    "duration": 47,
    "start_time": "2025-01-17T21:56:05.455Z"
   },
   {
    "duration": 12,
    "start_time": "2025-01-17T21:56:05.504Z"
   },
   {
    "duration": 602,
    "start_time": "2025-01-17T21:56:05.518Z"
   },
   {
    "duration": 22,
    "start_time": "2025-01-17T21:56:06.121Z"
   },
   {
    "duration": 46,
    "start_time": "2025-01-17T21:56:06.145Z"
   },
   {
    "duration": 48,
    "start_time": "2025-01-17T21:56:06.193Z"
   },
   {
    "duration": 65,
    "start_time": "2025-01-17T21:56:06.243Z"
   },
   {
    "duration": 34,
    "start_time": "2025-01-17T21:56:06.310Z"
   },
   {
    "duration": 71,
    "start_time": "2025-01-17T21:56:06.345Z"
   },
   {
    "duration": 91,
    "start_time": "2025-01-17T21:56:06.418Z"
   },
   {
    "duration": 37,
    "start_time": "2025-01-17T21:56:06.511Z"
   },
   {
    "duration": 30,
    "start_time": "2025-01-17T21:56:06.550Z"
   },
   {
    "duration": 9,
    "start_time": "2025-01-17T21:56:06.582Z"
   },
   {
    "duration": 77,
    "start_time": "2025-01-17T21:56:06.592Z"
   },
   {
    "duration": 27,
    "start_time": "2025-01-17T21:56:06.671Z"
   },
   {
    "duration": 6,
    "start_time": "2025-01-17T21:56:06.699Z"
   },
   {
    "duration": 339,
    "start_time": "2025-01-17T21:56:06.707Z"
   },
   {
    "duration": 26,
    "start_time": "2025-01-17T21:56:07.048Z"
   },
   {
    "duration": 17,
    "start_time": "2025-01-17T21:56:07.076Z"
   },
   {
    "duration": 10,
    "start_time": "2025-01-17T21:56:07.095Z"
   },
   {
    "duration": 103,
    "start_time": "2025-01-17T21:56:07.107Z"
   },
   {
    "duration": 173,
    "start_time": "2025-01-17T21:56:07.211Z"
   },
   {
    "duration": 26,
    "start_time": "2025-01-17T21:56:07.386Z"
   },
   {
    "duration": 19,
    "start_time": "2025-01-17T21:56:07.414Z"
   },
   {
    "duration": 52,
    "start_time": "2025-01-17T21:56:07.435Z"
   },
   {
    "duration": 5,
    "start_time": "2025-01-17T21:56:07.488Z"
   },
   {
    "duration": 30,
    "start_time": "2025-01-17T21:56:07.495Z"
   },
   {
    "duration": 13,
    "start_time": "2025-01-17T21:56:07.527Z"
   },
   {
    "duration": 5,
    "start_time": "2025-01-17T21:56:48.843Z"
   },
   {
    "duration": 35,
    "start_time": "2025-01-17T21:57:26.409Z"
   },
   {
    "duration": 460,
    "start_time": "2025-01-20T09:15:07.300Z"
   },
   {
    "duration": 404,
    "start_time": "2025-01-20T09:15:07.762Z"
   },
   {
    "duration": 183,
    "start_time": "2025-01-20T09:15:08.167Z"
   },
   {
    "duration": 16,
    "start_time": "2025-01-20T09:15:08.354Z"
   },
   {
    "duration": 58,
    "start_time": "2025-01-20T09:15:08.372Z"
   },
   {
    "duration": 26,
    "start_time": "2025-01-20T09:15:08.432Z"
   },
   {
    "duration": 146,
    "start_time": "2025-01-20T09:15:08.459Z"
   },
   {
    "duration": 148,
    "start_time": "2025-01-20T09:15:08.607Z"
   },
   {
    "duration": 11,
    "start_time": "2025-01-20T09:15:08.757Z"
   },
   {
    "duration": 39,
    "start_time": "2025-01-20T09:15:08.772Z"
   },
   {
    "duration": 21,
    "start_time": "2025-01-20T09:15:08.813Z"
   },
   {
    "duration": 29,
    "start_time": "2025-01-20T09:15:08.835Z"
   },
   {
    "duration": 6,
    "start_time": "2025-01-20T09:15:08.866Z"
   },
   {
    "duration": 86,
    "start_time": "2025-01-20T09:15:08.874Z"
   },
   {
    "duration": 47,
    "start_time": "2025-01-20T09:15:08.962Z"
   },
   {
    "duration": 57,
    "start_time": "2025-01-20T09:15:09.010Z"
   },
   {
    "duration": 83,
    "start_time": "2025-01-20T09:15:09.069Z"
   },
   {
    "duration": 148,
    "start_time": "2025-01-20T09:15:09.154Z"
   },
   {
    "duration": 46,
    "start_time": "2025-01-20T09:15:09.304Z"
   },
   {
    "duration": 1048,
    "start_time": "2025-01-20T09:15:09.352Z"
   },
   {
    "duration": 218,
    "start_time": "2025-01-20T09:15:10.401Z"
   },
   {
    "duration": 224,
    "start_time": "2025-01-20T09:15:10.620Z"
   },
   {
    "duration": 87,
    "start_time": "2025-01-20T09:15:10.846Z"
   },
   {
    "duration": 220,
    "start_time": "2025-01-20T09:15:10.935Z"
   },
   {
    "duration": 232,
    "start_time": "2025-01-20T09:15:11.156Z"
   },
   {
    "duration": 5,
    "start_time": "2025-01-20T09:15:11.390Z"
   },
   {
    "duration": 223,
    "start_time": "2025-01-20T09:15:11.397Z"
   },
   {
    "duration": 52,
    "start_time": "2025-01-20T09:15:39.864Z"
   },
   {
    "duration": 453,
    "start_time": "2025-01-20T09:18:46.110Z"
   },
   {
    "duration": 277,
    "start_time": "2025-01-20T09:18:46.565Z"
   },
   {
    "duration": 51,
    "start_time": "2025-01-20T09:18:46.844Z"
   },
   {
    "duration": 16,
    "start_time": "2025-01-20T09:18:46.897Z"
   },
   {
    "duration": 89,
    "start_time": "2025-01-20T09:18:46.915Z"
   },
   {
    "duration": 27,
    "start_time": "2025-01-20T09:18:47.006Z"
   },
   {
    "duration": 138,
    "start_time": "2025-01-20T09:18:47.035Z"
   },
   {
    "duration": 145,
    "start_time": "2025-01-20T09:18:47.176Z"
   },
   {
    "duration": 15,
    "start_time": "2025-01-20T09:18:47.323Z"
   },
   {
    "duration": 34,
    "start_time": "2025-01-20T09:18:47.342Z"
   },
   {
    "duration": 25,
    "start_time": "2025-01-20T09:18:47.378Z"
   },
   {
    "duration": 26,
    "start_time": "2025-01-20T09:18:47.405Z"
   },
   {
    "duration": 7,
    "start_time": "2025-01-20T09:18:47.432Z"
   },
   {
    "duration": 67,
    "start_time": "2025-01-20T09:18:47.441Z"
   },
   {
    "duration": 62,
    "start_time": "2025-01-20T09:18:47.510Z"
   },
   {
    "duration": 59,
    "start_time": "2025-01-20T09:18:47.573Z"
   },
   {
    "duration": 74,
    "start_time": "2025-01-20T09:18:47.633Z"
   },
   {
    "duration": 148,
    "start_time": "2025-01-20T09:18:47.708Z"
   },
   {
    "duration": 36,
    "start_time": "2025-01-20T09:18:47.857Z"
   },
   {
    "duration": 872,
    "start_time": "2025-01-20T09:18:47.894Z"
   },
   {
    "duration": 214,
    "start_time": "2025-01-20T09:18:48.768Z"
   },
   {
    "duration": 218,
    "start_time": "2025-01-20T09:18:48.984Z"
   },
   {
    "duration": 82,
    "start_time": "2025-01-20T09:18:49.204Z"
   },
   {
    "duration": 218,
    "start_time": "2025-01-20T09:18:49.288Z"
   },
   {
    "duration": 224,
    "start_time": "2025-01-20T09:18:49.507Z"
   },
   {
    "duration": 5,
    "start_time": "2025-01-20T09:18:49.733Z"
   },
   {
    "duration": 222,
    "start_time": "2025-01-20T09:18:49.739Z"
   },
   {
    "duration": 444,
    "start_time": "2025-01-20T09:19:14.017Z"
   },
   {
    "duration": 279,
    "start_time": "2025-01-20T09:19:16.279Z"
   },
   {
    "duration": 79,
    "start_time": "2025-01-20T09:19:18.962Z"
   },
   {
    "duration": 16,
    "start_time": "2025-01-20T09:19:21.627Z"
   },
   {
    "duration": 39,
    "start_time": "2025-01-20T09:19:23.741Z"
   },
   {
    "duration": 27,
    "start_time": "2025-01-20T09:19:28.812Z"
   },
   {
    "duration": 130,
    "start_time": "2025-01-20T09:19:31.100Z"
   },
   {
    "duration": 130,
    "start_time": "2025-01-20T09:19:34.156Z"
   },
   {
    "duration": 12,
    "start_time": "2025-01-20T09:19:36.315Z"
   },
   {
    "duration": 14,
    "start_time": "2025-01-20T09:19:42.036Z"
   },
   {
    "duration": 8,
    "start_time": "2025-01-20T09:19:44.815Z"
   },
   {
    "duration": 25,
    "start_time": "2025-01-20T09:19:47.707Z"
   },
   {
    "duration": 6,
    "start_time": "2025-01-20T09:19:54.841Z"
   },
   {
    "duration": 55,
    "start_time": "2025-01-20T09:20:12.677Z"
   },
   {
    "duration": 8,
    "start_time": "2025-01-20T09:20:28.668Z"
   },
   {
    "duration": 7,
    "start_time": "2025-01-20T09:20:33.409Z"
   },
   {
    "duration": 6,
    "start_time": "2025-01-20T09:20:46.541Z"
   },
   {
    "duration": 393,
    "start_time": "2025-01-20T09:20:50.469Z"
   },
   {
    "duration": 279,
    "start_time": "2025-01-20T09:20:51.895Z"
   },
   {
    "duration": 68,
    "start_time": "2025-01-20T09:20:53.592Z"
   },
   {
    "duration": 15,
    "start_time": "2025-01-20T09:20:56.238Z"
   },
   {
    "duration": 26,
    "start_time": "2025-01-20T09:20:58.590Z"
   },
   {
    "duration": 131,
    "start_time": "2025-01-20T09:21:00.948Z"
   },
   {
    "duration": 143,
    "start_time": "2025-01-20T09:21:03.342Z"
   },
   {
    "duration": 12,
    "start_time": "2025-01-20T09:21:05.926Z"
   },
   {
    "duration": 15,
    "start_time": "2025-01-20T09:21:08.322Z"
   },
   {
    "duration": 9,
    "start_time": "2025-01-20T09:21:10.760Z"
   },
   {
    "duration": 26,
    "start_time": "2025-01-20T09:21:13.433Z"
   },
   {
    "duration": 6,
    "start_time": "2025-01-20T09:21:17.327Z"
   },
   {
    "duration": 6,
    "start_time": "2025-01-20T09:22:16.831Z"
   },
   {
    "duration": 69,
    "start_time": "2025-01-20T09:22:22.736Z"
   },
   {
    "duration": 440,
    "start_time": "2025-01-31T00:07:43.827Z"
   },
   {
    "duration": 387,
    "start_time": "2025-01-31T00:07:44.269Z"
   },
   {
    "duration": 102,
    "start_time": "2025-01-31T00:07:44.658Z"
   },
   {
    "duration": 16,
    "start_time": "2025-01-31T00:07:44.762Z"
   },
   {
    "duration": 34,
    "start_time": "2025-01-31T00:07:44.780Z"
   },
   {
    "duration": 25,
    "start_time": "2025-01-31T00:07:44.817Z"
   },
   {
    "duration": 142,
    "start_time": "2025-01-31T00:07:44.844Z"
   },
   {
    "duration": 156,
    "start_time": "2025-01-31T00:07:44.988Z"
   },
   {
    "duration": 12,
    "start_time": "2025-01-31T00:07:45.146Z"
   },
   {
    "duration": 38,
    "start_time": "2025-01-31T00:07:45.160Z"
   },
   {
    "duration": 29,
    "start_time": "2025-01-31T00:07:45.200Z"
   },
   {
    "duration": 52,
    "start_time": "2025-01-31T00:07:45.231Z"
   },
   {
    "duration": 9,
    "start_time": "2025-01-31T00:07:45.285Z"
   },
   {
    "duration": 78,
    "start_time": "2025-01-31T00:07:45.299Z"
   },
   {
    "duration": 52,
    "start_time": "2025-01-31T00:07:45.379Z"
   },
   {
    "duration": 43,
    "start_time": "2025-01-31T00:07:45.433Z"
   },
   {
    "duration": 92,
    "start_time": "2025-01-31T00:07:45.478Z"
   },
   {
    "duration": 150,
    "start_time": "2025-01-31T00:07:45.572Z"
   },
   {
    "duration": 37,
    "start_time": "2025-01-31T00:07:45.724Z"
   },
   {
    "duration": 985,
    "start_time": "2025-01-31T00:07:45.763Z"
   },
   {
    "duration": 214,
    "start_time": "2025-01-31T00:07:46.750Z"
   },
   {
    "duration": 213,
    "start_time": "2025-01-31T00:07:46.966Z"
   },
   {
    "duration": 90,
    "start_time": "2025-01-31T00:07:47.181Z"
   },
   {
    "duration": 209,
    "start_time": "2025-01-31T00:07:47.273Z"
   },
   {
    "duration": 221,
    "start_time": "2025-01-31T00:07:47.484Z"
   },
   {
    "duration": 10,
    "start_time": "2025-01-31T00:07:47.707Z"
   },
   {
    "duration": 250,
    "start_time": "2025-01-31T00:07:47.718Z"
   },
   {
    "duration": 90,
    "start_time": "2025-01-31T00:07:47.969Z"
   },
   {
    "duration": 175,
    "start_time": "2025-01-31T00:07:48.060Z"
   },
   {
    "duration": 21,
    "start_time": "2025-01-31T00:07:48.237Z"
   },
   {
    "duration": 318,
    "start_time": "2025-01-31T00:07:48.260Z"
   },
   {
    "duration": 1161,
    "start_time": "2025-01-31T00:07:48.579Z"
   },
   {
    "duration": 6,
    "start_time": "2025-01-31T00:07:49.742Z"
   },
   {
    "duration": 69,
    "start_time": "2025-01-31T00:07:49.749Z"
   },
   {
    "duration": 8,
    "start_time": "2025-01-31T00:07:49.819Z"
   },
   {
    "duration": 267,
    "start_time": "2025-01-31T00:07:49.829Z"
   },
   {
    "duration": 23,
    "start_time": "2025-01-31T00:07:50.098Z"
   },
   {
    "duration": 34,
    "start_time": "2025-01-31T00:07:50.123Z"
   },
   {
    "duration": 49,
    "start_time": "2025-01-31T00:07:50.159Z"
   },
   {
    "duration": 37,
    "start_time": "2025-01-31T00:07:50.210Z"
   },
   {
    "duration": 641,
    "start_time": "2025-01-31T00:07:50.251Z"
   },
   {
    "duration": 42,
    "start_time": "2025-01-31T00:07:50.894Z"
   },
   {
    "duration": 535,
    "start_time": "2025-01-31T00:07:50.938Z"
   },
   {
    "duration": 44,
    "start_time": "2025-01-31T00:07:51.476Z"
   },
   {
    "duration": 13,
    "start_time": "2025-01-31T00:07:51.522Z"
   },
   {
    "duration": 525,
    "start_time": "2025-01-31T00:07:51.537Z"
   },
   {
    "duration": 23,
    "start_time": "2025-01-31T00:07:52.064Z"
   },
   {
    "duration": 49,
    "start_time": "2025-01-31T00:07:52.089Z"
   },
   {
    "duration": 11,
    "start_time": "2025-01-31T00:07:52.140Z"
   },
   {
    "duration": 14,
    "start_time": "2025-01-31T00:07:52.154Z"
   },
   {
    "duration": 15,
    "start_time": "2025-01-31T00:07:52.169Z"
   },
   {
    "duration": 14,
    "start_time": "2025-01-31T00:07:52.185Z"
   },
   {
    "duration": 54,
    "start_time": "2025-01-31T00:07:52.201Z"
   },
   {
    "duration": 4,
    "start_time": "2025-01-31T00:07:52.257Z"
   },
   {
    "duration": 8,
    "start_time": "2025-01-31T00:07:52.262Z"
   },
   {
    "duration": 9,
    "start_time": "2025-01-31T00:07:52.271Z"
   },
   {
    "duration": 82,
    "start_time": "2025-01-31T00:07:52.282Z"
   },
   {
    "duration": 26,
    "start_time": "2025-01-31T00:07:52.365Z"
   },
   {
    "duration": 27,
    "start_time": "2025-01-31T00:07:52.392Z"
   },
   {
    "duration": 354,
    "start_time": "2025-01-31T00:07:52.421Z"
   },
   {
    "duration": 16,
    "start_time": "2025-01-31T00:07:52.776Z"
   },
   {
    "duration": 33,
    "start_time": "2025-01-31T00:07:52.793Z"
   },
   {
    "duration": 10,
    "start_time": "2025-01-31T00:07:52.828Z"
   },
   {
    "duration": 614,
    "start_time": "2025-01-31T00:07:52.839Z"
   },
   {
    "duration": 267,
    "start_time": "2025-01-31T00:07:53.455Z"
   },
   {
    "duration": 30,
    "start_time": "2025-01-31T00:07:53.724Z"
   },
   {
    "duration": 19,
    "start_time": "2025-01-31T00:07:53.756Z"
   },
   {
    "duration": 53,
    "start_time": "2025-01-31T00:07:53.776Z"
   },
   {
    "duration": 12,
    "start_time": "2025-01-31T00:07:53.831Z"
   },
   {
    "duration": 26,
    "start_time": "2025-01-31T00:07:53.844Z"
   },
   {
    "duration": 12,
    "start_time": "2025-01-31T00:07:54.328Z"
   },
   {
    "duration": 3,
    "start_time": "2025-01-31T00:08:56.156Z"
   },
   {
    "duration": 214,
    "start_time": "2025-01-31T00:08:56.162Z"
   },
   {
    "duration": 57,
    "start_time": "2025-01-31T00:08:56.378Z"
   },
   {
    "duration": 11,
    "start_time": "2025-01-31T00:08:56.437Z"
   },
   {
    "duration": 31,
    "start_time": "2025-01-31T00:08:56.450Z"
   },
   {
    "duration": 37,
    "start_time": "2025-01-31T00:08:56.483Z"
   },
   {
    "duration": 112,
    "start_time": "2025-01-31T00:08:56.521Z"
   },
   {
    "duration": 103,
    "start_time": "2025-01-31T00:08:56.634Z"
   },
   {
    "duration": 11,
    "start_time": "2025-01-31T00:08:56.739Z"
   },
   {
    "duration": 16,
    "start_time": "2025-01-31T00:08:56.751Z"
   },
   {
    "duration": 8,
    "start_time": "2025-01-31T00:08:56.769Z"
   },
   {
    "duration": 45,
    "start_time": "2025-01-31T00:08:56.778Z"
   },
   {
    "duration": 6,
    "start_time": "2025-01-31T00:08:56.825Z"
   },
   {
    "duration": 52,
    "start_time": "2025-01-31T00:08:56.834Z"
   },
   {
    "duration": 60,
    "start_time": "2025-01-31T00:08:56.888Z"
   },
   {
    "duration": 40,
    "start_time": "2025-01-31T00:08:56.949Z"
   },
   {
    "duration": 75,
    "start_time": "2025-01-31T00:08:56.991Z"
   },
   {
    "duration": 198,
    "start_time": "2025-01-31T00:08:57.067Z"
   },
   {
    "duration": 74,
    "start_time": "2025-01-31T00:08:57.266Z"
   },
   {
    "duration": 3,
    "start_time": "2025-01-31T00:08:57.341Z"
   },
   {
    "duration": 207,
    "start_time": "2025-01-31T00:08:57.345Z"
   },
   {
    "duration": 209,
    "start_time": "2025-01-31T00:08:57.554Z"
   },
   {
    "duration": 73,
    "start_time": "2025-01-31T00:08:57.764Z"
   },
   {
    "duration": 226,
    "start_time": "2025-01-31T00:08:57.839Z"
   },
   {
    "duration": 217,
    "start_time": "2025-01-31T00:08:58.066Z"
   },
   {
    "duration": 5,
    "start_time": "2025-01-31T00:08:58.316Z"
   },
   {
    "duration": 422,
    "start_time": "2025-01-31T00:08:58.323Z"
   },
   {
    "duration": 95,
    "start_time": "2025-01-31T00:08:58.747Z"
   },
   {
    "duration": 212,
    "start_time": "2025-01-31T00:08:58.844Z"
   },
   {
    "duration": 70,
    "start_time": "2025-01-31T00:08:59.057Z"
   },
   {
    "duration": 366,
    "start_time": "2025-01-31T00:08:59.129Z"
   },
   {
    "duration": 1250,
    "start_time": "2025-01-31T00:08:59.497Z"
   },
   {
    "duration": 6,
    "start_time": "2025-01-31T00:09:00.749Z"
   },
   {
    "duration": 62,
    "start_time": "2025-01-31T00:09:00.757Z"
   },
   {
    "duration": 8,
    "start_time": "2025-01-31T00:09:00.821Z"
   },
   {
    "duration": 273,
    "start_time": "2025-01-31T00:09:00.830Z"
   },
   {
    "duration": 20,
    "start_time": "2025-01-31T00:09:01.105Z"
   },
   {
    "duration": 62,
    "start_time": "2025-01-31T00:09:01.127Z"
   },
   {
    "duration": 50,
    "start_time": "2025-01-31T00:09:01.191Z"
   },
   {
    "duration": 37,
    "start_time": "2025-01-31T00:09:01.243Z"
   },
   {
    "duration": 593,
    "start_time": "2025-01-31T00:09:01.285Z"
   },
   {
    "duration": 44,
    "start_time": "2025-01-31T00:09:01.879Z"
   },
   {
    "duration": 543,
    "start_time": "2025-01-31T00:09:01.925Z"
   },
   {
    "duration": 63,
    "start_time": "2025-01-31T00:09:02.469Z"
   },
   {
    "duration": 17,
    "start_time": "2025-01-31T00:09:02.534Z"
   },
   {
    "duration": 647,
    "start_time": "2025-01-31T00:09:02.553Z"
   },
   {
    "duration": 30,
    "start_time": "2025-01-31T00:09:03.202Z"
   },
   {
    "duration": 30,
    "start_time": "2025-01-31T00:09:03.234Z"
   },
   {
    "duration": 6,
    "start_time": "2025-01-31T00:09:03.266Z"
   },
   {
    "duration": 44,
    "start_time": "2025-01-31T00:09:03.273Z"
   },
   {
    "duration": 23,
    "start_time": "2025-01-31T00:09:03.319Z"
   },
   {
    "duration": 24,
    "start_time": "2025-01-31T00:09:03.344Z"
   },
   {
    "duration": 41,
    "start_time": "2025-01-31T00:09:03.369Z"
   },
   {
    "duration": 29,
    "start_time": "2025-01-31T00:09:03.412Z"
   },
   {
    "duration": 10,
    "start_time": "2025-01-31T00:09:03.442Z"
   },
   {
    "duration": 6,
    "start_time": "2025-01-31T00:09:03.453Z"
   },
   {
    "duration": 68,
    "start_time": "2025-01-31T00:09:03.460Z"
   },
   {
    "duration": 27,
    "start_time": "2025-01-31T00:09:03.529Z"
   },
   {
    "duration": 28,
    "start_time": "2025-01-31T00:09:03.557Z"
   },
   {
    "duration": 326,
    "start_time": "2025-01-31T00:09:03.587Z"
   },
   {
    "duration": 17,
    "start_time": "2025-01-31T00:09:03.916Z"
   },
   {
    "duration": 22,
    "start_time": "2025-01-31T00:09:03.935Z"
   },
   {
    "duration": 10,
    "start_time": "2025-01-31T00:09:03.959Z"
   },
   {
    "duration": 92,
    "start_time": "2025-01-31T00:09:03.971Z"
   },
   {
    "duration": 174,
    "start_time": "2025-01-31T00:09:04.065Z"
   },
   {
    "duration": 40,
    "start_time": "2025-01-31T00:09:04.241Z"
   },
   {
    "duration": 35,
    "start_time": "2025-01-31T00:09:04.283Z"
   },
   {
    "duration": 31,
    "start_time": "2025-01-31T00:09:04.319Z"
   },
   {
    "duration": 4,
    "start_time": "2025-01-31T00:09:04.352Z"
   },
   {
    "duration": 24,
    "start_time": "2025-01-31T00:09:04.358Z"
   },
   {
    "duration": 41,
    "start_time": "2025-01-31T00:09:04.384Z"
   }
  ],
  "kernelspec": {
   "display_name": "Python 3 (ipykernel)",
   "language": "python",
   "name": "python3"
  },
  "language_info": {
   "codemirror_mode": {
    "name": "ipython",
    "version": 3
   },
   "file_extension": ".py",
   "mimetype": "text/x-python",
   "name": "python",
   "nbconvert_exporter": "python",
   "pygments_lexer": "ipython3",
   "version": "3.9.5"
  },
  "toc": {
   "base_numbering": 1,
   "nav_menu": {},
   "number_sections": true,
   "sideBar": true,
   "skip_h1_title": true,
   "title_cell": "Table of Contents",
   "title_sidebar": "Contents",
   "toc_cell": false,
   "toc_position": {},
   "toc_section_display": true,
   "toc_window_display": false
  }
 },
 "nbformat": 4,
 "nbformat_minor": 2
}
